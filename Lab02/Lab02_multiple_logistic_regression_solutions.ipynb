{
 "cells": [
  {
   "cell_type": "markdown",
   "id": "a33dc080",
   "metadata": {},
   "source": [
    "# Lab 02: Multiple and Logistic regression"
   ]
  },
  {
   "cell_type": "markdown",
   "id": "cd05db7b",
   "metadata": {},
   "source": [
    "Author: **N.J. de Winter** (*n.j.de.winter@vu.nl*)<br>\n",
    "Assitant Professor Vrije Universiteit Amsterdam<br>\n",
    "Statistics and Data Analysis Course"
   ]
  },
  {
   "cell_type": "markdown",
   "id": "adf5e7b7",
   "metadata": {},
   "source": [
    "## Learning goals:\n",
    "\n",
    "* Practice your skills interpreting and modifying Python code \n",
    "* Understand and apply tools to test which *independent variables* in a larger dataset are relevant to predict the *dependent variable* (multiple regression\n",
    "* Learn how to apply *regression* analysis to determine the *relationship* between multiple variables:\n",
    "    * Multiple linear regression (straight line relationships between multiple variables)\n",
    "    * Logistic regression (Logistic, or *sigmoid*-shaped relationships between multiple variables)"
   ]
  },
  {
   "cell_type": "markdown",
   "id": "d69cdbc7",
   "metadata": {},
   "source": [
    "## Introduction\n",
    "In this lab, we will get familiar with multiple regression and logistic regression using Python. Make sure you have completed Lab 01 first before starting on this one, because we will assume all the concepts in the first lab are familiar to you now. As a consequence, in this lab, there will be less \"hand holding\" and you will need to figure out more Python coding yourself. We will also assume from now on that the Jupyter format is familiar to you, although you are also still free to run the code in your own Spyder environment. If you ever get lost trying to get something done in Python, you can always go back to Lab 01 to check for examples about how to code things."
   ]
  },
  {
   "cell_type": "markdown",
   "id": "d157c7eb",
   "metadata": {},
   "source": [
    "We will start again by loading the Python *packages* we need in this lab:"
   ]
  },
  {
   "cell_type": "code",
   "execution_count": 1,
   "id": "3966ba68",
   "metadata": {},
   "outputs": [],
   "source": [
    "# Make sure our figures show up in Jupyter\n",
    "%matplotlib inline\n",
    "import numpy as np # The 'numpy' package contains some handy functions\n",
    "import pandas as pd # The 'pandas' package helps us to import and manage data\n",
    "import scipy.stats as stats # The 'scipy' package contains statistical formulas we need\n",
    "import statsmodels.api as sm # The 'statsmodels' package contains the functions we need to run regression models\n",
    "from matplotlib import pyplot as plt # The 'matplotlib' package contains tools need to plot our results\n",
    "from mpl_toolkits.mplot3d import Axes3D # This is a cool package for making 3D-plots!"
   ]
  },
  {
   "cell_type": "markdown",
   "id": "4c6e7d0b",
   "metadata": {},
   "source": [
    "## Part 1: Multiple regression\n",
    "With that our of the way, we can load the dataset we need to do our multiple regression. We will start with the dataset `Lab02a.csv`.\n",
    "\n",
    "__Exercise 1:__ Load the dataset here using the code box below. If you don't remember how to do this, look back to Lab01 and use the code you used there to load and inspect the data.\n",
    "\n",
    "**Warning:** If you are working on this Lab (Lab02) in a different folder or environment on your computer than on Lab01 (which is a good idea!), make sure the data file is in the right place."
   ]
  },
  {
   "cell_type": "code",
   "execution_count": 2,
   "id": "9cd743bc",
   "metadata": {},
   "outputs": [
    {
     "data": {
      "text/html": [
       "<div>\n",
       "<style scoped>\n",
       "    .dataframe tbody tr th:only-of-type {\n",
       "        vertical-align: middle;\n",
       "    }\n",
       "\n",
       "    .dataframe tbody tr th {\n",
       "        vertical-align: top;\n",
       "    }\n",
       "\n",
       "    .dataframe thead th {\n",
       "        text-align: right;\n",
       "    }\n",
       "</style>\n",
       "<table border=\"1\" class=\"dataframe\">\n",
       "  <thead>\n",
       "    <tr style=\"text-align: right;\">\n",
       "      <th></th>\n",
       "      <th>x</th>\n",
       "      <th>y</th>\n",
       "      <th>perc_org</th>\n",
       "      <th>height</th>\n",
       "    </tr>\n",
       "  </thead>\n",
       "  <tbody>\n",
       "    <tr>\n",
       "      <th>0</th>\n",
       "      <td>119.750646</td>\n",
       "      <td>47.913958</td>\n",
       "      <td>16.248034</td>\n",
       "      <td>9.079537</td>\n",
       "    </tr>\n",
       "    <tr>\n",
       "      <th>1</th>\n",
       "      <td>116.155693</td>\n",
       "      <td>47.117481</td>\n",
       "      <td>14.503663</td>\n",
       "      <td>14.509850</td>\n",
       "    </tr>\n",
       "    <tr>\n",
       "      <th>2</th>\n",
       "      <td>118.034213</td>\n",
       "      <td>47.577559</td>\n",
       "      <td>14.835459</td>\n",
       "      <td>13.251438</td>\n",
       "    </tr>\n",
       "    <tr>\n",
       "      <th>3</th>\n",
       "      <td>117.429912</td>\n",
       "      <td>46.669757</td>\n",
       "      <td>9.422610</td>\n",
       "      <td>15.621684</td>\n",
       "    </tr>\n",
       "    <tr>\n",
       "      <th>4</th>\n",
       "      <td>119.456495</td>\n",
       "      <td>47.164533</td>\n",
       "      <td>12.691097</td>\n",
       "      <td>11.748356</td>\n",
       "    </tr>\n",
       "  </tbody>\n",
       "</table>\n",
       "</div>"
      ],
      "text/plain": [
       "            x          y   perc_org     height\n",
       "0  119.750646  47.913958  16.248034   9.079537\n",
       "1  116.155693  47.117481  14.503663  14.509850\n",
       "2  118.034213  47.577559  14.835459  13.251438\n",
       "3  117.429912  46.669757   9.422610  15.621684\n",
       "4  119.456495  47.164533  12.691097  11.748356"
      ]
     },
     "execution_count": 2,
     "metadata": {},
     "output_type": "execute_result"
    }
   ],
   "source": [
    "# Load the data for this assignment into Python and in the Jupyter environment.\n",
    "df3 = pd.read_csv('Lab02a.csv')\n",
    "\n",
    "# Inspect the first rows of the dataset to familiarize yourself again with this data\n",
    "df3.head()"
   ]
  },
  {
   "cell_type": "markdown",
   "id": "cf7ea662",
   "metadata": {},
   "source": [
    "This data file lists measurements of organic matter content in soils. It contains the following variables:\n",
    "* `x` (the x coordinate of the location)\n",
    "* `y` (the y coordinate of the location)\n",
    "* `height` (the height of the soil at these locations)\n",
    "* `perc_org` (the percentage organic matter in the top 10 cm of the soil at these locations)\n",
    "\n",
    "Soil organic matter content varies depending on location. We want to verify if there is systematic variability. For example, soil organic matter content may change in a certain direction because of elevation changes. In this case, we should be able to detect this difference along the x or y coordinates. If soil organic matter content increases in the x direction, there should be a positive correlation between soil organic matter content and x coordinates. If soil organic matter content increases along the diagonal between x and y coordinates, there should be positive correlations between soil organic matter content and both x and y. We could express this using a regression equation with both x and y as independent variables. First, we will check the relationship between soil organic matter, and the x and y coordinates."
   ]
  },
  {
   "cell_type": "markdown",
   "id": "a56d74b5",
   "metadata": {},
   "source": [
    "__Question 1:__ How can we check whether there is a correlation between soil organic matter and x or y coordinates?\n",
    "\n",
    "__Answer 1:__ We can calculate the correlation coefficients between the three variables."
   ]
  },
  {
   "cell_type": "markdown",
   "id": "d75d3bb8",
   "metadata": {},
   "source": [
    "In Lab01, we have assessed the correlations between variables one by one. This is feasible for relatively small datasets like this one, but quickly becomes tedious for larger datasets. Below you find a more efficient code to check correlations between all variables in a dataset. For it to work we first need to isolate the variables we are interested in:"
   ]
  },
  {
   "cell_type": "code",
   "execution_count": 3,
   "id": "57f4d733",
   "metadata": {},
   "outputs": [],
   "source": [
    "df3_2 = df3.iloc[:, 0:3] # Isolate the first three columns of df3"
   ]
  },
  {
   "cell_type": "markdown",
   "id": "cd60c9be",
   "metadata": {},
   "source": [
    "__Exercise 2:__ Inspect the first rows of the newly created dataframe to make sure the function did what you wanted it to do:"
   ]
  },
  {
   "cell_type": "code",
   "execution_count": 4,
   "id": "0030df71",
   "metadata": {},
   "outputs": [
    {
     "data": {
      "text/html": [
       "<div>\n",
       "<style scoped>\n",
       "    .dataframe tbody tr th:only-of-type {\n",
       "        vertical-align: middle;\n",
       "    }\n",
       "\n",
       "    .dataframe tbody tr th {\n",
       "        vertical-align: top;\n",
       "    }\n",
       "\n",
       "    .dataframe thead th {\n",
       "        text-align: right;\n",
       "    }\n",
       "</style>\n",
       "<table border=\"1\" class=\"dataframe\">\n",
       "  <thead>\n",
       "    <tr style=\"text-align: right;\">\n",
       "      <th></th>\n",
       "      <th>x</th>\n",
       "      <th>y</th>\n",
       "      <th>perc_org</th>\n",
       "    </tr>\n",
       "  </thead>\n",
       "  <tbody>\n",
       "    <tr>\n",
       "      <th>0</th>\n",
       "      <td>119.750646</td>\n",
       "      <td>47.913958</td>\n",
       "      <td>16.248034</td>\n",
       "    </tr>\n",
       "    <tr>\n",
       "      <th>1</th>\n",
       "      <td>116.155693</td>\n",
       "      <td>47.117481</td>\n",
       "      <td>14.503663</td>\n",
       "    </tr>\n",
       "    <tr>\n",
       "      <th>2</th>\n",
       "      <td>118.034213</td>\n",
       "      <td>47.577559</td>\n",
       "      <td>14.835459</td>\n",
       "    </tr>\n",
       "    <tr>\n",
       "      <th>3</th>\n",
       "      <td>117.429912</td>\n",
       "      <td>46.669757</td>\n",
       "      <td>9.422610</td>\n",
       "    </tr>\n",
       "    <tr>\n",
       "      <th>4</th>\n",
       "      <td>119.456495</td>\n",
       "      <td>47.164533</td>\n",
       "      <td>12.691097</td>\n",
       "    </tr>\n",
       "  </tbody>\n",
       "</table>\n",
       "</div>"
      ],
      "text/plain": [
       "            x          y   perc_org\n",
       "0  119.750646  47.913958  16.248034\n",
       "1  116.155693  47.117481  14.503663\n",
       "2  118.034213  47.577559  14.835459\n",
       "3  117.429912  46.669757   9.422610\n",
       "4  119.456495  47.164533  12.691097"
      ]
     },
     "execution_count": 4,
     "metadata": {},
     "output_type": "execute_result"
    }
   ],
   "source": [
    "# inspect the new dataframe `df2_3`\n",
    "df3_2.head()"
   ]
  },
  {
   "cell_type": "markdown",
   "id": "23b22660",
   "metadata": {},
   "source": [
    "Now we can use the function `corr()` to calculate correlation coefficients between the variables.\n",
    "\n",
    "__NOTE__: This function `.corr` only works on `pandas` dataframes (loaded using `pd.read_csv()`), for more general purposes you can use the function `np.corrcoef()` from the `numpy` package."
   ]
  },
  {
   "cell_type": "code",
   "execution_count": 5,
   "id": "a44e0047",
   "metadata": {},
   "outputs": [
    {
     "name": "stdout",
     "output_type": "stream",
     "text": [
      "                 x         y  perc_org\n",
      "x         1.000000  0.062768  0.235113\n",
      "y         0.062768  1.000000  0.869701\n",
      "perc_org  0.235113  0.869701  1.000000\n"
     ]
    }
   ],
   "source": [
    "A = df3_2.corr() # Create correlation matrix\n",
    "print(A) # Print the result"
   ]
  },
  {
   "cell_type": "markdown",
   "id": "3332b2f0",
   "metadata": {},
   "source": [
    "Notice that this is in fact the same function we used in Lab01, but without specifying the variables."
   ]
  },
  {
   "cell_type": "markdown",
   "id": "d038e24a",
   "metadata": {},
   "source": [
    "__Question 2:__ Does organic matter content correlate most strongly with the x or y coordinate? Why are there ones at the diagonal of the output matrix?\n",
    "\n",
    "__Answer 2:__ Organic matter content correlates more strongly with the y coordinate. The ones are there because a variable alway correlates perfectly with itself (Pearson's r = 1)"
   ]
  },
  {
   "cell_type": "markdown",
   "id": "03570375",
   "metadata": {},
   "source": [
    "__Exercise 3:__ Plot scatter plots between variables `x`, `y` and `perc_organic`. (Hint: have a look at the code in Lab01 if you do not remember how to do this)."
   ]
  },
  {
   "cell_type": "code",
   "execution_count": 6,
   "id": "897a0c38",
   "metadata": {},
   "outputs": [
    {
     "data": {
      "text/plain": [
       "Text(0, 0.5, 'Pecentage organic matter')"
      ]
     },
     "execution_count": 6,
     "metadata": {},
     "output_type": "execute_result"
    },
    {
     "data": {
      "image/png": "[encoded data removed]",
      "text/plain": [
       "<Figure size 432x288 with 1 Axes>"
      ]
     },
     "metadata": {
      "needs_background": "light"
     },
     "output_type": "display_data"
    }
   ],
   "source": [
    "# Plot perc_org vs x coordinate\n",
    "plt.scatter(df3_2.x, df3_2.perc_org, color = 'red', marker = '+')\n",
    "plt.xlabel('X coordinate')\n",
    "plt.ylabel('Pecentage organic matter')"
   ]
  },
  {
   "cell_type": "code",
   "execution_count": 7,
   "id": "a9e8fcb6",
   "metadata": {},
   "outputs": [
    {
     "data": {
      "text/plain": [
       "Text(0, 0.5, 'Pecentage organic matter')"
      ]
     },
     "execution_count": 7,
     "metadata": {},
     "output_type": "execute_result"
    },
    {
     "data": {
      "image/png": "[encoded data removed]",
      "text/plain": [
       "<Figure size 432x288 with 1 Axes>"
      ]
     },
     "metadata": {
      "needs_background": "light"
     },
     "output_type": "display_data"
    }
   ],
   "source": [
    "# Plot perc_org vs y coordinate\n",
    "plt.scatter(df3_2.y, df3_2.perc_org, color = 'blue', marker = '+')\n",
    "plt.xlabel('Y coordinate')\n",
    "plt.ylabel('Pecentage organic matter')"
   ]
  },
  {
   "cell_type": "code",
   "execution_count": 8,
   "id": "c3c4e159",
   "metadata": {},
   "outputs": [
    {
     "data": {
      "text/plain": [
       "Text(0, 0.5, 'Y coordinate')"
      ]
     },
     "execution_count": 8,
     "metadata": {},
     "output_type": "execute_result"
    },
    {
     "data": {
      "image/png": "[encoded data removed]",
      "text/plain": [
       "<Figure size 432x288 with 1 Axes>"
      ]
     },
     "metadata": {
      "needs_background": "light"
     },
     "output_type": "display_data"
    }
   ],
   "source": [
    "# Plot x vs y coordinate\n",
    "plt.scatter(df3_2.x, df3_2.y, color = 'green', marker = '+')\n",
    "plt.xlabel('X coordinate')\n",
    "plt.ylabel('Y coordinate')"
   ]
  },
  {
   "cell_type": "markdown",
   "id": "19286648",
   "metadata": {},
   "source": [
    "### Preparing data for multiple regression\n",
    "We will now explore how well the combination of the two coordinates can predict the organic matter content in the soil. We will use a *multiple linear regression* to achive this. Running a multiple linear regression in Python is actually not that different from running a simple linear regression, but we need to prepare our data a little bit first:"
   ]
  },
  {
   "cell_type": "code",
   "execution_count": 9,
   "id": "05f7117e",
   "metadata": {},
   "outputs": [],
   "source": [
    "# First we isolate the dependent variable (percentage organic matter)\n",
    "Y = df3_2[['perc_org']]"
   ]
  },
  {
   "cell_type": "code",
   "execution_count": 10,
   "id": "f2d61fbe",
   "metadata": {},
   "outputs": [],
   "source": [
    "# Then we group the independent variables (coordinates)\n",
    "X = df3_2[['x', 'y']]"
   ]
  },
  {
   "cell_type": "code",
   "execution_count": 11,
   "id": "f6b17f00",
   "metadata": {},
   "outputs": [],
   "source": [
    "# Now, as with the polynomial regression, we need to add a constant (vector of ones) to tell Python that we want to include an intercept value in our regression\n",
    "# The statsmodels package has a neat function to do this:\n",
    "X = sm.add_constant(X)"
   ]
  },
  {
   "cell_type": "markdown",
   "id": "21c6517f",
   "metadata": {},
   "source": [
    "__Exercise 4:__ Use the functions you have used before to inspect the newly created datasets `X` and `Y`:"
   ]
  },
  {
   "cell_type": "code",
   "execution_count": 12,
   "id": "f9bc5fd6",
   "metadata": {},
   "outputs": [
    {
     "data": {
      "text/html": [
       "<div>\n",
       "<style scoped>\n",
       "    .dataframe tbody tr th:only-of-type {\n",
       "        vertical-align: middle;\n",
       "    }\n",
       "\n",
       "    .dataframe tbody tr th {\n",
       "        vertical-align: top;\n",
       "    }\n",
       "\n",
       "    .dataframe thead th {\n",
       "        text-align: right;\n",
       "    }\n",
       "</style>\n",
       "<table border=\"1\" class=\"dataframe\">\n",
       "  <thead>\n",
       "    <tr style=\"text-align: right;\">\n",
       "      <th></th>\n",
       "      <th>const</th>\n",
       "      <th>x</th>\n",
       "      <th>y</th>\n",
       "    </tr>\n",
       "  </thead>\n",
       "  <tbody>\n",
       "    <tr>\n",
       "      <th>0</th>\n",
       "      <td>1.0</td>\n",
       "      <td>119.750646</td>\n",
       "      <td>47.913958</td>\n",
       "    </tr>\n",
       "    <tr>\n",
       "      <th>1</th>\n",
       "      <td>1.0</td>\n",
       "      <td>116.155693</td>\n",
       "      <td>47.117481</td>\n",
       "    </tr>\n",
       "    <tr>\n",
       "      <th>2</th>\n",
       "      <td>1.0</td>\n",
       "      <td>118.034213</td>\n",
       "      <td>47.577559</td>\n",
       "    </tr>\n",
       "    <tr>\n",
       "      <th>3</th>\n",
       "      <td>1.0</td>\n",
       "      <td>117.429912</td>\n",
       "      <td>46.669757</td>\n",
       "    </tr>\n",
       "    <tr>\n",
       "      <th>4</th>\n",
       "      <td>1.0</td>\n",
       "      <td>119.456495</td>\n",
       "      <td>47.164533</td>\n",
       "    </tr>\n",
       "  </tbody>\n",
       "</table>\n",
       "</div>"
      ],
      "text/plain": [
       "   const           x          y\n",
       "0    1.0  119.750646  47.913958\n",
       "1    1.0  116.155693  47.117481\n",
       "2    1.0  118.034213  47.577559\n",
       "3    1.0  117.429912  46.669757\n",
       "4    1.0  119.456495  47.164533"
      ]
     },
     "execution_count": 12,
     "metadata": {},
     "output_type": "execute_result"
    }
   ],
   "source": [
    "X.head() # Inspect dataframe `X`"
   ]
  },
  {
   "cell_type": "code",
   "execution_count": 13,
   "id": "32c14a35",
   "metadata": {},
   "outputs": [
    {
     "data": {
      "text/html": [
       "<div>\n",
       "<style scoped>\n",
       "    .dataframe tbody tr th:only-of-type {\n",
       "        vertical-align: middle;\n",
       "    }\n",
       "\n",
       "    .dataframe tbody tr th {\n",
       "        vertical-align: top;\n",
       "    }\n",
       "\n",
       "    .dataframe thead th {\n",
       "        text-align: right;\n",
       "    }\n",
       "</style>\n",
       "<table border=\"1\" class=\"dataframe\">\n",
       "  <thead>\n",
       "    <tr style=\"text-align: right;\">\n",
       "      <th></th>\n",
       "      <th>perc_org</th>\n",
       "    </tr>\n",
       "  </thead>\n",
       "  <tbody>\n",
       "    <tr>\n",
       "      <th>0</th>\n",
       "      <td>16.248034</td>\n",
       "    </tr>\n",
       "    <tr>\n",
       "      <th>1</th>\n",
       "      <td>14.503663</td>\n",
       "    </tr>\n",
       "    <tr>\n",
       "      <th>2</th>\n",
       "      <td>14.835459</td>\n",
       "    </tr>\n",
       "    <tr>\n",
       "      <th>3</th>\n",
       "      <td>9.422610</td>\n",
       "    </tr>\n",
       "    <tr>\n",
       "      <th>4</th>\n",
       "      <td>12.691097</td>\n",
       "    </tr>\n",
       "  </tbody>\n",
       "</table>\n",
       "</div>"
      ],
      "text/plain": [
       "    perc_org\n",
       "0  16.248034\n",
       "1  14.503663\n",
       "2  14.835459\n",
       "3   9.422610\n",
       "4  12.691097"
      ]
     },
     "execution_count": 13,
     "metadata": {},
     "output_type": "execute_result"
    }
   ],
   "source": [
    "Y.head() # Inspect dataframe `Y`"
   ]
  },
  {
   "cell_type": "markdown",
   "id": "8df5f4cb",
   "metadata": {},
   "source": [
    "For our multiple regression, we will use a slightly different function from the `statsmodels` package than the one we used in Lab01. The syntax is almost the same as `smf.ols`:"
   ]
  },
  {
   "cell_type": "code",
   "execution_count": 14,
   "id": "9e437f51",
   "metadata": {},
   "outputs": [],
   "source": [
    "multreg1 = sm.OLS(Y, X).fit()"
   ]
  },
  {
   "cell_type": "markdown",
   "id": "7b6637c9",
   "metadata": {},
   "source": [
    "__Exercise 5:__ Use the code box below to print a summary of the multiple regression. (Hint: Use the same code you used in Lab01 to print summaries of simple linear regressions)"
   ]
  },
  {
   "cell_type": "code",
   "execution_count": 15,
   "id": "e80aee49",
   "metadata": {},
   "outputs": [
    {
     "name": "stdout",
     "output_type": "stream",
     "text": [
      "                            OLS Regression Results                            \n",
      "==============================================================================\n",
      "Dep. Variable:               perc_org   R-squared:                       0.789\n",
      "Model:                            OLS   Adj. R-squared:                  0.785\n",
      "Method:                 Least Squares   F-statistic:                     181.5\n",
      "Date:                Thu, 05 Oct 2023   Prob (F-statistic):           1.65e-33\n",
      "Time:                        09:24:25   Log-Likelihood:                -177.26\n",
      "No. Observations:                 100   AIC:                             360.5\n",
      "Df Residuals:                      97   BIC:                             368.3\n",
      "Df Model:                           2                                         \n",
      "Covariance Type:            nonrobust                                         \n",
      "==============================================================================\n",
      "                 coef    std err          t      P>|t|      [0.025      0.975]\n",
      "------------------------------------------------------------------------------\n",
      "const       -123.8763     12.836     -9.650      0.000    -149.353     -98.400\n",
      "x              0.4010      0.103      3.879      0.000       0.196       0.606\n",
      "y              1.9179      0.104     18.371      0.000       1.711       2.125\n",
      "==============================================================================\n",
      "Omnibus:                        2.157   Durbin-Watson:                   1.844\n",
      "Prob(Omnibus):                  0.340   Jarque-Bera (JB):                2.045\n",
      "Skew:                           0.267   Prob(JB):                        0.360\n",
      "Kurtosis:                       2.546   Cond. No.                     1.13e+04\n",
      "==============================================================================\n",
      "\n",
      "Notes:\n",
      "[1] Standard Errors assume that the covariance matrix of the errors is correctly specified.\n",
      "[2] The condition number is large, 1.13e+04. This might indicate that there are\n",
      "strong multicollinearity or other numerical problems.\n"
     ]
    }
   ],
   "source": [
    "# Print a summary of the multiple linear regression\n",
    "print(multreg1.summary())"
   ]
  },
  {
   "cell_type": "markdown",
   "id": "b8675d3c",
   "metadata": {},
   "source": [
    "__Question 3:__ Looking at the multiple regression overall, does the combination of independent variables accurately predict the value of the independent variable? Which regression metrics do you use to answer this question?"
   ]
  },
  {
   "cell_type": "markdown",
   "id": "3db23462",
   "metadata": {},
   "source": [
    "__Answer 3:__ Yes, the regression performed well, (adjusted) R2 = 0.79 and p-value of the regression is very low (<< 0.05)"
   ]
  },
  {
   "cell_type": "markdown",
   "id": "3588361c",
   "metadata": {},
   "source": [
    "__Question 4:__ Considering the contributions of the independent variables (x and y coordinates) separately, which variables significantly influence the dependent variable (organic matter content)? Which metrics do you use to answer this question?"
   ]
  },
  {
   "cell_type": "markdown",
   "id": "f8fd60b4",
   "metadata": {},
   "source": [
    "__Answer 4:__ Both coordinates seem to have a significant effect (p < 0.05)."
   ]
  },
  {
   "cell_type": "markdown",
   "id": "6b434aaa",
   "metadata": {},
   "source": [
    "We will now use some of Python’s visualization capabilities to better understand the meaning of the regression coefficients. Our regression estimates the soil organic matter content P based on the equation $𝑃=𝑎+𝑏𝑥+𝑐𝑦$. This equation defines a surface in a 3-dimensional space with the axes x, y and P. The surface has to be calculated on equally spaced grid in x and y and is saved as zdata. We use  the `mpl_toolkits.mplot3d` package to achieve this. The zdata needs input coefficients from the multilinear regression for the constant, and the x and y variables. We can find these coefficients from the regression results using the `params` function."
   ]
  },
  {
   "cell_type": "markdown",
   "id": "f370491a",
   "metadata": {},
   "source": [
    "__Exercise 6:__ To display the 3D surface, follow the steps below. Make sure you inspect the newly created dataframes so you understand every step."
   ]
  },
  {
   "cell_type": "code",
   "execution_count": 16,
   "id": "18fc3b47",
   "metadata": {},
   "outputs": [],
   "source": [
    "# Prepare the equally spaced grid of x and y coordinates\n",
    "xdata = range(int(np.floor(min(df3.x))), int(np.ceil(max(df3.x))), 1) # Create range of x values at equal intervals\n",
    "ydata = range(int(np.floor(min(df3.y))), int(np.ceil(max(df3.y))), 1) # Create range of y values at equal intervals\n",
    "grid = np.array([(x, y) for x in xdata for y in ydata]) # Combine the two ranges into a grid"
   ]
  },
  {
   "cell_type": "code",
   "execution_count": 17,
   "id": "8855faac",
   "metadata": {},
   "outputs": [
    {
     "name": "stdout",
     "output_type": "stream",
     "text": [
      "[[115  45]\n",
      " [115  46]\n",
      " [115  47]\n",
      " [115  48]\n",
      " [115  49]\n",
      " [116  45]\n",
      " [116  46]\n",
      " [116  47]\n",
      " [116  48]\n",
      " [116  49]\n",
      " [117  45]\n",
      " [117  46]\n",
      " [117  47]\n",
      " [117  48]\n",
      " [117  49]\n",
      " [118  45]\n",
      " [118  46]\n",
      " [118  47]\n",
      " [118  48]\n",
      " [118  49]\n",
      " [119  45]\n",
      " [119  46]\n",
      " [119  47]\n",
      " [119  48]\n",
      " [119  49]]\n"
     ]
    }
   ],
   "source": [
    "# Inspect new x-y grid\n",
    "print(grid)"
   ]
  },
  {
   "cell_type": "code",
   "execution_count": 18,
   "id": "d3ce99ce",
   "metadata": {},
   "outputs": [],
   "source": [
    "# Calculate the z-data for each combination of x and y\n",
    "zdata = multreg1.params[0] + multreg1.params[1] * grid[:, 0] + multreg1.params[2] * grid[:, 1]"
   ]
  },
  {
   "cell_type": "code",
   "execution_count": 19,
   "id": "91e60247",
   "metadata": {},
   "outputs": [
    {
     "name": "stdout",
     "output_type": "stream",
     "text": [
      "[ 8.54305781 10.4609738  12.37888978 14.29680577 16.21472176  8.94404149\n",
      " 10.86195748 12.77987347 14.69778946 16.61570545  9.34502518 11.26294117\n",
      " 13.18085715 15.09877314 17.01668913  9.74600886 11.66392485 13.58184084\n",
      " 15.49975683 17.41767282 10.14699255 12.06490854 13.98282452 15.90074051\n",
      " 17.8186565 ]\n"
     ]
    }
   ],
   "source": [
    "# Inspect the new z data\n",
    "print(zdata)"
   ]
  },
  {
   "cell_type": "code",
   "execution_count": 20,
   "id": "72022e2b",
   "metadata": {},
   "outputs": [
    {
     "data": {
      "text/plain": [
       "Text(0.5, 0, 'Organic Matter [%]')"
      ]
     },
     "execution_count": 20,
     "metadata": {},
     "output_type": "execute_result"
    },
    {
     "data": {
      "image/png": "[encoded data removed]",
      "text/plain": [
       "<Figure size 432x288 with 1 Axes>"
      ]
     },
     "metadata": {
      "needs_background": "light"
     },
     "output_type": "display_data"
    }
   ],
   "source": [
    "# Plot the 3D-plot\n",
    "plt.figure(2) # initiate the plot\n",
    "ax = plt.axes(projection = '3d') # Tell Python to create a 3D projection\n",
    "ax.plot_trisurf(grid[:, 0], grid[:, 1], zdata, cmap = 'summer') # Create a 3D surface plot with values colored according to the \"summer\" colorscale\n",
    "ax.scatter(df3.x, df3.y, df3.perc_org, c=df3.perc_org, cmap='summer') # Add the datapoints from which the surface is calculated in the same color scheme\n",
    "ax.set_xlabel('x-coordinates') # label the x axis\n",
    "ax.set_ylabel('y-coordinates') # label the y axis\n",
    "ax.set_zlabel('Organic Matter [%]') # label the z axis"
   ]
  },
  {
   "cell_type": "markdown",
   "id": "b8b6a608",
   "metadata": {},
   "source": [
    "Maybe the soil organic matter content is not really determined by the x or y coordinates, but by another variable. Let’s add height as a variable."
   ]
  },
  {
   "cell_type": "markdown",
   "id": "32898d6e",
   "metadata": {},
   "source": [
    "__Exercise 7:__ Redo __Exercise 2__ and __Exercise 3__ after adding the height variable. Start by creating a scatterplot of height vs. organic matter percentage.\n",
    "\n",
    "__WARNING:__ Be careful naming your objects to prevent overwriting something you may need later or confusing data!"
   ]
  },
  {
   "cell_type": "code",
   "execution_count": 21,
   "id": "e06c9a05",
   "metadata": {},
   "outputs": [
    {
     "data": {
      "text/plain": [
       "Text(0, 0.5, 'Pecentage organic matter')"
      ]
     },
     "execution_count": 21,
     "metadata": {},
     "output_type": "execute_result"
    },
    {
     "data": {
      "image/png": "[encoded data removed]",
      "text/plain": [
       "<Figure size 432x288 with 1 Axes>"
      ]
     },
     "metadata": {
      "needs_background": "light"
     },
     "output_type": "display_data"
    }
   ],
   "source": [
    "# Plot perc_org vs y coordinate\n",
    "plt.scatter(df3.height, df3.perc_org, color = 'orange', marker = '+')\n",
    "plt.xlabel('Height')\n",
    "plt.ylabel('Pecentage organic matter')"
   ]
  },
  {
   "cell_type": "code",
   "execution_count": 22,
   "id": "abcfa59d",
   "metadata": {},
   "outputs": [
    {
     "name": "stdout",
     "output_type": "stream",
     "text": [
      "                            OLS Regression Results                            \n",
      "==============================================================================\n",
      "Dep. Variable:               perc_org   R-squared:                       0.901\n",
      "Model:                            OLS   Adj. R-squared:                  0.898\n",
      "Method:                 Least Squares   F-statistic:                     292.7\n",
      "Date:                Thu, 05 Oct 2023   Prob (F-statistic):           3.71e-48\n",
      "Time:                        09:24:25   Log-Likelihood:                -139.22\n",
      "No. Observations:                 100   AIC:                             286.4\n",
      "Df Residuals:                      96   BIC:                             296.9\n",
      "Df Model:                           3                                         \n",
      "Covariance Type:            nonrobust                                         \n",
      "==============================================================================\n",
      "                 coef    std err          t      P>|t|      [0.025      0.975]\n",
      "------------------------------------------------------------------------------\n",
      "const         19.4887     16.296      1.196      0.235     -12.859      51.837\n",
      "x             -0.0875      0.085     -1.029      0.306      -0.256       0.081\n",
      "y              0.2892      0.171      1.687      0.095      -0.051       0.629\n",
      "height        -0.7199      0.069    -10.462      0.000      -0.857      -0.583\n",
      "==============================================================================\n",
      "Omnibus:                        0.101   Durbin-Watson:                   1.810\n",
      "Prob(Omnibus):                  0.951   Jarque-Bera (JB):                0.271\n",
      "Skew:                           0.031   Prob(JB):                        0.873\n",
      "Kurtosis:                       2.752   Cond. No.                     2.09e+04\n",
      "==============================================================================\n",
      "\n",
      "Notes:\n",
      "[1] Standard Errors assume that the covariance matrix of the errors is correctly specified.\n",
      "[2] The condition number is large, 2.09e+04. This might indicate that there are\n",
      "strong multicollinearity or other numerical problems.\n"
     ]
    }
   ],
   "source": [
    "# Prepare our data\n",
    "\n",
    "# First we isolate the dependent variable (percentage organic matter)\n",
    "Y2 = df3[['perc_org']]\n",
    "\n",
    "# Then we group the independent variables (coordinates)\n",
    "X2 = df3[['x', 'y', 'height']]\n",
    "\n",
    "# Now we add a constant (vector of ones) to tell Python that we want to include an intercept value in our regression\n",
    "X2 = sm.add_constant(X2)\n",
    "\n",
    "# Run the regression\n",
    "multreg2 = sm.OLS(Y2, X2).fit()\n",
    "\n",
    "# Print a summary of the new multiple linear regression\n",
    "print(multreg2.summary())"
   ]
  },
  {
   "cell_type": "markdown",
   "id": "d6828952",
   "metadata": {},
   "source": [
    "__Question 5:__ What do you observe about the regression overall? Do the x and y coordinates still provide a statistically significant contribution at p < 0.05?"
   ]
  },
  {
   "cell_type": "markdown",
   "id": "71aee79e",
   "metadata": {},
   "source": [
    "__Answer 5:__ The R2 value is much higher (0.9), so the regression has improved. The x and y coordinates do not have a significant effect any longer (p > 0.05)"
   ]
  },
  {
   "cell_type": "markdown",
   "id": "51798a27",
   "metadata": {},
   "source": [
    "In the end, elevation is the main determinant of soil organic matter content in our case study. Lower elevations have higher soil organic matter content. This may be because lower elevation locations are wetter and support more vegetation, and thus production of organic matter. It also takes longer to decompose organic matter in wet soils compared to dry soils. Another reason could be that erosion processes denude organic matter from higher elevation locations and deposit them at lower elevation locations."
   ]
  },
  {
   "cell_type": "markdown",
   "id": "bac91783",
   "metadata": {},
   "source": [
    "The lesson here is that (multiple) regressions can only give you insight into the relationships between variables you add to the regression. If a variable (like `height` in this case) is missing, you may draw the wrong conclusions. Inspecting scatter plots and correlation matrices of all variables before (blindly) trying to do a regression could have warned you for this."
   ]
  },
  {
   "cell_type": "markdown",
   "id": "9ee82b53",
   "metadata": {},
   "source": [
    "## Part 2: Logistic regression\n",
    "We will practice with *Logistic regression* using the dataset `Lab02b.csv`.\n",
    "Use the code box below to load it using Python code you are now familiar with"
   ]
  },
  {
   "cell_type": "code",
   "execution_count": 23,
   "id": "b23fd435",
   "metadata": {},
   "outputs": [],
   "source": [
    "# Load the data for this assignment into Python and in the Jupyter environment.\n",
    "df4 = pd.read_csv('Lab02b.csv')"
   ]
  },
  {
   "cell_type": "markdown",
   "id": "70143b37",
   "metadata": {},
   "source": [
    "We also need some additional functions and packages. The code below should load them for you."
   ]
  },
  {
   "cell_type": "code",
   "execution_count": 24,
   "id": "1d479b2b",
   "metadata": {},
   "outputs": [],
   "source": [
    "import statsmodels.api as sm\n",
    "from sklearn.linear_model import LogisticRegression\n",
    "import seaborn as sns"
   ]
  },
  {
   "cell_type": "markdown",
   "id": "f8c71ea8",
   "metadata": {},
   "source": [
    "Once you have imported the data, use the code box below to inspect it."
   ]
  },
  {
   "cell_type": "code",
   "execution_count": 25,
   "id": "a8f025a0",
   "metadata": {},
   "outputs": [
    {
     "name": "stdout",
     "output_type": "stream",
     "text": [
      "                 Name  GP   MIN  PTS  FG_PC  THREEP_Made  THREEP_PC  FTM  \\\n",
      "0      Brandon Ingram  36  27.4  7.4   34.7          0.5       25.0  1.6   \n",
      "1     Andrew Harrison  35  26.9  7.2   29.6          0.7       23.5  2.6   \n",
      "2      JaKarr Sampson  74  15.3  5.2   42.2          0.4       24.4  0.9   \n",
      "3         Malik Sealy  58  11.6  5.7   42.6          0.1       22.6  0.9   \n",
      "4         Matt Geiger  48  11.5  4.5   52.4          0.0        0.0  1.3   \n",
      "...               ...  ..   ...  ...    ...          ...        ...  ...   \n",
      "1335      Chris Smith  80  15.8  4.3   43.3          0.0       14.3  1.2   \n",
      "1336      Brent Price  68  12.6  3.9   35.8          0.1       16.7  0.8   \n",
      "1337     Marlon Maxey  43  12.1  5.4   55.0          0.0        0.0  1.0   \n",
      "1338  Litterial Green  52  12.0  4.5   43.9          0.0       10.0  1.2   \n",
      "1339        Jon Barry  47  11.7  4.4   36.9          0.4       33.3  0.7   \n",
      "\n",
      "      FT_PC  REB  AST  STL  BLK  TOV  TARGET_5Yrs  \n",
      "0      69.9  4.1  1.9  0.4  0.4  1.3            0  \n",
      "1      76.5  2.4  3.7  1.1  0.5  1.6            0  \n",
      "2      67.0  2.2  1.0  0.5  0.3  1.0            0  \n",
      "3      68.9  1.9  0.8  0.6  0.1  1.0            1  \n",
      "4      67.4  2.5  0.3  0.3  0.4  0.8            1  \n",
      "...     ...  ...  ...  ...  ...  ...          ...  \n",
      "1335   79.2  1.2  2.5  0.6  0.2  0.8            0  \n",
      "1336   79.4  1.5  2.3  0.8  0.0  1.3            1  \n",
      "1337   64.3  3.8  0.3  0.3  0.4  0.9            0  \n",
      "1338   62.5  0.7  2.2  0.4  0.1  0.8            1  \n",
      "1339   67.3  0.9  1.4  0.7  0.1  0.9            1  \n",
      "\n",
      "[1340 rows x 15 columns]\n"
     ]
    }
   ],
   "source": [
    "# Inspect the new dataframe\n",
    "print(df4)"
   ]
  },
  {
   "cell_type": "markdown",
   "id": "41597bf6",
   "metadata": {},
   "source": [
    "__Question 6:__ Are there any values in this dataset which may cause you problems when doing data analysis?"
   ]
  },
  {
   "cell_type": "markdown",
   "id": "582f1f03",
   "metadata": {},
   "source": [
    "__Answer 6:__ Yes, there are missing values in the dataset, but they are very hard to spot with the inspection commands (`head()` and `print()`)"
   ]
  },
  {
   "cell_type": "markdown",
   "id": "40b46a7f",
   "metadata": {},
   "source": [
    "It is likely that you did not find any problems with the dataset through your inspection. However, the dataset does in fact contain missing values (reported by Python as `NA`), but the dataset is large and they are somewhat hidden. You can use the combination of functions below to find them:"
   ]
  },
  {
   "cell_type": "code",
   "execution_count": 26,
   "id": "764364c1",
   "metadata": {},
   "outputs": [
    {
     "data": {
      "text/plain": [
       "Name            0\n",
       "GP              0\n",
       "MIN             0\n",
       "PTS             0\n",
       "FG_PC           0\n",
       "THREEP_Made     0\n",
       "THREEP_PC      11\n",
       "FTM             0\n",
       "FT_PC           0\n",
       "REB             0\n",
       "AST             0\n",
       "STL             0\n",
       "BLK             0\n",
       "TOV             0\n",
       "TARGET_5Yrs     0\n",
       "dtype: int64"
      ]
     },
     "execution_count": 26,
     "metadata": {},
     "output_type": "execute_result"
    }
   ],
   "source": [
    "df4.isna().sum()"
   ]
  },
  {
   "cell_type": "markdown",
   "id": "00b9685b",
   "metadata": {},
   "source": [
    "__Exercise 8:__ Now that you know this, you may remove missing values using the `dropna()` command. You can do this in a similar way as when you inspect your dataset using `.head()` or when you detected the `NA` values with `.isna` and `sum()` above. Try it, and then verify that the `NA`'s are gone using the same function you used above."
   ]
  },
  {
   "cell_type": "code",
   "execution_count": 27,
   "id": "d3cfc8b9",
   "metadata": {},
   "outputs": [
    {
     "data": {
      "text/plain": [
       "Name           0\n",
       "GP             0\n",
       "MIN            0\n",
       "PTS            0\n",
       "FG_PC          0\n",
       "THREEP_Made    0\n",
       "THREEP_PC      0\n",
       "FTM            0\n",
       "FT_PC          0\n",
       "REB            0\n",
       "AST            0\n",
       "STL            0\n",
       "BLK            0\n",
       "TOV            0\n",
       "TARGET_5Yrs    0\n",
       "dtype: int64"
      ]
     },
     "execution_count": 27,
     "metadata": {},
     "output_type": "execute_result"
    }
   ],
   "source": [
    "# Remove the missing values from the dataset\n",
    "df4_2 = df4.dropna()\n",
    "# Check whether the new dataset has no NA's \n",
    "df4_2.isna().sum()"
   ]
  },
  {
   "cell_type": "markdown",
   "id": "b59edff8",
   "metadata": {},
   "source": [
    "The data file contains multiple variables of performance metrics from current and former basketball players in the NBA. For clarification, the variables abbreviations are explained in Table 1. Take a good look at these variables."
   ]
  },
  {
   "cell_type": "markdown",
   "id": "b3b5224d",
   "metadata": {},
   "source": [
    "<center><b>Table 1</b> Abbreviation and explanation of different variables of NBA players.</center>\n",
    "\n",
    "|Abbreviations|Explanation|\n",
    "| :--- | :--- |\n",
    "|GP|Games played|\n",
    "|MIN|Minutes played per game|\n",
    "|PTS|Points per game|\n",
    "|FG_PC|Field goal % (shooting accuracy) per game|\n",
    "|THREEP_Made|3 pointer made per game|\n",
    "|THREEP_PC|3 pointer % (3 pointer shooting accuracy) per game|\n",
    "|FTM|Free throw made per game|\n",
    "|FT_PC|Free throw % (free throw shooting accuracy) per game|\n",
    "|REB|Rebounds per game|\n",
    "|AST|Assists per game|\n",
    "|TARGET_5Yrs|Players lasted more than 5 years in the league or not|\n",
    "|STL|Steals per game|\n",
    "|BLK|Blocks per game|\n",
    "|TOV|Turnovers per game (amount of lost balls)|"
   ]
  },
  {
   "cell_type": "markdown",
   "id": "af40cf15",
   "metadata": {},
   "source": [
    "A number of variables are expressed as percentages, while others are expressed as a number of actions per game."
   ]
  },
  {
   "cell_type": "markdown",
   "id": "31ff9fd5",
   "metadata": {},
   "source": [
    "__Question 7:__ Do you think it is fair to compare performance per game knowing that the number of minutes played per game varies among the players?"
   ]
  },
  {
   "cell_type": "markdown",
   "id": "87fad85b",
   "metadata": {},
   "source": [
    "__Answer 7:__ Probably not, we need to normalize for the number of minutes played per game."
   ]
  },
  {
   "cell_type": "markdown",
   "id": "738aa0de",
   "metadata": {},
   "source": [
    "To normalize for the number of minutes played per game, we will divide the `PTS`, `THREEP_Made`, `FTM`, `REB`, `AST`, `STL`, `BLK` and `TOV` by the `MIN` variable to derive the number of actions per minute. For the PTS variable, you can for example do this by using the following command and check the result using the `.head()` function, as you are used to:"
   ]
  },
  {
   "cell_type": "code",
   "execution_count": 28,
   "id": "4daa5a75",
   "metadata": {},
   "outputs": [
    {
     "name": "stderr",
     "output_type": "stream",
     "text": [
      "C:\\Users\\niels\\AppData\\Local\\Temp\\ipykernel_31088\\2769719319.py:1: SettingWithCopyWarning: \n",
      "A value is trying to be set on a copy of a slice from a DataFrame.\n",
      "Try using .loc[row_indexer,col_indexer] = value instead\n",
      "\n",
      "See the caveats in the documentation: https://pandas.pydata.org/pandas-docs/stable/user_guide/indexing.html#returning-a-view-versus-a-copy\n",
      "  df4_2['PTS_MIN'] = df4_2['PTS'] / df4_2['MIN']\n"
     ]
    },
    {
     "data": {
      "text/html": [
       "<div>\n",
       "<style scoped>\n",
       "    .dataframe tbody tr th:only-of-type {\n",
       "        vertical-align: middle;\n",
       "    }\n",
       "\n",
       "    .dataframe tbody tr th {\n",
       "        vertical-align: top;\n",
       "    }\n",
       "\n",
       "    .dataframe thead th {\n",
       "        text-align: right;\n",
       "    }\n",
       "</style>\n",
       "<table border=\"1\" class=\"dataframe\">\n",
       "  <thead>\n",
       "    <tr style=\"text-align: right;\">\n",
       "      <th></th>\n",
       "      <th>Name</th>\n",
       "      <th>GP</th>\n",
       "      <th>MIN</th>\n",
       "      <th>PTS</th>\n",
       "      <th>FG_PC</th>\n",
       "      <th>THREEP_Made</th>\n",
       "      <th>THREEP_PC</th>\n",
       "      <th>FTM</th>\n",
       "      <th>FT_PC</th>\n",
       "      <th>REB</th>\n",
       "      <th>AST</th>\n",
       "      <th>STL</th>\n",
       "      <th>BLK</th>\n",
       "      <th>TOV</th>\n",
       "      <th>TARGET_5Yrs</th>\n",
       "      <th>PTS_MIN</th>\n",
       "    </tr>\n",
       "  </thead>\n",
       "  <tbody>\n",
       "    <tr>\n",
       "      <th>0</th>\n",
       "      <td>Brandon Ingram</td>\n",
       "      <td>36</td>\n",
       "      <td>27.4</td>\n",
       "      <td>7.4</td>\n",
       "      <td>34.7</td>\n",
       "      <td>0.5</td>\n",
       "      <td>25.0</td>\n",
       "      <td>1.6</td>\n",
       "      <td>69.9</td>\n",
       "      <td>4.1</td>\n",
       "      <td>1.9</td>\n",
       "      <td>0.4</td>\n",
       "      <td>0.4</td>\n",
       "      <td>1.3</td>\n",
       "      <td>0</td>\n",
       "      <td>0.270073</td>\n",
       "    </tr>\n",
       "    <tr>\n",
       "      <th>1</th>\n",
       "      <td>Andrew Harrison</td>\n",
       "      <td>35</td>\n",
       "      <td>26.9</td>\n",
       "      <td>7.2</td>\n",
       "      <td>29.6</td>\n",
       "      <td>0.7</td>\n",
       "      <td>23.5</td>\n",
       "      <td>2.6</td>\n",
       "      <td>76.5</td>\n",
       "      <td>2.4</td>\n",
       "      <td>3.7</td>\n",
       "      <td>1.1</td>\n",
       "      <td>0.5</td>\n",
       "      <td>1.6</td>\n",
       "      <td>0</td>\n",
       "      <td>0.267658</td>\n",
       "    </tr>\n",
       "    <tr>\n",
       "      <th>2</th>\n",
       "      <td>JaKarr Sampson</td>\n",
       "      <td>74</td>\n",
       "      <td>15.3</td>\n",
       "      <td>5.2</td>\n",
       "      <td>42.2</td>\n",
       "      <td>0.4</td>\n",
       "      <td>24.4</td>\n",
       "      <td>0.9</td>\n",
       "      <td>67.0</td>\n",
       "      <td>2.2</td>\n",
       "      <td>1.0</td>\n",
       "      <td>0.5</td>\n",
       "      <td>0.3</td>\n",
       "      <td>1.0</td>\n",
       "      <td>0</td>\n",
       "      <td>0.339869</td>\n",
       "    </tr>\n",
       "    <tr>\n",
       "      <th>3</th>\n",
       "      <td>Malik Sealy</td>\n",
       "      <td>58</td>\n",
       "      <td>11.6</td>\n",
       "      <td>5.7</td>\n",
       "      <td>42.6</td>\n",
       "      <td>0.1</td>\n",
       "      <td>22.6</td>\n",
       "      <td>0.9</td>\n",
       "      <td>68.9</td>\n",
       "      <td>1.9</td>\n",
       "      <td>0.8</td>\n",
       "      <td>0.6</td>\n",
       "      <td>0.1</td>\n",
       "      <td>1.0</td>\n",
       "      <td>1</td>\n",
       "      <td>0.491379</td>\n",
       "    </tr>\n",
       "    <tr>\n",
       "      <th>4</th>\n",
       "      <td>Matt Geiger</td>\n",
       "      <td>48</td>\n",
       "      <td>11.5</td>\n",
       "      <td>4.5</td>\n",
       "      <td>52.4</td>\n",
       "      <td>0.0</td>\n",
       "      <td>0.0</td>\n",
       "      <td>1.3</td>\n",
       "      <td>67.4</td>\n",
       "      <td>2.5</td>\n",
       "      <td>0.3</td>\n",
       "      <td>0.3</td>\n",
       "      <td>0.4</td>\n",
       "      <td>0.8</td>\n",
       "      <td>1</td>\n",
       "      <td>0.391304</td>\n",
       "    </tr>\n",
       "  </tbody>\n",
       "</table>\n",
       "</div>"
      ],
      "text/plain": [
       "              Name  GP   MIN  PTS  FG_PC  THREEP_Made  THREEP_PC  FTM  FT_PC  \\\n",
       "0   Brandon Ingram  36  27.4  7.4   34.7          0.5       25.0  1.6   69.9   \n",
       "1  Andrew Harrison  35  26.9  7.2   29.6          0.7       23.5  2.6   76.5   \n",
       "2   JaKarr Sampson  74  15.3  5.2   42.2          0.4       24.4  0.9   67.0   \n",
       "3      Malik Sealy  58  11.6  5.7   42.6          0.1       22.6  0.9   68.9   \n",
       "4      Matt Geiger  48  11.5  4.5   52.4          0.0        0.0  1.3   67.4   \n",
       "\n",
       "   REB  AST  STL  BLK  TOV  TARGET_5Yrs   PTS_MIN  \n",
       "0  4.1  1.9  0.4  0.4  1.3            0  0.270073  \n",
       "1  2.4  3.7  1.1  0.5  1.6            0  0.267658  \n",
       "2  2.2  1.0  0.5  0.3  1.0            0  0.339869  \n",
       "3  1.9  0.8  0.6  0.1  1.0            1  0.491379  \n",
       "4  2.5  0.3  0.3  0.4  0.8            1  0.391304  "
      ]
     },
     "execution_count": 28,
     "metadata": {},
     "output_type": "execute_result"
    }
   ],
   "source": [
    "df4_2['PTS_MIN'] = df4_2['PTS'] / df4_2['MIN']\n",
    "df4_2.head()"
   ]
  },
  {
   "cell_type": "markdown",
   "id": "de357e94",
   "metadata": {},
   "source": [
    "__NOTE__: The code above might trigger a \"SettingWithCopyWarning\", which is a warning by Python that you are making changes to your dataframe by modifying copies of elements of it (in this case the columns). You can ignore this warning for now, but if you are interested to find out why Python warns you for this you can look it up online. If you want to ignore this warning throughout the Python session, you can use the following code:\n",
    "\n",
    "`pd.options.mode.chained_assignment = None  # default='warn'`"
   ]
  },
  {
   "cell_type": "markdown",
   "id": "61b4bfb1",
   "metadata": {},
   "source": [
    "__Exercise 9:__ Normalize the other variables which depend on the number of minutes played in the same way using the code block below and inspect the result."
   ]
  },
  {
   "cell_type": "code",
   "execution_count": 29,
   "id": "dfa02361",
   "metadata": {},
   "outputs": [
    {
     "data": {
      "text/html": [
       "<div>\n",
       "<style scoped>\n",
       "    .dataframe tbody tr th:only-of-type {\n",
       "        vertical-align: middle;\n",
       "    }\n",
       "\n",
       "    .dataframe tbody tr th {\n",
       "        vertical-align: top;\n",
       "    }\n",
       "\n",
       "    .dataframe thead th {\n",
       "        text-align: right;\n",
       "    }\n",
       "</style>\n",
       "<table border=\"1\" class=\"dataframe\">\n",
       "  <thead>\n",
       "    <tr style=\"text-align: right;\">\n",
       "      <th></th>\n",
       "      <th>Name</th>\n",
       "      <th>GP</th>\n",
       "      <th>MIN</th>\n",
       "      <th>PTS</th>\n",
       "      <th>FG_PC</th>\n",
       "      <th>THREEP_Made</th>\n",
       "      <th>THREEP_PC</th>\n",
       "      <th>FTM</th>\n",
       "      <th>FT_PC</th>\n",
       "      <th>REB</th>\n",
       "      <th>...</th>\n",
       "      <th>TOV</th>\n",
       "      <th>TARGET_5Yrs</th>\n",
       "      <th>PTS_MIN</th>\n",
       "      <th>THREEP_Made_MIN</th>\n",
       "      <th>FTM_MIN</th>\n",
       "      <th>REB_MIN</th>\n",
       "      <th>AST_MIN</th>\n",
       "      <th>STL_MIN</th>\n",
       "      <th>BLK_MIN</th>\n",
       "      <th>TOV_MIN</th>\n",
       "    </tr>\n",
       "  </thead>\n",
       "  <tbody>\n",
       "    <tr>\n",
       "      <th>0</th>\n",
       "      <td>Brandon Ingram</td>\n",
       "      <td>36</td>\n",
       "      <td>27.4</td>\n",
       "      <td>7.4</td>\n",
       "      <td>34.7</td>\n",
       "      <td>0.5</td>\n",
       "      <td>25.0</td>\n",
       "      <td>1.6</td>\n",
       "      <td>69.9</td>\n",
       "      <td>4.1</td>\n",
       "      <td>...</td>\n",
       "      <td>1.3</td>\n",
       "      <td>0</td>\n",
       "      <td>0.270073</td>\n",
       "      <td>0.018248</td>\n",
       "      <td>0.058394</td>\n",
       "      <td>0.149635</td>\n",
       "      <td>0.069343</td>\n",
       "      <td>0.014599</td>\n",
       "      <td>0.014599</td>\n",
       "      <td>0.047445</td>\n",
       "    </tr>\n",
       "    <tr>\n",
       "      <th>1</th>\n",
       "      <td>Andrew Harrison</td>\n",
       "      <td>35</td>\n",
       "      <td>26.9</td>\n",
       "      <td>7.2</td>\n",
       "      <td>29.6</td>\n",
       "      <td>0.7</td>\n",
       "      <td>23.5</td>\n",
       "      <td>2.6</td>\n",
       "      <td>76.5</td>\n",
       "      <td>2.4</td>\n",
       "      <td>...</td>\n",
       "      <td>1.6</td>\n",
       "      <td>0</td>\n",
       "      <td>0.267658</td>\n",
       "      <td>0.026022</td>\n",
       "      <td>0.096654</td>\n",
       "      <td>0.089219</td>\n",
       "      <td>0.137546</td>\n",
       "      <td>0.040892</td>\n",
       "      <td>0.018587</td>\n",
       "      <td>0.059480</td>\n",
       "    </tr>\n",
       "    <tr>\n",
       "      <th>2</th>\n",
       "      <td>JaKarr Sampson</td>\n",
       "      <td>74</td>\n",
       "      <td>15.3</td>\n",
       "      <td>5.2</td>\n",
       "      <td>42.2</td>\n",
       "      <td>0.4</td>\n",
       "      <td>24.4</td>\n",
       "      <td>0.9</td>\n",
       "      <td>67.0</td>\n",
       "      <td>2.2</td>\n",
       "      <td>...</td>\n",
       "      <td>1.0</td>\n",
       "      <td>0</td>\n",
       "      <td>0.339869</td>\n",
       "      <td>0.026144</td>\n",
       "      <td>0.058824</td>\n",
       "      <td>0.143791</td>\n",
       "      <td>0.065359</td>\n",
       "      <td>0.032680</td>\n",
       "      <td>0.019608</td>\n",
       "      <td>0.065359</td>\n",
       "    </tr>\n",
       "    <tr>\n",
       "      <th>3</th>\n",
       "      <td>Malik Sealy</td>\n",
       "      <td>58</td>\n",
       "      <td>11.6</td>\n",
       "      <td>5.7</td>\n",
       "      <td>42.6</td>\n",
       "      <td>0.1</td>\n",
       "      <td>22.6</td>\n",
       "      <td>0.9</td>\n",
       "      <td>68.9</td>\n",
       "      <td>1.9</td>\n",
       "      <td>...</td>\n",
       "      <td>1.0</td>\n",
       "      <td>1</td>\n",
       "      <td>0.491379</td>\n",
       "      <td>0.008621</td>\n",
       "      <td>0.077586</td>\n",
       "      <td>0.163793</td>\n",
       "      <td>0.068966</td>\n",
       "      <td>0.051724</td>\n",
       "      <td>0.008621</td>\n",
       "      <td>0.086207</td>\n",
       "    </tr>\n",
       "    <tr>\n",
       "      <th>4</th>\n",
       "      <td>Matt Geiger</td>\n",
       "      <td>48</td>\n",
       "      <td>11.5</td>\n",
       "      <td>4.5</td>\n",
       "      <td>52.4</td>\n",
       "      <td>0.0</td>\n",
       "      <td>0.0</td>\n",
       "      <td>1.3</td>\n",
       "      <td>67.4</td>\n",
       "      <td>2.5</td>\n",
       "      <td>...</td>\n",
       "      <td>0.8</td>\n",
       "      <td>1</td>\n",
       "      <td>0.391304</td>\n",
       "      <td>0.000000</td>\n",
       "      <td>0.113043</td>\n",
       "      <td>0.217391</td>\n",
       "      <td>0.026087</td>\n",
       "      <td>0.026087</td>\n",
       "      <td>0.034783</td>\n",
       "      <td>0.069565</td>\n",
       "    </tr>\n",
       "  </tbody>\n",
       "</table>\n",
       "<p>5 rows × 23 columns</p>\n",
       "</div>"
      ],
      "text/plain": [
       "              Name  GP   MIN  PTS  FG_PC  THREEP_Made  THREEP_PC  FTM  FT_PC  \\\n",
       "0   Brandon Ingram  36  27.4  7.4   34.7          0.5       25.0  1.6   69.9   \n",
       "1  Andrew Harrison  35  26.9  7.2   29.6          0.7       23.5  2.6   76.5   \n",
       "2   JaKarr Sampson  74  15.3  5.2   42.2          0.4       24.4  0.9   67.0   \n",
       "3      Malik Sealy  58  11.6  5.7   42.6          0.1       22.6  0.9   68.9   \n",
       "4      Matt Geiger  48  11.5  4.5   52.4          0.0        0.0  1.3   67.4   \n",
       "\n",
       "   REB  ...  TOV  TARGET_5Yrs   PTS_MIN  THREEP_Made_MIN   FTM_MIN   REB_MIN  \\\n",
       "0  4.1  ...  1.3            0  0.270073         0.018248  0.058394  0.149635   \n",
       "1  2.4  ...  1.6            0  0.267658         0.026022  0.096654  0.089219   \n",
       "2  2.2  ...  1.0            0  0.339869         0.026144  0.058824  0.143791   \n",
       "3  1.9  ...  1.0            1  0.491379         0.008621  0.077586  0.163793   \n",
       "4  2.5  ...  0.8            1  0.391304         0.000000  0.113043  0.217391   \n",
       "\n",
       "    AST_MIN   STL_MIN   BLK_MIN   TOV_MIN  \n",
       "0  0.069343  0.014599  0.014599  0.047445  \n",
       "1  0.137546  0.040892  0.018587  0.059480  \n",
       "2  0.065359  0.032680  0.019608  0.065359  \n",
       "3  0.068966  0.051724  0.008621  0.086207  \n",
       "4  0.026087  0.026087  0.034783  0.069565  \n",
       "\n",
       "[5 rows x 23 columns]"
      ]
     },
     "execution_count": 29,
     "metadata": {},
     "output_type": "execute_result"
    }
   ],
   "source": [
    "# Ignore the annoying warning\n",
    "pd.options.mode.chained_assignment = None  # default='warn'\n",
    "\n",
    "# Normalize values\n",
    "df4_2['THREEP_Made_MIN'] = df4_2['THREEP_Made'] / df4_2['MIN']\n",
    "df4_2['FTM_MIN'] = df4_2['FTM'] / df4_2['MIN']\n",
    "df4_2['REB_MIN'] = df4_2['REB'] / df4_2['MIN']\n",
    "df4_2['AST_MIN'] = df4_2['AST'] / df4_2['MIN']\n",
    "df4_2['STL_MIN'] = df4_2['STL'] / df4_2['MIN']\n",
    "df4_2['BLK_MIN'] = df4_2['BLK'] / df4_2['MIN']\n",
    "df4_2['TOV_MIN'] = df4_2['TOV'] / df4_2['MIN']\n",
    "\n",
    "# Inspect results\n",
    "df4_2.head()"
   ]
  },
  {
   "cell_type": "markdown",
   "id": "1c1f54fe",
   "metadata": {},
   "source": [
    "We will continue or analysis with the following variables: `GP`, `MIN`, `PTS_MIN`, `FG_PC`, `THREEP_Made_MIN`, `THREE_PC`, `FTM_MIN`, `FT_PC`, `REB_MIN`, `AST_MIN`, `TARGET_5Yrs`, `STL_MIN`, `BLK_MIN`, `TOV_MIN`. The aim of the exercise is to tell which performance metrics influence whether a player lasts more than five years in the NBA league."
   ]
  },
  {
   "cell_type": "markdown",
   "id": "f0365acd",
   "metadata": {},
   "source": [
    "Logistic regression analysis is used to predict the outcome of a dependent categorical variable. In other words, the regression analysis assesses the chances that the outcome of the dependent variable is either 1 (yes, success, etc.) or 0 (no, failure, etc.). Hence, the dependent variable is a binary variable."
   ]
  },
  {
   "cell_type": "markdown",
   "id": "9dce6840",
   "metadata": {},
   "source": [
    "__Question 8:__ Based on your knowledge of logistic regression and the data file (Table 1). Which variable is the binary dependent variable we will predict?"
   ]
  },
  {
   "cell_type": "markdown",
   "id": "959caf47",
   "metadata": {},
   "source": [
    "__Answer 8:__ The dependent variable is `Target_5yrs` (whether or not the player is still in the NBA after 5 years)"
   ]
  },
  {
   "cell_type": "markdown",
   "id": "8557350a",
   "metadata": {},
   "source": [
    "The dataset is extensive and complex, but could easily be expanded with more variable variables (e.g. the position on the basketball court, age, etc.). Can you think of other variables? With a logistic regression, you can assess which variables have influence on a player’s success to last longer than five years in the NBA league."
   ]
  },
  {
   "cell_type": "markdown",
   "id": "50a24aba",
   "metadata": {},
   "source": [
    "First, we will explore which performance metrics may influence a player’s success to last longer than 5 years in the NBA league. You can group players based on whether or not they played longer than 5 years in the NBA. After this, you can plot the values of the different performance metrics for those players that played longer than five years in the NBA with those that did not. You can use boxplots to visualize the results. For the GP variable, this for example results in the following command:"
   ]
  },
  {
   "cell_type": "code",
   "execution_count": 30,
   "id": "ec7c1535",
   "metadata": {},
   "outputs": [
    {
     "data": {
      "text/plain": [
       "<AxesSubplot:xlabel='TARGET_5Yrs', ylabel='GP'>"
      ]
     },
     "execution_count": 30,
     "metadata": {},
     "output_type": "execute_result"
    },
    {
     "data": {
      "image/png": "[encoded data removed]",
      "text/plain": [
       "<Figure size 432x288 with 1 Axes>"
      ]
     },
     "metadata": {
      "needs_background": "light"
     },
     "output_type": "display_data"
    }
   ],
   "source": [
    "sns.boxplot(x = df4_2.TARGET_5Yrs, y = df4_2.GP, data = df4_2)"
   ]
  },
  {
   "cell_type": "markdown",
   "id": "70deafc0",
   "metadata": {},
   "source": [
    "__Exercise 10:__ Do the same for all other performance metrics."
   ]
  },
  {
   "cell_type": "code",
   "execution_count": 31,
   "id": "67b80f37",
   "metadata": {},
   "outputs": [
    {
     "data": {
      "text/plain": [
       "<AxesSubplot:xlabel='TARGET_5Yrs', ylabel='TOV_MIN'>"
      ]
     },
     "execution_count": 31,
     "metadata": {},
     "output_type": "execute_result"
    },
    {
     "data": {
      "image/png": "[encoded data removed]",
      "text/plain": [
       "<Figure size 432x288 with 1 Axes>"
      ]
     },
     "metadata": {
      "needs_background": "light"
     },
     "output_type": "display_data"
    },
    {
     "data": {
      "image/png": "[encoded data removed]",
      "text/plain": [
       "<Figure size 432x288 with 1 Axes>"
      ]
     },
     "metadata": {
      "needs_background": "light"
     },
     "output_type": "display_data"
    },
    {
     "data": {
      "image/png": "[encoded data removed]",
      "text/plain": [
       "<Figure size 432x288 with 1 Axes>"
      ]
     },
     "metadata": {
      "needs_background": "light"
     },
     "output_type": "display_data"
    },
    {
     "data": {
      "image/png": "[encoded data removed]",
      "text/plain": [
       "<Figure size 432x288 with 1 Axes>"
      ]
     },
     "metadata": {
      "needs_background": "light"
     },
     "output_type": "display_data"
    },
    {
     "data": {
      "image/png": "[encoded data removed]",
      "text/plain": [
       "<Figure size 432x288 with 1 Axes>"
      ]
     },
     "metadata": {
      "needs_background": "light"
     },
     "output_type": "display_data"
    },
    {
     "data": {
      "image/png": "[encoded data removed]",
      "text/plain": [
       "<Figure size 432x288 with 1 Axes>"
      ]
     },
     "metadata": {
      "needs_background": "light"
     },
     "output_type": "display_data"
    },
    {
     "data": {
      "image/png": "[encoded data removed]",
      "text/plain": [
       "<Figure size 432x288 with 1 Axes>"
      ]
     },
     "metadata": {
      "needs_background": "light"
     },
     "output_type": "display_data"
    },
    {
     "data": {
      "image/png": "[encoded data removed]",
      "text/plain": [
       "<Figure size 432x288 with 1 Axes>"
      ]
     },
     "metadata": {
      "needs_background": "light"
     },
     "output_type": "display_data"
    },
    {
     "data": {
      "image/png": "[encoded data removed]",
      "text/plain": [
       "<Figure size 432x288 with 1 Axes>"
      ]
     },
     "metadata": {
      "needs_background": "light"
     },
     "output_type": "display_data"
    },
    {
     "data": {
      "image/png": "[encoded data removed]",
      "text/plain": [
       "<Figure size 432x288 with 1 Axes>"
      ]
     },
     "metadata": {
      "needs_background": "light"
     },
     "output_type": "display_data"
    },
    {
     "data": {
      "image/png": "[encoded data removed]",
      "text/plain": [
       "<Figure size 432x288 with 1 Axes>"
      ]
     },
     "metadata": {
      "needs_background": "light"
     },
     "output_type": "display_data"
    },
    {
     "data": {
      "image/png": "[encoded data removed]",
      "text/plain": [
       "<Figure size 432x288 with 1 Axes>"
      ]
     },
     "metadata": {
      "needs_background": "light"
     },
     "output_type": "display_data"
    }
   ],
   "source": [
    "# Plot boxplots of all other variables\n",
    "plt.figure(1)\n",
    "sns.boxplot(x = df4_2.TARGET_5Yrs, y = df4_2.MIN, data = df4_2)\n",
    "plt.figure(2)\n",
    "sns.boxplot(x = df4_2.TARGET_5Yrs, y = df4_2.PTS_MIN, data = df4_2)\n",
    "plt.figure(3)\n",
    "sns.boxplot(x = df4_2.TARGET_5Yrs, y = df4_2.FG_PC, data = df4_2)\n",
    "plt.figure(4)\n",
    "sns.boxplot(x = df4_2.TARGET_5Yrs, y = df4_2.THREEP_Made_MIN, data = df4_2)\n",
    "plt.figure(5)\n",
    "sns.boxplot(x = df4_2.TARGET_5Yrs, y = df4_2.THREEP_PC, data = df4_2)\n",
    "plt.figure(6)\n",
    "sns.boxplot(x = df4_2.TARGET_5Yrs, y = df4_2.FTM_MIN, data = df4_2)\n",
    "plt.figure(7)\n",
    "sns.boxplot(x = df4_2.TARGET_5Yrs, y = df4_2.FT_PC, data = df4_2)\n",
    "plt.figure(8)\n",
    "sns.boxplot(x = df4_2.TARGET_5Yrs, y = df4_2.REB_MIN, data = df4_2)\n",
    "plt.figure(9)\n",
    "sns.boxplot(x = df4_2.TARGET_5Yrs, y = df4_2.AST_MIN, data = df4_2)\n",
    "plt.figure(10)\n",
    "sns.boxplot(x = df4_2.TARGET_5Yrs, y = df4_2.STL_MIN, data = df4_2)\n",
    "plt.figure(11)\n",
    "sns.boxplot(x = df4_2.TARGET_5Yrs, y = df4_2.BLK_MIN, data = df4_2)\n",
    "plt.figure(12)\n",
    "sns.boxplot(x = df4_2.TARGET_5Yrs, y = df4_2.TOV_MIN, data = df4_2)"
   ]
  },
  {
   "cell_type": "markdown",
   "id": "81c186d0",
   "metadata": {},
   "source": [
    "__Question 9:__ What do you observe? Which performance metrics seem to influence a player’s success to last longer than five years in the NBA league? Do the variables with positive and negative influences seem logical? Does any of the findings seem counterintuitive?"
   ]
  },
  {
   "cell_type": "markdown",
   "id": "cb0f314c",
   "metadata": {},
   "source": [
    "__Answer 9:__\n",
    "\n",
    "Positive influence: `GP`, `MIN`, `PTS_MIN`, `FG_PC`, `FTM_MIN`, `REB_MIN`\n",
    "\n",
    "Negative influence: `THREE_Made_MIN`\n",
    "\n",
    "No influence: `THREE_PC`, `FT_PC`, `AST_MIN`, `STL_MIN`, `BLK_MIN`, `TOV_MIN`\n",
    "\n",
    "The variables with positive influences are logical. The negative influence of THREE_Made_MIN is counterintuitive\n"
   ]
  },
  {
   "cell_type": "markdown",
   "id": "5bc42677",
   "metadata": {},
   "source": [
    "The function sns.countplot is a good way to investigate which number of players made it for more than five years in the NBA league:"
   ]
  },
  {
   "cell_type": "code",
   "execution_count": 32,
   "id": "b18957dc",
   "metadata": {},
   "outputs": [
    {
     "data": {
      "text/plain": [
       "<AxesSubplot:xlabel='TARGET_5Yrs', ylabel='count'>"
      ]
     },
     "execution_count": 32,
     "metadata": {},
     "output_type": "execute_result"
    },
    {
     "data": {
      "image/png": "[encoded data removed]",
      "text/plain": [
       "<Figure size 432x288 with 1 Axes>"
      ]
     },
     "metadata": {
      "needs_background": "light"
     },
     "output_type": "display_data"
    }
   ],
   "source": [
    "sns.countplot(x = df4_2.TARGET_5Yrs, data = df4_2)"
   ]
  },
  {
   "cell_type": "markdown",
   "id": "523e11d0",
   "metadata": {},
   "source": [
    "Now, we will perform a logistic regression analysis with the `statsmodels` function `sm.Logit` which you loaded earlier.\n",
    "\n",
    "__Exercise 11:__ We first need to define all the predictors (independent variables) and the dependent variables. You can do this in the same way as you did in the multiple regression exercises above (if you forgot, check the code above __Exercise 2__):"
   ]
  },
  {
   "cell_type": "code",
   "execution_count": 33,
   "id": "3268e02c",
   "metadata": {},
   "outputs": [],
   "source": [
    "# Define independent variables\n",
    "X = df4_2[['GP', 'MIN', 'PTS_MIN', 'FG_PC', 'THREEP_Made_MIN', 'THREEP_PC', 'FTM_MIN', 'FT_PC', 'REB_MIN', 'AST_MIN', 'STL_MIN', 'BLK_MIN', 'TOV_MIN']]\n",
    "\n",
    "# Define dependent variables\n",
    "y = df4_2[['TARGET_5Yrs']]"
   ]
  },
  {
   "cell_type": "markdown",
   "id": "a1ab91ca",
   "metadata": {},
   "source": [
    "After this, we can perform the logistic regression and print its results:"
   ]
  },
  {
   "cell_type": "code",
   "execution_count": 34,
   "id": "919c0c80",
   "metadata": {},
   "outputs": [
    {
     "name": "stdout",
     "output_type": "stream",
     "text": [
      "Optimization terminated successfully.\n",
      "         Current function value: 0.574917\n",
      "         Iterations 6\n",
      "                         Results: Logit\n",
      "=================================================================\n",
      "Model:              Logit            Pseudo R-squared: 0.133     \n",
      "Dependent Variable: TARGET_5Yrs      AIC:              1554.1302 \n",
      "Date:               2023-10-05 09:24 BIC:              1621.6286 \n",
      "No. Observations:   1329             Log-Likelihood:   -764.07   \n",
      "Df Model:           12               LL-Null:          -881.55   \n",
      "Df Residuals:       1316             LLR p-value:      1.8541e-43\n",
      "Converged:          1.0000           Scale:            1.0000    \n",
      "No. Iterations:     6.0000                                       \n",
      "-----------------------------------------------------------------\n",
      "                 Coef.   Std.Err.    z    P>|z|   [0.025   0.975]\n",
      "-----------------------------------------------------------------\n",
      "GP                0.0351   0.0046  7.6782 0.0000   0.0262  0.0441\n",
      "MIN               0.0390   0.0105  3.7173 0.0002   0.0184  0.0595\n",
      "PTS_MIN           1.6284   1.0628  1.5321 0.1255  -0.4547  3.7114\n",
      "FG_PC            -0.0286   0.0115 -2.4833 0.0130  -0.0512 -0.0060\n",
      "THREEP_Made_MIN  -7.2527   4.9739 -1.4582 0.1448 -17.0014  2.4959\n",
      "THREEP_PC         0.0030   0.0053  0.5548 0.5790  -0.0075  0.0134\n",
      "FTM_MIN           7.2153   3.0523  2.3639 0.0181   1.2329 13.1977\n",
      "FT_PC            -0.0233   0.0058 -4.0426 0.0001  -0.0346 -0.0120\n",
      "REB_MIN           1.4720   1.3781  1.0681 0.2855  -1.2292  4.1731\n",
      "AST_MIN           3.4183   1.8272  1.8708 0.0614  -0.1629  6.9995\n",
      "STL_MIN          -8.8672   4.7809 -1.8547 0.0636 -18.2376  0.5033\n",
      "BLK_MIN           5.7983   4.0478  1.4324 0.1520  -2.1353 13.7318\n",
      "TOV_MIN         -10.3911   3.5844 -2.8989 0.0037 -17.4165 -3.3657\n",
      "=================================================================\n",
      "\n"
     ]
    }
   ],
   "source": [
    "logit_model = sm.Logit(y,X).fit()\n",
    "print(logit_model.summary2())"
   ]
  },
  {
   "cell_type": "markdown",
   "id": "e37d0df6",
   "metadata": {},
   "source": [
    "__Question 10:__ Which performance metrics have a significant influence at a player’s success to last longer than five years in the NBA league at p < 0.05?"
   ]
  },
  {
   "cell_type": "markdown",
   "id": "4c9450d7",
   "metadata": {},
   "source": [
    "__Answer 10:__ Successful performance metrics are: `GP`, `MIN`, `FG_PC`, `FTM_MIN`, `FT_PC`, `TOV_MIN`"
   ]
  },
  {
   "cell_type": "markdown",
   "id": "d5cede97",
   "metadata": {},
   "source": [
    "Before performing another logistic regression model with less variables, it is good to understand the information in the regression summary. In the summary, the coefficient values are values that describe how each predictor influences the outcome of a player lasting longer than five years in the NBA league. For example, the variable games played (`GP`) is significant at p < 0.05. This tells you that for every unit increase in `GP`, the log odds of lasting longer than years (versus lasting less than 5 years) increases by 0.035."
   ]
  },
  {
   "cell_type": "markdown",
   "id": "0353bfd9",
   "metadata": {},
   "source": [
    "Another variable, turnovers per game divided by minutes played (`TOV_MIN`), also significantly contributes in the model at p < 0.05. For every unit increase in the `TOV_MIN`, the log odds of a player lasting longer than five years in the NBA league *decreases* with 10.391 (it has a negative coefficient). Thus, numeric increases in some performance metrics positively influence the odds of lasting longer than 5 years in the NBA. For other performance metrics, increases in numeric values negatively influence the chance of lasting longer than five years in the NBA league."
   ]
  },
  {
   "cell_type": "markdown",
   "id": "cc09e0f4",
   "metadata": {},
   "source": [
    "__Question 11:__ Which significant predictor variables, at p < 0.05, show the largest positive and negative influence on a player staying in the NBA for more than five years? Which predictors variables do not have a significant influence at p < 0.05 and could thus be taken out of the model? Are any of the findings counterintuitive?"
   ]
  },
  {
   "cell_type": "markdown",
   "id": "9c0b38c2",
   "metadata": {},
   "source": [
    "__Answer 11:__ The largest positive influence on success is `FTM_MIN`, while the largest negative influence is `TOV_MIN`. `PTS_MIN`, `THREEP_Made_MIN`, `THREEP_PC`, `REB_MIN`, `AST_MIN`, `STL_MIN` and `BLK_MIN` have no influence. It is somewhat counterintuitive that `FG_PC` and `FT_PC` have a negative influence on a player's chances to last longer than 5 years in the NBA, and one would perhaps expect that steals and threepointers would have a bigger influence."
   ]
  },
  {
   "cell_type": "markdown",
   "id": "6058d1c5",
   "metadata": {},
   "source": [
    "__Exercise 12:__ Execute another logistic regression with only the performance metrics that were significant at p < 0.05 in the previous regression."
   ]
  },
  {
   "cell_type": "code",
   "execution_count": 35,
   "id": "9fff4044",
   "metadata": {},
   "outputs": [
    {
     "name": "stdout",
     "output_type": "stream",
     "text": [
      "Optimization terminated successfully.\n",
      "         Current function value: 0.579383\n",
      "         Iterations 6\n",
      "                         Results: Logit\n",
      "=================================================================\n",
      "Model:              Logit            Pseudo R-squared: 0.127     \n",
      "Dependent Variable: TARGET_5Yrs      AIC:              1552.0011 \n",
      "Date:               2023-10-05 09:24 BIC:              1583.1542 \n",
      "No. Observations:   1329             Log-Likelihood:   -770.00   \n",
      "Df Model:           5                LL-Null:          -881.55   \n",
      "Df Residuals:       1323             LLR p-value:      3.2350e-46\n",
      "Converged:          1.0000           Scale:            1.0000    \n",
      "No. Iterations:     6.0000                                       \n",
      "------------------------------------------------------------------\n",
      "              Coef.   Std.Err.     z     P>|z|    [0.025    0.975]\n",
      "------------------------------------------------------------------\n",
      "GP            0.0360    0.0045   7.9708  0.0000    0.0272   0.0449\n",
      "MIN           0.0413    0.0099   4.1760  0.0000    0.0219   0.0607\n",
      "FG_PC        -0.0121    0.0072  -1.6815  0.0927   -0.0263   0.0020\n",
      "FTM_MIN      10.0444    2.3302   4.3106  0.0000    5.4774  14.6114\n",
      "FT_PC        -0.0275    0.0046  -5.9974  0.0000   -0.0365  -0.0185\n",
      "TOV_MIN      -7.7514    2.6477  -2.9276  0.0034  -12.9408  -2.5621\n",
      "=================================================================\n",
      "\n"
     ]
    }
   ],
   "source": [
    "# First define independent and dependent variables\n",
    "X2 = df4_2[['GP', 'MIN', 'FG_PC','FTM_MIN', 'FT_PC', 'TOV_MIN']]\n",
    "Y2 = df4_2[['TARGET_5Yrs']]\n",
    "\n",
    "# Then run the new regression\n",
    "logit_model2 = sm.Logit(Y2,X2).fit()\n",
    "print(logit_model2.summary2())"
   ]
  },
  {
   "cell_type": "markdown",
   "id": "b1c2fe2f",
   "metadata": {},
   "source": [
    "__Question 12:__ Does this lead to big changes in the coefficients and significance of the remaining performance metrics in comparison with the previous regression? Based on our analysis, how would you describe the profile a player of a player with a good chance of lasting longer than 5 years in the NBA?"
   ]
  },
  {
   "cell_type": "markdown",
   "id": "9ad8b5db",
   "metadata": {},
   "source": [
    "__Answer 12:__ No large differences, except that the influence of FG_PC is no longer significant at p < 0.05.\n",
    "\n",
    "A successful player should play a lot of games and minutes (and for example not be injured). Making more free throws and losing less balls are also influential factors for succes. The negative influence of free throw accuracy is somehwat unexpected."
   ]
  }
 ],
 "metadata": {
  "kernelspec": {
   "display_name": "Python 3 (ipykernel)",
   "language": "python",
   "name": "python3"
  },
  "language_info": {
   "codemirror_mode": {
    "name": "ipython",
    "version": 3
   },
   "file_extension": ".py",
   "mimetype": "text/x-python",
   "name": "python",
   "nbconvert_exporter": "python",
   "pygments_lexer": "ipython3",
   "version": "3.9.12"
  }
 },
 "nbformat": 4,
 "nbformat_minor": 5
}
