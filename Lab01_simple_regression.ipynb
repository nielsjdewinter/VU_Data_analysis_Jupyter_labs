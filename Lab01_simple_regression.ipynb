{
  "cells": [
    {
      "cell_type": "markdown",
      "metadata": {
        "id": "view-in-github",
        "colab_type": "text"
      },
      "source": [
        "<a href=\"https://colab.research.google.com/github/nielsjdewinter/VU_Data_analysis_Jupyter_labs/blob/main/Lab01_simple_regression.ipynb\" target=\"_parent\"><img src=\"https://colab.research.google.com/assets/colab-badge.svg\" alt=\"Open In Colab\"/></a>"
      ]
    },
    {
      "cell_type": "markdown",
      "id": "330446ef",
      "metadata": {
        "id": "330446ef"
      },
      "source": [
        "# Lab 01: Correlation and Regression\n",
        "\n",
        "In this lab assignment, you will experiment with the tools in Python used to test correlation and regression.\n",
        "We will start with simple correlation, linear and non-linear regression and work towards multiple and logistic regression in the following Lab assignment.\n",
        "\n",
        "This notebook format makes it possible to include live code in between the text for this assignment. Note that you can also make the assignment by copying the code from the code blocks (marked by `In []`) into your own Python environment (such as Spyder) and run the code there (shortcut: __CTRL + ENTER__ on Windows/Linux and __CMD + ENTER__ on Mac). Working in this Jupyter notebook probably helps you to keep your code more organized."
      ]
    },
    {
      "cell_type": "markdown",
      "id": "b9e83f94",
      "metadata": {
        "id": "b9e83f94"
      },
      "source": [
        "We start each session of Python (and Jupyter) by importing the *packages* we need. We will also use the command `%matplotlib inline` to make it possible to add plots in between our text output. Finally, when we're working in Google Colab (online), we need the `google.colab` package to upload the datafiles we need for this lab. To load the packages, run the code in the cell below:"
      ]
    },
    {
      "cell_type": "code",
      "execution_count": 2,
      "id": "645b0a6f",
      "metadata": {
        "id": "645b0a6f"
      },
      "outputs": [],
      "source": [
        "%matplotlib inline\n",
        "import pandas as pd # The 'pandas' package helps us to import and manage data\n",
        "import scipy.stats as stats # The 'scipy' package contains statistical formulas we will need\n",
        "import statsmodels.formula.api as smf # The 'statsmodels' package contains the functions needed to do regressions\n",
        "from matplotlib import pyplot as plt # The 'matplotlib' package contains tools needed to plot our data and results\n",
        "from google.colab import files # When working in Google Colab, we need this package to load files"
      ]
    },
    {
      "cell_type": "markdown",
      "id": "e56cb6b8",
      "metadata": {
        "id": "e56cb6b8"
      },
      "source": [
        "Running the code above should not immediately yield a visible result, but it loads the functions you will need later into Python. If done correctly, you should see `In [1]` left of the cell above (`In [*]` means the kernel is still processing your code). Note also that the text behind the `#` sign is not part of the code, but lists comments that show what the code does. This is a very handy way to keep your code organized and make sure you remember later on what your code does!"
      ]
    },
    {
      "cell_type": "markdown",
      "id": "e58ef7c0",
      "metadata": {
        "id": "e58ef7c0"
      },
      "source": [
        "Now we will load the dataset you will need for this exercise using the code below. Note that if you are working offline for this to work, you will need to place the datafile (`Lab01a.csv`) in the same folder as this notebook. If you are working on Google Colabs, you should see an upload menu after running the cell below, where you can upload the data file."
      ]
    },
    {
      "cell_type": "code",
      "execution_count": 3,
      "id": "2b00c298",
      "metadata": {
        "id": "2b00c298",
        "outputId": "144c8ef4-e28c-4724-ec02-5246948155c2",
        "colab": {
          "base_uri": "https://localhost:8080/",
          "height": 73
        }
      },
      "outputs": [
        {
          "output_type": "display_data",
          "data": {
            "text/plain": [
              "<IPython.core.display.HTML object>"
            ],
            "text/html": [
              "\n",
              "     <input type=\"file\" id=\"files-91cb5ff0-528d-4854-b244-d13474ef7754\" name=\"files[]\" multiple disabled\n",
              "        style=\"border:none\" />\n",
              "     <output id=\"result-91cb5ff0-528d-4854-b244-d13474ef7754\">\n",
              "      Upload widget is only available when the cell has been executed in the\n",
              "      current browser session. Please rerun this cell to enable.\n",
              "      </output>\n",
              "      <script>// Copyright 2017 Google LLC\n",
              "//\n",
              "// Licensed under the Apache License, Version 2.0 (the \"License\");\n",
              "// you may not use this file except in compliance with the License.\n",
              "// You may obtain a copy of the License at\n",
              "//\n",
              "//      http://www.apache.org/licenses/LICENSE-2.0\n",
              "//\n",
              "// Unless required by applicable law or agreed to in writing, software\n",
              "// distributed under the License is distributed on an \"AS IS\" BASIS,\n",
              "// WITHOUT WARRANTIES OR CONDITIONS OF ANY KIND, either express or implied.\n",
              "// See the License for the specific language governing permissions and\n",
              "// limitations under the License.\n",
              "\n",
              "/**\n",
              " * @fileoverview Helpers for google.colab Python module.\n",
              " */\n",
              "(function(scope) {\n",
              "function span(text, styleAttributes = {}) {\n",
              "  const element = document.createElement('span');\n",
              "  element.textContent = text;\n",
              "  for (const key of Object.keys(styleAttributes)) {\n",
              "    element.style[key] = styleAttributes[key];\n",
              "  }\n",
              "  return element;\n",
              "}\n",
              "\n",
              "// Max number of bytes which will be uploaded at a time.\n",
              "const MAX_PAYLOAD_SIZE = 100 * 1024;\n",
              "\n",
              "function _uploadFiles(inputId, outputId) {\n",
              "  const steps = uploadFilesStep(inputId, outputId);\n",
              "  const outputElement = document.getElementById(outputId);\n",
              "  // Cache steps on the outputElement to make it available for the next call\n",
              "  // to uploadFilesContinue from Python.\n",
              "  outputElement.steps = steps;\n",
              "\n",
              "  return _uploadFilesContinue(outputId);\n",
              "}\n",
              "\n",
              "// This is roughly an async generator (not supported in the browser yet),\n",
              "// where there are multiple asynchronous steps and the Python side is going\n",
              "// to poll for completion of each step.\n",
              "// This uses a Promise to block the python side on completion of each step,\n",
              "// then passes the result of the previous step as the input to the next step.\n",
              "function _uploadFilesContinue(outputId) {\n",
              "  const outputElement = document.getElementById(outputId);\n",
              "  const steps = outputElement.steps;\n",
              "\n",
              "  const next = steps.next(outputElement.lastPromiseValue);\n",
              "  return Promise.resolve(next.value.promise).then((value) => {\n",
              "    // Cache the last promise value to make it available to the next\n",
              "    // step of the generator.\n",
              "    outputElement.lastPromiseValue = value;\n",
              "    return next.value.response;\n",
              "  });\n",
              "}\n",
              "\n",
              "/**\n",
              " * Generator function which is called between each async step of the upload\n",
              " * process.\n",
              " * @param {string} inputId Element ID of the input file picker element.\n",
              " * @param {string} outputId Element ID of the output display.\n",
              " * @return {!Iterable<!Object>} Iterable of next steps.\n",
              " */\n",
              "function* uploadFilesStep(inputId, outputId) {\n",
              "  const inputElement = document.getElementById(inputId);\n",
              "  inputElement.disabled = false;\n",
              "\n",
              "  const outputElement = document.getElementById(outputId);\n",
              "  outputElement.innerHTML = '';\n",
              "\n",
              "  const pickedPromise = new Promise((resolve) => {\n",
              "    inputElement.addEventListener('change', (e) => {\n",
              "      resolve(e.target.files);\n",
              "    });\n",
              "  });\n",
              "\n",
              "  const cancel = document.createElement('button');\n",
              "  inputElement.parentElement.appendChild(cancel);\n",
              "  cancel.textContent = 'Cancel upload';\n",
              "  const cancelPromise = new Promise((resolve) => {\n",
              "    cancel.onclick = () => {\n",
              "      resolve(null);\n",
              "    };\n",
              "  });\n",
              "\n",
              "  // Wait for the user to pick the files.\n",
              "  const files = yield {\n",
              "    promise: Promise.race([pickedPromise, cancelPromise]),\n",
              "    response: {\n",
              "      action: 'starting',\n",
              "    }\n",
              "  };\n",
              "\n",
              "  cancel.remove();\n",
              "\n",
              "  // Disable the input element since further picks are not allowed.\n",
              "  inputElement.disabled = true;\n",
              "\n",
              "  if (!files) {\n",
              "    return {\n",
              "      response: {\n",
              "        action: 'complete',\n",
              "      }\n",
              "    };\n",
              "  }\n",
              "\n",
              "  for (const file of files) {\n",
              "    const li = document.createElement('li');\n",
              "    li.append(span(file.name, {fontWeight: 'bold'}));\n",
              "    li.append(span(\n",
              "        `(${file.type || 'n/a'}) - ${file.size} bytes, ` +\n",
              "        `last modified: ${\n",
              "            file.lastModifiedDate ? file.lastModifiedDate.toLocaleDateString() :\n",
              "                                    'n/a'} - `));\n",
              "    const percent = span('0% done');\n",
              "    li.appendChild(percent);\n",
              "\n",
              "    outputElement.appendChild(li);\n",
              "\n",
              "    const fileDataPromise = new Promise((resolve) => {\n",
              "      const reader = new FileReader();\n",
              "      reader.onload = (e) => {\n",
              "        resolve(e.target.result);\n",
              "      };\n",
              "      reader.readAsArrayBuffer(file);\n",
              "    });\n",
              "    // Wait for the data to be ready.\n",
              "    let fileData = yield {\n",
              "      promise: fileDataPromise,\n",
              "      response: {\n",
              "        action: 'continue',\n",
              "      }\n",
              "    };\n",
              "\n",
              "    // Use a chunked sending to avoid message size limits. See b/62115660.\n",
              "    let position = 0;\n",
              "    do {\n",
              "      const length = Math.min(fileData.byteLength - position, MAX_PAYLOAD_SIZE);\n",
              "      const chunk = new Uint8Array(fileData, position, length);\n",
              "      position += length;\n",
              "\n",
              "      const base64 = btoa(String.fromCharCode.apply(null, chunk));\n",
              "      yield {\n",
              "        response: {\n",
              "          action: 'append',\n",
              "          file: file.name,\n",
              "          data: base64,\n",
              "        },\n",
              "      };\n",
              "\n",
              "      let percentDone = fileData.byteLength === 0 ?\n",
              "          100 :\n",
              "          Math.round((position / fileData.byteLength) * 100);\n",
              "      percent.textContent = `${percentDone}% done`;\n",
              "\n",
              "    } while (position < fileData.byteLength);\n",
              "  }\n",
              "\n",
              "  // All done.\n",
              "  yield {\n",
              "    response: {\n",
              "      action: 'complete',\n",
              "    }\n",
              "  };\n",
              "}\n",
              "\n",
              "scope.google = scope.google || {};\n",
              "scope.google.colab = scope.google.colab || {};\n",
              "scope.google.colab._files = {\n",
              "  _uploadFiles,\n",
              "  _uploadFilesContinue,\n",
              "};\n",
              "})(self);\n",
              "</script> "
            ]
          },
          "metadata": {}
        },
        {
          "output_type": "stream",
          "name": "stdout",
          "text": [
            "Saving Lab01a.csv to Lab01a (1).csv\n"
          ]
        }
      ],
      "source": [
        "uploaded = files.upload()\n",
        "df = pd.read_csv('Lab01a.csv') # Load the data for this assignment into Python and in the Jupyter environment."
      ]
    },
    {
      "cell_type": "markdown",
      "id": "7003a23a",
      "metadata": {
        "id": "7003a23a"
      },
      "source": [
        "If you run the code of this notebook in your own Python environment, you first need to specify the working directory and then load the data using a slightly different command. The statement `'<Direction to folder containing dataset>'` should be replaced with the directory of the folder on your PC, e.g.: `C:/MyName/Documents/Statistics_and_Data_Analysis/Lab01/`.\n",
        "\n",
        "WARNING: The code below does not need to be run if you are working in Jupyter."
      ]
    },
    {
      "cell_type": "code",
      "execution_count": null,
      "id": "34a78605",
      "metadata": {
        "id": "34a78605"
      },
      "outputs": [],
      "source": [
        "# WARNING: The code below does not need to be run if you are working in Jupyter.\n",
        "wdir = '<Direction to folder containing dataset>' # Set your working directory to the folder which contains the data\n",
        "df = pd.read_csv(wdir + 'Lab01a.csv') # Load the data for this assignment from your own instance of Python."
      ]
    },
    {
      "cell_type": "markdown",
      "id": "529a1285",
      "metadata": {
        "id": "529a1285"
      },
      "source": [
        "Now let's visualize our dataset by showing the first couple of rows:"
      ]
    },
    {
      "cell_type": "code",
      "execution_count": 4,
      "id": "001cf514",
      "metadata": {
        "id": "001cf514",
        "colab": {
          "base_uri": "https://localhost:8080/",
          "height": 206
        },
        "outputId": "10f2a9ee-4373-4b62-f5b9-848d4d8dbc60"
      },
      "outputs": [
        {
          "output_type": "execute_result",
          "data": {
            "text/plain": [
              "         Date  Month_since_january_1979  Temperature_anomaly    pCO2\n",
              "0  15/01/1979                       0.0                 0.08  336.56\n",
              "1  15/02/1979                       1.0                -0.10  337.29\n",
              "2  15/03/1979                       2.0                 0.19  337.88\n",
              "3  15/04/1979                       3.0                 0.15  338.32\n",
              "4  15/05/1979                       4.0                 0.03  338.26"
            ],
            "text/html": [
              "\n",
              "  <div id=\"df-906804ee-e655-4f51-ae6f-dd9411bc18a6\">\n",
              "    <div class=\"colab-df-container\">\n",
              "      <div>\n",
              "<style scoped>\n",
              "    .dataframe tbody tr th:only-of-type {\n",
              "        vertical-align: middle;\n",
              "    }\n",
              "\n",
              "    .dataframe tbody tr th {\n",
              "        vertical-align: top;\n",
              "    }\n",
              "\n",
              "    .dataframe thead th {\n",
              "        text-align: right;\n",
              "    }\n",
              "</style>\n",
              "<table border=\"1\" class=\"dataframe\">\n",
              "  <thead>\n",
              "    <tr style=\"text-align: right;\">\n",
              "      <th></th>\n",
              "      <th>Date</th>\n",
              "      <th>Month_since_january_1979</th>\n",
              "      <th>Temperature_anomaly</th>\n",
              "      <th>pCO2</th>\n",
              "    </tr>\n",
              "  </thead>\n",
              "  <tbody>\n",
              "    <tr>\n",
              "      <th>0</th>\n",
              "      <td>15/01/1979</td>\n",
              "      <td>0.0</td>\n",
              "      <td>0.08</td>\n",
              "      <td>336.56</td>\n",
              "    </tr>\n",
              "    <tr>\n",
              "      <th>1</th>\n",
              "      <td>15/02/1979</td>\n",
              "      <td>1.0</td>\n",
              "      <td>-0.10</td>\n",
              "      <td>337.29</td>\n",
              "    </tr>\n",
              "    <tr>\n",
              "      <th>2</th>\n",
              "      <td>15/03/1979</td>\n",
              "      <td>2.0</td>\n",
              "      <td>0.19</td>\n",
              "      <td>337.88</td>\n",
              "    </tr>\n",
              "    <tr>\n",
              "      <th>3</th>\n",
              "      <td>15/04/1979</td>\n",
              "      <td>3.0</td>\n",
              "      <td>0.15</td>\n",
              "      <td>338.32</td>\n",
              "    </tr>\n",
              "    <tr>\n",
              "      <th>4</th>\n",
              "      <td>15/05/1979</td>\n",
              "      <td>4.0</td>\n",
              "      <td>0.03</td>\n",
              "      <td>338.26</td>\n",
              "    </tr>\n",
              "  </tbody>\n",
              "</table>\n",
              "</div>\n",
              "      <button class=\"colab-df-convert\" onclick=\"convertToInteractive('df-906804ee-e655-4f51-ae6f-dd9411bc18a6')\"\n",
              "              title=\"Convert this dataframe to an interactive table.\"\n",
              "              style=\"display:none;\">\n",
              "        \n",
              "  <svg xmlns=\"http://www.w3.org/2000/svg\" height=\"24px\"viewBox=\"0 0 24 24\"\n",
              "       width=\"24px\">\n",
              "    <path d=\"M0 0h24v24H0V0z\" fill=\"none\"/>\n",
              "    <path d=\"M18.56 5.44l.94 2.06.94-2.06 2.06-.94-2.06-.94-.94-2.06-.94 2.06-2.06.94zm-11 1L8.5 8.5l.94-2.06 2.06-.94-2.06-.94L8.5 2.5l-.94 2.06-2.06.94zm10 10l.94 2.06.94-2.06 2.06-.94-2.06-.94-.94-2.06-.94 2.06-2.06.94z\"/><path d=\"M17.41 7.96l-1.37-1.37c-.4-.4-.92-.59-1.43-.59-.52 0-1.04.2-1.43.59L10.3 9.45l-7.72 7.72c-.78.78-.78 2.05 0 2.83L4 21.41c.39.39.9.59 1.41.59.51 0 1.02-.2 1.41-.59l7.78-7.78 2.81-2.81c.8-.78.8-2.07 0-2.86zM5.41 20L4 18.59l7.72-7.72 1.47 1.35L5.41 20z\"/>\n",
              "  </svg>\n",
              "      </button>\n",
              "      \n",
              "  <style>\n",
              "    .colab-df-container {\n",
              "      display:flex;\n",
              "      flex-wrap:wrap;\n",
              "      gap: 12px;\n",
              "    }\n",
              "\n",
              "    .colab-df-convert {\n",
              "      background-color: #E8F0FE;\n",
              "      border: none;\n",
              "      border-radius: 50%;\n",
              "      cursor: pointer;\n",
              "      display: none;\n",
              "      fill: #1967D2;\n",
              "      height: 32px;\n",
              "      padding: 0 0 0 0;\n",
              "      width: 32px;\n",
              "    }\n",
              "\n",
              "    .colab-df-convert:hover {\n",
              "      background-color: #E2EBFA;\n",
              "      box-shadow: 0px 1px 2px rgba(60, 64, 67, 0.3), 0px 1px 3px 1px rgba(60, 64, 67, 0.15);\n",
              "      fill: #174EA6;\n",
              "    }\n",
              "\n",
              "    [theme=dark] .colab-df-convert {\n",
              "      background-color: #3B4455;\n",
              "      fill: #D2E3FC;\n",
              "    }\n",
              "\n",
              "    [theme=dark] .colab-df-convert:hover {\n",
              "      background-color: #434B5C;\n",
              "      box-shadow: 0px 1px 3px 1px rgba(0, 0, 0, 0.15);\n",
              "      filter: drop-shadow(0px 1px 2px rgba(0, 0, 0, 0.3));\n",
              "      fill: #FFFFFF;\n",
              "    }\n",
              "  </style>\n",
              "\n",
              "      <script>\n",
              "        const buttonEl =\n",
              "          document.querySelector('#df-906804ee-e655-4f51-ae6f-dd9411bc18a6 button.colab-df-convert');\n",
              "        buttonEl.style.display =\n",
              "          google.colab.kernel.accessAllowed ? 'block' : 'none';\n",
              "\n",
              "        async function convertToInteractive(key) {\n",
              "          const element = document.querySelector('#df-906804ee-e655-4f51-ae6f-dd9411bc18a6');\n",
              "          const dataTable =\n",
              "            await google.colab.kernel.invokeFunction('convertToInteractive',\n",
              "                                                     [key], {});\n",
              "          if (!dataTable) return;\n",
              "\n",
              "          const docLinkHtml = 'Like what you see? Visit the ' +\n",
              "            '<a target=\"_blank\" href=https://colab.research.google.com/notebooks/data_table.ipynb>data table notebook</a>'\n",
              "            + ' to learn more about interactive tables.';\n",
              "          element.innerHTML = '';\n",
              "          dataTable['output_type'] = 'display_data';\n",
              "          await google.colab.output.renderOutput(dataTable, element);\n",
              "          const docLink = document.createElement('div');\n",
              "          docLink.innerHTML = docLinkHtml;\n",
              "          element.appendChild(docLink);\n",
              "        }\n",
              "      </script>\n",
              "    </div>\n",
              "  </div>\n",
              "  "
            ]
          },
          "metadata": {},
          "execution_count": 4
        }
      ],
      "source": [
        "df.head()"
      ]
    },
    {
      "cell_type": "markdown",
      "id": "df8be7f6",
      "metadata": {
        "id": "df8be7f6"
      },
      "source": [
        "The dataset you are looking at contains information about the worldwide monthly temperature anomaly (in degrees C) of the period 1979-2022 relative to the mean global temperature during the period 1951-1980 (`Temperature_anomaly` column). It also lists the concentration of CO2 in the atmosphere measured monthly during this period (in parts per million by volume, or ppmV; `pCO2` column). The first column in your dataset (`Date`) lists the date in dd/mm/yyyy format and the second column numbers the months for easy plotting.\n",
        "\n",
        "This dataset is obtained from the website [__Our World in Data__](https://ourworldindata.org/), which is an excellent source of up-to-date information about climate, food, economic development, biodiversity and other pressing societal issues."
      ]
    },
    {
      "cell_type": "markdown",
      "id": "ef846e04",
      "metadata": {
        "id": "ef846e04"
      },
      "source": [
        "__Question 1:__ Now that you have seen this dataset, can you think of a few questions we could solve by applying correlation and/or regression analyses on this data?"
      ]
    },
    {
      "cell_type": "markdown",
      "id": "57677b08",
      "metadata": {
        "id": "57677b08"
      },
      "source": [
        "__Answer 1:__ <*Enter your asnwer here*>"
      ]
    },
    {
      "cell_type": "markdown",
      "source": [
        "You can enter your answer in the text box behind \"__Answer 1:__\". Try it!"
      ],
      "metadata": {
        "id": "hCSy5Np712cI"
      },
      "id": "hCSy5Np712cI"
    },
    {
      "cell_type": "markdown",
      "id": "425ff428",
      "metadata": {
        "id": "425ff428"
      },
      "source": [
        "## Part 1: Correlation\n",
        "\n",
        "For starters, we might be interested in the correlation between atmospheric CO2 concentrations and global temperature.\n",
        "\n",
        "__Question 2:__ Which metric can help us to determine whether there is a correlation between these two variables?"
      ]
    },
    {
      "cell_type": "markdown",
      "id": "7422b7c0",
      "metadata": {
        "id": "7422b7c0"
      },
      "source": [
        "__Answer 2:__"
      ]
    },
    {
      "cell_type": "markdown",
      "id": "16ad027a",
      "metadata": {
        "id": "16ad027a"
      },
      "source": [
        "Let's try to calculate the Pearson's correlation coefficient between `pCO2` and the `Temperature_anomaly`. We can do thiss with the function `.corr` applied on the two columns in the dataset `df` as follows:"
      ]
    },
    {
      "cell_type": "code",
      "execution_count": 5,
      "id": "2744df99",
      "metadata": {
        "id": "2744df99",
        "colab": {
          "base_uri": "https://localhost:8080/"
        },
        "outputId": "8411e192-5a0d-44ea-c60c-4939eebb44b8"
      },
      "outputs": [
        {
          "output_type": "execute_result",
          "data": {
            "text/plain": [
              "0.8668794368709293"
            ]
          },
          "metadata": {},
          "execution_count": 5
        }
      ],
      "source": [
        "# Calculate Pearson's correlation between pCO2 and temperature anomaly\n",
        "df['pCO2'].corr(df['Temperature_anomaly'], method = 'pearson')"
      ]
    },
    {
      "cell_type": "markdown",
      "id": "c96578ac",
      "metadata": {
        "id": "c96578ac"
      },
      "source": [
        "__Question 3:__ What do you think of this result? Is there a positive or a negative correlation between these two variables? Do you think the correlation is strong?"
      ]
    },
    {
      "cell_type": "markdown",
      "id": "d4ff9d13",
      "metadata": {
        "id": "d4ff9d13"
      },
      "source": [
        "__Answer 3:__"
      ]
    },
    {
      "cell_type": "markdown",
      "id": "f8481633",
      "metadata": {
        "id": "f8481633"
      },
      "source": [
        "Have a good look at the code cell above which you used to calculate the Pearson's correlation coefficient to make sure you understand how it works and what it does. You will be calculating more correlation coefficients in this and later assignments!\n",
        "\n",
        "Ïf you are not sure what is going on here, it can be helpful to look at the documentation for the function (`corr` in the pandas, or `pd` package). You can do that by using the `help()` function:"
      ]
    },
    {
      "cell_type": "code",
      "execution_count": 6,
      "id": "8740f26f",
      "metadata": {
        "id": "8740f26f",
        "colab": {
          "base_uri": "https://localhost:8080/"
        },
        "outputId": "74b30a35-ab0f-4c18-fae0-fc12725f54ee"
      },
      "outputs": [
        {
          "output_type": "stream",
          "name": "stdout",
          "text": [
            "Help on function corr in module pandas.core.frame:\n",
            "\n",
            "corr(self, method: 'str | Callable[[np.ndarray, np.ndarray], float]' = 'pearson', min_periods: 'int' = 1) -> 'DataFrame'\n",
            "    Compute pairwise correlation of columns, excluding NA/null values.\n",
            "    \n",
            "    Parameters\n",
            "    ----------\n",
            "    method : {'pearson', 'kendall', 'spearman'} or callable\n",
            "        Method of correlation:\n",
            "    \n",
            "        * pearson : standard correlation coefficient\n",
            "        * kendall : Kendall Tau correlation coefficient\n",
            "        * spearman : Spearman rank correlation\n",
            "        * callable: callable with input two 1d ndarrays\n",
            "            and returning a float. Note that the returned matrix from corr\n",
            "            will have 1 along the diagonals and will be symmetric\n",
            "            regardless of the callable's behavior.\n",
            "    min_periods : int, optional\n",
            "        Minimum number of observations required per pair of columns\n",
            "        to have a valid result. Currently only available for Pearson\n",
            "        and Spearman correlation.\n",
            "    \n",
            "    Returns\n",
            "    -------\n",
            "    DataFrame\n",
            "        Correlation matrix.\n",
            "    \n",
            "    See Also\n",
            "    --------\n",
            "    DataFrame.corrwith : Compute pairwise correlation with another\n",
            "        DataFrame or Series.\n",
            "    Series.corr : Compute the correlation between two Series.\n",
            "    \n",
            "    Examples\n",
            "    --------\n",
            "    >>> def histogram_intersection(a, b):\n",
            "    ...     v = np.minimum(a, b).sum().round(decimals=1)\n",
            "    ...     return v\n",
            "    >>> df = pd.DataFrame([(.2, .3), (.0, .6), (.6, .0), (.2, .1)],\n",
            "    ...                   columns=['dogs', 'cats'])\n",
            "    >>> df.corr(method=histogram_intersection)\n",
            "          dogs  cats\n",
            "    dogs   1.0   0.3\n",
            "    cats   0.3   1.0\n",
            "\n"
          ]
        }
      ],
      "source": [
        "# Print the help page for the \"corr\"-function in the pandas library (\"pd\")\n",
        "help(pd.DataFrame.corr)"
      ]
    },
    {
      "cell_type": "markdown",
      "id": "30f85e4c",
      "metadata": {
        "id": "30f85e4c"
      },
      "source": [
        "That's a lot of information, and much of it may be hard to understand at this stage. Don't panic, the most important thing is that you know how to use this function and how to interpret the output.\n",
        "\n",
        "__Exercise 1:__ To test yourself, you can apply the same function as above to see if there are positive or negative trends in `pCO2` and `Temperature_anomaly` with time in our dataset. In other words: You can test whether there are correlations between the `Month_since_January_1979` variable and either the `pCO2` and `Temperature_anomaly` variables in the dataset. Use the code cell below to do so and answer __Question 3__ for the results of these two correlations as well."
      ]
    },
    {
      "cell_type": "code",
      "execution_count": null,
      "id": "becd536c",
      "metadata": {
        "id": "becd536c"
      },
      "outputs": [],
      "source": [
        "# Calculate Pearson's correlation between date (in months) and temperature anomaly\n",
        "\n",
        "\n",
        "# Calculate Pearson's correlation between date (in months) and pCO2\n",
        "\n"
      ]
    },
    {
      "cell_type": "markdown",
      "id": "78fcb252",
      "metadata": {
        "id": "78fcb252"
      },
      "source": [
        "__Answer 3 (for the new correlations):__"
      ]
    },
    {
      "cell_type": "markdown",
      "id": "0aac460e",
      "metadata": {
        "id": "0aac460e"
      },
      "source": [
        "__Bonus exercise:__ If you payed close attention to the `help()` output for the `corr` function, you might have spotted that there are multiple ways (`methods`) to calculate correlation between variables. If you are curious, you can try out some of the other correlation methods, such as `kendall` and `spearman` on the pairs of variables in our dataset using the empty code cell below. Is the result very different? What does this tell you about the correlation we found?"
      ]
    },
    {
      "cell_type": "code",
      "execution_count": null,
      "id": "3bc4ae4e",
      "metadata": {
        "id": "3bc4ae4e"
      },
      "outputs": [],
      "source": [
        "# Bonus exercise: Try calculating correlation coefficients between variables in df using other methods\n",
        "\n"
      ]
    },
    {
      "cell_type": "markdown",
      "id": "ec487388",
      "metadata": {
        "id": "ec487388"
      },
      "source": [
        "## Part 2: Simple linear regression\n",
        "\n",
        "Now that we have discovered some correlations in our dataset, it is time to properly explore our dataset to verify if our correlations are not messed up by *outliers* or if the *form* of the relationship between our variables is not misleading us. We can do this by creating *scatter plots* of our data.\n",
        "\n",
        "An example of a scatter plot showing the relationship between the temperature anomaly and time (in months) is produced by the code below. You can run it using the familiar shortcut (__CTRL + ENTER__ on Windows/Linux and __CMD + ENTER__ on Mac):"
      ]
    },
    {
      "cell_type": "code",
      "execution_count": 7,
      "id": "77d6747b",
      "metadata": {
        "id": "77d6747b",
        "colab": {
          "base_uri": "https://localhost:8080/",
          "height": 296
        },
        "outputId": "ad7223a7-44aa-4ca5-87f8-075a68f73bef"
      },
      "outputs": [
        {
          "output_type": "execute_result",
          "data": {
            "text/plain": [
              "Text(0, 0.5, 'Temperature anomaly (in degrees C)')"
            ]
          },
          "metadata": {},
          "execution_count": 7
        },
        {
          "output_type": "display_data",
          "data": {
            "text/plain": [
              "<Figure size 432x288 with 1 Axes>"
            ],
            "image/png": "[encoded data removed]"
          },
          "metadata": {
            "needs_background": "light"
          }
        }
      ],
      "source": [
        "# Plot temperature anomaly against time\n",
        "plt.scatter(df.Month_since_january_1979, df.Temperature_anomaly, color = 'red', marker = '+')\n",
        "plt.xlabel('# months since January 1979')\n",
        "plt.ylabel('Temperature anomaly (in degrees C)')"
      ]
    },
    {
      "cell_type": "markdown",
      "id": "580afc1e",
      "metadata": {
        "id": "580afc1e"
      },
      "source": [
        "Carefully read the code in the cell above and verify that you understand what it does. You will do much more plotting like this in future assignments!\n",
        "\n",
        "Remember, if you are confused about a function (such as `plt.scatter`), you can use the `help()` function to look up its documentation and find out what it does:"
      ]
    },
    {
      "cell_type": "code",
      "execution_count": 8,
      "id": "859e6c38",
      "metadata": {
        "id": "859e6c38",
        "colab": {
          "base_uri": "https://localhost:8080/"
        },
        "outputId": "8162979b-35e6-4c7b-f7ff-15905d9b01ee"
      },
      "outputs": [
        {
          "output_type": "stream",
          "name": "stdout",
          "text": [
            "Help on function scatter in module matplotlib.pyplot:\n",
            "\n",
            "scatter(x, y, s=None, c=None, marker=None, cmap=None, norm=None, vmin=None, vmax=None, alpha=None, linewidths=None, verts=<deprecated parameter>, edgecolors=None, *, plotnonfinite=False, data=None, **kwargs)\n",
            "    A scatter plot of *y* vs. *x* with varying marker size and/or color.\n",
            "    \n",
            "    Parameters\n",
            "    ----------\n",
            "    x, y : scalar or array-like, shape (n, )\n",
            "        The data positions.\n",
            "    \n",
            "    s : scalar or array-like, shape (n, ), optional\n",
            "        The marker size in points**2.\n",
            "        Default is ``rcParams['lines.markersize'] ** 2``.\n",
            "    \n",
            "    c : array-like or list of colors or color, optional\n",
            "        The marker colors. Possible values:\n",
            "    \n",
            "        - A scalar or sequence of n numbers to be mapped to colors using\n",
            "          *cmap* and *norm*.\n",
            "        - A 2-D array in which the rows are RGB or RGBA.\n",
            "        - A sequence of colors of length n.\n",
            "        - A single color format string.\n",
            "    \n",
            "        Note that *c* should not be a single numeric RGB or RGBA sequence\n",
            "        because that is indistinguishable from an array of values to be\n",
            "        colormapped. If you want to specify the same RGB or RGBA value for\n",
            "        all points, use a 2-D array with a single row.  Otherwise, value-\n",
            "        matching will have precedence in case of a size matching with *x*\n",
            "        and *y*.\n",
            "    \n",
            "        If you wish to specify a single color for all points\n",
            "        prefer the *color* keyword argument.\n",
            "    \n",
            "        Defaults to `None`. In that case the marker color is determined\n",
            "        by the value of *color*, *facecolor* or *facecolors*. In case\n",
            "        those are not specified or `None`, the marker color is determined\n",
            "        by the next color of the ``Axes``' current \"shape and fill\" color\n",
            "        cycle. This cycle defaults to :rc:`axes.prop_cycle`.\n",
            "    \n",
            "    marker : `~matplotlib.markers.MarkerStyle`, optional\n",
            "        The marker style. *marker* can be either an instance of the class\n",
            "        or the text shorthand for a particular marker.\n",
            "        Defaults to ``None``, in which case it takes the value of\n",
            "        :rc:`scatter.marker` = 'o'.\n",
            "        See `~matplotlib.markers` for more information about marker styles.\n",
            "    \n",
            "    cmap : `~matplotlib.colors.Colormap`, optional, default: None\n",
            "        A `.Colormap` instance or registered colormap name. *cmap* is only\n",
            "        used if *c* is an array of floats. If ``None``, defaults to rc\n",
            "        ``image.cmap``.\n",
            "    \n",
            "    norm : `~matplotlib.colors.Normalize`, optional, default: None\n",
            "        A `.Normalize` instance is used to scale luminance data to 0, 1.\n",
            "        *norm* is only used if *c* is an array of floats. If *None*, use\n",
            "        the default `.colors.Normalize`.\n",
            "    \n",
            "    vmin, vmax : scalar, optional, default: None\n",
            "        *vmin* and *vmax* are used in conjunction with *norm* to normalize\n",
            "        luminance data. If None, the respective min and max of the color\n",
            "        array is used. *vmin* and *vmax* are ignored if you pass a *norm*\n",
            "        instance.\n",
            "    \n",
            "    alpha : scalar, optional, default: None\n",
            "        The alpha blending value, between 0 (transparent) and 1 (opaque).\n",
            "    \n",
            "    linewidths : scalar or array-like, optional, default: None\n",
            "        The linewidth of the marker edges. Note: The default *edgecolors*\n",
            "        is 'face'. You may want to change this as well.\n",
            "        If *None*, defaults to :rc:`lines.linewidth`.\n",
            "    \n",
            "    edgecolors : {'face', 'none', *None*} or color or sequence of color, optional.\n",
            "        The edge color of the marker. Possible values:\n",
            "    \n",
            "        - 'face': The edge color will always be the same as the face color.\n",
            "        - 'none': No patch boundary will be drawn.\n",
            "        - A Matplotlib color or sequence of color.\n",
            "    \n",
            "        Defaults to ``None``, in which case it takes the value of\n",
            "        :rc:`scatter.edgecolors` = 'face'.\n",
            "    \n",
            "        For non-filled markers, the *edgecolors* kwarg is ignored and\n",
            "        forced to 'face' internally.\n",
            "    \n",
            "    plotnonfinite : boolean, optional, default: False\n",
            "        Set to plot points with nonfinite *c*, in conjunction with\n",
            "        `~matplotlib.colors.Colormap.set_bad`.\n",
            "    \n",
            "    Returns\n",
            "    -------\n",
            "    paths : `~matplotlib.collections.PathCollection`\n",
            "    \n",
            "    Other Parameters\n",
            "    ----------------\n",
            "    **kwargs : `~matplotlib.collections.Collection` properties\n",
            "    \n",
            "    See Also\n",
            "    --------\n",
            "    plot : To plot scatter plots when markers are identical in size and\n",
            "        color.\n",
            "    \n",
            "    Notes\n",
            "    -----\n",
            "    * The `.plot` function will be faster for scatterplots where markers\n",
            "      don't vary in size or color.\n",
            "    \n",
            "    * Any or all of *x*, *y*, *s*, and *c* may be masked arrays, in which\n",
            "      case all masks will be combined and only unmasked points will be\n",
            "      plotted.\n",
            "    \n",
            "    * Fundamentally, scatter works with 1-D arrays; *x*, *y*, *s*, and *c*\n",
            "      may be input as N-D arrays, but within scatter they will be\n",
            "      flattened. The exception is *c*, which will be flattened only if its\n",
            "      size matches the size of *x* and *y*.\n",
            "    \n",
            "    .. note::\n",
            "        In addition to the above described arguments, this function can take a\n",
            "        **data** keyword argument. If such a **data** argument is given, the\n",
            "        following arguments are replaced by **data[<arg>]**:\n",
            "    \n",
            "        * All arguments with the following names: 'c', 'color', 'edgecolors', 'facecolor', 'facecolors', 'linewidths', 's', 'x', 'y'.\n",
            "    \n",
            "        Objects passed as **data** must support item access (``data[<arg>]``) and\n",
            "        membership test (``<arg> in data``).\n",
            "\n"
          ]
        }
      ],
      "source": [
        "help(plt.scatter)"
      ]
    },
    {
      "cell_type": "markdown",
      "id": "64af3148",
      "metadata": {
        "id": "64af3148"
      },
      "source": [
        "__Exercise 2:__ To test whether you understand how to plot *scatter plots*, create plots of pCO2 vs time and pCO2 vs Temperature anomany in the two code cells below by modifying the code in the cell above used to plot Temperature anomaly vs time. Differentiate these scatter plots from each other by changing plot aesthetics such as the type of plotting symbol (`marker`), the color of the symbols (`col`) or the shading of the symbol (`alpha`). Use the help statement you ran in the previous code cell to guide your coding."
      ]
    },
    {
      "cell_type": "code",
      "execution_count": null,
      "id": "3c081e01",
      "metadata": {
        "id": "3c081e01"
      },
      "outputs": [],
      "source": [
        "# Plot pCO2 against time\n",
        "\n"
      ]
    },
    {
      "cell_type": "code",
      "execution_count": null,
      "id": "b342a3e7",
      "metadata": {
        "id": "b342a3e7"
      },
      "outputs": [],
      "source": [
        "# Plot pCO2 against Temperature anomaly\n",
        "\n"
      ]
    },
    {
      "cell_type": "markdown",
      "id": "c35f1f43",
      "metadata": {
        "id": "c35f1f43"
      },
      "source": [
        "We will now explore the shape of the relationship between pCO2 and Temperature using our dataset. To do so, we can run a *simple linear regression* using the __ordinary least squares (OLS)__ algorithm we have discussed in the lectures. We will use the built-in function `smf.ols()` from the `statsmodels` package we loaded at the beginning of the assignment to do this:"
      ]
    },
    {
      "cell_type": "code",
      "execution_count": 9,
      "id": "c74bdc01",
      "metadata": {
        "id": "c74bdc01"
      },
      "outputs": [],
      "source": [
        "regression1 = smf.ols(formula = \"df.Temperature_anomaly ~ df.pCO2\", data = df).fit()"
      ]
    },
    {
      "cell_type": "markdown",
      "id": "b5a54d54",
      "metadata": {
        "id": "b5a54d54"
      },
      "source": [
        "Another new function! Make sure you understand what this one does as well. You know by now how to search for its documentation if you feel lost.\n",
        "\n",
        "The object `regression1` contains all the information about our regression model. Let's print the regression coefficients:"
      ]
    },
    {
      "cell_type": "code",
      "execution_count": 10,
      "id": "6b982a65",
      "metadata": {
        "id": "6b982a65",
        "colab": {
          "base_uri": "https://localhost:8080/"
        },
        "outputId": "9d2c8eb7-5499-4c7a-8a40-580c10f25607"
      },
      "outputs": [
        {
          "output_type": "stream",
          "name": "stdout",
          "text": [
            "The regression coefficients are:\n",
            " Intercept   -3.309034\n",
            "df.pCO2      0.010288\n",
            "dtype: float64\n"
          ]
        }
      ],
      "source": [
        "print('The regression coefficients are:\\n', regression1.params)"
      ]
    },
    {
      "cell_type": "markdown",
      "id": "4788d6c7",
      "metadata": {
        "id": "4788d6c7"
      },
      "source": [
        "The `\\n` in the code above is used to create a new line, very handy when printing output!"
      ]
    },
    {
      "cell_type": "markdown",
      "id": "3d665b09",
      "metadata": {
        "id": "3d665b09"
      },
      "source": [
        "__Question 4:__ What is the meaning of the slope and intercept in this context?"
      ]
    },
    {
      "cell_type": "markdown",
      "id": "466f4df1",
      "metadata": {
        "id": "466f4df1"
      },
      "source": [
        "__Answer 4:__"
      ]
    },
    {
      "cell_type": "markdown",
      "id": "c3b491fb",
      "metadata": {
        "id": "c3b491fb"
      },
      "source": [
        "We can now use these coefficients to plot the regression line on top of our data:"
      ]
    },
    {
      "cell_type": "code",
      "execution_count": 11,
      "id": "b8c60a92",
      "metadata": {
        "id": "b8c60a92",
        "colab": {
          "base_uri": "https://localhost:8080/",
          "height": 296
        },
        "outputId": "63aba8ee-f9ba-4b27-e75b-e8b761e33322"
      },
      "outputs": [
        {
          "output_type": "execute_result",
          "data": {
            "text/plain": [
              "[<matplotlib.lines.Line2D at 0x7f887615d460>]"
            ]
          },
          "metadata": {},
          "execution_count": 11
        },
        {
          "output_type": "display_data",
          "data": {
            "text/plain": [
              "<Figure size 432x288 with 1 Axes>"
            ],
            "image/png": "[encoded data removed]"
          },
          "metadata": {
            "needs_background": "light"
          }
        }
      ],
      "source": [
        "# Plot the result of simple linear regression between pCO2 and temperature\n",
        "plt.scatter(df.pCO2, df.Temperature_anomaly, color = 'red', marker = '+')\n",
        "plt.xlabel('Atmospheric pCO2 (ppmV)')\n",
        "plt.ylabel('Temperature anomany (degrees C)')\n",
        "plt.plot(df.pCO2, regression1.params[0] + regression1.params[1] * df.pCO2, color = 'blue')"
      ]
    },
    {
      "cell_type": "markdown",
      "id": "f018ca3c",
      "metadata": {
        "id": "f018ca3c"
      },
      "source": [
        "__Qeustion 5:__ What do you think of this result? Does the regression line capture the relationship between the variables well?"
      ]
    },
    {
      "cell_type": "markdown",
      "id": "0c5265c5",
      "metadata": {
        "id": "0c5265c5"
      },
      "source": [
        "__Answer 5:__"
      ]
    },
    {
      "cell_type": "markdown",
      "id": "57185832",
      "metadata": {
        "id": "57185832"
      },
      "source": [
        "To test our relationship, we can calculate the F-value and p-value of the regression. Python can do this for us with one simple command:"
      ]
    },
    {
      "cell_type": "code",
      "execution_count": 12,
      "id": "a4bbc9e4",
      "metadata": {
        "id": "a4bbc9e4",
        "colab": {
          "base_uri": "https://localhost:8080/"
        },
        "outputId": "088e1185-fc2b-4827-9788-b4fe43447da7"
      },
      "outputs": [
        {
          "output_type": "stream",
          "name": "stdout",
          "text": [
            "                              OLS Regression Results                              \n",
            "==================================================================================\n",
            "Dep. Variable:     df.Temperature_anomaly   R-squared:                       0.751\n",
            "Model:                                OLS   Adj. R-squared:                  0.751\n",
            "Method:                     Least Squares   F-statistic:                     1581.\n",
            "Date:                    Wed, 25 Jan 2023   Prob (F-statistic):          3.10e-160\n",
            "Time:                            16:50:47   Log-Likelihood:                 294.95\n",
            "No. Observations:                     525   AIC:                            -585.9\n",
            "Df Residuals:                         523   BIC:                            -577.4\n",
            "Df Model:                               1                                         \n",
            "Covariance Type:                nonrobust                                         \n",
            "==============================================================================\n",
            "                 coef    std err          t      P>|t|      [0.025      0.975]\n",
            "------------------------------------------------------------------------------\n",
            "Intercept     -3.3090      0.097    -34.272      0.000      -3.499      -3.119\n",
            "df.pCO2        0.0103      0.000     39.768      0.000       0.010       0.011\n",
            "==============================================================================\n",
            "Omnibus:                       17.507   Durbin-Watson:                   0.822\n",
            "Prob(Omnibus):                  0.000   Jarque-Bera (JB):               21.637\n",
            "Skew:                           0.342   Prob(JB):                     2.00e-05\n",
            "Kurtosis:                       3.722   Cond. No.                     5.97e+03\n",
            "==============================================================================\n",
            "\n",
            "Notes:\n",
            "[1] Standard Errors assume that the covariance matrix of the errors is correctly specified.\n",
            "[2] The condition number is large, 5.97e+03. This might indicate that there are\n",
            "strong multicollinearity or other numerical problems.\n"
          ]
        }
      ],
      "source": [
        "print(regression1.summary())"
      ]
    },
    {
      "cell_type": "markdown",
      "id": "c35ce667",
      "metadata": {
        "id": "c35ce667"
      },
      "source": [
        "OK, that's a lot of information... Python just calculated a whole bunch of statistical metrics for this regression. The ones we are interested in are the R<sup>2</sup> value (`R-squared`), the F-value (`F-statistic`) and the p-value (or 'probability': `Prob (F-statistic)`). You can also find the slope and intercept in this overview, as well as statistics on how certain we are about them (see `std err` values)."
      ]
    },
    {
      "cell_type": "markdown",
      "id": "04c18b27",
      "metadata": {
        "id": "04c18b27"
      },
      "source": [
        "__Question 6:__ At a 95% significance level (alpha = 0.05), is this linear relationship statistically significant?"
      ]
    },
    {
      "cell_type": "markdown",
      "id": "2ccf6dd8",
      "metadata": {
        "id": "2ccf6dd8"
      },
      "source": [
        "__Answer 6:__"
      ]
    },
    {
      "cell_type": "markdown",
      "id": "0dbb65c2",
      "metadata": {
        "id": "0dbb65c2"
      },
      "source": [
        "__Question 7:__ How much of the variance in our pCO2 vs Temperature_anomaly dataset is explained by this linear relationship?"
      ]
    },
    {
      "cell_type": "markdown",
      "id": "59a78257",
      "metadata": {
        "id": "59a78257"
      },
      "source": [
        "__Answer 7:__"
      ]
    },
    {
      "cell_type": "markdown",
      "id": "345698e4",
      "metadata": {
        "id": "345698e4"
      },
      "source": [
        "__Question 8:__ Based on our dataset over the period 1979-2022 and our simple linear regression, how much global warming would you expect if pCO2 increases by 100 ppmV? Can you give an uncertainty for this estimate? (Hint: use the standard error, or `std err` on the relevant regression coefficient)"
      ]
    },
    {
      "cell_type": "markdown",
      "id": "1b58c058",
      "metadata": {
        "id": "1b58c058"
      },
      "source": [
        "__Answer 8:__"
      ]
    },
    {
      "cell_type": "markdown",
      "id": "949682b7",
      "metadata": {
        "id": "949682b7"
      },
      "source": [
        "__Question 9:__ The [__Intergovernmental Panel on Climate Change (IPCC)__](https://www.ipcc.ch/report/ar6/wg1/) considers various __Shared Socioeconomic Pathways__ in their projections for future climate. One of the more moderate scenarios (SSP2-4.5) predicts an atmospheric CO2 concentration of about 500 ppmV in the year 2100. Using the relationship you created in this exercise, what would you expect the temperature anomaly (global warming relative to the period 1951-1980) to be by the end of this century? Is this a realistic estimate? Can you see any problems with this way of projecting future climate?"
      ]
    },
    {
      "cell_type": "markdown",
      "id": "00dbe2f0",
      "metadata": {
        "id": "00dbe2f0"
      },
      "source": [
        "__Answer 9:__"
      ]
    },
    {
      "cell_type": "markdown",
      "id": "82baad1a",
      "metadata": {
        "id": "82baad1a"
      },
      "source": [
        "## Part 3: Polynomial regression\n",
        "\n",
        "To more thoroughly explore the trends in greenhouse gas concentrations and temperature on Earth, we will zoom out a bit and look at a dataset that goes further back in time.\n",
        "\n",
        "__Exercise 3:__ Use the code cell below to load this new dataset, which is called `Lab01b.csv`. You can reuse the code you used at the beginning of the assignment to load `Lab01a.csv`.\n",
        "\n",
        "Note that if you are working in Google Colab, you will need to statement `uploaded = files.upload()` again to prompt the upload box. If you are working offline, just make sure the datafile is in your working directory.\n",
        "\n",
        "To prevent confusion between these two datasets, you will need to assign this new dataset a different name from the old one (which was called `df`). We will (rather uncreatively) go with the name `df2` for the remainder of this exercise, but you can give it another name if you like. Just remember that you need to be consistent with your names, otherwise Python will not understand to which object or dataset you are referring to."
      ]
    },
    {
      "cell_type": "code",
      "execution_count": 13,
      "id": "81d2490b",
      "metadata": {
        "id": "81d2490b",
        "colab": {
          "base_uri": "https://localhost:8080/",
          "height": 73
        },
        "outputId": "d8dd82da-fc70-4edd-8703-827b19109fff"
      },
      "outputs": [
        {
          "output_type": "display_data",
          "data": {
            "text/plain": [
              "<IPython.core.display.HTML object>"
            ],
            "text/html": [
              "\n",
              "     <input type=\"file\" id=\"files-375fc8c7-ff80-4ccf-a8d3-cd4cfbb3ff54\" name=\"files[]\" multiple disabled\n",
              "        style=\"border:none\" />\n",
              "     <output id=\"result-375fc8c7-ff80-4ccf-a8d3-cd4cfbb3ff54\">\n",
              "      Upload widget is only available when the cell has been executed in the\n",
              "      current browser session. Please rerun this cell to enable.\n",
              "      </output>\n",
              "      <script>// Copyright 2017 Google LLC\n",
              "//\n",
              "// Licensed under the Apache License, Version 2.0 (the \"License\");\n",
              "// you may not use this file except in compliance with the License.\n",
              "// You may obtain a copy of the License at\n",
              "//\n",
              "//      http://www.apache.org/licenses/LICENSE-2.0\n",
              "//\n",
              "// Unless required by applicable law or agreed to in writing, software\n",
              "// distributed under the License is distributed on an \"AS IS\" BASIS,\n",
              "// WITHOUT WARRANTIES OR CONDITIONS OF ANY KIND, either express or implied.\n",
              "// See the License for the specific language governing permissions and\n",
              "// limitations under the License.\n",
              "\n",
              "/**\n",
              " * @fileoverview Helpers for google.colab Python module.\n",
              " */\n",
              "(function(scope) {\n",
              "function span(text, styleAttributes = {}) {\n",
              "  const element = document.createElement('span');\n",
              "  element.textContent = text;\n",
              "  for (const key of Object.keys(styleAttributes)) {\n",
              "    element.style[key] = styleAttributes[key];\n",
              "  }\n",
              "  return element;\n",
              "}\n",
              "\n",
              "// Max number of bytes which will be uploaded at a time.\n",
              "const MAX_PAYLOAD_SIZE = 100 * 1024;\n",
              "\n",
              "function _uploadFiles(inputId, outputId) {\n",
              "  const steps = uploadFilesStep(inputId, outputId);\n",
              "  const outputElement = document.getElementById(outputId);\n",
              "  // Cache steps on the outputElement to make it available for the next call\n",
              "  // to uploadFilesContinue from Python.\n",
              "  outputElement.steps = steps;\n",
              "\n",
              "  return _uploadFilesContinue(outputId);\n",
              "}\n",
              "\n",
              "// This is roughly an async generator (not supported in the browser yet),\n",
              "// where there are multiple asynchronous steps and the Python side is going\n",
              "// to poll for completion of each step.\n",
              "// This uses a Promise to block the python side on completion of each step,\n",
              "// then passes the result of the previous step as the input to the next step.\n",
              "function _uploadFilesContinue(outputId) {\n",
              "  const outputElement = document.getElementById(outputId);\n",
              "  const steps = outputElement.steps;\n",
              "\n",
              "  const next = steps.next(outputElement.lastPromiseValue);\n",
              "  return Promise.resolve(next.value.promise).then((value) => {\n",
              "    // Cache the last promise value to make it available to the next\n",
              "    // step of the generator.\n",
              "    outputElement.lastPromiseValue = value;\n",
              "    return next.value.response;\n",
              "  });\n",
              "}\n",
              "\n",
              "/**\n",
              " * Generator function which is called between each async step of the upload\n",
              " * process.\n",
              " * @param {string} inputId Element ID of the input file picker element.\n",
              " * @param {string} outputId Element ID of the output display.\n",
              " * @return {!Iterable<!Object>} Iterable of next steps.\n",
              " */\n",
              "function* uploadFilesStep(inputId, outputId) {\n",
              "  const inputElement = document.getElementById(inputId);\n",
              "  inputElement.disabled = false;\n",
              "\n",
              "  const outputElement = document.getElementById(outputId);\n",
              "  outputElement.innerHTML = '';\n",
              "\n",
              "  const pickedPromise = new Promise((resolve) => {\n",
              "    inputElement.addEventListener('change', (e) => {\n",
              "      resolve(e.target.files);\n",
              "    });\n",
              "  });\n",
              "\n",
              "  const cancel = document.createElement('button');\n",
              "  inputElement.parentElement.appendChild(cancel);\n",
              "  cancel.textContent = 'Cancel upload';\n",
              "  const cancelPromise = new Promise((resolve) => {\n",
              "    cancel.onclick = () => {\n",
              "      resolve(null);\n",
              "    };\n",
              "  });\n",
              "\n",
              "  // Wait for the user to pick the files.\n",
              "  const files = yield {\n",
              "    promise: Promise.race([pickedPromise, cancelPromise]),\n",
              "    response: {\n",
              "      action: 'starting',\n",
              "    }\n",
              "  };\n",
              "\n",
              "  cancel.remove();\n",
              "\n",
              "  // Disable the input element since further picks are not allowed.\n",
              "  inputElement.disabled = true;\n",
              "\n",
              "  if (!files) {\n",
              "    return {\n",
              "      response: {\n",
              "        action: 'complete',\n",
              "      }\n",
              "    };\n",
              "  }\n",
              "\n",
              "  for (const file of files) {\n",
              "    const li = document.createElement('li');\n",
              "    li.append(span(file.name, {fontWeight: 'bold'}));\n",
              "    li.append(span(\n",
              "        `(${file.type || 'n/a'}) - ${file.size} bytes, ` +\n",
              "        `last modified: ${\n",
              "            file.lastModifiedDate ? file.lastModifiedDate.toLocaleDateString() :\n",
              "                                    'n/a'} - `));\n",
              "    const percent = span('0% done');\n",
              "    li.appendChild(percent);\n",
              "\n",
              "    outputElement.appendChild(li);\n",
              "\n",
              "    const fileDataPromise = new Promise((resolve) => {\n",
              "      const reader = new FileReader();\n",
              "      reader.onload = (e) => {\n",
              "        resolve(e.target.result);\n",
              "      };\n",
              "      reader.readAsArrayBuffer(file);\n",
              "    });\n",
              "    // Wait for the data to be ready.\n",
              "    let fileData = yield {\n",
              "      promise: fileDataPromise,\n",
              "      response: {\n",
              "        action: 'continue',\n",
              "      }\n",
              "    };\n",
              "\n",
              "    // Use a chunked sending to avoid message size limits. See b/62115660.\n",
              "    let position = 0;\n",
              "    do {\n",
              "      const length = Math.min(fileData.byteLength - position, MAX_PAYLOAD_SIZE);\n",
              "      const chunk = new Uint8Array(fileData, position, length);\n",
              "      position += length;\n",
              "\n",
              "      const base64 = btoa(String.fromCharCode.apply(null, chunk));\n",
              "      yield {\n",
              "        response: {\n",
              "          action: 'append',\n",
              "          file: file.name,\n",
              "          data: base64,\n",
              "        },\n",
              "      };\n",
              "\n",
              "      let percentDone = fileData.byteLength === 0 ?\n",
              "          100 :\n",
              "          Math.round((position / fileData.byteLength) * 100);\n",
              "      percent.textContent = `${percentDone}% done`;\n",
              "\n",
              "    } while (position < fileData.byteLength);\n",
              "  }\n",
              "\n",
              "  // All done.\n",
              "  yield {\n",
              "    response: {\n",
              "      action: 'complete',\n",
              "    }\n",
              "  };\n",
              "}\n",
              "\n",
              "scope.google = scope.google || {};\n",
              "scope.google.colab = scope.google.colab || {};\n",
              "scope.google.colab._files = {\n",
              "  _uploadFiles,\n",
              "  _uploadFilesContinue,\n",
              "};\n",
              "})(self);\n",
              "</script> "
            ]
          },
          "metadata": {}
        },
        {
          "output_type": "stream",
          "name": "stdout",
          "text": [
            "Saving Lab01b.csv to Lab01b.csv\n"
          ]
        }
      ],
      "source": [
        "uploaded = files.upload()\n",
        "df2 = pd.read_csv('Lab01b.csv') # Load the second dataset for this assignment in the Jupyter environment."
      ]
    },
    {
      "cell_type": "markdown",
      "id": "4613612e",
      "metadata": {
        "id": "4613612e"
      },
      "source": [
        "This dataset contains annual average values of `pCO2` (atmospheric CO2 concentrations; in ppmV), `pCH4` (methane concentration; in ppb), `pN2O` (nitrous oxide concentration; in ppb) and `SST` (sea surface temperature anomalies; in degrees C relative to 1951-1980).\n",
        "\n",
        "__Exercise 4:__ You can inspect this dataset using the `head()` or `print()` commands you used before. Do so using the code cell below."
      ]
    },
    {
      "cell_type": "code",
      "execution_count": null,
      "id": "5ac8dbab",
      "metadata": {
        "id": "5ac8dbab"
      },
      "outputs": [],
      "source": [
        "# Inspect the new dataset\n",
        "\n"
      ]
    },
    {
      "cell_type": "markdown",
      "id": "cb609f71",
      "metadata": {
        "id": "cb609f71"
      },
      "source": [
        "__Question 10:__ What is striking about this dataset?"
      ]
    },
    {
      "cell_type": "markdown",
      "id": "acf2a34e",
      "metadata": {
        "id": "acf2a34e"
      },
      "source": [
        "__Answer 10:__"
      ]
    },
    {
      "cell_type": "markdown",
      "id": "eacd366e",
      "metadata": {
        "id": "eacd366e"
      },
      "source": [
        "CO2, CH4 and N2O are all greenhouse gases, so we expect them to covary with temperature.\n",
        "\n",
        "__Exercise 5:__ Use the code cell below to calculate the Pearson's correlation coefficient between each of the greenhouse gases and temperature for the time period 1850-2022. You can use the `corr` function and the code you used in Part 1 of this assignment.\n",
        "\n",
        "Do you think the presence of `NaN` values poses a problem? Hint: Check the `help()` entry for the `corr` function you printed above to check this. It is good to be aware of empty values in your dataset, as they can have a big impact on your data analysis!"
      ]
    },
    {
      "cell_type": "code",
      "execution_count": null,
      "id": "3623d9ef",
      "metadata": {
        "id": "3623d9ef"
      },
      "outputs": [],
      "source": [
        "# Calculate Pearson's correlation between pCO2 and temperature anomaly\n",
        "\n",
        "\n",
        "# Calculate Pearson's correlation between pCH4 and temperature anomaly\n",
        "\n",
        "\n",
        "# Calculate Pearson's correlation between pN2O and temperature anomaly\n",
        "\n"
      ]
    },
    {
      "cell_type": "markdown",
      "id": "f45160fe",
      "metadata": {
        "id": "f45160fe"
      },
      "source": [
        "__Question 11:__ Which of these greenhouse gas concentrations show a positive correlation with sea surface temperature? Is there a strong correlation?"
      ]
    },
    {
      "cell_type": "markdown",
      "id": "d51931b4",
      "metadata": {
        "id": "d51931b4"
      },
      "source": [
        "__Answer 11:__"
      ]
    },
    {
      "cell_type": "markdown",
      "id": "d27fcb55",
      "metadata": {
        "id": "d27fcb55"
      },
      "source": [
        "We will come back to the other greenhouse gases later. We will focus on the CO2 concentration now, and specifically on its trend through time."
      ]
    },
    {
      "cell_type": "markdown",
      "id": "9414132d",
      "metadata": {
        "id": "9414132d"
      },
      "source": [
        "__Exercise 6:__ Use your newly gained experience with Python (and the code examples above) to create a plot of pCO2 with time (`Year`) in the code cell below. "
      ]
    },
    {
      "cell_type": "code",
      "execution_count": null,
      "id": "a8042ee9",
      "metadata": {
        "id": "a8042ee9"
      },
      "outputs": [],
      "source": [
        "# Plot pCO2 vs time\n",
        "\n"
      ]
    },
    {
      "cell_type": "markdown",
      "id": "0cbabbf3",
      "metadata": {
        "id": "0cbabbf3"
      },
      "source": [
        "__Exercise 7:__ Repeat the steps in Part 2 of this assignment to calculate a linear regression through the pCO2 time trend and plot the regression result on top of the pCO2 dataset. Use the code cell below.\n",
        "\n",
        "Think carefully about how you name the new regression object! Remember that Python cannot remember two objects of the same name, and make sure you give a new object a name that allows you to remember what is stored in the object."
      ]
    },
    {
      "cell_type": "code",
      "execution_count": null,
      "id": "5e15a241",
      "metadata": {
        "id": "5e15a241"
      },
      "outputs": [],
      "source": [
        "# Create linear regression between pCO2 and Year in dataset df2\n",
        "\n",
        "# Print the regression coefficients of the new linear regression\n",
        "\n",
        "# Plot pCO2 vs time with the linear regression line on top of the data\n",
        "\n",
        "# Print the regression summary to check the strength and the significance of the linear model\n"
      ]
    },
    {
      "cell_type": "markdown",
      "id": "c23c0ecf",
      "metadata": {
        "id": "c23c0ecf"
      },
      "source": [
        "__Question 12:__ Do you think the linear regression approximates the form of the dataset well? What do the R<sup>2</sup>, F and p-value statistics tell you?"
      ]
    },
    {
      "cell_type": "markdown",
      "id": "f14a48bc",
      "metadata": {
        "id": "f14a48bc"
      },
      "source": [
        "__Answer 12:__"
      ]
    },
    {
      "cell_type": "markdown",
      "id": "38b94149",
      "metadata": {
        "id": "38b94149"
      },
      "source": [
        "The exercise above shows you how important it is to look at scatter plots of your data instead of blindly executing statistical tests. I think you would agree that we can think of better models to approximate the rise of pCO2 since the Industrial Revolution."
      ]
    },
    {
      "cell_type": "markdown",
      "id": "40ee288f",
      "metadata": {
        "id": "40ee288f"
      },
      "source": [
        "We will try a __polynomial regression__ to better approximate our pCO2 data. For this to work, we need to import some additional functions from the `sklearn` package, which we will need to preprocess our data for a polynomial regression. You can do so by running the code below."
      ]
    },
    {
      "cell_type": "code",
      "execution_count": 14,
      "id": "d90eebac",
      "metadata": {
        "id": "d90eebac"
      },
      "outputs": [],
      "source": [
        "from sklearn.preprocessing import PolynomialFeatures # Import functions needed for polynomial preprocessing"
      ]
    },
    {
      "cell_type": "markdown",
      "id": "27624b05",
      "metadata": {
        "id": "27624b05"
      },
      "source": [
        "We can use the same OLS function as we used for linear regression to do a polynomial regression, but we need to pre-process our data first. For this we use the `PolynomialFeatures` function we just loaded. We will start by approximating the pCO2 data with a second degree polynomial function. Such a function contains a constant, a first order term and a second order term, yielding a function of the form:\n",
        "\n",
        "$(y = a + b1 * x + b2 * x^2)$\n",
        "\n",
        "Our OLS model will estimate values for `a`, `b1` and `b2`, but we will first transform our independent variable (in this case `Year`) to let Python know we will fit a polynomial function. Use the code below to do this, and inspect the resulting object."
      ]
    },
    {
      "cell_type": "code",
      "execution_count": 15,
      "id": "2d4c6846",
      "metadata": {
        "id": "2d4c6846",
        "colab": {
          "base_uri": "https://localhost:8080/"
        },
        "outputId": "d685d318-bb99-4eb9-cd8f-b0cdf39ba70d"
      },
      "outputs": [
        {
          "output_type": "stream",
          "name": "stdout",
          "text": [
            "[[1.850000e+03 3.422500e+06]\n",
            " [1.851000e+03 3.426201e+06]\n",
            " [1.852000e+03 3.429904e+06]\n",
            " [1.853000e+03 3.433609e+06]\n",
            " [1.854000e+03 3.437316e+06]\n",
            " [1.855000e+03 3.441025e+06]\n",
            " [1.856000e+03 3.444736e+06]\n",
            " [1.857000e+03 3.448449e+06]\n",
            " [1.858000e+03 3.452164e+06]\n",
            " [1.859000e+03 3.455881e+06]\n",
            " [1.860000e+03 3.459600e+06]\n",
            " [1.861000e+03 3.463321e+06]\n",
            " [1.862000e+03 3.467044e+06]\n",
            " [1.863000e+03 3.470769e+06]\n",
            " [1.864000e+03 3.474496e+06]\n",
            " [1.865000e+03 3.478225e+06]\n",
            " [1.866000e+03 3.481956e+06]\n",
            " [1.867000e+03 3.485689e+06]\n",
            " [1.868000e+03 3.489424e+06]\n",
            " [1.869000e+03 3.493161e+06]\n",
            " [1.870000e+03 3.496900e+06]\n",
            " [1.871000e+03 3.500641e+06]\n",
            " [1.872000e+03 3.504384e+06]\n",
            " [1.873000e+03 3.508129e+06]\n",
            " [1.874000e+03 3.511876e+06]\n",
            " [1.875000e+03 3.515625e+06]\n",
            " [1.876000e+03 3.519376e+06]\n",
            " [1.877000e+03 3.523129e+06]\n",
            " [1.878000e+03 3.526884e+06]\n",
            " [1.879000e+03 3.530641e+06]\n",
            " [1.880000e+03 3.534400e+06]\n",
            " [1.881000e+03 3.538161e+06]\n",
            " [1.882000e+03 3.541924e+06]\n",
            " [1.883000e+03 3.545689e+06]\n",
            " [1.884000e+03 3.549456e+06]\n",
            " [1.885000e+03 3.553225e+06]\n",
            " [1.886000e+03 3.556996e+06]\n",
            " [1.887000e+03 3.560769e+06]\n",
            " [1.888000e+03 3.564544e+06]\n",
            " [1.889000e+03 3.568321e+06]\n",
            " [1.890000e+03 3.572100e+06]\n",
            " [1.891000e+03 3.575881e+06]\n",
            " [1.892000e+03 3.579664e+06]\n",
            " [1.893000e+03 3.583449e+06]\n",
            " [1.894000e+03 3.587236e+06]\n",
            " [1.895000e+03 3.591025e+06]\n",
            " [1.896000e+03 3.594816e+06]\n",
            " [1.897000e+03 3.598609e+06]\n",
            " [1.898000e+03 3.602404e+06]\n",
            " [1.899000e+03 3.606201e+06]\n",
            " [1.900000e+03 3.610000e+06]\n",
            " [1.901000e+03 3.613801e+06]\n",
            " [1.902000e+03 3.617604e+06]\n",
            " [1.903000e+03 3.621409e+06]\n",
            " [1.904000e+03 3.625216e+06]\n",
            " [1.905000e+03 3.629025e+06]\n",
            " [1.906000e+03 3.632836e+06]\n",
            " [1.907000e+03 3.636649e+06]\n",
            " [1.908000e+03 3.640464e+06]\n",
            " [1.909000e+03 3.644281e+06]\n",
            " [1.910000e+03 3.648100e+06]\n",
            " [1.911000e+03 3.651921e+06]\n",
            " [1.912000e+03 3.655744e+06]\n",
            " [1.913000e+03 3.659569e+06]\n",
            " [1.914000e+03 3.663396e+06]\n",
            " [1.915000e+03 3.667225e+06]\n",
            " [1.916000e+03 3.671056e+06]\n",
            " [1.917000e+03 3.674889e+06]\n",
            " [1.918000e+03 3.678724e+06]\n",
            " [1.919000e+03 3.682561e+06]\n",
            " [1.920000e+03 3.686400e+06]\n",
            " [1.921000e+03 3.690241e+06]\n",
            " [1.922000e+03 3.694084e+06]\n",
            " [1.923000e+03 3.697929e+06]\n",
            " [1.924000e+03 3.701776e+06]\n",
            " [1.925000e+03 3.705625e+06]\n",
            " [1.926000e+03 3.709476e+06]\n",
            " [1.927000e+03 3.713329e+06]\n",
            " [1.928000e+03 3.717184e+06]\n",
            " [1.929000e+03 3.721041e+06]\n",
            " [1.930000e+03 3.724900e+06]\n",
            " [1.931000e+03 3.728761e+06]\n",
            " [1.932000e+03 3.732624e+06]\n",
            " [1.933000e+03 3.736489e+06]\n",
            " [1.934000e+03 3.740356e+06]\n",
            " [1.935000e+03 3.744225e+06]\n",
            " [1.936000e+03 3.748096e+06]\n",
            " [1.937000e+03 3.751969e+06]\n",
            " [1.938000e+03 3.755844e+06]\n",
            " [1.939000e+03 3.759721e+06]\n",
            " [1.940000e+03 3.763600e+06]\n",
            " [1.941000e+03 3.767481e+06]\n",
            " [1.942000e+03 3.771364e+06]\n",
            " [1.943000e+03 3.775249e+06]\n",
            " [1.944000e+03 3.779136e+06]\n",
            " [1.945000e+03 3.783025e+06]\n",
            " [1.946000e+03 3.786916e+06]\n",
            " [1.947000e+03 3.790809e+06]\n",
            " [1.948000e+03 3.794704e+06]\n",
            " [1.949000e+03 3.798601e+06]\n",
            " [1.950000e+03 3.802500e+06]\n",
            " [1.951000e+03 3.806401e+06]\n",
            " [1.952000e+03 3.810304e+06]\n",
            " [1.953000e+03 3.814209e+06]\n",
            " [1.954000e+03 3.818116e+06]\n",
            " [1.955000e+03 3.822025e+06]\n",
            " [1.956000e+03 3.825936e+06]\n",
            " [1.957000e+03 3.829849e+06]\n",
            " [1.958000e+03 3.833764e+06]\n",
            " [1.959000e+03 3.837681e+06]\n",
            " [1.960000e+03 3.841600e+06]\n",
            " [1.961000e+03 3.845521e+06]\n",
            " [1.962000e+03 3.849444e+06]\n",
            " [1.963000e+03 3.853369e+06]\n",
            " [1.964000e+03 3.857296e+06]\n",
            " [1.965000e+03 3.861225e+06]\n",
            " [1.966000e+03 3.865156e+06]\n",
            " [1.967000e+03 3.869089e+06]\n",
            " [1.968000e+03 3.873024e+06]\n",
            " [1.969000e+03 3.876961e+06]\n",
            " [1.970000e+03 3.880900e+06]\n",
            " [1.971000e+03 3.884841e+06]\n",
            " [1.972000e+03 3.888784e+06]\n",
            " [1.973000e+03 3.892729e+06]\n",
            " [1.974000e+03 3.896676e+06]\n",
            " [1.975000e+03 3.900625e+06]\n",
            " [1.976000e+03 3.904576e+06]\n",
            " [1.977000e+03 3.908529e+06]\n",
            " [1.978000e+03 3.912484e+06]\n",
            " [1.979000e+03 3.916441e+06]\n",
            " [1.980000e+03 3.920400e+06]\n",
            " [1.981000e+03 3.924361e+06]\n",
            " [1.982000e+03 3.928324e+06]\n",
            " [1.983000e+03 3.932289e+06]\n",
            " [1.984000e+03 3.936256e+06]\n",
            " [1.985000e+03 3.940225e+06]\n",
            " [1.986000e+03 3.944196e+06]\n",
            " [1.987000e+03 3.948169e+06]\n",
            " [1.988000e+03 3.952144e+06]\n",
            " [1.989000e+03 3.956121e+06]\n",
            " [1.990000e+03 3.960100e+06]\n",
            " [1.991000e+03 3.964081e+06]\n",
            " [1.992000e+03 3.968064e+06]\n",
            " [1.993000e+03 3.972049e+06]\n",
            " [1.994000e+03 3.976036e+06]\n",
            " [1.995000e+03 3.980025e+06]\n",
            " [1.996000e+03 3.984016e+06]\n",
            " [1.997000e+03 3.988009e+06]\n",
            " [1.998000e+03 3.992004e+06]\n",
            " [1.999000e+03 3.996001e+06]\n",
            " [2.000000e+03 4.000000e+06]\n",
            " [2.001000e+03 4.004001e+06]\n",
            " [2.002000e+03 4.008004e+06]\n",
            " [2.003000e+03 4.012009e+06]\n",
            " [2.004000e+03 4.016016e+06]\n",
            " [2.005000e+03 4.020025e+06]\n",
            " [2.006000e+03 4.024036e+06]\n",
            " [2.007000e+03 4.028049e+06]\n",
            " [2.008000e+03 4.032064e+06]\n",
            " [2.009000e+03 4.036081e+06]\n",
            " [2.010000e+03 4.040100e+06]\n",
            " [2.011000e+03 4.044121e+06]\n",
            " [2.012000e+03 4.048144e+06]\n",
            " [2.013000e+03 4.052169e+06]\n",
            " [2.014000e+03 4.056196e+06]\n",
            " [2.015000e+03 4.060225e+06]\n",
            " [2.016000e+03 4.064256e+06]\n",
            " [2.017000e+03 4.068289e+06]\n",
            " [2.018000e+03 4.072324e+06]\n",
            " [2.019000e+03 4.076361e+06]\n",
            " [2.020000e+03 4.080400e+06]\n",
            " [2.021000e+03 4.084441e+06]\n",
            " [2.022000e+03 4.088484e+06]]\n"
          ]
        }
      ],
      "source": [
        "x2 = PolynomialFeatures(2, include_bias = False).fit_transform(df2.Year.values.reshape(-1, 1)) # Transform the independent variable Year for a second degree polynomial regression\n",
        "\n",
        "print(x2) # Inspect the resulting dataframe"
      ]
    },
    {
      "cell_type": "markdown",
      "id": "222dda81",
      "metadata": {
        "id": "222dda81"
      },
      "source": [
        "Make sure you understand what happened here. You can always use the `help()` function to understand what `PolynomialFeatures` does, or Google it."
      ]
    },
    {
      "cell_type": "markdown",
      "id": "79a7e9bf",
      "metadata": {
        "id": "79a7e9bf"
      },
      "source": [
        "We will now perform the polynomial regression. This works much like the linear regression, but with the newly created `x2` as a set of independent variables:"
      ]
    },
    {
      "cell_type": "code",
      "execution_count": 16,
      "id": "f6c012bb",
      "metadata": {
        "id": "f6c012bb",
        "colab": {
          "base_uri": "https://localhost:8080/"
        },
        "outputId": "f76fd1e0-bc69-4bab-df73-93dc80e07106"
      },
      "outputs": [
        {
          "output_type": "stream",
          "name": "stdout",
          "text": [
            "                            OLS Regression Results                            \n",
            "==============================================================================\n",
            "Dep. Variable:               df2.pCO2   R-squared:                       0.974\n",
            "Model:                            OLS   Adj. R-squared:                  0.973\n",
            "Method:                 Least Squares   F-statistic:                     2411.\n",
            "Date:                Wed, 25 Jan 2023   Prob (F-statistic):          1.74e-103\n",
            "Time:                        16:54:46   Log-Likelihood:                -425.00\n",
            "No. Observations:                 133   AIC:                             856.0\n",
            "Df Residuals:                     130   BIC:                             864.7\n",
            "Df Model:                           2                                         \n",
            "Covariance Type:            nonrobust                                         \n",
            "==============================================================================\n",
            "                 coef    std err          t      P>|t|      [0.025      0.975]\n",
            "------------------------------------------------------------------------------\n",
            "Intercept   2.292e+04    878.990     26.075      0.000    2.12e+04    2.47e+04\n",
            "x2[0]        -24.0022      0.907    -26.471      0.000     -25.796     -22.208\n",
            "x2[1]          0.0064      0.000     27.230      0.000       0.006       0.007\n",
            "==============================================================================\n",
            "Omnibus:                       54.139   Durbin-Watson:                   0.075\n",
            "Prob(Omnibus):                  0.000   Jarque-Bera (JB):                8.549\n",
            "Skew:                           0.142   Prob(JB):                       0.0139\n",
            "Kurtosis:                       1.791   Cond. No.                     6.45e+09\n",
            "==============================================================================\n",
            "\n",
            "Notes:\n",
            "[1] Standard Errors assume that the covariance matrix of the errors is correctly specified.\n",
            "[2] The condition number is large, 6.45e+09. This might indicate that there are\n",
            "strong multicollinearity or other numerical problems.\n"
          ]
        }
      ],
      "source": [
        "polyreg1 = smf.ols('df2.pCO2 ~ x2', data = df2).fit() # Regression of second degree polynomial\n",
        "\n",
        "print(polyreg1.summary())"
      ]
    },
    {
      "cell_type": "markdown",
      "id": "3f548fc3",
      "metadata": {
        "id": "3f548fc3"
      },
      "source": [
        "__Question 13:__ How do the statistics of this polynomial model compare to those of the linear model you calculated before? Which model better describes the data? Which statistical metrics do you use to compare between them?"
      ]
    },
    {
      "cell_type": "markdown",
      "id": "c50bc847",
      "metadata": {
        "id": "c50bc847"
      },
      "source": [
        "__Answer 13:__"
      ]
    },
    {
      "cell_type": "markdown",
      "id": "98a637d8",
      "metadata": {
        "id": "98a637d8"
      },
      "source": [
        "Test the interpretations you made of the model output in the question above by plotting the result of the polynomial regression on top of the data. You can use the code in the cell below.\n",
        "\n",
        "Note how similar this code is to the code you used to plot the linear regression results earlier in this exercise, and verify that you understand how this code works."
      ]
    },
    {
      "cell_type": "code",
      "execution_count": 17,
      "id": "054cfc1f",
      "metadata": {
        "id": "054cfc1f",
        "colab": {
          "base_uri": "https://localhost:8080/",
          "height": 296
        },
        "outputId": "c529e4fc-2a77-4e85-f35b-91d885decb95"
      },
      "outputs": [
        {
          "output_type": "execute_result",
          "data": {
            "text/plain": [
              "[<matplotlib.lines.Line2D at 0x7f8875b94040>]"
            ]
          },
          "metadata": {},
          "execution_count": 17
        },
        {
          "output_type": "display_data",
          "data": {
            "text/plain": [
              "<Figure size 432x288 with 1 Axes>"
            ],
            "image/png": "[encoded data removed]"
          },
          "metadata": {
            "needs_background": "light"
          }
        }
      ],
      "source": [
        "# Plot pCO2 vs time with the second degree polynomial regression line on top of the data\n",
        "plt.scatter(df2.Year, df2.pCO2, color = 'red', marker = '+')\n",
        "plt.xlabel('Year')\n",
        "plt.ylabel('pCO2 (ppmV)')\n",
        "plt.plot(df2.Year, polyreg1.params[0] + polyreg1.params[1] * df2.Year + polyreg1.params[2] * df2.Year ** 2, color = 'blue')"
      ]
    },
    {
      "cell_type": "markdown",
      "id": "99769707",
      "metadata": {
        "id": "99769707"
      },
      "source": [
        "__Exercise 8:__ I think we all agree that this result is an improvement, but maybe we can do better. Repeat the process you went through to estimate and plot the second order polynomial regression through the pCO2 dataset, but now create third and fourth order polynomials. Print the statistics for these models and plot them all together on top of the pCO2 data. Again: watch out how you name your objects and think carefully before you copy and paste code. Use the code cell below:"
      ]
    },
    {
      "cell_type": "code",
      "execution_count": null,
      "id": "0405cc74",
      "metadata": {
        "id": "0405cc74"
      },
      "outputs": [],
      "source": [
        "# Transform the independent variable Year for a third and fourth degree polynomial regression\n",
        "\n",
        "# Create regressions for the third and fourth degree polynomials\n",
        "\n",
        "# Print summaries of third and fourth degree polynomial models\n",
        "\n",
        "# Plot all polynomial models on the data in one plot\n"
      ]
    },
    {
      "cell_type": "markdown",
      "id": "f9fc256b",
      "metadata": {
        "id": "f9fc256b"
      },
      "source": [
        "__Question 14:__ What do you think of the result? Do the added polynomial terms improve the model? If so, do you think adding even more terms would be useful here? Can you find an optimum number of polynomial terms to accurately describe the shape of the pCO2 data while preventing overfitting?"
      ]
    },
    {
      "cell_type": "markdown",
      "id": "8c397996",
      "metadata": {
        "id": "8c397996"
      },
      "source": [
        "__Answer 14:__"
      ]
    },
    {
      "cell_type": "markdown",
      "id": "61a04416",
      "metadata": {
        "id": "61a04416"
      },
      "source": [
        "__Question 15:__ After what we have learned from looking at a longer timeseries of pCO2, are you still equally confident about your answers to __Question 8 & 9__? If not, what changed your mind?"
      ]
    },
    {
      "cell_type": "markdown",
      "id": "c7cabffd",
      "metadata": {
        "id": "c7cabffd"
      },
      "source": [
        "__Answer 15:__"
      ]
    },
    {
      "cell_type": "markdown",
      "id": "e3bef0a3",
      "metadata": {
        "id": "e3bef0a3"
      },
      "source": [
        "## Part 4: Exponential regression\n",
        "\n",
        "We will now briefly look at the pCO2 trend since 1850 using another type of regression model: exponential regression. We have discussed this type of regression in the lectures, but as a reminder you will find the general function for exponential regression models below:\n",
        "\n",
        "$(y = c * e^{bx})$\n",
        "\n",
        "However, we need to transform this function into its linear form to be able to use OLS. We can do this by taking the natural logarithm on both sides of the equation:\n",
        "\n",
        "$(log{(y)} = log{(c)} + b * x)$\n",
        "\n",
        "Now this is just a simple linear regression of the form $(y = a + bx)$, but with $y$ replaced by $log{(y)}$ and $a$ by $log{(c)}$. To use it, we first need to transform our dependent variable (pCO2) to its natural logarithm. For that, we need to import the `log()` function from the `numpy` package. After the transformation of our pCO2 variable, we can apply the OLS function to perform the linear regression. This code should look quite familiar to you now."
      ]
    },
    {
      "cell_type": "code",
      "execution_count": 18,
      "id": "018c0978",
      "metadata": {
        "id": "018c0978",
        "colab": {
          "base_uri": "https://localhost:8080/"
        },
        "outputId": "4cea1113-a370-4904-cdce-7d63fed3e855"
      },
      "outputs": [
        {
          "output_type": "stream",
          "name": "stdout",
          "text": [
            "                            OLS Regression Results                            \n",
            "==============================================================================\n",
            "Dep. Variable:                 logCO2   R-squared:                       0.857\n",
            "Model:                            OLS   Adj. R-squared:                  0.856\n",
            "Method:                 Least Squares   F-statistic:                     788.1\n",
            "Date:                Wed, 25 Jan 2023   Prob (F-statistic):           2.86e-57\n",
            "Time:                        16:54:59   Log-Likelihood:                 238.00\n",
            "No. Observations:                 133   AIC:                            -472.0\n",
            "Df Residuals:                     131   BIC:                            -466.2\n",
            "Df Model:                           1                                         \n",
            "Covariance Type:            nonrobust                                         \n",
            "==============================================================================\n",
            "                 coef    std err          t      P>|t|      [0.025      0.975]\n",
            "------------------------------------------------------------------------------\n",
            "Intercept      1.7859      0.143     12.526      0.000       1.504       2.068\n",
            "df2.Year       0.0021   7.31e-05     28.073      0.000       0.002       0.002\n",
            "==============================================================================\n",
            "Omnibus:                       11.131   Durbin-Watson:                   0.020\n",
            "Prob(Omnibus):                  0.004   Jarque-Bera (JB):                9.421\n",
            "Skew:                           0.563   Prob(JB):                      0.00900\n",
            "Kurtosis:                       2.343   Cond. No.                     7.87e+04\n",
            "==============================================================================\n",
            "\n",
            "Notes:\n",
            "[1] Standard Errors assume that the covariance matrix of the errors is correctly specified.\n",
            "[2] The condition number is large, 7.87e+04. This might indicate that there are\n",
            "strong multicollinearity or other numerical problems.\n"
          ]
        }
      ],
      "source": [
        "import numpy as np # Import the numpy package that contains the log-function\n",
        "\n",
        "logCO2 = np.log(df2.pCO2) # Create a new variable that is the natural logarithm of pCO2\n",
        "\n",
        "expreg1 = smf.ols(formula = \"logCO2 ~ df2.Year\", data = df2).fit() # Perform the 'exponential' regression in its linearized form\n",
        "\n",
        "print(expreg1.summary()) # Print the regression summary"
      ]
    },
    {
      "cell_type": "markdown",
      "id": "fbf1390e",
      "metadata": {
        "id": "fbf1390e"
      },
      "source": [
        "__Question 16:__ Based on the statistics of the regression model, how well did the exponential regression perform? How does it compare to the linear and polynomial regressions you created before?"
      ]
    },
    {
      "cell_type": "markdown",
      "id": "ffb45a99",
      "metadata": {
        "id": "ffb45a99"
      },
      "source": [
        "__Answer 16:__"
      ]
    },
    {
      "cell_type": "markdown",
      "id": "5550eb1e",
      "metadata": {
        "id": "5550eb1e"
      },
      "source": [
        "__Exercise 9:__ From the regression results, you can now calculate the parameters of the exponental function ($(y = c * e^{bx})$). Use the code cell below to calculate the parameters and plot the result of the exponential regression on top of the pCO2 data.\n",
        "\n",
        "Tip: The `numpy` package contains the function `np.exp` which can be used to calculate e<sup>x</sup> to convert back from the natural logarithm"
      ]
    },
    {
      "cell_type": "code",
      "execution_count": null,
      "id": "f25aeb1d",
      "metadata": {
        "id": "f25aeb1d"
      },
      "outputs": [],
      "source": [
        "# Calculate the parameter c by taking the natural exponent\n",
        "\n",
        "# Plot the exponential model on top of the pCO2 data\n"
      ]
    },
    {
      "cell_type": "markdown",
      "id": "c9bcd185",
      "metadata": {
        "id": "c9bcd185"
      },
      "source": [
        "__Question 17:__ What do you think of the result? Can you think of a problem with our exponential model when trying to fit it to this type of data?"
      ]
    },
    {
      "cell_type": "markdown",
      "id": "55d7cce6",
      "metadata": {
        "id": "55d7cce6"
      },
      "source": [
        "__Answer 17:__"
      ]
    },
    {
      "cell_type": "markdown",
      "id": "98d30e1d",
      "metadata": {
        "id": "98d30e1d"
      },
      "source": [
        "__Bonus exercise:__ We can probably make our exponential model fit better by modifying our variables `Year` and `pCO2`to relative values. We can do this by subtracting the minimum value in the dataset from all datapoints for both parameters. The function `np.min()` can help us with that:"
      ]
    },
    {
      "cell_type": "code",
      "execution_count": 19,
      "id": "082c6eb6",
      "metadata": {
        "id": "082c6eb6",
        "colab": {
          "base_uri": "https://localhost:8080/"
        },
        "outputId": "413a2320-1e9b-422a-9924-d58ea6e2e5d3"
      },
      "outputs": [
        {
          "output_type": "stream",
          "name": "stdout",
          "text": [
            "The minimum pCO2 value is 283.1621007 ppmV\n",
            "The starting Year is 1850 AD\n"
          ]
        }
      ],
      "source": [
        "# Create relative pCO2 and Year variables\n",
        "pCO2min = np.min(df2.pCO2) # find the minimum pCO2 value\n",
        "Yearmin = np.min(df2.Year) # find the minimum Year (1850)\n",
        "\n",
        "# Print the results\n",
        "print('The minimum pCO2 value is', pCO2min, 'ppmV')\n",
        "print('The starting Year is', Yearmin, 'AD')\n",
        "\n",
        "pCO2min = 280 # Round the minimum pCO2 down to prevent zeroes in the dataset (log(0) has no solution)\n",
        "\n",
        "pCO2rel = df2.pCO2 - pCO2min\n",
        "Yearrel = df2.Year - Yearmin"
      ]
    },
    {
      "cell_type": "markdown",
      "id": "26512e27",
      "metadata": {
        "id": "26512e27"
      },
      "source": [
        "Now repeat the exponential regression you performed above with these modified variables and assess whether it performs better."
      ]
    },
    {
      "cell_type": "code",
      "execution_count": null,
      "id": "0358502c",
      "metadata": {
        "id": "0358502c"
      },
      "outputs": [],
      "source": [
        "# Create a new variable that is the natural logarithm of the modified pCO2 variable\n",
        "\n",
        "# Perform the exponential regression in its linearized form\n",
        "\n",
        "# Print the regression summary\n",
        "\n",
        "# Calculate the parameter c by taking the natural exponent\n",
        "\n",
        "# Plot the exponential model on top of the pCO2 data\n"
      ]
    }
  ],
  "metadata": {
    "kernelspec": {
      "display_name": "Python 3 (ipykernel)",
      "language": "python",
      "name": "python3"
    },
    "language_info": {
      "codemirror_mode": {
        "name": "ipython",
        "version": 3
      },
      "file_extension": ".py",
      "mimetype": "text/x-python",
      "name": "python",
      "nbconvert_exporter": "python",
      "pygments_lexer": "ipython3",
      "version": "3.9.12"
    },
    "colab": {
      "provenance": [],
      "include_colab_link": true
    }
  },
  "nbformat": 4,
  "nbformat_minor": 5
}