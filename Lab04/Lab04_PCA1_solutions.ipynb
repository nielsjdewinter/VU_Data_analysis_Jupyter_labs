{
 "cells": [
  {
   "cell_type": "markdown",
   "id": "f7533bcc",
   "metadata": {},
   "source": [
    "# Lab 04: Factor analysis 1"
   ]
  },
  {
   "cell_type": "markdown",
   "id": "d4e888e9",
   "metadata": {},
   "source": [
    "Author: **N.J. de Winter** (*n.j.de.winter@vu.nl*)<br>\n",
    "Assitant Professor Vrije Universiteit Amsterdam<br>\n",
    "Statistics and Data Analysis Course\n",
    "\n",
    "Modified after: Trauth, Martin H., et al. MATLAB recipes for earth sciences. Vol. 34. Berlin: Springer, 2007."
   ]
  },
  {
   "cell_type": "markdown",
   "id": "279121ed",
   "metadata": {},
   "source": [
    "\n",
    "## Learning goals:\n",
    "\n",
    "* Apply and improve your knowledge of Python and Jupyter\n",
    "* Get famliar with factor analysis\n",
    "    * Learn to run a Principle Component Analysis (PCA) in Python\n",
    "    * Understand and apply tools to assess whether the *variables* in a dataset can be reduced\n",
    "    * Interpret *scores* and *loadings* and *eigenvalues* of a PCA result\n",
    "* Develop a feeling for how statistical tools can help you, but you still require *your interpretation* to draw conclusions."
   ]
  },
  {
   "cell_type": "markdown",
   "id": "e040acc6",
   "metadata": {},
   "source": [
    "# Introduction\n",
    "In this lab, we will start working with **Factor analysis**. More specifically, we will apply a technique called **Principle Component Analysis** to a dataset to test whether the information in the data can be *reduced* by finding a small set of *components* which replace the *variables* in the dataset while containing (almost) the same information.\n",
    "\n",
    "This all sounds quite technical, and that is because it is. **Factor analysis can be a hard concept to wrap your head around**, and it is normal to be confused about it in the beginning. However, it is also a very powerful tool for data reduction, which plays an important role in modern science and in our society as a whole and is used for a surprising number of things!\n",
    "\n",
    "This is why we spend two labs practicing it. Do not dispair, we will go through this step by step so you will have plenty of time to practice."
   ]
  },
  {
   "cell_type": "markdown",
   "id": "ca10642f",
   "metadata": {},
   "source": [
    "We will start by loading the packages we will need. You know how to do this by now, so we will not give you the code any more from now on."
   ]
  },
  {
   "cell_type": "markdown",
   "id": "200e607b",
   "metadata": {},
   "source": [
    "**Exercise 1:** Load the `numpy` package and the `pyplot` package (part of `matplotlib`) and `import` the function `PCA` from the `decomposition` package which is part of `sklearn`.  Don't forget to add the statement you used before to allow plots to be visualized in Jupyter"
   ]
  },
  {
   "cell_type": "code",
   "execution_count": 2,
   "id": "fbe6e20c",
   "metadata": {},
   "outputs": [],
   "source": [
    "# Make sure our figures show up in Jupyter\n",
    "%matplotlib inline\n",
    "import numpy as np # The 'numpy' package contains some handy functions\n",
    "from matplotlib import pyplot as plt # The 'matplotlib' package contains tools needed to plot our data and results\n",
    "from sklearn.decomposition import PCA # Load the PCA function from the decomposition package in sklearn"
   ]
  },
  {
   "cell_type": "markdown",
   "id": "1fab4fe4",
   "metadata": {},
   "source": [
    "In this lab, we are going to use the same dataset as in *Lab 03*. You know how to load this data by now (if not, have a sneak peak at the previous lab). Don't forget that if you are using Spyder, you need to first define your working directory, and that if you are using Jupyter, you need to move the dataset into the same folder as your notebook."
   ]
  },
  {
   "cell_type": "markdown",
   "id": "84db3913",
   "metadata": {},
   "source": [
    "**Exercise 2:** Load *Lab03.txt* in Python and explore the data to familiarize yourself again with its structure."
   ]
  },
  {
   "cell_type": "code",
   "execution_count": 3,
   "id": "1ef448d1",
   "metadata": {},
   "outputs": [
    {
     "name": "stdout",
     "output_type": "stream",
     "text": [
      "[[0.1702 0.1906 0.3079 0.0941 0.0286 0.     0.0767 0.0577 0.0742]\n",
      " [0.1357 0.191  0.2532 0.1248 0.106  0.0275 0.0621 0.0331 0.0665]\n",
      " [0.0885 0.1016 0.1791 0.116  0.1185 0.0174 0.1673 0.0789 0.1328]\n",
      " [0.0736 0.12   0.1554 0.1269 0.2309 0.0655 0.0916 0.063  0.0731]\n",
      " [0.0073 0.0645 0.0737 0.1407 0.2009 0.0278 0.2212 0.0937 0.1701]\n",
      " [0.0549 0.0161 0.0626 0.171  0.3922 0.0859 0.1193 0.0376 0.0604]\n",
      " [0.0805 0.0465 0.0998 0.1848 0.3848 0.1157 0.0722 0.0157 0.    ]\n",
      " [0.2191 0.2266 0.323  0.0877 0.0396 0.     0.0559 0.0317 0.0164]\n",
      " [0.1694 0.1608 0.2352 0.1217 0.0983 0.0301 0.0619 0.0599 0.0627]\n",
      " [0.2318 0.2116 0.3768 0.102  0.0339 0.007  0.0286 0.001  0.0074]]\n"
     ]
    }
   ],
   "source": [
    "data = np.loadtxt('Lab03.txt', skiprows=1) # Load data\n",
    "print(data) # inspect data"
   ]
  },
  {
   "cell_type": "markdown",
   "id": "b6573e28",
   "metadata": {},
   "source": [
    "If a `print()` of the dataset confuses you, recall again type of data is in this dataset. You should be able to answer the questions below easily if you do."
   ]
  },
  {
   "cell_type": "markdown",
   "id": "a82d2802",
   "metadata": {},
   "source": [
    "**Question 1:** What do the *observations* in this dataset represent?"
   ]
  },
  {
   "cell_type": "markdown",
   "id": "6a62fe99",
   "metadata": {},
   "source": [
    "**Answer 1:** They are sediment samples of which the mineral composition is measured"
   ]
  },
  {
   "cell_type": "markdown",
   "id": "a8657ad8",
   "metadata": {},
   "source": [
    "**Question 2:** What do the *variables* in this dataset represent?"
   ]
  },
  {
   "cell_type": "markdown",
   "id": "8c17e579",
   "metadata": {},
   "source": [
    "**Answer 2:** They represent the minerals of which the concentrations/fractions were measured in each sample."
   ]
  },
  {
   "cell_type": "markdown",
   "id": "ce4bc41b",
   "metadata": {},
   "source": [
    "**Question 3:** What type of information does each datapoint in the dataset contain? What is the unit of this data? What is the minimum and maximum value a datapoint can have?"
   ]
  },
  {
   "cell_type": "markdown",
   "id": "1feda311",
   "metadata": {},
   "source": [
    "**Answer 3:** Each datapoint contains the fraction of a sample that contains one of the minerals. The data is unitless and varies between 0 and 1."
   ]
  },
  {
   "cell_type": "markdown",
   "id": "92995a96",
   "metadata": {},
   "source": [
    "Before we dive into factor analysis, it is very important that we recap the structure of the data and explore the correlations between variables we can already observe before doing \"fancy\" statistics. The easiest way to do this is to create a correlation matrix and to visualize the correlations between the variables in some way. Luckily, you have already learned how to do that in the previous Lab, so you can recycle the code from **Lab03**."
   ]
  },
  {
   "cell_type": "markdown",
   "id": "96a224ef",
   "metadata": {},
   "source": [
    "**Exercise 3:** Calculate the correlation matrix for the dataset and plot the correlations using a heatmap (use the `imshow` function)"
   ]
  },
  {
   "cell_type": "code",
   "execution_count": 5,
   "id": "63aca9c5",
   "metadata": {},
   "outputs": [
    {
     "data": {
      "text/plain": [
       "<matplotlib.colorbar.Colorbar at 0x1dca20eefa0>"
      ]
     },
     "execution_count": 5,
     "metadata": {},
     "output_type": "execute_result"
    },
    {
     "data": {
      "image/png": "[encoded data removed]",
      "text/plain": [
       "<Figure size 432x288 with 2 Axes>"
      ]
     },
     "metadata": {
      "needs_background": "light"
     },
     "output_type": "display_data"
    }
   ],
   "source": [
    "# Create a correlation matrix of the mineral content\n",
    "corrmatrix = np.corrcoef(data.T)\n",
    "\n",
    "# Create a vector of variable names (minerals)\n",
    "minerals = ['amp', 'pyr', 'pla', 'ksp', 'qtz', 'cla', 'flu', 'sph', 'gal']\n",
    "\n",
    "# Flip the correlation matrix for plotting:\n",
    "corrmatrix = np.flipud(corrmatrix)\n",
    "\n",
    "# Plot the correlation matrix with colors representing the degree of correlation:\n",
    "plt.figure(1)\n",
    "plt.imshow(corrmatrix, cmap = 'hot')\n",
    "\n",
    "# Add a title to the graph\n",
    "plt.title('Correlation matrix')\n",
    "\n",
    "# Add the mineral labels:\n",
    "plt.xticks(np.arange(0, 9), [minerals[i] for i in range(9)])\n",
    "plt.yticks(np.arange(0, 9), [np.flipud(minerals)[i] for i in range(9)])\n",
    "\n",
    "# Display the colorbar as a legend:\n",
    "plt.colorbar()"
   ]
  },
  {
   "cell_type": "markdown",
   "id": "1b01fc13",
   "metadata": {},
   "source": [
    "**Question 4:** Which (groups of) minerals are highly correlated to each other?"
   ]
  },
  {
   "cell_type": "markdown",
   "id": "5d89cc80",
   "metadata": {},
   "source": [
    "**Answer 4:** Three groups appear:\n",
    "1. amp, pyr, pla (magmatic rock)\n",
    "2. ksp, qtz, cla (sandstone)\n",
    "3. flu, sph, gal (hydrothermal vein)"
   ]
  },
  {
   "cell_type": "markdown",
   "id": "7bc566f7",
   "metadata": {},
   "source": [
    "This is a typical example of a dataset in which the variables contain a lot of overlap in terms of information. The fact that some variables are so highly correlated shows us that they teach us (almost) the same thing about our samples. From a statistical and data science point of view, this is very **inefficient**! We can likely **summarize the information contained in this dataset using a small number of more smartly chosen variables**. This is the goal of factor analysis. Let's get started!"
   ]
  },
  {
   "cell_type": "markdown",
   "id": "b10da060",
   "metadata": {},
   "source": [
    "We will use the `PCA` function to perform a Principle Component Analysis on our dataset."
   ]
  },
  {
   "cell_type": "markdown",
   "id": "f3b8f001",
   "metadata": {},
   "source": [
    "**Exercise 4:** First, have a look at the `PCA` function using the `help()` function"
   ]
  },
  {
   "cell_type": "code",
   "execution_count": 4,
   "id": "c332588b",
   "metadata": {},
   "outputs": [
    {
     "name": "stdout",
     "output_type": "stream",
     "text": [
      "Help on class PCA in module sklearn.decomposition._pca:\n",
      "\n",
      "class PCA(sklearn.decomposition._base._BasePCA)\n",
      " |  PCA(n_components=None, *, copy=True, whiten=False, svd_solver='auto', tol=0.0, iterated_power='auto', random_state=None)\n",
      " |  \n",
      " |  Principal component analysis (PCA).\n",
      " |  \n",
      " |  Linear dimensionality reduction using Singular Value Decomposition of the\n",
      " |  data to project it to a lower dimensional space. The input data is centered\n",
      " |  but not scaled for each feature before applying the SVD.\n",
      " |  \n",
      " |  It uses the LAPACK implementation of the full SVD or a randomized truncated\n",
      " |  SVD by the method of Halko et al. 2009, depending on the shape of the input\n",
      " |  data and the number of components to extract.\n",
      " |  \n",
      " |  It can also use the scipy.sparse.linalg ARPACK implementation of the\n",
      " |  truncated SVD.\n",
      " |  \n",
      " |  Notice that this class does not support sparse input. See\n",
      " |  :class:`TruncatedSVD` for an alternative with sparse data.\n",
      " |  \n",
      " |  Read more in the :ref:`User Guide <PCA>`.\n",
      " |  \n",
      " |  Parameters\n",
      " |  ----------\n",
      " |  n_components : int, float or 'mle', default=None\n",
      " |      Number of components to keep.\n",
      " |      if n_components is not set all components are kept::\n",
      " |  \n",
      " |          n_components == min(n_samples, n_features)\n",
      " |  \n",
      " |      If ``n_components == 'mle'`` and ``svd_solver == 'full'``, Minka's\n",
      " |      MLE is used to guess the dimension. Use of ``n_components == 'mle'``\n",
      " |      will interpret ``svd_solver == 'auto'`` as ``svd_solver == 'full'``.\n",
      " |  \n",
      " |      If ``0 < n_components < 1`` and ``svd_solver == 'full'``, select the\n",
      " |      number of components such that the amount of variance that needs to be\n",
      " |      explained is greater than the percentage specified by n_components.\n",
      " |  \n",
      " |      If ``svd_solver == 'arpack'``, the number of components must be\n",
      " |      strictly less than the minimum of n_features and n_samples.\n",
      " |  \n",
      " |      Hence, the None case results in::\n",
      " |  \n",
      " |          n_components == min(n_samples, n_features) - 1\n",
      " |  \n",
      " |  copy : bool, default=True\n",
      " |      If False, data passed to fit are overwritten and running\n",
      " |      fit(X).transform(X) will not yield the expected results,\n",
      " |      use fit_transform(X) instead.\n",
      " |  \n",
      " |  whiten : bool, default=False\n",
      " |      When True (False by default) the `components_` vectors are multiplied\n",
      " |      by the square root of n_samples and then divided by the singular values\n",
      " |      to ensure uncorrelated outputs with unit component-wise variances.\n",
      " |  \n",
      " |      Whitening will remove some information from the transformed signal\n",
      " |      (the relative variance scales of the components) but can sometime\n",
      " |      improve the predictive accuracy of the downstream estimators by\n",
      " |      making their data respect some hard-wired assumptions.\n",
      " |  \n",
      " |  svd_solver : {'auto', 'full', 'arpack', 'randomized'}, default='auto'\n",
      " |      If auto :\n",
      " |          The solver is selected by a default policy based on `X.shape` and\n",
      " |          `n_components`: if the input data is larger than 500x500 and the\n",
      " |          number of components to extract is lower than 80% of the smallest\n",
      " |          dimension of the data, then the more efficient 'randomized'\n",
      " |          method is enabled. Otherwise the exact full SVD is computed and\n",
      " |          optionally truncated afterwards.\n",
      " |      If full :\n",
      " |          run exact full SVD calling the standard LAPACK solver via\n",
      " |          `scipy.linalg.svd` and select the components by postprocessing\n",
      " |      If arpack :\n",
      " |          run SVD truncated to n_components calling ARPACK solver via\n",
      " |          `scipy.sparse.linalg.svds`. It requires strictly\n",
      " |          0 < n_components < min(X.shape)\n",
      " |      If randomized :\n",
      " |          run randomized SVD by the method of Halko et al.\n",
      " |  \n",
      " |      .. versionadded:: 0.18.0\n",
      " |  \n",
      " |  tol : float, default=0.0\n",
      " |      Tolerance for singular values computed by svd_solver == 'arpack'.\n",
      " |      Must be of range [0.0, infinity).\n",
      " |  \n",
      " |      .. versionadded:: 0.18.0\n",
      " |  \n",
      " |  iterated_power : int or 'auto', default='auto'\n",
      " |      Number of iterations for the power method computed by\n",
      " |      svd_solver == 'randomized'.\n",
      " |      Must be of range [0, infinity).\n",
      " |  \n",
      " |      .. versionadded:: 0.18.0\n",
      " |  \n",
      " |  random_state : int, RandomState instance or None, default=None\n",
      " |      Used when the 'arpack' or 'randomized' solvers are used. Pass an int\n",
      " |      for reproducible results across multiple function calls.\n",
      " |      See :term:`Glossary <random_state>`.\n",
      " |  \n",
      " |      .. versionadded:: 0.18.0\n",
      " |  \n",
      " |  Attributes\n",
      " |  ----------\n",
      " |  components_ : ndarray of shape (n_components, n_features)\n",
      " |      Principal axes in feature space, representing the directions of\n",
      " |      maximum variance in the data. Equivalently, the right singular\n",
      " |      vectors of the centered input data, parallel to its eigenvectors.\n",
      " |      The components are sorted by ``explained_variance_``.\n",
      " |  \n",
      " |  explained_variance_ : ndarray of shape (n_components,)\n",
      " |      The amount of variance explained by each of the selected components.\n",
      " |      The variance estimation uses `n_samples - 1` degrees of freedom.\n",
      " |  \n",
      " |      Equal to n_components largest eigenvalues\n",
      " |      of the covariance matrix of X.\n",
      " |  \n",
      " |      .. versionadded:: 0.18\n",
      " |  \n",
      " |  explained_variance_ratio_ : ndarray of shape (n_components,)\n",
      " |      Percentage of variance explained by each of the selected components.\n",
      " |  \n",
      " |      If ``n_components`` is not set then all components are stored and the\n",
      " |      sum of the ratios is equal to 1.0.\n",
      " |  \n",
      " |  singular_values_ : ndarray of shape (n_components,)\n",
      " |      The singular values corresponding to each of the selected components.\n",
      " |      The singular values are equal to the 2-norms of the ``n_components``\n",
      " |      variables in the lower-dimensional space.\n",
      " |  \n",
      " |      .. versionadded:: 0.19\n",
      " |  \n",
      " |  mean_ : ndarray of shape (n_features,)\n",
      " |      Per-feature empirical mean, estimated from the training set.\n",
      " |  \n",
      " |      Equal to `X.mean(axis=0)`.\n",
      " |  \n",
      " |  n_components_ : int\n",
      " |      The estimated number of components. When n_components is set\n",
      " |      to 'mle' or a number between 0 and 1 (with svd_solver == 'full') this\n",
      " |      number is estimated from input data. Otherwise it equals the parameter\n",
      " |      n_components, or the lesser value of n_features and n_samples\n",
      " |      if n_components is None.\n",
      " |  \n",
      " |  n_features_ : int\n",
      " |      Number of features in the training data.\n",
      " |  \n",
      " |  n_samples_ : int\n",
      " |      Number of samples in the training data.\n",
      " |  \n",
      " |  noise_variance_ : float\n",
      " |      The estimated noise covariance following the Probabilistic PCA model\n",
      " |      from Tipping and Bishop 1999. See \"Pattern Recognition and\n",
      " |      Machine Learning\" by C. Bishop, 12.2.1 p. 574 or\n",
      " |      http://www.miketipping.com/papers/met-mppca.pdf. It is required to\n",
      " |      compute the estimated data covariance and score samples.\n",
      " |  \n",
      " |      Equal to the average of (min(n_features, n_samples) - n_components)\n",
      " |      smallest eigenvalues of the covariance matrix of X.\n",
      " |  \n",
      " |  n_features_in_ : int\n",
      " |      Number of features seen during :term:`fit`.\n",
      " |  \n",
      " |      .. versionadded:: 0.24\n",
      " |  \n",
      " |  feature_names_in_ : ndarray of shape (`n_features_in_`,)\n",
      " |      Names of features seen during :term:`fit`. Defined only when `X`\n",
      " |      has feature names that are all strings.\n",
      " |  \n",
      " |      .. versionadded:: 1.0\n",
      " |  \n",
      " |  See Also\n",
      " |  --------\n",
      " |  KernelPCA : Kernel Principal Component Analysis.\n",
      " |  SparsePCA : Sparse Principal Component Analysis.\n",
      " |  TruncatedSVD : Dimensionality reduction using truncated SVD.\n",
      " |  IncrementalPCA : Incremental Principal Component Analysis.\n",
      " |  \n",
      " |  References\n",
      " |  ----------\n",
      " |  For n_components == 'mle', this class uses the method from:\n",
      " |  `Minka, T. P.. \"Automatic choice of dimensionality for PCA\".\n",
      " |  In NIPS, pp. 598-604 <https://tminka.github.io/papers/pca/minka-pca.pdf>`_\n",
      " |  \n",
      " |  Implements the probabilistic PCA model from:\n",
      " |  `Tipping, M. E., and Bishop, C. M. (1999). \"Probabilistic principal\n",
      " |  component analysis\". Journal of the Royal Statistical Society:\n",
      " |  Series B (Statistical Methodology), 61(3), 611-622.\n",
      " |  <http://www.miketipping.com/papers/met-mppca.pdf>`_\n",
      " |  via the score and score_samples methods.\n",
      " |  \n",
      " |  For svd_solver == 'arpack', refer to `scipy.sparse.linalg.svds`.\n",
      " |  \n",
      " |  For svd_solver == 'randomized', see:\n",
      " |  `Halko, N., Martinsson, P. G., and Tropp, J. A. (2011).\n",
      " |  \"Finding structure with randomness: Probabilistic algorithms for\n",
      " |  constructing approximate matrix decompositions\".\n",
      " |  SIAM review, 53(2), 217-288.\n",
      " |  <https://doi.org/10.1137/090771806>`_\n",
      " |  and also\n",
      " |  `Martinsson, P. G., Rokhlin, V., and Tygert, M. (2011).\n",
      " |  \"A randomized algorithm for the decomposition of matrices\".\n",
      " |  Applied and Computational Harmonic Analysis, 30(1), 47-68\n",
      " |  <https://doi.org/10.1016/j.acha.2010.02.003>`_.\n",
      " |  \n",
      " |  Examples\n",
      " |  --------\n",
      " |  >>> import numpy as np\n",
      " |  >>> from sklearn.decomposition import PCA\n",
      " |  >>> X = np.array([[-1, -1], [-2, -1], [-3, -2], [1, 1], [2, 1], [3, 2]])\n",
      " |  >>> pca = PCA(n_components=2)\n",
      " |  >>> pca.fit(X)\n",
      " |  PCA(n_components=2)\n",
      " |  >>> print(pca.explained_variance_ratio_)\n",
      " |  [0.9924... 0.0075...]\n",
      " |  >>> print(pca.singular_values_)\n",
      " |  [6.30061... 0.54980...]\n",
      " |  \n",
      " |  >>> pca = PCA(n_components=2, svd_solver='full')\n",
      " |  >>> pca.fit(X)\n",
      " |  PCA(n_components=2, svd_solver='full')\n",
      " |  >>> print(pca.explained_variance_ratio_)\n",
      " |  [0.9924... 0.00755...]\n",
      " |  >>> print(pca.singular_values_)\n",
      " |  [6.30061... 0.54980...]\n",
      " |  \n",
      " |  >>> pca = PCA(n_components=1, svd_solver='arpack')\n",
      " |  >>> pca.fit(X)\n",
      " |  PCA(n_components=1, svd_solver='arpack')\n",
      " |  >>> print(pca.explained_variance_ratio_)\n",
      " |  [0.99244...]\n",
      " |  >>> print(pca.singular_values_)\n",
      " |  [6.30061...]\n",
      " |  \n",
      " |  Method resolution order:\n",
      " |      PCA\n",
      " |      sklearn.decomposition._base._BasePCA\n",
      " |      sklearn.base.TransformerMixin\n",
      " |      sklearn.base.BaseEstimator\n",
      " |      builtins.object\n",
      " |  \n",
      " |  Methods defined here:\n",
      " |  \n",
      " |  __init__(self, n_components=None, *, copy=True, whiten=False, svd_solver='auto', tol=0.0, iterated_power='auto', random_state=None)\n",
      " |      Initialize self.  See help(type(self)) for accurate signature.\n",
      " |  \n",
      " |  fit(self, X, y=None)\n",
      " |      Fit the model with X.\n",
      " |      \n",
      " |      Parameters\n",
      " |      ----------\n",
      " |      X : array-like of shape (n_samples, n_features)\n",
      " |          Training data, where `n_samples` is the number of samples\n",
      " |          and `n_features` is the number of features.\n",
      " |      \n",
      " |      y : Ignored\n",
      " |          Ignored.\n",
      " |      \n",
      " |      Returns\n",
      " |      -------\n",
      " |      self : object\n",
      " |          Returns the instance itself.\n",
      " |  \n",
      " |  fit_transform(self, X, y=None)\n",
      " |      Fit the model with X and apply the dimensionality reduction on X.\n",
      " |      \n",
      " |      Parameters\n",
      " |      ----------\n",
      " |      X : array-like of shape (n_samples, n_features)\n",
      " |          Training data, where `n_samples` is the number of samples\n",
      " |          and `n_features` is the number of features.\n",
      " |      \n",
      " |      y : Ignored\n",
      " |          Ignored.\n",
      " |      \n",
      " |      Returns\n",
      " |      -------\n",
      " |      X_new : ndarray of shape (n_samples, n_components)\n",
      " |          Transformed values.\n",
      " |      \n",
      " |      Notes\n",
      " |      -----\n",
      " |      This method returns a Fortran-ordered array. To convert it to a\n",
      " |      C-ordered array, use 'np.ascontiguousarray'.\n",
      " |  \n",
      " |  score(self, X, y=None)\n",
      " |      Return the average log-likelihood of all samples.\n",
      " |      \n",
      " |      See. \"Pattern Recognition and Machine Learning\"\n",
      " |      by C. Bishop, 12.2.1 p. 574\n",
      " |      or http://www.miketipping.com/papers/met-mppca.pdf\n",
      " |      \n",
      " |      Parameters\n",
      " |      ----------\n",
      " |      X : array-like of shape (n_samples, n_features)\n",
      " |          The data.\n",
      " |      \n",
      " |      y : Ignored\n",
      " |          Ignored.\n",
      " |      \n",
      " |      Returns\n",
      " |      -------\n",
      " |      ll : float\n",
      " |          Average log-likelihood of the samples under the current model.\n",
      " |  \n",
      " |  score_samples(self, X)\n",
      " |      Return the log-likelihood of each sample.\n",
      " |      \n",
      " |      See. \"Pattern Recognition and Machine Learning\"\n",
      " |      by C. Bishop, 12.2.1 p. 574\n",
      " |      or http://www.miketipping.com/papers/met-mppca.pdf\n",
      " |      \n",
      " |      Parameters\n",
      " |      ----------\n",
      " |      X : array-like of shape (n_samples, n_features)\n",
      " |          The data.\n",
      " |      \n",
      " |      Returns\n",
      " |      -------\n",
      " |      ll : ndarray of shape (n_samples,)\n",
      " |          Log-likelihood of each sample under the current model.\n",
      " |  \n",
      " |  ----------------------------------------------------------------------\n",
      " |  Data and other attributes defined here:\n",
      " |  \n",
      " |  __abstractmethods__ = frozenset()\n",
      " |  \n",
      " |  ----------------------------------------------------------------------\n",
      " |  Methods inherited from sklearn.decomposition._base._BasePCA:\n",
      " |  \n",
      " |  get_covariance(self)\n",
      " |      Compute data covariance with the generative model.\n",
      " |      \n",
      " |      ``cov = components_.T * S**2 * components_ + sigma2 * eye(n_features)``\n",
      " |      where S**2 contains the explained variances, and sigma2 contains the\n",
      " |      noise variances.\n",
      " |      \n",
      " |      Returns\n",
      " |      -------\n",
      " |      cov : array of shape=(n_features, n_features)\n",
      " |          Estimated covariance of data.\n",
      " |  \n",
      " |  get_precision(self)\n",
      " |      Compute data precision matrix with the generative model.\n",
      " |      \n",
      " |      Equals the inverse of the covariance but computed with\n",
      " |      the matrix inversion lemma for efficiency.\n",
      " |      \n",
      " |      Returns\n",
      " |      -------\n",
      " |      precision : array, shape=(n_features, n_features)\n",
      " |          Estimated precision of data.\n",
      " |  \n",
      " |  inverse_transform(self, X)\n",
      " |      Transform data back to its original space.\n",
      " |      \n",
      " |      In other words, return an input `X_original` whose transform would be X.\n",
      " |      \n",
      " |      Parameters\n",
      " |      ----------\n",
      " |      X : array-like of shape (n_samples, n_components)\n",
      " |          New data, where `n_samples` is the number of samples\n",
      " |          and `n_components` is the number of components.\n",
      " |      \n",
      " |      Returns\n",
      " |      -------\n",
      " |      X_original array-like of shape (n_samples, n_features)\n",
      " |          Original data, where `n_samples` is the number of samples\n",
      " |          and `n_features` is the number of features.\n",
      " |      \n",
      " |      Notes\n",
      " |      -----\n",
      " |      If whitening is enabled, inverse_transform will compute the\n",
      " |      exact inverse operation, which includes reversing whitening.\n",
      " |  \n",
      " |  transform(self, X)\n",
      " |      Apply dimensionality reduction to X.\n",
      " |      \n",
      " |      X is projected on the first principal components previously extracted\n",
      " |      from a training set.\n",
      " |      \n",
      " |      Parameters\n",
      " |      ----------\n",
      " |      X : array-like of shape (n_samples, n_features)\n",
      " |          New data, where `n_samples` is the number of samples\n",
      " |          and `n_features` is the number of features.\n",
      " |      \n",
      " |      Returns\n",
      " |      -------\n",
      " |      X_new : array-like of shape (n_samples, n_components)\n",
      " |          Projection of X in the first principal components, where `n_samples`\n",
      " |          is the number of samples and `n_components` is the number of the components.\n",
      " |  \n",
      " |  ----------------------------------------------------------------------\n",
      " |  Data descriptors inherited from sklearn.base.TransformerMixin:\n",
      " |  \n",
      " |  __dict__\n",
      " |      dictionary for instance variables (if defined)\n",
      " |  \n",
      " |  __weakref__\n",
      " |      list of weak references to the object (if defined)\n",
      " |  \n",
      " |  ----------------------------------------------------------------------\n",
      " |  Methods inherited from sklearn.base.BaseEstimator:\n",
      " |  \n",
      " |  __getstate__(self)\n",
      " |  \n",
      " |  __repr__(self, N_CHAR_MAX=700)\n",
      " |      Return repr(self).\n",
      " |  \n",
      " |  __setstate__(self, state)\n",
      " |  \n",
      " |  get_params(self, deep=True)\n",
      " |      Get parameters for this estimator.\n",
      " |      \n",
      " |      Parameters\n",
      " |      ----------\n",
      " |      deep : bool, default=True\n",
      " |          If True, will return the parameters for this estimator and\n",
      " |          contained subobjects that are estimators.\n",
      " |      \n",
      " |      Returns\n",
      " |      -------\n",
      " |      params : dict\n",
      " |          Parameter names mapped to their values.\n",
      " |  \n",
      " |  set_params(self, **params)\n",
      " |      Set the parameters of this estimator.\n",
      " |      \n",
      " |      The method works on simple estimators as well as on nested objects\n",
      " |      (such as :class:`~sklearn.pipeline.Pipeline`). The latter have\n",
      " |      parameters of the form ``<component>__<parameter>`` so that it's\n",
      " |      possible to update each component of a nested object.\n",
      " |      \n",
      " |      Parameters\n",
      " |      ----------\n",
      " |      **params : dict\n",
      " |          Estimator parameters.\n",
      " |      \n",
      " |      Returns\n",
      " |      -------\n",
      " |      self : estimator instance\n",
      " |          Estimator instance.\n",
      "\n"
     ]
    }
   ],
   "source": [
    "help(PCA)"
   ]
  },
  {
   "cell_type": "markdown",
   "id": "43eb19ca",
   "metadata": {},
   "source": [
    "OK, that is a lot of information. Don't worry, you don't need to understand all the options you have with this function. Sometimes, it is easier to look at the `help()` for a function online. The `help`-generated webpage for a function contains the same information as you have just exported using the `help()` function, but it is nicely formatted and easier to read. [This is the help page for the `PCA` function](https://scikit-learn.org/stable/modules/generated/sklearn.decomposition.PCA.html) \n",
    "\n",
    "What you need to keep in mind is that the syntax (the way you call the function in Python) is a bit different from what you are used to so far. It works as follows: First you create an object that contains the settings you want for your PCA. Then you `fit` that object on your data to get PCA results. We'll go through it step by step below:"
   ]
  },
  {
   "cell_type": "code",
   "execution_count": 5,
   "id": "44b76e05",
   "metadata": {},
   "outputs": [],
   "source": [
    "pca = PCA() # We first call the PCA function to create our PCA object"
   ]
  },
  {
   "cell_type": "markdown",
   "id": "1349e763",
   "metadata": {},
   "source": [
    "Note that we did not specify any settings for our PCA, which means we are using the default settings. You can find out what these are in the `help()` documentation."
   ]
  },
  {
   "cell_type": "code",
   "execution_count": 6,
   "id": "f0edc351",
   "metadata": {},
   "outputs": [
    {
     "name": "stdout",
     "output_type": "stream",
     "text": [
      "[[-1.88074345e-01  3.69874498e-02 -4.63494717e-04  5.16868873e-04\n",
      "  -9.79141661e-03  1.12782642e-02 -1.23246777e-03  4.67992403e-03\n",
      "  -1.22221233e-07]\n",
      " [-9.39522272e-02 -5.62915198e-03  3.18972321e-02 -1.75453508e-02\n",
      "  -4.71980941e-03 -1.24815732e-02  7.77513297e-03 -7.61927220e-04\n",
      "  -1.66073713e-07]\n",
      " [ 2.22781848e-02  1.22335872e-01 -2.15350114e-02  3.43836085e-03\n",
      "  -6.56711108e-03  3.31338921e-03 -5.13515721e-03 -3.52492079e-03\n",
      "  -2.12924372e-07]\n",
      " [ 9.58426178e-02 -6.67435638e-03  3.63939370e-02 -3.32344566e-03\n",
      "   2.08083831e-03  1.74217977e-02 -3.68494265e-03 -1.78059390e-03\n",
      "   1.37678065e-07]\n",
      " [ 1.88070841e-01  1.74743664e-01 -3.78309775e-03 -8.68828111e-03\n",
      "   8.03089861e-03 -8.93075196e-03 -1.24715771e-03  1.80941159e-03\n",
      "   1.85075936e-07]\n",
      " [ 3.02638330e-01 -6.42516630e-02 -1.94840445e-02  3.22732250e-03\n",
      "   5.96420746e-04  6.53839149e-03  1.47445175e-02  2.11549238e-04\n",
      "  -2.39472038e-08]\n",
      " [ 2.52301755e-01 -1.45695258e-01 -2.44121424e-03 -1.69200483e-03\n",
      "  -1.14381884e-03 -7.88479222e-03 -1.26322656e-02  1.07598040e-03\n",
      "  -7.88336439e-08]\n",
      " [-2.27896918e-01 -3.45786034e-02 -4.93179734e-03  7.13593521e-03\n",
      "   3.02670495e-02  6.25117231e-05  4.12342866e-06 -1.51428912e-04\n",
      "  -6.73620655e-08]\n",
      " [-8.89972628e-02 -2.60494953e-03  1.09526310e-02  3.37187760e-02\n",
      "  -1.01600457e-02 -8.85454696e-03  1.70830783e-03 -3.52461299e-04\n",
      "   1.23232663e-07]\n",
      " [-2.62210976e-01 -7.46330034e-02 -2.66051402e-02 -1.67881811e-02\n",
      "  -8.59300555e-03 -4.62690091e-04 -3.00090764e-04 -1.20553314e-03\n",
      "   2.25375566e-07]]\n"
     ]
    }
   ],
   "source": [
    "scores = pca.fit_transform(data) # Now we apply the new pca object to our data to get our PCA scores\n",
    "print(scores) # Examine the scores"
   ]
  },
  {
   "cell_type": "markdown",
   "id": "9897ab63",
   "metadata": {},
   "source": [
    "The *scores* give you the values for each *principle component* for each sample. Remember that the *principle components* can be regarded as the \"new *variables*\". The *loadings* of the PCA are stored in the variable `pca.components_`:"
   ]
  },
  {
   "cell_type": "code",
   "execution_count": 7,
   "id": "c3294cac",
   "metadata": {},
   "outputs": [
    {
     "name": "stdout",
     "output_type": "stream",
     "text": [
      "[[-0.33026383 -0.35573487 -0.53113316  0.14097372  0.63341633  0.16076671\n",
      "   0.16729972  0.03746676  0.07711909]\n",
      " [-0.29631559 -0.03771173 -0.18654667 -0.10326107 -0.46659827 -0.20970895\n",
      "   0.48793711  0.27219001  0.53986162]\n",
      " [-0.4099983   0.62251186 -0.25912434 -0.01749868 -0.03506799  0.23864521\n",
      "  -0.49779078  0.239155    0.11728888]\n",
      " [ 0.59712807 -0.21309392 -0.46646857 -0.06889125 -0.16287541  0.05133234\n",
      "  -0.22871846  0.54028599 -0.04801691]\n",
      " [ 0.13798129  0.52505633 -0.301006   -0.33671127  0.17936909 -0.25026644\n",
      "   0.47556693 -0.00678853 -0.42459554]\n",
      " [-0.15472797 -0.17663698  0.39554932 -0.71579705  0.31056563 -0.01524277\n",
      "  -0.09580235  0.41007602  0.04483484]\n",
      " [ 0.25617158  0.14043117 -0.08835717 -0.04113676  0.32849313 -0.61484001\n",
      "  -0.2892796  -0.22691666  0.53295981]\n",
      " [-0.2438261  -0.02881007  0.17971275  0.4734539   0.07351084 -0.56616094\n",
      "  -0.06300982  0.49346713 -0.33142336]\n",
      " [-0.33227656 -0.33416283 -0.33345467 -0.33588781 -0.33373011 -0.33039007\n",
      "  -0.33290458 -0.33495577 -0.33220571]]\n"
     ]
    }
   ],
   "source": [
    "print(pca.components_)"
   ]
  },
  {
   "cell_type": "markdown",
   "id": "e57ffd65",
   "metadata": {},
   "source": [
    "In order to obtain a matrix in which columns represent the principal component *loadings* in descending order of explained variability, we need to transpose the `pca.components_` variable:"
   ]
  },
  {
   "cell_type": "code",
   "execution_count": 8,
   "id": "7ae7e94f",
   "metadata": {},
   "outputs": [
    {
     "name": "stdout",
     "output_type": "stream",
     "text": [
      "[[-0.33026383 -0.29631559 -0.4099983   0.59712807  0.13798129 -0.15472797\n",
      "   0.25617158 -0.2438261  -0.33227656]\n",
      " [-0.35573487 -0.03771173  0.62251186 -0.21309392  0.52505633 -0.17663698\n",
      "   0.14043117 -0.02881007 -0.33416283]\n",
      " [-0.53113316 -0.18654667 -0.25912434 -0.46646857 -0.301006    0.39554932\n",
      "  -0.08835717  0.17971275 -0.33345467]\n",
      " [ 0.14097372 -0.10326107 -0.01749868 -0.06889125 -0.33671127 -0.71579705\n",
      "  -0.04113676  0.4734539  -0.33588781]\n",
      " [ 0.63341633 -0.46659827 -0.03506799 -0.16287541  0.17936909  0.31056563\n",
      "   0.32849313  0.07351084 -0.33373011]\n",
      " [ 0.16076671 -0.20970895  0.23864521  0.05133234 -0.25026644 -0.01524277\n",
      "  -0.61484001 -0.56616094 -0.33039007]\n",
      " [ 0.16729972  0.48793711 -0.49779078 -0.22871846  0.47556693 -0.09580235\n",
      "  -0.2892796  -0.06300982 -0.33290458]\n",
      " [ 0.03746676  0.27219001  0.239155    0.54028599 -0.00678853  0.41007602\n",
      "  -0.22691666  0.49346713 -0.33495577]\n",
      " [ 0.07711909  0.53986162  0.11728888 -0.04801691 -0.42459554  0.04483484\n",
      "   0.53295981 -0.33142336 -0.33220571]]\n"
     ]
    }
   ],
   "source": [
    "loadings = np.transpose(pca.components_) # Create a new object with loadings in columns ordered from highest to least amount of explained variance.\n",
    "print(loadings) # Examine the result"
   ]
  },
  {
   "cell_type": "markdown",
   "id": "e6a45ce4",
   "metadata": {},
   "source": [
    "**Question 5:** What type of information can you get from the loadings of your PCA? How can you interpret them?"
   ]
  },
  {
   "cell_type": "markdown",
   "id": "68af3f55",
   "metadata": {},
   "source": [
    "**Answer 5:** The loadings tell you how important each *variable* in the original dataset \"weighs\" (or \"loads\") on each of the new *principle components*. In other words: They tell you how influential each *variable* is for that *component*."
   ]
  },
  {
   "cell_type": "markdown",
   "id": "cc09953e",
   "metadata": {},
   "source": [
    "Let’s plot the loadings of the first principal component. In the code below, note that we use the first column of the `loadings` matrix (`loadings[:, 0]`) to isolate the loadings for the first principle component."
   ]
  },
  {
   "cell_type": "code",
   "execution_count": 9,
   "id": "614178e4",
   "metadata": {},
   "outputs": [
    {
     "data": {
      "text/plain": [
       "Text(0.5, 1.0, 'PC 1')"
      ]
     },
     "execution_count": 9,
     "metadata": {},
     "output_type": "execute_result"
    },
    {
     "data": {
      "image/png": "[encoded data removed]",
      "text/plain": [
       "<Figure size 640x480 with 1 Axes>"
      ]
     },
     "metadata": {},
     "output_type": "display_data"
    }
   ],
   "source": [
    "a = np.arange(1,10) # Create a vector with numbers for the variables\n",
    "plt.figure(2)\n",
    "plt.plot(a, loadings[:, 0], 'o', clip_on = False) # Plot scatter plot of loadings for each variable.\n",
    "plt.plot(a, np.zeros(np.size(a)), color = 'red') # Plot a horizontal red line indicating loading of zero\n",
    "for i, label in enumerate(minerals): # Loop through the variable names (minerals)\n",
    "    plt.text(a[i] + 0.2, loadings[:, 0][i], label, fontsize = 8) # Plot the names of the variables next to the points\n",
    "plt.xlim([1, 9]) # Set the limits for the horizontal axis\n",
    "plt.ylim([-1, 1]) # Set the limits for the vertical axis\n",
    "plt.title('PC 1') # Set the plot title"
   ]
  },
  {
   "cell_type": "markdown",
   "id": "7bc3aea6",
   "metadata": {},
   "source": [
    "**Question 6:** Which variables load highly on the first principal component?"
   ]
  },
  {
   "cell_type": "markdown",
   "id": "e874d4c1",
   "metadata": {},
   "source": [
    "**Answer 6:** Quartz has the highest positive loading on PC1, followed by feldspar, clay and fluorite. Plagioclase loads strongly negative"
   ]
  },
  {
   "cell_type": "markdown",
   "id": "7f84c138",
   "metadata": {},
   "source": [
    "**Question 7:** Knowing what you do about this dataset (refer back to **Lab03** if you don't remember!), what might principle component 1 represent?"
   ]
  },
  {
   "cell_type": "markdown",
   "id": "b9311543",
   "metadata": {},
   "source": [
    "**Answer 7:** The principle component contains high loadings for minerals associated with the sandstone unit. However, the hydrothermal minerals are also present."
   ]
  },
  {
   "cell_type": "markdown",
   "id": "c8942def",
   "metadata": {},
   "source": [
    "**Exercise 5:** Now repeat the process for Principle Component 2 and make your interpretation like you did for the first one by answering **Question 8** and **Question 9** below."
   ]
  },
  {
   "cell_type": "code",
   "execution_count": 10,
   "id": "62132513",
   "metadata": {},
   "outputs": [
    {
     "data": {
      "text/plain": [
       "Text(0.5, 1.0, 'PC 2')"
      ]
     },
     "execution_count": 10,
     "metadata": {},
     "output_type": "execute_result"
    },
    {
     "data": {
      "image/png": "[encoded data removed]",
      "text/plain": [
       "<Figure size 640x480 with 1 Axes>"
      ]
     },
     "metadata": {},
     "output_type": "display_data"
    }
   ],
   "source": [
    "a = np.arange(1,10) # Create a vector with numbers for the variables\n",
    "plt.figure(2)\n",
    "plt.plot(a, loadings[:, 1], 'o', clip_on = False) # Plot scatter plot of loadings for each variable.\n",
    "plt.plot(a, np.zeros(np.size(a)), color = 'red') # Plot a horizontal red line indicating loading of zero\n",
    "for i, label in enumerate(minerals): # Loop through the variable names (minerals)\n",
    "    plt.text(a[i] + 0.2, loadings[:, 1][i], label, fontsize = 8) # Plot the names of the variables next to the points\n",
    "plt.xlim([1, 9]) # Set the limits for the horizontal axis\n",
    "plt.ylim([-1, 1]) # Set the limits for the vertical axis\n",
    "plt.title('PC 2') # Set the plot title"
   ]
  },
  {
   "cell_type": "markdown",
   "id": "6dea9a6c",
   "metadata": {},
   "source": [
    "**Question 8:** Which variables load strongly on principle component 2?"
   ]
  },
  {
   "cell_type": "markdown",
   "id": "5598490e",
   "metadata": {},
   "source": [
    "**Answer 8:** Principle component 2 is highly loaded by fluorite, sphalerite and galenite"
   ]
  },
  {
   "cell_type": "markdown",
   "id": "4a710081",
   "metadata": {},
   "source": [
    "**Question 9:** What might principle component 2 represent?"
   ]
  },
  {
   "cell_type": "markdown",
   "id": "4c598140",
   "metadata": {},
   "source": [
    "**Answer 9:**  It is almost certain that it represents the hydrothermal vain."
   ]
  },
  {
   "cell_type": "markdown",
   "id": "0c5a4274",
   "metadata": {},
   "source": [
    "Now we will make a cross plot of the loadings of the first two principle components:"
   ]
  },
  {
   "cell_type": "code",
   "execution_count": 11,
   "id": "b0b13396",
   "metadata": {},
   "outputs": [
    {
     "data": {
      "text/plain": [
       "Text(0, 0.5, 'PC2 loadings')"
      ]
     },
     "execution_count": 11,
     "metadata": {},
     "output_type": "execute_result"
    },
    {
     "data": {
      "image/png": "[encoded data removed]",
      "text/plain": [
       "<Figure size 640x480 with 1 Axes>"
      ]
     },
     "metadata": {},
     "output_type": "display_data"
    }
   ],
   "source": [
    "plt.figure(4)\n",
    "plt.scatter(loadings[:, 0], loadings[:, 1]) # Plot loadings of PC1 vs PC2\n",
    "plt.xlim([-0.6, 0.8]) # Set horizontal axis limits\n",
    "plt.ylim([-0.6, 0.8]) # Set vertical axis limits\n",
    "plt.axhline(color = 'r') # Create red horizontal line for y = 0\n",
    "plt.axvline(color = 'r') # Create red vertical line for x = 0\n",
    "for i, label in enumerate(minerals):\n",
    "    plt.text(loadings[:, 0][i] + 0.02, loadings[:, 1][i], label, fontsize = 8) # Label the variables\n",
    "plt.xlabel('PC1 loadings') # Provide label for horizontal axis\n",
    "plt.ylabel('PC2 loadings') # Provide label for vertical axis"
   ]
  },
  {
   "cell_type": "markdown",
   "id": "cbbf14cc",
   "metadata": {},
   "source": [
    "**Question 10:** What can we learn from this scatterplot? Does the result surprise you after what you have learned in Lab03 and from your correlation matrix?"
   ]
  },
  {
   "cell_type": "markdown",
   "id": "7aebc938",
   "metadata": {},
   "source": [
    "**Answer 10:** It shows that the variables group together in three groups based on their loadings on PC1 and PC2. It suggests that these are three main variables in the data. It is not very surprising since these are the three dominant rock types (magmatic, hydrothermal and sandstone)"
   ]
  },
  {
   "cell_type": "markdown",
   "id": "9ed1da98",
   "metadata": {},
   "source": [
    "We can also make a scatter plot of the *scores* of the samples (observations) for PC1 and PC2 instead of the *loadings*. The `scores` variable gives the principal component *scores* for all samples."
   ]
  },
  {
   "cell_type": "markdown",
   "id": "734fd65b",
   "metadata": {},
   "source": [
    "**Exercise 6:** Try to make this scores scatterplot yourself for PC1 vs PC2.\n",
    "\n",
    "*Tip*: You can recycle much of the code used for the crossplot above, but be careful with the labels you use for the plot and the limits of your axes."
   ]
  },
  {
   "cell_type": "code",
   "execution_count": 12,
   "id": "6bf2f7c2",
   "metadata": {},
   "outputs": [
    {
     "data": {
      "text/plain": [
       "Text(0, 0.5, 'PC2 scores')"
      ]
     },
     "execution_count": 12,
     "metadata": {},
     "output_type": "execute_result"
    },
    {
     "data": {
      "image/png": "[encoded data removed]",
      "text/plain": [
       "<Figure size 640x480 with 1 Axes>"
      ]
     },
     "metadata": {},
     "output_type": "display_data"
    }
   ],
   "source": [
    "sample = ['Sample_'+ str(i + 1) for i in range(10)] # Create a vector of sample names\n",
    "plt.figure(5)\n",
    "plt.scatter(scores[:, 0], scores[:, 1]) # Plot scores of PC1 vs PC2\n",
    "plt.xlim([-0.3, 0.35]) # Set horizontal axis limits\n",
    "plt.ylim([-0.25, 0.2]) # Set vertical axis limits\n",
    "plt.axhline(color = 'r') # Create red horizontal line for y = 0\n",
    "plt.axvline(color = 'r') # Create red vertical line for x = 0\n",
    "for i, label in enumerate(sample):\n",
    "    plt.text(scores[:, 0][i] + 0.02, scores[:, 1][i], label, fontsize = 8) # Label the variables\n",
    "plt.xlabel('PC1 scores') # Provide label for horizontal axis\n",
    "plt.ylabel('PC2 scores') # Provide label for vertical axis"
   ]
  },
  {
   "cell_type": "markdown",
   "id": "210e329e",
   "metadata": {},
   "source": [
    "**Question 11:** What does this plot tell you about the different samples, especially if you compare it to the loadings crossplot?"
   ]
  },
  {
   "cell_type": "markdown",
   "id": "f63e378d",
   "metadata": {},
   "source": [
    "**Answer 11:** It gives you information how the samples \"score\" for the two first principle components. In combination with the plot above it tells you which of the groups (rock types) is most represented in each sample."
   ]
  },
  {
   "cell_type": "markdown",
   "id": "62488ea4",
   "metadata": {},
   "source": [
    "So far, we have only looked at the first two principle components, but there are more. In fact, a PCA always initially yields a number of components equal to the number of variables in the dataset. However, the amount of variance in the dataset that is explained by a component decreases down the list. To keep track of how much variance each component explains (and therefore how important it is), we can calculate the *eigenvalues* of the components. We do this by dividing the variance explained by each component by the total amount of variance in the dataset, and we multiply by 100% to make the numbers easier to interpret:"
   ]
  },
  {
   "cell_type": "code",
   "execution_count": 13,
   "id": "87934234",
   "metadata": {},
   "outputs": [
    {
     "name": "stdout",
     "output_type": "stream",
     "text": [
      "[8.09622546e+01 1.71584290e+01 8.80544371e-01 4.09999422e-01\n",
      " 2.87499486e-01 1.86784603e-01 1.04907222e-01 9.58126709e-03\n",
      " 4.73847474e-11]\n"
     ]
    }
   ],
   "source": [
    "percent_explained = 100 * pca.explained_variance_ / np.sum(pca.explained_variance_)\n",
    "print(percent_explained)"
   ]
  },
  {
   "cell_type": "markdown",
   "id": "87509a17",
   "metadata": {},
   "source": [
    "To make this result easy to interpret, we can plot these eigenvalues in a scatterplot. The code below should be quite familiar to you now."
   ]
  },
  {
   "cell_type": "code",
   "execution_count": 14,
   "id": "ddcbc3fa",
   "metadata": {},
   "outputs": [
    {
     "data": {
      "text/plain": [
       "Text(0.5, 1.0, 'Eigenvalues per component')"
      ]
     },
     "execution_count": 14,
     "metadata": {},
     "output_type": "execute_result"
    },
    {
     "data": {
      "image/png": "[encoded data removed]",
      "text/plain": [
       "<Figure size 640x480 with 1 Axes>"
      ]
     },
     "metadata": {},
     "output_type": "display_data"
    }
   ],
   "source": [
    "a = np.arange(1, 10) # Create a vector with numbers for the components\n",
    "plt.figure(6)\n",
    "plt.plot(a, percent_explained, 'o', clip_on = False) # Plot scatter plot of eigenvalues for each component.\n",
    "plt.xlim([1, 9]) # Set the limits for the horizontal axis\n",
    "plt.ylim([0, 100]) # Set the limits for the vertical axis\n",
    "plt.xlabel('PCA component') # Provide label for horizontal axis\n",
    "plt.ylabel('Percent of variance explained') # Provide label for vertical axis\n",
    "plt.title('Eigenvalues per component') # Set the plot title"
   ]
  },
  {
   "cell_type": "markdown",
   "id": "19423e6d",
   "metadata": {},
   "source": [
    "Since the entire goal of factor analysis is to **reduce** the data, we want to get rid of those principle components that explain (almost) no variance and only keep the components that are important enough."
   ]
  },
  {
   "cell_type": "markdown",
   "id": "db088ff8",
   "metadata": {},
   "source": [
    "**Question 12:** Where would you draw the line? How many components would you keep? And why?"
   ]
  },
  {
   "cell_type": "markdown",
   "id": "5c3ab783",
   "metadata": {},
   "source": [
    "**Answer 12:** This decision is slightly subjective, but it is probably save to keep only the first two components. PC3 only explains 0.8% of the variance and the other ones even less, so we do not lose much information that way. In addition, the cross plots show that these two components are enough to give us a clear grouping of the data, which is what we want for this dataset."
   ]
  }
 ],
 "metadata": {
  "kernelspec": {
   "display_name": "Python 3 (ipykernel)",
   "language": "python",
   "name": "python3"
  },
  "language_info": {
   "codemirror_mode": {
    "name": "ipython",
    "version": 3
   },
   "file_extension": ".py",
   "mimetype": "text/x-python",
   "name": "python",
   "nbconvert_exporter": "python",
   "pygments_lexer": "ipython3",
   "version": "3.9.12"
  }
 },
 "nbformat": 4,
 "nbformat_minor": 5
}
