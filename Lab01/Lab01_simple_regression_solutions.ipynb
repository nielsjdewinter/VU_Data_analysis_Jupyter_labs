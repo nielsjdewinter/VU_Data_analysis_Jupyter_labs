{
 "cells": [
  {
   "cell_type": "markdown",
   "id": "330446ef",
   "metadata": {},
   "source": [
    "# Lab 01: Correlation and Regression"
   ]
  },
  {
   "cell_type": "markdown",
   "id": "2e596cc6",
   "metadata": {},
   "source": [
    "Author: **N.J. de Winter** (*n.j.de.winter@vu.nl*)<br>\n",
    "Assitant Professor Vrije Universiteit Amsterdam<br>\n",
    "Statistics and Data Analysis Course"
   ]
  },
  {
   "cell_type": "markdown",
   "id": "a01b5ff8",
   "metadata": {},
   "source": [
    "## Learning goals:\n",
    "\n",
    "* Get famliar with Python through Jupyter\n",
    "* Understand and apply tools to assess whether two variables are *correlated*\n",
    "* Learn how to apply *regression* analysis to determine the shape of the *relationship* between two variables:\n",
    "    * Simple linear regression (straight line relationship)\n",
    "    * Polynomial regression (curved line relationship)\n",
    "    * Exponental regression (exponentially growing or decaying relationship)"
   ]
  },
  {
   "cell_type": "markdown",
   "id": "23151643",
   "metadata": {},
   "source": [
    "## Introduction\n",
    "In this lab assignment, you will experiment with the tools in Python used to test correlation and regression.\n",
    "We will start with simple correlation, linear and non-linear regression and work towards multiple and logistic regression in the following Lab assignment.\n",
    "\n",
    "This notebook format makes it possible to include live code in between the text for this assignment. Note that you can also make the assignment by copying the code from the code blocks (marked by `In []`) into your own Python environment (such as Spyder) and run the code there (shortcut: __CTRL + ENTER__ on Windows/Linux and __CMD + ENTER__ on Mac). Working in this Jupyter notebook probably helps you to keep your code more organized."
   ]
  },
  {
   "cell_type": "markdown",
   "id": "b9e83f94",
   "metadata": {},
   "source": [
    "We start each session of Python (and Jupyter) by importing the *packages* we need. We will also use the command `%matplotlib inline` to make it possible to add plots in between our text output. To do so, run the code in the cell below:"
   ]
  },
  {
   "cell_type": "code",
   "execution_count": 1,
   "id": "645b0a6f",
   "metadata": {},
   "outputs": [],
   "source": [
    "%matplotlib inline\n",
    "import pandas as pd # The 'pandas' package helps us to import and manage data\n",
    "import scipy.stats as stats # The 'scipy' package contains statistical formulas we will need\n",
    "import statsmodels.formula.api as smf # The 'statsmodels' package contains the functions needed to do regressions\n",
    "from matplotlib import pyplot as plt # The 'matplotlib' package contains tools needed to plot our data and results"
   ]
  },
  {
   "cell_type": "markdown",
   "id": "e56cb6b8",
   "metadata": {},
   "source": [
    "Running the code above should not immediately yield a visible result, but it loads the functions you will need later into Python. If done correctly, you should see `In [1]` left of the cell above (`In [*]` means the kernel is still processing your code). Note also that the text behind the `#` sign is not part of the code, but lists comments that show what the code does. This is a very handy way to keep your code organized and make sure you remember later on what your code does!"
   ]
  },
  {
   "cell_type": "markdown",
   "id": "e58ef7c0",
   "metadata": {},
   "source": [
    "Now we will load the dataset you will need for this exercise using the code below. Note that for this to work, you will need to place the datafile (`Lab01a.csv`) in the same folder as this notebook."
   ]
  },
  {
   "cell_type": "code",
   "execution_count": 2,
   "id": "2b00c298",
   "metadata": {},
   "outputs": [
    {
     "name": "stdout",
     "output_type": "stream",
     "text": [
      "            Date  Month_since_january_1979  Temperature_anomaly    pCO2\n",
      "0     15/01/1979                       0.0                 0.08  336.56\n",
      "1     15/02/1979                       1.0                -0.10  337.29\n",
      "2     15/03/1979                       2.0                 0.19  337.88\n",
      "3     15/04/1979                       3.0                 0.15  338.32\n",
      "4     15/05/1979                       4.0                 0.03  338.26\n",
      "...          ...                       ...                  ...     ...\n",
      "1336         NaN                       NaN                  NaN     NaN\n",
      "1337         NaN                       NaN                  NaN     NaN\n",
      "1338         NaN                       NaN                  NaN     NaN\n",
      "1339         NaN                       NaN                  NaN     NaN\n",
      "1340         NaN                       NaN                  NaN     NaN\n",
      "\n",
      "[1341 rows x 4 columns]\n"
     ]
    },
    {
     "data": {
      "text/plain": [
       "0.8553185819748022"
      ]
     },
     "execution_count": 2,
     "metadata": {},
     "output_type": "execute_result"
    }
   ],
   "source": [
    "df = pd.read_csv('Lab01a.csv') # Load the data for this assignment into Python and in the Jupyter environment.\n",
    "print(df)\n",
    "df['Month_since_january_1979'].corr(df['Temperature_anomaly'], method = 'pearson')"
   ]
  },
  {
   "cell_type": "markdown",
   "id": "7003a23a",
   "metadata": {},
   "source": [
    "If you run the code of this notebook in your own Python environment, you first need to specify the working directory and then load the data using a slightly different command. The statement `'<Direction to folder containing dataset>'` should be replaced with the directory of the folder on your PC, e.g.: `C:/MyName/Documents/Statistics_and_Data_Analysis/Lab01/`.\n",
    "\n",
    "WARNING: The code below does not need to be run if you are working in Jupyter."
   ]
  },
  {
   "cell_type": "code",
   "execution_count": 3,
   "id": "34a78605",
   "metadata": {},
   "outputs": [
    {
     "ename": "OSError",
     "evalue": "[Errno 22] Invalid argument: '<Direction to folder containing dataset>Lab01a.csv'",
     "output_type": "error",
     "traceback": [
      "\u001b[1;31m---------------------------------------------------------------------------\u001b[0m",
      "\u001b[1;31mOSError\u001b[0m                                   Traceback (most recent call last)",
      "\u001b[1;32m~\\AppData\\Local\\Temp\\ipykernel_26132\\3332068249.py\u001b[0m in \u001b[0;36m<module>\u001b[1;34m\u001b[0m\n\u001b[0;32m      1\u001b[0m \u001b[0mwdir\u001b[0m \u001b[1;33m=\u001b[0m \u001b[1;34m'<Direction to folder containing dataset>'\u001b[0m \u001b[1;31m# Set your working directory to the folder which contains the data\u001b[0m\u001b[1;33m\u001b[0m\u001b[1;33m\u001b[0m\u001b[0m\n\u001b[1;32m----> 2\u001b[1;33m \u001b[0mdf\u001b[0m \u001b[1;33m=\u001b[0m \u001b[0mpd\u001b[0m\u001b[1;33m.\u001b[0m\u001b[0mread_csv\u001b[0m\u001b[1;33m(\u001b[0m\u001b[0mwdir\u001b[0m \u001b[1;33m+\u001b[0m \u001b[1;34m'Lab01a.csv'\u001b[0m\u001b[1;33m)\u001b[0m \u001b[1;31m# Load the data for this assignment from your own instance of Python.\u001b[0m\u001b[1;33m\u001b[0m\u001b[1;33m\u001b[0m\u001b[0m\n\u001b[0m",
      "\u001b[1;32m~\\anaconda3\\lib\\site-packages\\pandas\\util\\_decorators.py\u001b[0m in \u001b[0;36mwrapper\u001b[1;34m(*args, **kwargs)\u001b[0m\n\u001b[0;32m    309\u001b[0m                     \u001b[0mstacklevel\u001b[0m\u001b[1;33m=\u001b[0m\u001b[0mstacklevel\u001b[0m\u001b[1;33m,\u001b[0m\u001b[1;33m\u001b[0m\u001b[1;33m\u001b[0m\u001b[0m\n\u001b[0;32m    310\u001b[0m                 )\n\u001b[1;32m--> 311\u001b[1;33m             \u001b[1;32mreturn\u001b[0m \u001b[0mfunc\u001b[0m\u001b[1;33m(\u001b[0m\u001b[1;33m*\u001b[0m\u001b[0margs\u001b[0m\u001b[1;33m,\u001b[0m \u001b[1;33m**\u001b[0m\u001b[0mkwargs\u001b[0m\u001b[1;33m)\u001b[0m\u001b[1;33m\u001b[0m\u001b[1;33m\u001b[0m\u001b[0m\n\u001b[0m\u001b[0;32m    312\u001b[0m \u001b[1;33m\u001b[0m\u001b[0m\n\u001b[0;32m    313\u001b[0m         \u001b[1;32mreturn\u001b[0m \u001b[0mwrapper\u001b[0m\u001b[1;33m\u001b[0m\u001b[1;33m\u001b[0m\u001b[0m\n",
      "\u001b[1;32m~\\anaconda3\\lib\\site-packages\\pandas\\io\\parsers\\readers.py\u001b[0m in \u001b[0;36mread_csv\u001b[1;34m(filepath_or_buffer, sep, delimiter, header, names, index_col, usecols, squeeze, prefix, mangle_dupe_cols, dtype, engine, converters, true_values, false_values, skipinitialspace, skiprows, skipfooter, nrows, na_values, keep_default_na, na_filter, verbose, skip_blank_lines, parse_dates, infer_datetime_format, keep_date_col, date_parser, dayfirst, cache_dates, iterator, chunksize, compression, thousands, decimal, lineterminator, quotechar, quoting, doublequote, escapechar, comment, encoding, encoding_errors, dialect, error_bad_lines, warn_bad_lines, on_bad_lines, delim_whitespace, low_memory, memory_map, float_precision, storage_options)\u001b[0m\n\u001b[0;32m    678\u001b[0m     \u001b[0mkwds\u001b[0m\u001b[1;33m.\u001b[0m\u001b[0mupdate\u001b[0m\u001b[1;33m(\u001b[0m\u001b[0mkwds_defaults\u001b[0m\u001b[1;33m)\u001b[0m\u001b[1;33m\u001b[0m\u001b[1;33m\u001b[0m\u001b[0m\n\u001b[0;32m    679\u001b[0m \u001b[1;33m\u001b[0m\u001b[0m\n\u001b[1;32m--> 680\u001b[1;33m     \u001b[1;32mreturn\u001b[0m \u001b[0m_read\u001b[0m\u001b[1;33m(\u001b[0m\u001b[0mfilepath_or_buffer\u001b[0m\u001b[1;33m,\u001b[0m \u001b[0mkwds\u001b[0m\u001b[1;33m)\u001b[0m\u001b[1;33m\u001b[0m\u001b[1;33m\u001b[0m\u001b[0m\n\u001b[0m\u001b[0;32m    681\u001b[0m \u001b[1;33m\u001b[0m\u001b[0m\n\u001b[0;32m    682\u001b[0m \u001b[1;33m\u001b[0m\u001b[0m\n",
      "\u001b[1;32m~\\anaconda3\\lib\\site-packages\\pandas\\io\\parsers\\readers.py\u001b[0m in \u001b[0;36m_read\u001b[1;34m(filepath_or_buffer, kwds)\u001b[0m\n\u001b[0;32m    573\u001b[0m \u001b[1;33m\u001b[0m\u001b[0m\n\u001b[0;32m    574\u001b[0m     \u001b[1;31m# Create the parser.\u001b[0m\u001b[1;33m\u001b[0m\u001b[1;33m\u001b[0m\u001b[0m\n\u001b[1;32m--> 575\u001b[1;33m     \u001b[0mparser\u001b[0m \u001b[1;33m=\u001b[0m \u001b[0mTextFileReader\u001b[0m\u001b[1;33m(\u001b[0m\u001b[0mfilepath_or_buffer\u001b[0m\u001b[1;33m,\u001b[0m \u001b[1;33m**\u001b[0m\u001b[0mkwds\u001b[0m\u001b[1;33m)\u001b[0m\u001b[1;33m\u001b[0m\u001b[1;33m\u001b[0m\u001b[0m\n\u001b[0m\u001b[0;32m    576\u001b[0m \u001b[1;33m\u001b[0m\u001b[0m\n\u001b[0;32m    577\u001b[0m     \u001b[1;32mif\u001b[0m \u001b[0mchunksize\u001b[0m \u001b[1;32mor\u001b[0m \u001b[0miterator\u001b[0m\u001b[1;33m:\u001b[0m\u001b[1;33m\u001b[0m\u001b[1;33m\u001b[0m\u001b[0m\n",
      "\u001b[1;32m~\\anaconda3\\lib\\site-packages\\pandas\\io\\parsers\\readers.py\u001b[0m in \u001b[0;36m__init__\u001b[1;34m(self, f, engine, **kwds)\u001b[0m\n\u001b[0;32m    932\u001b[0m \u001b[1;33m\u001b[0m\u001b[0m\n\u001b[0;32m    933\u001b[0m         \u001b[0mself\u001b[0m\u001b[1;33m.\u001b[0m\u001b[0mhandles\u001b[0m\u001b[1;33m:\u001b[0m \u001b[0mIOHandles\u001b[0m \u001b[1;33m|\u001b[0m \u001b[1;32mNone\u001b[0m \u001b[1;33m=\u001b[0m \u001b[1;32mNone\u001b[0m\u001b[1;33m\u001b[0m\u001b[1;33m\u001b[0m\u001b[0m\n\u001b[1;32m--> 934\u001b[1;33m         \u001b[0mself\u001b[0m\u001b[1;33m.\u001b[0m\u001b[0m_engine\u001b[0m \u001b[1;33m=\u001b[0m \u001b[0mself\u001b[0m\u001b[1;33m.\u001b[0m\u001b[0m_make_engine\u001b[0m\u001b[1;33m(\u001b[0m\u001b[0mf\u001b[0m\u001b[1;33m,\u001b[0m \u001b[0mself\u001b[0m\u001b[1;33m.\u001b[0m\u001b[0mengine\u001b[0m\u001b[1;33m)\u001b[0m\u001b[1;33m\u001b[0m\u001b[1;33m\u001b[0m\u001b[0m\n\u001b[0m\u001b[0;32m    935\u001b[0m \u001b[1;33m\u001b[0m\u001b[0m\n\u001b[0;32m    936\u001b[0m     \u001b[1;32mdef\u001b[0m \u001b[0mclose\u001b[0m\u001b[1;33m(\u001b[0m\u001b[0mself\u001b[0m\u001b[1;33m)\u001b[0m\u001b[1;33m:\u001b[0m\u001b[1;33m\u001b[0m\u001b[1;33m\u001b[0m\u001b[0m\n",
      "\u001b[1;32m~\\anaconda3\\lib\\site-packages\\pandas\\io\\parsers\\readers.py\u001b[0m in \u001b[0;36m_make_engine\u001b[1;34m(self, f, engine)\u001b[0m\n\u001b[0;32m   1216\u001b[0m             \u001b[1;31m# \"Union[str, PathLike[str], ReadCsvBuffer[bytes], ReadCsvBuffer[str]]\"\u001b[0m\u001b[1;33m\u001b[0m\u001b[1;33m\u001b[0m\u001b[0m\n\u001b[0;32m   1217\u001b[0m             \u001b[1;31m# , \"str\", \"bool\", \"Any\", \"Any\", \"Any\", \"Any\", \"Any\"\u001b[0m\u001b[1;33m\u001b[0m\u001b[1;33m\u001b[0m\u001b[0m\n\u001b[1;32m-> 1218\u001b[1;33m             self.handles = get_handle(  # type: ignore[call-overload]\n\u001b[0m\u001b[0;32m   1219\u001b[0m                 \u001b[0mf\u001b[0m\u001b[1;33m,\u001b[0m\u001b[1;33m\u001b[0m\u001b[1;33m\u001b[0m\u001b[0m\n\u001b[0;32m   1220\u001b[0m                 \u001b[0mmode\u001b[0m\u001b[1;33m,\u001b[0m\u001b[1;33m\u001b[0m\u001b[1;33m\u001b[0m\u001b[0m\n",
      "\u001b[1;32m~\\anaconda3\\lib\\site-packages\\pandas\\io\\common.py\u001b[0m in \u001b[0;36mget_handle\u001b[1;34m(path_or_buf, mode, encoding, compression, memory_map, is_text, errors, storage_options)\u001b[0m\n\u001b[0;32m    784\u001b[0m         \u001b[1;32mif\u001b[0m \u001b[0mioargs\u001b[0m\u001b[1;33m.\u001b[0m\u001b[0mencoding\u001b[0m \u001b[1;32mand\u001b[0m \u001b[1;34m\"b\"\u001b[0m \u001b[1;32mnot\u001b[0m \u001b[1;32min\u001b[0m \u001b[0mioargs\u001b[0m\u001b[1;33m.\u001b[0m\u001b[0mmode\u001b[0m\u001b[1;33m:\u001b[0m\u001b[1;33m\u001b[0m\u001b[1;33m\u001b[0m\u001b[0m\n\u001b[0;32m    785\u001b[0m             \u001b[1;31m# Encoding\u001b[0m\u001b[1;33m\u001b[0m\u001b[1;33m\u001b[0m\u001b[0m\n\u001b[1;32m--> 786\u001b[1;33m             handle = open(\n\u001b[0m\u001b[0;32m    787\u001b[0m                 \u001b[0mhandle\u001b[0m\u001b[1;33m,\u001b[0m\u001b[1;33m\u001b[0m\u001b[1;33m\u001b[0m\u001b[0m\n\u001b[0;32m    788\u001b[0m                 \u001b[0mioargs\u001b[0m\u001b[1;33m.\u001b[0m\u001b[0mmode\u001b[0m\u001b[1;33m,\u001b[0m\u001b[1;33m\u001b[0m\u001b[1;33m\u001b[0m\u001b[0m\n",
      "\u001b[1;31mOSError\u001b[0m: [Errno 22] Invalid argument: '<Direction to folder containing dataset>Lab01a.csv'"
     ]
    }
   ],
   "source": [
    "wdir = '<Direction to folder containing dataset>' # Set your working directory to the folder which contains the data\n",
    "df = pd.read_csv(wdir + 'Lab01a.csv') # Load the data for this assignment from your own instance of Python."
   ]
  },
  {
   "cell_type": "markdown",
   "id": "529a1285",
   "metadata": {},
   "source": [
    "Now let's visualize our dataset by showing the first couple of rows:"
   ]
  },
  {
   "cell_type": "code",
   "execution_count": 4,
   "id": "001cf514",
   "metadata": {},
   "outputs": [
    {
     "data": {
      "text/html": [
       "<div>\n",
       "<style scoped>\n",
       "    .dataframe tbody tr th:only-of-type {\n",
       "        vertical-align: middle;\n",
       "    }\n",
       "\n",
       "    .dataframe tbody tr th {\n",
       "        vertical-align: top;\n",
       "    }\n",
       "\n",
       "    .dataframe thead th {\n",
       "        text-align: right;\n",
       "    }\n",
       "</style>\n",
       "<table border=\"1\" class=\"dataframe\">\n",
       "  <thead>\n",
       "    <tr style=\"text-align: right;\">\n",
       "      <th></th>\n",
       "      <th>Date</th>\n",
       "      <th>Month_since_january_1979</th>\n",
       "      <th>Temperature_anomaly</th>\n",
       "      <th>pCO2</th>\n",
       "    </tr>\n",
       "  </thead>\n",
       "  <tbody>\n",
       "    <tr>\n",
       "      <th>0</th>\n",
       "      <td>15/01/1979</td>\n",
       "      <td>0.0</td>\n",
       "      <td>0.08</td>\n",
       "      <td>336.56</td>\n",
       "    </tr>\n",
       "    <tr>\n",
       "      <th>1</th>\n",
       "      <td>15/02/1979</td>\n",
       "      <td>1.0</td>\n",
       "      <td>-0.10</td>\n",
       "      <td>337.29</td>\n",
       "    </tr>\n",
       "    <tr>\n",
       "      <th>2</th>\n",
       "      <td>15/03/1979</td>\n",
       "      <td>2.0</td>\n",
       "      <td>0.19</td>\n",
       "      <td>337.88</td>\n",
       "    </tr>\n",
       "    <tr>\n",
       "      <th>3</th>\n",
       "      <td>15/04/1979</td>\n",
       "      <td>3.0</td>\n",
       "      <td>0.15</td>\n",
       "      <td>338.32</td>\n",
       "    </tr>\n",
       "    <tr>\n",
       "      <th>4</th>\n",
       "      <td>15/05/1979</td>\n",
       "      <td>4.0</td>\n",
       "      <td>0.03</td>\n",
       "      <td>338.26</td>\n",
       "    </tr>\n",
       "  </tbody>\n",
       "</table>\n",
       "</div>"
      ],
      "text/plain": [
       "         Date  Month_since_january_1979  Temperature_anomaly    pCO2\n",
       "0  15/01/1979                       0.0                 0.08  336.56\n",
       "1  15/02/1979                       1.0                -0.10  337.29\n",
       "2  15/03/1979                       2.0                 0.19  337.88\n",
       "3  15/04/1979                       3.0                 0.15  338.32\n",
       "4  15/05/1979                       4.0                 0.03  338.26"
      ]
     },
     "execution_count": 4,
     "metadata": {},
     "output_type": "execute_result"
    }
   ],
   "source": [
    "df.head()"
   ]
  },
  {
   "cell_type": "markdown",
   "id": "df8be7f6",
   "metadata": {},
   "source": [
    "The dataset you are looking at contains information about the worldwide monthly temperature anomaly (in degrees C) of the period 1979-2022 relative to the mean global temperature during the period 1951-1980 (`Temperature_anomaly` column). It also lists the concentration of CO2 in the atmosphere measured monthly during this period (in parts per million by volume, or ppmV; `pCO2` column). The first column in your dataset (`Date`) lists the date in dd/mm/yyyy format and the second column numbers the months for easy plotting.\n",
    "\n",
    "This dataset is obtained from the website [__Our World in Data__](https://ourworldindata.org/), which is an excellent source of up-to-date information about climate, food, economic development, biodiversity and other pressing societal issues."
   ]
  },
  {
   "cell_type": "markdown",
   "id": "ef846e04",
   "metadata": {},
   "source": [
    "__Question 1:__ Now that you have seen this dataset, can you think of a few questions we could solve by applying correlation and/or regression analyses on this data?"
   ]
  },
  {
   "cell_type": "markdown",
   "id": "57677b08",
   "metadata": {},
   "source": [
    "__Answer 1:__ We could check if there is a positive correlation between either temperature or CO2 with time to check if there is global warming. We could also investigate the relationship between CO2 and temperature."
   ]
  },
  {
   "cell_type": "markdown",
   "id": "425ff428",
   "metadata": {},
   "source": [
    "## Part 1: Correlation\n",
    "\n",
    "For starters, we might be interested in the correlation between atmospheric CO2 concentrations and global temperature.\n",
    "\n",
    "__Question 2:__ Which metric can help us to determine whether there is a correlation between these two variables?"
   ]
  },
  {
   "cell_type": "markdown",
   "id": "7422b7c0",
   "metadata": {},
   "source": [
    "__Answer 2:__ We can look at Pearson's r"
   ]
  },
  {
   "cell_type": "markdown",
   "id": "16ad027a",
   "metadata": {},
   "source": [
    "Let's try to calculate the Pearson's correlation coefficient between `pCO2` and the `Temperature_anomaly`. We can do thiss with the function `.corr` applied on the two columns in the dataset `df` as follows:"
   ]
  },
  {
   "cell_type": "code",
   "execution_count": 5,
   "id": "2744df99",
   "metadata": {},
   "outputs": [
    {
     "data": {
      "text/plain": [
       "0.8668794368709287"
      ]
     },
     "execution_count": 5,
     "metadata": {},
     "output_type": "execute_result"
    }
   ],
   "source": [
    "# Calculate Pearson's correlation between pCO2 and temperature anomaly\n",
    "df['pCO2'].corr(df['Temperature_anomaly'], method = 'pearson')"
   ]
  },
  {
   "cell_type": "markdown",
   "id": "c96578ac",
   "metadata": {},
   "source": [
    "__Question 3:__ What do you think of this result? Is there a positive or a negative correlation between these two variables? Do you think the correlation is strong?"
   ]
  },
  {
   "cell_type": "markdown",
   "id": "d4ff9d13",
   "metadata": {},
   "source": [
    "__Answer 3:__ The relationship is positive and quite strong"
   ]
  },
  {
   "cell_type": "markdown",
   "id": "f8481633",
   "metadata": {},
   "source": [
    "Have a good look at the code cell above which you used to calculate the Pearson's correlation coefficient to make sure you understand how it works and what it does. You will be calculating more correlation coefficients in this and later assignments!\n",
    "\n",
    "Ïf you are not sure what is going on here, it can be helpful to look at the documentation for the function (`corr` in the pandas, or `pd` package). You can do that by using the `help()` function:"
   ]
  },
  {
   "cell_type": "code",
   "execution_count": 6,
   "id": "8740f26f",
   "metadata": {},
   "outputs": [
    {
     "name": "stdout",
     "output_type": "stream",
     "text": [
      "Help on function corr in module pandas.core.frame:\n",
      "\n",
      "corr(self, method: 'str | Callable[[np.ndarray, np.ndarray], float]' = 'pearson', min_periods: 'int' = 1) -> 'DataFrame'\n",
      "    Compute pairwise correlation of columns, excluding NA/null values.\n",
      "    \n",
      "    Parameters\n",
      "    ----------\n",
      "    method : {'pearson', 'kendall', 'spearman'} or callable\n",
      "        Method of correlation:\n",
      "    \n",
      "        * pearson : standard correlation coefficient\n",
      "        * kendall : Kendall Tau correlation coefficient\n",
      "        * spearman : Spearman rank correlation\n",
      "        * callable: callable with input two 1d ndarrays\n",
      "            and returning a float. Note that the returned matrix from corr\n",
      "            will have 1 along the diagonals and will be symmetric\n",
      "            regardless of the callable's behavior.\n",
      "    min_periods : int, optional\n",
      "        Minimum number of observations required per pair of columns\n",
      "        to have a valid result. Currently only available for Pearson\n",
      "        and Spearman correlation.\n",
      "    \n",
      "    Returns\n",
      "    -------\n",
      "    DataFrame\n",
      "        Correlation matrix.\n",
      "    \n",
      "    See Also\n",
      "    --------\n",
      "    DataFrame.corrwith : Compute pairwise correlation with another\n",
      "        DataFrame or Series.\n",
      "    Series.corr : Compute the correlation between two Series.\n",
      "    \n",
      "    Examples\n",
      "    --------\n",
      "    >>> def histogram_intersection(a, b):\n",
      "    ...     v = np.minimum(a, b).sum().round(decimals=1)\n",
      "    ...     return v\n",
      "    >>> df = pd.DataFrame([(.2, .3), (.0, .6), (.6, .0), (.2, .1)],\n",
      "    ...                   columns=['dogs', 'cats'])\n",
      "    >>> df.corr(method=histogram_intersection)\n",
      "          dogs  cats\n",
      "    dogs   1.0   0.3\n",
      "    cats   0.3   1.0\n",
      "\n"
     ]
    }
   ],
   "source": [
    "# Print the help page for the \"corr\"-function in the pandas library (\"pd\")\n",
    "help(pd.DataFrame.corr)"
   ]
  },
  {
   "cell_type": "markdown",
   "id": "30f85e4c",
   "metadata": {},
   "source": [
    "That's a lot of information, and much of it may be hard to understand at this stage. Don't panic, the most important thing is that you know how to use this function and how to interpret the output.\n",
    "\n",
    "__Exercise 1:__ To test yourself, you can apply the same function as above to see if there are positive or negative trends in `pCO2` and `Temperature_anomaly` with time in our dataset. In other words: You can test whether there are correlations between the `Month_since_january_1979` variable and either the `pCO2` and `Temperature_anomaly` variables in the dataset. Use the code cell below to do so and answer __Question 3__ for the results of these two correlations as well."
   ]
  },
  {
   "cell_type": "code",
   "execution_count": 7,
   "id": "becd536c",
   "metadata": {},
   "outputs": [
    {
     "name": "stdout",
     "output_type": "stream",
     "text": [
      "The correlation between temperature and time is 0.8553185819748022\n",
      "The correlation between pCO2 and time is 0.9928063062698039\n"
     ]
    }
   ],
   "source": [
    "# Calculate Pearson's correlation between date (in months) and temperature anomaly\n",
    "print('The correlation between temperature and time is', df['Month_since_january_1979'].corr(df['Temperature_anomaly'], method = 'pearson'))\n",
    "\n",
    "# Calculate Pearson's correlation between date (in months) and pCO2\n",
    "print('The correlation between pCO2 and time is', df['Month_since_january_1979'].corr(df['pCO2'], method = 'pearson'))\n"
   ]
  },
  {
   "cell_type": "markdown",
   "id": "78fcb252",
   "metadata": {},
   "source": [
    "__Answer 3 (for the new correlations):__ All correlations are strong and positive"
   ]
  },
  {
   "cell_type": "markdown",
   "id": "0aac460e",
   "metadata": {},
   "source": [
    "__Bonus exercise:__ If you payed close attention to the `help()` output for the `corr` function, you might have spotted that there are multiple ways (`methods`) to calculate correlation between variables. If you are curious, you can try out some of the other correlation methods, such as `kendall` and `spearman` on the pairs of variables in our dataset using the empty code cell below. Is the result very different? What does this tell you about the correlation we found?"
   ]
  },
  {
   "cell_type": "code",
   "execution_count": 8,
   "id": "3bc4ae4e",
   "metadata": {},
   "outputs": [
    {
     "name": "stdout",
     "output_type": "stream",
     "text": [
      "The Kendall correlation between pCO2 and temperature is 0.6811290551635875\n",
      "The Spearman correlation between pCO2 and temperature is 0.8742712334485778\n"
     ]
    }
   ],
   "source": [
    "# Bonus exercise: Try calculating correlation coefficients between variables in df using other methods\n",
    "print('The Kendall correlation between pCO2 and temperature is', df['pCO2'].corr(df['Temperature_anomaly'], method = 'kendall'))\n",
    "print('The Spearman correlation between pCO2 and temperature is', df['pCO2'].corr(df['Temperature_anomaly'], method = 'spearman'))\n"
   ]
  },
  {
   "cell_type": "markdown",
   "id": "ec487388",
   "metadata": {},
   "source": [
    "## Part 2: Simple linear regression\n",
    "\n",
    "Now that we have discovered some correlations in our dataset, it is time to properly explore our dataset to verify if our correlations are not messed up by *outliers* or if the *form* of the relationship between our variables is not misleading us. We can do this by creating *scatter plots* of our data.\n",
    "\n",
    "An example of a scatter plot showing the relationship between the temperature anomaly and time (in months) is produced by the code below. You can run it using the familiar shortcut (__CTRL + ENTER__ on Windows/Linux and __CMD + ENTER__ on Mac):"
   ]
  },
  {
   "cell_type": "code",
   "execution_count": 9,
   "id": "77d6747b",
   "metadata": {},
   "outputs": [
    {
     "data": {
      "text/plain": [
       "Text(0, 0.5, 'Temperature anomaly (in degrees C)')"
      ]
     },
     "execution_count": 9,
     "metadata": {},
     "output_type": "execute_result"
    },
    {
     "data": {
      "image/png": "[encoded data removed]",
      "text/plain": [
       "<Figure size 432x288 with 1 Axes>"
      ]
     },
     "metadata": {
      "needs_background": "light"
     },
     "output_type": "display_data"
    }
   ],
   "source": [
    "# Plot temperature anomaly against time\n",
    "plt.scatter(df.Month_since_january_1979, df.Temperature_anomaly, color = 'red', marker = '+')\n",
    "plt.xlabel('# months since January 1979')\n",
    "plt.ylabel('Temperature anomaly (in degrees C)')"
   ]
  },
  {
   "cell_type": "markdown",
   "id": "8a15fb8c",
   "metadata": {},
   "source": [
    "Carefully read the code in the cell above and verify that you understand what it does. You will do much more plotting like this in future assignments!\n",
    "\n",
    "Remember, if you are confused about a function (such as `plt.scatter`), you can use the `help()` function to look up its documentation and find out what it does:"
   ]
  },
  {
   "cell_type": "code",
   "execution_count": 10,
   "id": "684a697b",
   "metadata": {},
   "outputs": [
    {
     "name": "stdout",
     "output_type": "stream",
     "text": [
      "Help on function scatter in module matplotlib.pyplot:\n",
      "\n",
      "scatter(x, y, s=None, c=None, marker=None, cmap=None, norm=None, vmin=None, vmax=None, alpha=None, linewidths=None, *, edgecolors=None, plotnonfinite=False, data=None, **kwargs)\n",
      "    A scatter plot of *y* vs. *x* with varying marker size and/or color.\n",
      "    \n",
      "    Parameters\n",
      "    ----------\n",
      "    x, y : float or array-like, shape (n, )\n",
      "        The data positions.\n",
      "    \n",
      "    s : float or array-like, shape (n, ), optional\n",
      "        The marker size in points**2.\n",
      "        Default is ``rcParams['lines.markersize'] ** 2``.\n",
      "    \n",
      "    c : array-like or list of colors or color, optional\n",
      "        The marker colors. Possible values:\n",
      "    \n",
      "        - A scalar or sequence of n numbers to be mapped to colors using\n",
      "          *cmap* and *norm*.\n",
      "        - A 2D array in which the rows are RGB or RGBA.\n",
      "        - A sequence of colors of length n.\n",
      "        - A single color format string.\n",
      "    \n",
      "        Note that *c* should not be a single numeric RGB or RGBA sequence\n",
      "        because that is indistinguishable from an array of values to be\n",
      "        colormapped. If you want to specify the same RGB or RGBA value for\n",
      "        all points, use a 2D array with a single row.  Otherwise, value-\n",
      "        matching will have precedence in case of a size matching with *x*\n",
      "        and *y*.\n",
      "    \n",
      "        If you wish to specify a single color for all points\n",
      "        prefer the *color* keyword argument.\n",
      "    \n",
      "        Defaults to `None`. In that case the marker color is determined\n",
      "        by the value of *color*, *facecolor* or *facecolors*. In case\n",
      "        those are not specified or `None`, the marker color is determined\n",
      "        by the next color of the ``Axes``' current \"shape and fill\" color\n",
      "        cycle. This cycle defaults to :rc:`axes.prop_cycle`.\n",
      "    \n",
      "    marker : `~.markers.MarkerStyle`, default: :rc:`scatter.marker`\n",
      "        The marker style. *marker* can be either an instance of the class\n",
      "        or the text shorthand for a particular marker.\n",
      "        See :mod:`matplotlib.markers` for more information about marker\n",
      "        styles.\n",
      "    \n",
      "    cmap : str or `~matplotlib.colors.Colormap`, default: :rc:`image.cmap`\n",
      "        A `.Colormap` instance or registered colormap name. *cmap* is only\n",
      "        used if *c* is an array of floats.\n",
      "    \n",
      "    norm : `~matplotlib.colors.Normalize`, default: None\n",
      "        If *c* is an array of floats, *norm* is used to scale the color\n",
      "        data, *c*, in the range 0 to 1, in order to map into the colormap\n",
      "        *cmap*.\n",
      "        If *None*, use the default `.colors.Normalize`.\n",
      "    \n",
      "    vmin, vmax : float, default: None\n",
      "        *vmin* and *vmax* are used in conjunction with the default norm to\n",
      "        map the color array *c* to the colormap *cmap*. If None, the\n",
      "        respective min and max of the color array is used.\n",
      "        It is an error to use *vmin*/*vmax* when *norm* is given.\n",
      "    \n",
      "    alpha : float, default: None\n",
      "        The alpha blending value, between 0 (transparent) and 1 (opaque).\n",
      "    \n",
      "    linewidths : float or array-like, default: :rc:`lines.linewidth`\n",
      "        The linewidth of the marker edges. Note: The default *edgecolors*\n",
      "        is 'face'. You may want to change this as well.\n",
      "    \n",
      "    edgecolors : {'face', 'none', *None*} or color or sequence of color, default: :rc:`scatter.edgecolors`\n",
      "        The edge color of the marker. Possible values:\n",
      "    \n",
      "        - 'face': The edge color will always be the same as the face color.\n",
      "        - 'none': No patch boundary will be drawn.\n",
      "        - A color or sequence of colors.\n",
      "    \n",
      "        For non-filled markers, *edgecolors* is ignored. Instead, the color\n",
      "        is determined like with 'face', i.e. from *c*, *colors*, or\n",
      "        *facecolors*.\n",
      "    \n",
      "    plotnonfinite : bool, default: False\n",
      "        Whether to plot points with nonfinite *c* (i.e. ``inf``, ``-inf``\n",
      "        or ``nan``). If ``True`` the points are drawn with the *bad*\n",
      "        colormap color (see `.Colormap.set_bad`).\n",
      "    \n",
      "    Returns\n",
      "    -------\n",
      "    `~matplotlib.collections.PathCollection`\n",
      "    \n",
      "    Other Parameters\n",
      "    ----------------\n",
      "    data : indexable object, optional\n",
      "        If given, the following parameters also accept a string ``s``, which is\n",
      "        interpreted as ``data[s]`` (unless this raises an exception):\n",
      "    \n",
      "        *x*, *y*, *s*, *linewidths*, *edgecolors*, *c*, *facecolor*, *facecolors*, *color*\n",
      "    **kwargs : `~matplotlib.collections.Collection` properties\n",
      "    \n",
      "    See Also\n",
      "    --------\n",
      "    plot : To plot scatter plots when markers are identical in size and\n",
      "        color.\n",
      "    \n",
      "    Notes\n",
      "    -----\n",
      "    * The `.plot` function will be faster for scatterplots where markers\n",
      "      don't vary in size or color.\n",
      "    \n",
      "    * Any or all of *x*, *y*, *s*, and *c* may be masked arrays, in which\n",
      "      case all masks will be combined and only unmasked points will be\n",
      "      plotted.\n",
      "    \n",
      "    * Fundamentally, scatter works with 1D arrays; *x*, *y*, *s*, and *c*\n",
      "      may be input as N-D arrays, but within scatter they will be\n",
      "      flattened. The exception is *c*, which will be flattened only if its\n",
      "      size matches the size of *x* and *y*.\n",
      "\n"
     ]
    }
   ],
   "source": [
    "help(plt.scatter)"
   ]
  },
  {
   "cell_type": "markdown",
   "id": "f7603d3c",
   "metadata": {},
   "source": [
    "__Exercise 2:__ To test whether you understand how to plot *scatter plots*, create plots of pCO2 vs time and pCO2 vs Temperature anomany in the two code cells below by modifying the code in the cell above used to plot Temperature anomaly vs time. Differentiate these scatter plots from each other by changing plot aesthetics such as the type of plotting symbol (`marker`), the color of the symbols (`col`) or the shading of the symbol (`alpha`). Use the help statement you ran in the previous code cell to guide your coding."
   ]
  },
  {
   "cell_type": "code",
   "execution_count": 11,
   "id": "05ac8f21",
   "metadata": {},
   "outputs": [
    {
     "data": {
      "text/plain": [
       "Text(0, 0.5, 'pCO2 (in ppmV)')"
      ]
     },
     "execution_count": 11,
     "metadata": {},
     "output_type": "execute_result"
    },
    {
     "data": {
      "image/png": "[encoded data removed]",
      "text/plain": [
       "<Figure size 432x288 with 1 Axes>"
      ]
     },
     "metadata": {
      "needs_background": "light"
     },
     "output_type": "display_data"
    }
   ],
   "source": [
    "# Plot pCO2 against time\n",
    "plt.scatter(df.Month_since_january_1979, df.pCO2, color = 'green', marker = 'o')\n",
    "plt.xlabel('# months since January 1979')\n",
    "plt.ylabel('pCO2 (in ppmV)')"
   ]
  },
  {
   "cell_type": "code",
   "execution_count": 12,
   "id": "39da18d7",
   "metadata": {},
   "outputs": [
    {
     "data": {
      "text/plain": [
       "Text(0, 0.5, 'Temperature anomaly (in degrees C)')"
      ]
     },
     "execution_count": 12,
     "metadata": {},
     "output_type": "execute_result"
    },
    {
     "data": {
      "image/png": "[encoded data removed]",
      "text/plain": [
       "<Figure size 432x288 with 1 Axes>"
      ]
     },
     "metadata": {
      "needs_background": "light"
     },
     "output_type": "display_data"
    }
   ],
   "source": [
    "# Plot pCO2 against Temperature anomaly\n",
    "plt.scatter(df.pCO2, df.Temperature_anomaly, color = 'blue', marker = '.')\n",
    "plt.xlabel('pCO2 (in ppmV)')\n",
    "plt.ylabel('Temperature anomaly (in degrees C)')"
   ]
  },
  {
   "cell_type": "markdown",
   "id": "4c5e67c3",
   "metadata": {},
   "source": [
    "We will now explore the shape of the relationship between pCO2 and Temperature using our dataset. To do so, we can run a *simple linear regression* using the __ordinary least squares (ols)__ algorithm we have discussed in the lectures. We will use the built-in function `smf.ols()` from the `statsmodels` package we loaded at the beginning of the assignment to do this:"
   ]
  },
  {
   "cell_type": "code",
   "execution_count": 13,
   "id": "8e70a877",
   "metadata": {},
   "outputs": [],
   "source": [
    "regression1 = smf.ols(formula = \"df.Temperature_anomaly ~ df.pCO2\", data = df).fit()"
   ]
  },
  {
   "cell_type": "markdown",
   "id": "3bc1f740",
   "metadata": {},
   "source": [
    "Another new function! Make sure you understand what this one does as well. You know by now how to search for its documentation if you feel lost.\n",
    "\n",
    "The object `regression1` contains all the information about our regression model. Let's print the regression coefficients:"
   ]
  },
  {
   "cell_type": "code",
   "execution_count": 14,
   "id": "f51e62b8",
   "metadata": {},
   "outputs": [
    {
     "name": "stdout",
     "output_type": "stream",
     "text": [
      "The regression coefficients are:\n",
      " Intercept   -3.309034\n",
      "df.pCO2      0.010288\n",
      "dtype: float64\n"
     ]
    }
   ],
   "source": [
    "print('The regression coefficients are:\\n', regression1.params)"
   ]
  },
  {
   "cell_type": "markdown",
   "id": "64708c69",
   "metadata": {},
   "source": [
    "The `\\n` in the code above is used to create a new line, very handy when printing output!"
   ]
  },
  {
   "cell_type": "markdown",
   "id": "2fb1caca",
   "metadata": {},
   "source": [
    "__Question 4:__ What is the meaning of the slope and intercept in this context?"
   ]
  },
  {
   "cell_type": "markdown",
   "id": "e82dab32",
   "metadata": {},
   "source": [
    "__Answer 4:__ The slope is the warming (in degrees C) for each ppmV increase in pCO2. The intercept is the temperature anomaly for a pCO2 value of 0."
   ]
  },
  {
   "cell_type": "markdown",
   "id": "c1fed450",
   "metadata": {},
   "source": [
    "We can now use these coefficients to plot the regression line on top of our data:"
   ]
  },
  {
   "cell_type": "code",
   "execution_count": 15,
   "id": "8b8b7dfb",
   "metadata": {},
   "outputs": [
    {
     "data": {
      "text/plain": [
       "[<matplotlib.lines.Line2D at 0x14187ecb3d0>]"
      ]
     },
     "execution_count": 15,
     "metadata": {},
     "output_type": "execute_result"
    },
    {
     "data": {
      "image/png": "[encoded data removed]",
      "text/plain": [
       "<Figure size 432x288 with 1 Axes>"
      ]
     },
     "metadata": {
      "needs_background": "light"
     },
     "output_type": "display_data"
    }
   ],
   "source": [
    "# Plot the result of simple linear regression between pCO2 and temperature\n",
    "plt.scatter(df.pCO2, df.Temperature_anomaly, color = 'red', marker = '+')\n",
    "plt.xlabel('Atmospheric pCO2 (ppmV)')\n",
    "plt.ylabel('Temperature anomany (degrees C)')\n",
    "plt.plot(df.pCO2, regression1.params[0] + regression1.params[1] * df.pCO2, color = 'blue')"
   ]
  },
  {
   "cell_type": "markdown",
   "id": "6b9e2044",
   "metadata": {},
   "source": [
    "__Qeustion 5:__ What do you think of this result? Does the regression line capture the relationship between the variables well?"
   ]
  },
  {
   "cell_type": "markdown",
   "id": "2c177d78",
   "metadata": {},
   "source": [
    "__Answer 5:__ It seems to capture the trend reasonably well. The residuals look quite random."
   ]
  },
  {
   "cell_type": "markdown",
   "id": "de00537d",
   "metadata": {},
   "source": [
    "To test our relationship, we can calculate the F-value and p-value of the regression. Python can do this for us with one simple command:"
   ]
  },
  {
   "cell_type": "code",
   "execution_count": 16,
   "id": "4d9339f7",
   "metadata": {},
   "outputs": [
    {
     "name": "stdout",
     "output_type": "stream",
     "text": [
      "                              OLS Regression Results                              \n",
      "==================================================================================\n",
      "Dep. Variable:     df.Temperature_anomaly   R-squared:                       0.751\n",
      "Model:                                OLS   Adj. R-squared:                  0.751\n",
      "Method:                     Least Squares   F-statistic:                     1581.\n",
      "Date:                    Thu, 28 Sep 2023   Prob (F-statistic):          3.10e-160\n",
      "Time:                            17:05:54   Log-Likelihood:                 294.95\n",
      "No. Observations:                     525   AIC:                            -585.9\n",
      "Df Residuals:                         523   BIC:                            -577.4\n",
      "Df Model:                               1                                         \n",
      "Covariance Type:                nonrobust                                         \n",
      "==============================================================================\n",
      "                 coef    std err          t      P>|t|      [0.025      0.975]\n",
      "------------------------------------------------------------------------------\n",
      "Intercept     -3.3090      0.097    -34.272      0.000      -3.499      -3.119\n",
      "df.pCO2        0.0103      0.000     39.768      0.000       0.010       0.011\n",
      "==============================================================================\n",
      "Omnibus:                       17.507   Durbin-Watson:                   0.822\n",
      "Prob(Omnibus):                  0.000   Jarque-Bera (JB):               21.637\n",
      "Skew:                           0.342   Prob(JB):                     2.00e-05\n",
      "Kurtosis:                       3.722   Cond. No.                     5.97e+03\n",
      "==============================================================================\n",
      "\n",
      "Notes:\n",
      "[1] Standard Errors assume that the covariance matrix of the errors is correctly specified.\n",
      "[2] The condition number is large, 5.97e+03. This might indicate that there are\n",
      "strong multicollinearity or other numerical problems.\n"
     ]
    }
   ],
   "source": [
    "print(regression1.summary())"
   ]
  },
  {
   "cell_type": "markdown",
   "id": "99d85e80",
   "metadata": {},
   "source": [
    "OK, that's a lot of information... Python just calculated a whole bunch of statistical metrics for this regression. The ones we are interested in are the R<sup>2</sup> value (`R-squared`), the F-value (`F-statistic`) and the p-value (or 'probability': `Prob (F-statistic)`). You can also find the slope and intercept in this overview, as well as statistics on how certain we are about them (see `std err` values)."
   ]
  },
  {
   "cell_type": "markdown",
   "id": "784b979a",
   "metadata": {},
   "source": [
    "__Question 6:__ At a 95% significance level (alpha = 0.05), is this linear relationship statistically significant?"
   ]
  },
  {
   "cell_type": "markdown",
   "id": "f2f67fc1",
   "metadata": {},
   "source": [
    "__Answer 6:__ p-value is 3.1 * 10<sup>-160</sup>, so this regression is certainly significant!"
   ]
  },
  {
   "cell_type": "markdown",
   "id": "c22a92ed",
   "metadata": {},
   "source": [
    "__Question 7:__ How much of the variance in our pCO2 vs Temperature_anomaly dataset is explained by this linear relationship?"
   ]
  },
  {
   "cell_type": "markdown",
   "id": "1fa9f52a",
   "metadata": {},
   "source": [
    "__Answer 7:__ R<sup>2</sup> = 0.751, so about 75% of the variance is explained by the model."
   ]
  },
  {
   "cell_type": "markdown",
   "id": "cbd2a537",
   "metadata": {},
   "source": [
    "__Question 8:__ Based on our dataset over the period 1979-2022 and our simple linear regression, how much global warming would you expect if pCO2 increases by 100 ppmV? Can you give an uncertainty for this estimate? (Hint: use the standard error, or `std err` on the relevant regression coefficient)"
   ]
  },
  {
   "cell_type": "markdown",
   "id": "72298b6b",
   "metadata": {},
   "source": [
    "__Answer 8:__ The slope is 0.0103 degrees C / ppmV, so 100 ppmV should amount to a temperature increase of 1.03 degrees. The standard error on the slope is less than 0.001, so the error on this estimate is less than 0.1 degrees C."
   ]
  },
  {
   "cell_type": "markdown",
   "id": "3efcdce9",
   "metadata": {},
   "source": [
    "__Question 9:__ The [__Intergovernmental Panel on Climate Change (IPCC)__](https://www.ipcc.ch/report/ar6/wg1/) considers various __Shared Socioeconomic Pathways__ in their projections for future climate. One of the more moderate scenarios (SSP2-4.5) predicts an atmospheric CO2 concentration of about 500 ppmV in the year 2100. Using the relationship you created in this exercise, what would you expect the temperature anomaly (global warming relative to the period 1951-1980) to be by the end of this century? Is this a realistic estimate? Can you see any problems with this way of projecting future climate?"
   ]
  },
  {
   "cell_type": "markdown",
   "id": "ad835c8a",
   "metadata": {},
   "source": [
    "__Answer 9:__ The pCO2 at the reference time (1951-1980) is about 340 ppmV. An increase to 500 ppmV with a slope of 0.0103 would therefore yield a temperature anomaly of 160 * 0.0103 = 1.65 degrees C. This is less than the models of SSP2-4.5 predict (their prediction is in the order of 2.5 degrees C). We are using a very short timespan to predict the future, and this extrapolation is therefore likely inaccurate."
   ]
  },
  {
   "cell_type": "markdown",
   "id": "961342fd",
   "metadata": {},
   "source": [
    "## Part 3: Polynomial regression\n",
    "\n",
    "To more thoroughly explore the trends in greenhouse gas concentrations and temperature on Earth, we will zoom out a bit and look at a dataset that goes further back in time.\n",
    "\n",
    "__Exercise 3:__ Use the code cell below to load this new dataset, which is called `Lab01b.csv`. You can reuse the code you used at the beginning of the assignment to load `Lab01a.csv`.\n",
    "\n",
    "To prevent confusion between these two datasets, you will need to assign this new dataset a different name from the old one (which was called `df`). We will (rather uncreatively) go with the name `df2` for the remainder of this exercise, but you can give it another name if you like. Just remember that you need to be consistent with your names, otherwise Python will not understand to which object or dataset you are referring to."
   ]
  },
  {
   "cell_type": "code",
   "execution_count": 17,
   "id": "ef88f160",
   "metadata": {},
   "outputs": [],
   "source": [
    "df2 = pd.read_csv('Lab01b.csv') # Load the second dataset for this assignment in the Jupyter environment."
   ]
  },
  {
   "cell_type": "markdown",
   "id": "ab56dac1",
   "metadata": {},
   "source": [
    "This dataset contains annual average values of `pCO2` (atmospheric CO2 concentrations; in ppmV), `pCH4` (methane concentration; in ppb), `pN2O` (nitrous oxide concentration; in ppb) and `SST` (sea surface temperature anomalies; in degrees C relative to 1951-1980).\n",
    "\n",
    "__Exercise 4:__ You can inspect this dataset using the `head()` or `print()` commands you used before. Do so using the code cell below."
   ]
  },
  {
   "cell_type": "code",
   "execution_count": 18,
   "id": "3e1fae40",
   "metadata": {},
   "outputs": [
    {
     "name": "stdout",
     "output_type": "stream",
     "text": [
      "     Year        pCO2         pCH4        pN2O      SST\n",
      "0    1850  284.001634   801.420000  275.400000 -0.30950\n",
      "1    1851  287.128113          NaN         NaN -0.19337\n",
      "2    1852         NaN          NaN         NaN -0.18339\n",
      "3    1853         NaN          NaN         NaN -0.21098\n",
      "4    1854  288.054438          NaN         NaN -0.26843\n",
      "..    ...         ...          ...         ...      ...\n",
      "168  2018  408.520833  1857.420833  330.914167  0.61641\n",
      "169  2019  411.417500  1866.668333  331.886667  0.71702\n",
      "170  2020  413.944167  1879.099167  333.038333  0.70991\n",
      "171  2021  416.108333  1895.463333  334.322500  0.63219\n",
      "172  2022  417.978000  1907.667500  335.455000      NaN\n",
      "\n",
      "[173 rows x 5 columns]\n"
     ]
    }
   ],
   "source": [
    "# Inspect the new dataset\n",
    "print(df2)"
   ]
  },
  {
   "cell_type": "markdown",
   "id": "0052bcfb",
   "metadata": {},
   "source": [
    "__Question 10:__ What is striking about this dataset?"
   ]
  },
  {
   "cell_type": "markdown",
   "id": "a5e519a4",
   "metadata": {},
   "source": [
    "__Answer 10:__ The dataset contains \"NaN\" values."
   ]
  },
  {
   "cell_type": "markdown",
   "id": "747b2fb2",
   "metadata": {},
   "source": [
    "CO2, CH4 and N2O are all greenhouse gases, so we expect them to covary with temperature.\n",
    "\n",
    "__Exercise 5:__ Use the code cell below to calculate the Pearson's correlation coefficient between each of the greenhouse gases and temperature for the time period 1850-2022. You can use the `corr` function and the code you used in Part 1 of this assignment.\n",
    "\n",
    "Do you think the presence of `NaN` values poses a problem? Hint: Check the `help()` entry for the `corr` function you printed above to check this. It is good to be aware of empty values in your dataset, as they can have a big impact on your data analysis!"
   ]
  },
  {
   "cell_type": "code",
   "execution_count": 19,
   "id": "631b0246",
   "metadata": {},
   "outputs": [
    {
     "name": "stdout",
     "output_type": "stream",
     "text": [
      "The correlation between pCO2 and SST is 0.9258572816073056\n",
      "The correlation between pCH4 and SST is 0.9027164444722533\n",
      "The correlation between pN2O and SST is 0.9560131506685947\n"
     ]
    }
   ],
   "source": [
    "# Calculate Pearson's correlation between pCO2 and temperature anomaly\n",
    "print('The correlation between pCO2 and SST is', df2['pCO2'].corr(df2['SST'], method = 'pearson'))\n",
    "\n",
    "# Calculate Pearson's correlation between pCH4 and temperature anomaly\n",
    "print('The correlation between pCH4 and SST is', df2['pCH4'].corr(df2['SST'], method = 'pearson'))\n",
    "\n",
    "# Calculate Pearson's correlation between pN2O and temperature anomaly\n",
    "print('The correlation between pN2O and SST is', df2['pN2O'].corr(df2['SST'], method = 'pearson'))\n"
   ]
  },
  {
   "cell_type": "markdown",
   "id": "8364b88a",
   "metadata": {},
   "source": [
    "__Question 11:__ Which of these greenhouse gas concentrations show a positive correlation with sea surface temperature? Is there a strong correlation?"
   ]
  },
  {
   "cell_type": "markdown",
   "id": "6304202e",
   "metadata": {},
   "source": [
    "__Answer 11:__ All of them show a very strong correlation."
   ]
  },
  {
   "cell_type": "markdown",
   "id": "541a4369",
   "metadata": {},
   "source": [
    "We will focus on the CO2 concentration now, and specifically on its trend through time."
   ]
  },
  {
   "cell_type": "markdown",
   "id": "1361316c",
   "metadata": {},
   "source": [
    "__Exercise 6:__ Use your newly gained experience with Python (and the code examples above) to create a plot of pCO2 with time (`Year`) in the code cell below. "
   ]
  },
  {
   "cell_type": "code",
   "execution_count": 20,
   "id": "0cf8357c",
   "metadata": {},
   "outputs": [
    {
     "data": {
      "text/plain": [
       "Text(0, 0.5, 'pCO2 (in ppmV)')"
      ]
     },
     "execution_count": 20,
     "metadata": {},
     "output_type": "execute_result"
    },
    {
     "data": {
      "image/png": "[encoded data removed]",
      "text/plain": [
       "<Figure size 432x288 with 1 Axes>"
      ]
     },
     "metadata": {
      "needs_background": "light"
     },
     "output_type": "display_data"
    }
   ],
   "source": [
    "# Plot pCO2 vs time\n",
    "plt.scatter(df2.Year, df2.pCO2, color = 'green', marker = '+')\n",
    "plt.xlabel('Year')\n",
    "plt.ylabel('pCO2 (in ppmV)')"
   ]
  },
  {
   "cell_type": "markdown",
   "id": "1e8a91aa",
   "metadata": {},
   "source": [
    "__Exercise 7:__ Repeat the steps in Part 2 of this assignment to calculate a linear regression through the pCO2 time trend and plot the regression result on top of the pCO2 dataset. Use the code cell below.\n",
    "\n",
    "Think carefully about how you name the new regression object! Remember that Python cannot remember two objects of the same name, and make sure you give a new object a name that allows you to remember what is stored in the object."
   ]
  },
  {
   "cell_type": "code",
   "execution_count": 21,
   "id": "eeeb48ad",
   "metadata": {},
   "outputs": [
    {
     "name": "stdout",
     "output_type": "stream",
     "text": [
      "The regression coefficients are:\n",
      " Intercept   -1008.320818\n",
      "df2.Year        0.685790\n",
      "dtype: float64\n",
      "                            OLS Regression Results                            \n",
      "==============================================================================\n",
      "Dep. Variable:               df2.pCO2   R-squared:                       0.824\n",
      "Model:                            OLS   Adj. R-squared:                  0.823\n",
      "Method:                 Least Squares   F-statistic:                     613.5\n",
      "Date:                Thu, 28 Sep 2023   Prob (F-statistic):           2.87e-51\n",
      "Time:                        17:06:13   Log-Likelihood:                -551.53\n",
      "No. Observations:                 133   AIC:                             1107.\n",
      "Df Residuals:                     131   BIC:                             1113.\n",
      "Df Model:                           1                                         \n",
      "Covariance Type:            nonrobust                                         \n",
      "==============================================================================\n",
      "                 coef    std err          t      P>|t|      [0.025      0.975]\n",
      "------------------------------------------------------------------------------\n",
      "Intercept  -1008.3208     53.968    -18.684      0.000   -1115.083    -901.559\n",
      "df2.Year       0.6858      0.028     24.769      0.000       0.631       0.741\n",
      "==============================================================================\n",
      "Omnibus:                       10.556   Durbin-Watson:                   0.014\n",
      "Prob(Omnibus):                  0.005   Jarque-Bera (JB):               11.071\n",
      "Skew:                           0.672   Prob(JB):                      0.00394\n",
      "Kurtosis:                       2.561   Cond. No.                     7.87e+04\n",
      "==============================================================================\n",
      "\n",
      "Notes:\n",
      "[1] Standard Errors assume that the covariance matrix of the errors is correctly specified.\n",
      "[2] The condition number is large, 7.87e+04. This might indicate that there are\n",
      "strong multicollinearity or other numerical problems.\n"
     ]
    },
    {
     "data": {
      "image/png": "[encoded data removed]",
      "text/plain": [
       "<Figure size 432x288 with 1 Axes>"
      ]
     },
     "metadata": {
      "needs_background": "light"
     },
     "output_type": "display_data"
    }
   ],
   "source": [
    "# Create linear regression between pCO2 and Year in dataset df2\n",
    "regression2 = smf.ols(formula = \"df2.pCO2 ~ df2.Year\", data = df2).fit()\n",
    "\n",
    "# Print the regression coefficients of the new linear regression\n",
    "print('The regression coefficients are:\\n', regression2.params)\n",
    "\n",
    "# Plot pCO2 vs time with the linear regression line on top of the data\n",
    "plt.scatter(df2.Year, df2.pCO2, color = 'green', marker = '+')\n",
    "plt.xlabel('Year')\n",
    "plt.ylabel('pCO2 (ppmV)')\n",
    "plt.plot(df2.Year, regression2.params[0] + regression2.params[1] * df2.Year, color = 'blue')\n",
    "\n",
    "# Print the regression summary to check the strength and the significance of the linear model\n",
    "print(regression2.summary())"
   ]
  },
  {
   "cell_type": "markdown",
   "id": "c045425a",
   "metadata": {},
   "source": [
    "__Question 12:__ Do you think the linear regression approximates the form of the dataset well? What do the R<sup>2</sup>, F and p-value statistics tell you?"
   ]
  },
  {
   "cell_type": "markdown",
   "id": "c7773b7c",
   "metadata": {},
   "source": [
    "__Answer 12:__ No, the trend in pCO2 is clearly not linear, even though all the statistics look good. The scatter plot shows us that the residuals are not randomly distributed around the regression line. We need a better model."
   ]
  },
  {
   "cell_type": "markdown",
   "id": "4868da61",
   "metadata": {},
   "source": [
    "The exercise above shows you how important it is to look at scatter plots of your data instead of blindly executing statistical tests. I think you would agree that we can think of better models to approximate the rise of pCO2 since the Industrial Revolution."
   ]
  },
  {
   "cell_type": "markdown",
   "id": "6d5b92db",
   "metadata": {},
   "source": [
    "We will try a __polynomial regression__ to better approximate our pCO2 data. For this to work, we need to import some additional functions from the `sklearn` package, which we will need to preprocess our data for a polynomial regression. You can do so by running the code below."
   ]
  },
  {
   "cell_type": "code",
   "execution_count": 22,
   "id": "f2773e70",
   "metadata": {},
   "outputs": [],
   "source": [
    "from sklearn.preprocessing import PolynomialFeatures # Import functions needed for polynomial preprocessing"
   ]
  },
  {
   "cell_type": "markdown",
   "id": "521dd031",
   "metadata": {},
   "source": [
    "We can use the same OLS function as we used for linear regression to do a polynomial regression, but we need to pre-process our data first. For this we use the `PolynomialFeatures` function we just loaded. We will start by approximating the pCO2 data with a second degree polynomial function. Such a function contains a constant, a first order term and a second order term, yielding a function of the form:\n",
    "\n",
    "$(y = a + b1 * x + b2 * x^2)$\n",
    "\n",
    "Our OLS model will estimate values for `a`, `b1` and `b2`, but we will first transform our independent variable (in this case `Year`) to let Python know we will fit a polynomial function. Use the code below to do this, and inspect the resulting object."
   ]
  },
  {
   "cell_type": "code",
   "execution_count": 23,
   "id": "2602ea67",
   "metadata": {},
   "outputs": [
    {
     "name": "stdout",
     "output_type": "stream",
     "text": [
      "[[1.850000e+03 3.422500e+06]\n",
      " [1.851000e+03 3.426201e+06]\n",
      " [1.852000e+03 3.429904e+06]\n",
      " [1.853000e+03 3.433609e+06]\n",
      " [1.854000e+03 3.437316e+06]\n",
      " [1.855000e+03 3.441025e+06]\n",
      " [1.856000e+03 3.444736e+06]\n",
      " [1.857000e+03 3.448449e+06]\n",
      " [1.858000e+03 3.452164e+06]\n",
      " [1.859000e+03 3.455881e+06]\n",
      " [1.860000e+03 3.459600e+06]\n",
      " [1.861000e+03 3.463321e+06]\n",
      " [1.862000e+03 3.467044e+06]\n",
      " [1.863000e+03 3.470769e+06]\n",
      " [1.864000e+03 3.474496e+06]\n",
      " [1.865000e+03 3.478225e+06]\n",
      " [1.866000e+03 3.481956e+06]\n",
      " [1.867000e+03 3.485689e+06]\n",
      " [1.868000e+03 3.489424e+06]\n",
      " [1.869000e+03 3.493161e+06]\n",
      " [1.870000e+03 3.496900e+06]\n",
      " [1.871000e+03 3.500641e+06]\n",
      " [1.872000e+03 3.504384e+06]\n",
      " [1.873000e+03 3.508129e+06]\n",
      " [1.874000e+03 3.511876e+06]\n",
      " [1.875000e+03 3.515625e+06]\n",
      " [1.876000e+03 3.519376e+06]\n",
      " [1.877000e+03 3.523129e+06]\n",
      " [1.878000e+03 3.526884e+06]\n",
      " [1.879000e+03 3.530641e+06]\n",
      " [1.880000e+03 3.534400e+06]\n",
      " [1.881000e+03 3.538161e+06]\n",
      " [1.882000e+03 3.541924e+06]\n",
      " [1.883000e+03 3.545689e+06]\n",
      " [1.884000e+03 3.549456e+06]\n",
      " [1.885000e+03 3.553225e+06]\n",
      " [1.886000e+03 3.556996e+06]\n",
      " [1.887000e+03 3.560769e+06]\n",
      " [1.888000e+03 3.564544e+06]\n",
      " [1.889000e+03 3.568321e+06]\n",
      " [1.890000e+03 3.572100e+06]\n",
      " [1.891000e+03 3.575881e+06]\n",
      " [1.892000e+03 3.579664e+06]\n",
      " [1.893000e+03 3.583449e+06]\n",
      " [1.894000e+03 3.587236e+06]\n",
      " [1.895000e+03 3.591025e+06]\n",
      " [1.896000e+03 3.594816e+06]\n",
      " [1.897000e+03 3.598609e+06]\n",
      " [1.898000e+03 3.602404e+06]\n",
      " [1.899000e+03 3.606201e+06]\n",
      " [1.900000e+03 3.610000e+06]\n",
      " [1.901000e+03 3.613801e+06]\n",
      " [1.902000e+03 3.617604e+06]\n",
      " [1.903000e+03 3.621409e+06]\n",
      " [1.904000e+03 3.625216e+06]\n",
      " [1.905000e+03 3.629025e+06]\n",
      " [1.906000e+03 3.632836e+06]\n",
      " [1.907000e+03 3.636649e+06]\n",
      " [1.908000e+03 3.640464e+06]\n",
      " [1.909000e+03 3.644281e+06]\n",
      " [1.910000e+03 3.648100e+06]\n",
      " [1.911000e+03 3.651921e+06]\n",
      " [1.912000e+03 3.655744e+06]\n",
      " [1.913000e+03 3.659569e+06]\n",
      " [1.914000e+03 3.663396e+06]\n",
      " [1.915000e+03 3.667225e+06]\n",
      " [1.916000e+03 3.671056e+06]\n",
      " [1.917000e+03 3.674889e+06]\n",
      " [1.918000e+03 3.678724e+06]\n",
      " [1.919000e+03 3.682561e+06]\n",
      " [1.920000e+03 3.686400e+06]\n",
      " [1.921000e+03 3.690241e+06]\n",
      " [1.922000e+03 3.694084e+06]\n",
      " [1.923000e+03 3.697929e+06]\n",
      " [1.924000e+03 3.701776e+06]\n",
      " [1.925000e+03 3.705625e+06]\n",
      " [1.926000e+03 3.709476e+06]\n",
      " [1.927000e+03 3.713329e+06]\n",
      " [1.928000e+03 3.717184e+06]\n",
      " [1.929000e+03 3.721041e+06]\n",
      " [1.930000e+03 3.724900e+06]\n",
      " [1.931000e+03 3.728761e+06]\n",
      " [1.932000e+03 3.732624e+06]\n",
      " [1.933000e+03 3.736489e+06]\n",
      " [1.934000e+03 3.740356e+06]\n",
      " [1.935000e+03 3.744225e+06]\n",
      " [1.936000e+03 3.748096e+06]\n",
      " [1.937000e+03 3.751969e+06]\n",
      " [1.938000e+03 3.755844e+06]\n",
      " [1.939000e+03 3.759721e+06]\n",
      " [1.940000e+03 3.763600e+06]\n",
      " [1.941000e+03 3.767481e+06]\n",
      " [1.942000e+03 3.771364e+06]\n",
      " [1.943000e+03 3.775249e+06]\n",
      " [1.944000e+03 3.779136e+06]\n",
      " [1.945000e+03 3.783025e+06]\n",
      " [1.946000e+03 3.786916e+06]\n",
      " [1.947000e+03 3.790809e+06]\n",
      " [1.948000e+03 3.794704e+06]\n",
      " [1.949000e+03 3.798601e+06]\n",
      " [1.950000e+03 3.802500e+06]\n",
      " [1.951000e+03 3.806401e+06]\n",
      " [1.952000e+03 3.810304e+06]\n",
      " [1.953000e+03 3.814209e+06]\n",
      " [1.954000e+03 3.818116e+06]\n",
      " [1.955000e+03 3.822025e+06]\n",
      " [1.956000e+03 3.825936e+06]\n",
      " [1.957000e+03 3.829849e+06]\n",
      " [1.958000e+03 3.833764e+06]\n",
      " [1.959000e+03 3.837681e+06]\n",
      " [1.960000e+03 3.841600e+06]\n",
      " [1.961000e+03 3.845521e+06]\n",
      " [1.962000e+03 3.849444e+06]\n",
      " [1.963000e+03 3.853369e+06]\n",
      " [1.964000e+03 3.857296e+06]\n",
      " [1.965000e+03 3.861225e+06]\n",
      " [1.966000e+03 3.865156e+06]\n",
      " [1.967000e+03 3.869089e+06]\n",
      " [1.968000e+03 3.873024e+06]\n",
      " [1.969000e+03 3.876961e+06]\n",
      " [1.970000e+03 3.880900e+06]\n",
      " [1.971000e+03 3.884841e+06]\n",
      " [1.972000e+03 3.888784e+06]\n",
      " [1.973000e+03 3.892729e+06]\n",
      " [1.974000e+03 3.896676e+06]\n",
      " [1.975000e+03 3.900625e+06]\n",
      " [1.976000e+03 3.904576e+06]\n",
      " [1.977000e+03 3.908529e+06]\n",
      " [1.978000e+03 3.912484e+06]\n",
      " [1.979000e+03 3.916441e+06]\n",
      " [1.980000e+03 3.920400e+06]\n",
      " [1.981000e+03 3.924361e+06]\n",
      " [1.982000e+03 3.928324e+06]\n",
      " [1.983000e+03 3.932289e+06]\n",
      " [1.984000e+03 3.936256e+06]\n",
      " [1.985000e+03 3.940225e+06]\n",
      " [1.986000e+03 3.944196e+06]\n",
      " [1.987000e+03 3.948169e+06]\n",
      " [1.988000e+03 3.952144e+06]\n",
      " [1.989000e+03 3.956121e+06]\n",
      " [1.990000e+03 3.960100e+06]\n",
      " [1.991000e+03 3.964081e+06]\n",
      " [1.992000e+03 3.968064e+06]\n",
      " [1.993000e+03 3.972049e+06]\n",
      " [1.994000e+03 3.976036e+06]\n",
      " [1.995000e+03 3.980025e+06]\n",
      " [1.996000e+03 3.984016e+06]\n",
      " [1.997000e+03 3.988009e+06]\n",
      " [1.998000e+03 3.992004e+06]\n",
      " [1.999000e+03 3.996001e+06]\n",
      " [2.000000e+03 4.000000e+06]\n",
      " [2.001000e+03 4.004001e+06]\n",
      " [2.002000e+03 4.008004e+06]\n",
      " [2.003000e+03 4.012009e+06]\n",
      " [2.004000e+03 4.016016e+06]\n",
      " [2.005000e+03 4.020025e+06]\n",
      " [2.006000e+03 4.024036e+06]\n",
      " [2.007000e+03 4.028049e+06]\n",
      " [2.008000e+03 4.032064e+06]\n",
      " [2.009000e+03 4.036081e+06]\n",
      " [2.010000e+03 4.040100e+06]\n",
      " [2.011000e+03 4.044121e+06]\n",
      " [2.012000e+03 4.048144e+06]\n",
      " [2.013000e+03 4.052169e+06]\n",
      " [2.014000e+03 4.056196e+06]\n",
      " [2.015000e+03 4.060225e+06]\n",
      " [2.016000e+03 4.064256e+06]\n",
      " [2.017000e+03 4.068289e+06]\n",
      " [2.018000e+03 4.072324e+06]\n",
      " [2.019000e+03 4.076361e+06]\n",
      " [2.020000e+03 4.080400e+06]\n",
      " [2.021000e+03 4.084441e+06]\n",
      " [2.022000e+03 4.088484e+06]]\n"
     ]
    }
   ],
   "source": [
    "x2 = PolynomialFeatures(2, include_bias = False).fit_transform(df2.Year.values.reshape(-1, 1)) # Transform the independent variable Year for a second degree polynomial regression\n",
    "\n",
    "print(x2) # Inspect the resulting dataframe"
   ]
  },
  {
   "cell_type": "markdown",
   "id": "09b4e474",
   "metadata": {},
   "source": [
    "Make sure you understand what happened here. You can always use the `help()` function to understand what `PolynomialFeatures` does, or Google it."
   ]
  },
  {
   "cell_type": "markdown",
   "id": "3b1ba4a9",
   "metadata": {},
   "source": [
    "We will now perform the polynomial regression. This works much like the linear regression, but with the newly created `x2` as a set of independent variables:"
   ]
  },
  {
   "cell_type": "code",
   "execution_count": 24,
   "id": "4d641c13",
   "metadata": {},
   "outputs": [
    {
     "name": "stdout",
     "output_type": "stream",
     "text": [
      "                            OLS Regression Results                            \n",
      "==============================================================================\n",
      "Dep. Variable:               df2.pCO2   R-squared:                       0.974\n",
      "Model:                            OLS   Adj. R-squared:                  0.973\n",
      "Method:                 Least Squares   F-statistic:                     2411.\n",
      "Date:                Thu, 28 Sep 2023   Prob (F-statistic):          1.74e-103\n",
      "Time:                        17:06:23   Log-Likelihood:                -425.00\n",
      "No. Observations:                 133   AIC:                             856.0\n",
      "Df Residuals:                     130   BIC:                             864.7\n",
      "Df Model:                           2                                         \n",
      "Covariance Type:            nonrobust                                         \n",
      "==============================================================================\n",
      "                 coef    std err          t      P>|t|      [0.025      0.975]\n",
      "------------------------------------------------------------------------------\n",
      "Intercept   2.292e+04    878.990     26.075      0.000    2.12e+04    2.47e+04\n",
      "x2[0]        -24.0022      0.907    -26.471      0.000     -25.796     -22.208\n",
      "x2[1]          0.0064      0.000     27.230      0.000       0.006       0.007\n",
      "==============================================================================\n",
      "Omnibus:                       54.139   Durbin-Watson:                   0.075\n",
      "Prob(Omnibus):                  0.000   Jarque-Bera (JB):                8.549\n",
      "Skew:                           0.142   Prob(JB):                       0.0139\n",
      "Kurtosis:                       1.791   Cond. No.                     6.45e+09\n",
      "==============================================================================\n",
      "\n",
      "Notes:\n",
      "[1] Standard Errors assume that the covariance matrix of the errors is correctly specified.\n",
      "[2] The condition number is large, 6.45e+09. This might indicate that there are\n",
      "strong multicollinearity or other numerical problems.\n"
     ]
    }
   ],
   "source": [
    "polyreg1 = smf.ols('df2.pCO2 ~ x2', data = df2).fit() # Regression of second degree polynomial\n",
    "\n",
    "print(polyreg1.summary())"
   ]
  },
  {
   "cell_type": "markdown",
   "id": "f16b8d16",
   "metadata": {},
   "source": [
    "__Question 13:__ How do the statistics of this polynomial model compare to those of the linear model you calculated before? Which model better describes the data? Which statistical metrics do you use to compare between them?"
   ]
  },
  {
   "cell_type": "markdown",
   "id": "60268a71",
   "metadata": {},
   "source": [
    "__Answer 13:__ The statistics are much better. The R<sup>2</sup> value is higher and the p-value is much lower. Even though both regressions are significant, the polynomial regression performs better."
   ]
  },
  {
   "cell_type": "markdown",
   "id": "47605752",
   "metadata": {},
   "source": [
    "Test the interpretations you made of the model output in the question above by plotting the result of the polynomial regression on top of the data. You can use the code in the cell below.\n",
    "\n",
    "Note how similar this code is to the code you used to plot the linear regression results earlier in this exercise, and verify that you understand how this code works."
   ]
  },
  {
   "cell_type": "code",
   "execution_count": 25,
   "id": "4b4ece60",
   "metadata": {},
   "outputs": [
    {
     "data": {
      "text/plain": [
       "[<matplotlib.lines.Line2D at 0x1418840d430>]"
      ]
     },
     "execution_count": 25,
     "metadata": {},
     "output_type": "execute_result"
    },
    {
     "data": {
      "image/png": "[encoded data removed]",
      "text/plain": [
       "<Figure size 432x288 with 1 Axes>"
      ]
     },
     "metadata": {
      "needs_background": "light"
     },
     "output_type": "display_data"
    }
   ],
   "source": [
    "# Plot pCO2 vs time with the second degree polynomial regression line on top of the data\n",
    "plt.scatter(df2.Year, df2.pCO2, color = 'red', marker = '+')\n",
    "plt.xlabel('Year')\n",
    "plt.ylabel('pCO2 (ppmV)')\n",
    "plt.plot(df2.Year, polyreg1.params[0] + polyreg1.params[1] * df2.Year + polyreg1.params[2] * df2.Year ** 2, color = 'blue')"
   ]
  },
  {
   "cell_type": "markdown",
   "id": "b262d19c",
   "metadata": {},
   "source": [
    "__Exercise 8:__ I think we all agree that this result is an improvement, but maybe we can do better. Repeat the process you went through to estimate and plot the second order polynomial regression through the pCO2 dataset, but now create third and fourth order polynomials. Print the statistics for these models and plot them all together on top of the pCO2 data. Again: watch out how you name your objects and think carefully before you copy and paste code. Use the code cell below:"
   ]
  },
  {
   "cell_type": "code",
   "execution_count": 26,
   "id": "2434926c",
   "metadata": {},
   "outputs": [
    {
     "name": "stdout",
     "output_type": "stream",
     "text": [
      "                            OLS Regression Results                            \n",
      "==============================================================================\n",
      "Dep. Variable:               df2.pCO2   R-squared:                       0.996\n",
      "Model:                            OLS   Adj. R-squared:                  0.996\n",
      "Method:                 Least Squares   F-statistic:                 1.224e+04\n",
      "Date:                Thu, 28 Sep 2023   Prob (F-statistic):          3.63e-158\n",
      "Time:                        17:06:28   Log-Likelihood:                -291.04\n",
      "No. Observations:                 133   AIC:                             590.1\n",
      "Df Residuals:                     129   BIC:                             601.6\n",
      "Df Model:                           3                                         \n",
      "Covariance Type:            nonrobust                                         \n",
      "==============================================================================\n",
      "                 coef    std err          t      P>|t|      [0.025      0.975]\n",
      "------------------------------------------------------------------------------\n",
      "Intercept  -3.897e+05   1.43e+04    -27.336      0.000   -4.18e+05   -3.61e+05\n",
      "x3[0]        615.0217     22.075     27.860      0.000     571.345     658.698\n",
      "x3[1]         -0.3234      0.011    -28.391      0.000      -0.346      -0.301\n",
      "x3[2]        5.67e-05   1.96e-06     28.951      0.000    5.28e-05    6.06e-05\n",
      "==============================================================================\n",
      "Omnibus:                        0.894   Durbin-Watson:                   0.541\n",
      "Prob(Omnibus):                  0.640   Jarque-Bera (JB):                0.554\n",
      "Skew:                           0.134   Prob(JB):                        0.758\n",
      "Kurtosis:                       3.167   Cond. No.                     5.58e+14\n",
      "==============================================================================\n",
      "\n",
      "Notes:\n",
      "[1] Standard Errors assume that the covariance matrix of the errors is correctly specified.\n",
      "[2] The condition number is large, 5.58e+14. This might indicate that there are\n",
      "strong multicollinearity or other numerical problems.\n",
      "                            OLS Regression Results                            \n",
      "==============================================================================\n",
      "Dep. Variable:               df2.pCO2   R-squared:                       0.997\n",
      "Model:                            OLS   Adj. R-squared:                  0.997\n",
      "Method:                 Least Squares   F-statistic:                 1.284e+04\n",
      "Date:                Thu, 28 Sep 2023   Prob (F-statistic):          1.67e-159\n",
      "Time:                        17:06:28   Log-Likelihood:                -287.86\n",
      "No. Observations:                 133   AIC:                             583.7\n",
      "Df Residuals:                     129   BIC:                             595.3\n",
      "Df Model:                           3                                         \n",
      "Covariance Type:            nonrobust                                         \n",
      "==============================================================================\n",
      "                 coef    std err          t      P>|t|      [0.025      0.975]\n",
      "------------------------------------------------------------------------------\n",
      "Intercept     -0.3944      0.015    -26.501      0.000      -0.424      -0.365\n",
      "x4[0]       -190.9013      7.204    -26.501      0.000    -205.154    -176.649\n",
      "x4[1]          0.3015      0.011     27.033      0.000       0.279       0.324\n",
      "x4[2]         -0.0002   5.75e-06    -27.565      0.000      -0.000      -0.000\n",
      "x4[3]        2.78e-08   9.89e-10     28.118      0.000    2.58e-08    2.98e-08\n",
      "==============================================================================\n",
      "Omnibus:                        0.529   Durbin-Watson:                   0.565\n",
      "Prob(Omnibus):                  0.768   Jarque-Bera (JB):                0.281\n",
      "Skew:                           0.100   Prob(JB):                        0.869\n",
      "Kurtosis:                       3.104   Cond. No.                     4.83e+19\n",
      "==============================================================================\n",
      "\n",
      "Notes:\n",
      "[1] Standard Errors assume that the covariance matrix of the errors is correctly specified.\n",
      "[2] The smallest eigenvalue is 1.21e-11. This might indicate that there are\n",
      "strong multicollinearity problems or that the design matrix is singular.\n"
     ]
    },
    {
     "data": {
      "text/plain": [
       "[<matplotlib.lines.Line2D at 0x141888df190>]"
      ]
     },
     "execution_count": 26,
     "metadata": {},
     "output_type": "execute_result"
    },
    {
     "data": {
      "image/png": "[encoded data removed]",
      "text/plain": [
       "<Figure size 432x288 with 1 Axes>"
      ]
     },
     "metadata": {
      "needs_background": "light"
     },
     "output_type": "display_data"
    }
   ],
   "source": [
    "# Transform the independent variable Year for a third and fourth degree polynomial regression\n",
    "x3 = PolynomialFeatures(3, include_bias = False).fit_transform(df2.Year.values.reshape(-1, 1))\n",
    "x4 = PolynomialFeatures(4, include_bias = False).fit_transform(df2.Year.values.reshape(-1, 1))\n",
    "\n",
    "polyreg2 = smf.ols('df2.pCO2 ~ x3', data = df2).fit() # Regression of third degree polynomial\n",
    "polyreg3 = smf.ols('df2.pCO2 ~ x4', data = df2).fit() # Regression of fourth degree polynomial\n",
    "\n",
    "# Print summaries of third and fourth degree polynomial models\n",
    "print(polyreg2.summary())\n",
    "print(polyreg3.summary())\n",
    "\n",
    "# Plot all polynomial models on the data in one plot\n",
    "plt.scatter(df2.Year, df2.pCO2, color = 'red', marker = '+')\n",
    "plt.xlabel('Year')\n",
    "plt.ylabel('pCO2 (ppmV)')\n",
    "plt.plot(df2.Year, polyreg1.params[0] + polyreg1.params[1] * df2.Year + polyreg1.params[2] * df2.Year ** 2, color = 'blue') # 2nd degree polynomial\n",
    "plt.plot(df2.Year, polyreg2.params[0] + polyreg2.params[1] * df2.Year + polyreg2.params[2] * df2.Year ** 2 + polyreg2.params[3] * df2.Year ** 3, color = 'green') # 3rd degree polynomial\n",
    "plt.plot(df2.Year, polyreg3.params[0] + polyreg3.params[1] * df2.Year + polyreg3.params[2] * df2.Year ** 2 + polyreg3.params[3] * df2.Year ** 3 + polyreg3.params[4] * df2.Year ** 4, color = 'orange') # 4th degree polynomial"
   ]
  },
  {
   "cell_type": "markdown",
   "id": "71862065",
   "metadata": {},
   "source": [
    "__Question 14:__ What do you think of the result? Do the added polynomial terms improve the model? If so, do you think adding even more terms would be useful here? Can you find an optimum number of polynomial terms to accurately describe the shape of the pCO2 data while preventing overfitting?"
   ]
  },
  {
   "cell_type": "markdown",
   "id": "42dd191a",
   "metadata": {},
   "source": [
    "__Answer 14:__ The third order model is a clear improvement, but the fourth order model does not improve much over the third order polynomial. I would therefore choose the third order polynomial as the model of choice, as it captures the shape of the data nicely without overfitting. Models with even more terms are unlikely to perform better and will likely overfit the data."
   ]
  },
  {
   "cell_type": "markdown",
   "id": "4ad5b864",
   "metadata": {},
   "source": [
    "__Question 15:__ After what we have learned from looking at a longer timeseries of pCO2, are you still equally confident about your answers to __Question 8 & 9__? If not, what changed your mind?"
   ]
  },
  {
   "cell_type": "markdown",
   "id": "e18433c5",
   "metadata": {},
   "source": [
    "__Answer 15:__ No, looking at a longer time series and fitting a non-linear model shows that the period of 1979-2022 is not really representative of the longer pCO2 trend. We should therefore be careful in extrapolating relationships based on this period."
   ]
  },
  {
   "cell_type": "markdown",
   "id": "2a9cfb97",
   "metadata": {},
   "source": [
    "## Part 4: Exponential regression\n",
    "\n",
    "We will now briefly look at the pCO2 trend since 1850 using another type of regression model: exponential regression. We have discussed this type of regression in the lectures, but as a reminder you will find the general function for exponential regression models below:\n",
    "\n",
    "$(y = c * e^{bx})$\n",
    "\n",
    "However, we need to transform this function into its linear form to be able to use OLS. We can do this by taking the natural logarithm on both sides of the equation:\n",
    "\n",
    "$(log{(y)} = log{(c)} + b * x)$\n",
    "\n",
    "Now this is just a simple linear regression of the form $(y = a + bx)$, but with $y$ replaced by $log{(y)}$ and $a$ by $log{(c)}$. To use it, we first need to transform our dependent variable (pCO2) to its natural logarithm. For that, we need to import the `log()` function from the `numpy` package. After the transformation of our pCO2 variable, we can apply the OLS function to perform the linear regression. This code should look quite familiar to you now."
   ]
  },
  {
   "cell_type": "code",
   "execution_count": 27,
   "id": "320c63b2",
   "metadata": {},
   "outputs": [
    {
     "name": "stdout",
     "output_type": "stream",
     "text": [
      "                            OLS Regression Results                            \n",
      "==============================================================================\n",
      "Dep. Variable:                 logCO2   R-squared:                       0.857\n",
      "Model:                            OLS   Adj. R-squared:                  0.856\n",
      "Method:                 Least Squares   F-statistic:                     788.1\n",
      "Date:                Thu, 28 Sep 2023   Prob (F-statistic):           2.86e-57\n",
      "Time:                        17:06:39   Log-Likelihood:                 238.00\n",
      "No. Observations:                 133   AIC:                            -472.0\n",
      "Df Residuals:                     131   BIC:                            -466.2\n",
      "Df Model:                           1                                         \n",
      "Covariance Type:            nonrobust                                         \n",
      "==============================================================================\n",
      "                 coef    std err          t      P>|t|      [0.025      0.975]\n",
      "------------------------------------------------------------------------------\n",
      "Intercept      1.7859      0.143     12.526      0.000       1.504       2.068\n",
      "df2.Year       0.0021   7.31e-05     28.073      0.000       0.002       0.002\n",
      "==============================================================================\n",
      "Omnibus:                       11.131   Durbin-Watson:                   0.020\n",
      "Prob(Omnibus):                  0.004   Jarque-Bera (JB):                9.421\n",
      "Skew:                           0.563   Prob(JB):                      0.00900\n",
      "Kurtosis:                       2.343   Cond. No.                     7.87e+04\n",
      "==============================================================================\n",
      "\n",
      "Notes:\n",
      "[1] Standard Errors assume that the covariance matrix of the errors is correctly specified.\n",
      "[2] The condition number is large, 7.87e+04. This might indicate that there are\n",
      "strong multicollinearity or other numerical problems.\n"
     ]
    }
   ],
   "source": [
    "import numpy as np # Import the numpy package that contains the log-function\n",
    "\n",
    "logCO2 = np.log(df2.pCO2) # Create a new variable that is the natural logarithm of pCO2\n",
    "\n",
    "expreg1 = smf.ols(formula = \"logCO2 ~ df2.Year\", data = df2).fit() # Perform the 'exponential' regression in its linearized form\n",
    "\n",
    "print(expreg1.summary()) # Print the regression summary"
   ]
  },
  {
   "cell_type": "markdown",
   "id": "0b500d12",
   "metadata": {},
   "source": [
    "__Question 16:__ Based on the statistics of the regression model, how well did the exponential regression perform? How does it compare to the linear and polynomial regressions you created before?"
   ]
  },
  {
   "cell_type": "markdown",
   "id": "7306fe73",
   "metadata": {},
   "source": [
    "__Answer 16:__ The exponential model performs slightly better than the linear model, but worse than the polynomial models."
   ]
  },
  {
   "cell_type": "markdown",
   "id": "c459bbd0",
   "metadata": {},
   "source": [
    "__Exercise 9:__ From the regression results, you can now calculate the parameters of the exponental function ($(y = c * e^{bx})$). Use the code cell below to calculate the parameters and plot the result of the exponential regression on top of the pCO2 data.\n",
    "\n",
    "Tip: The `numpy` package contains the function `np.exp` which can be used to calculate e<sup>x</sup> to convert back from the natural logarithm"
   ]
  },
  {
   "cell_type": "code",
   "execution_count": 28,
   "id": "e208c905",
   "metadata": {},
   "outputs": [
    {
     "data": {
      "text/plain": [
       "[<matplotlib.lines.Line2D at 0x141880e3610>]"
      ]
     },
     "execution_count": 28,
     "metadata": {},
     "output_type": "execute_result"
    },
    {
     "data": {
      "image/png": "[encoded data removed]",
      "text/plain": [
       "<Figure size 432x288 with 1 Axes>"
      ]
     },
     "metadata": {
      "needs_background": "light"
     },
     "output_type": "display_data"
    }
   ],
   "source": [
    "c = np.exp(expreg1.params[0]) # Calculate the parameter c by taking the natural exponent\n",
    "\n",
    "# Plot the exponential model on top of the pCO2 data\n",
    "plt.scatter(df2.Year, df2.pCO2, color = 'red', marker = '+')\n",
    "plt.xlabel('Year')\n",
    "plt.ylabel('pCO2 (ppmV)')\n",
    "plt.plot(df2.Year, c * np.exp(expreg1.params[1] * df2.Year), color = 'blue')"
   ]
  },
  {
   "cell_type": "markdown",
   "id": "4e062159",
   "metadata": {},
   "source": [
    "__Question 17:__ What do you think of the result? Can you think of a problem with our exponential model when trying to fit it to this type of data?"
   ]
  },
  {
   "cell_type": "markdown",
   "id": "c778c101",
   "metadata": {},
   "source": [
    "__Answer 17:__ The model does not really fit very well. The problem is that the exponential model has to go through the origin, and our data does not necessarily contain the value (0, 0). In other words, it is not certain that the Year 0 will have a pCO2 value of 0 (in fact, this is definitely not the case!)."
   ]
  },
  {
   "cell_type": "markdown",
   "id": "dc98fd8e",
   "metadata": {},
   "source": [
    "__Bonus exercise:__ We can probably make our exponential model fit better by modifying our variables `Year` and `pCO2`to relative values. We can do this by subtracting the minimum value in the dataset from all datapoints for both parameters. The function `np.min()` can help us with that:"
   ]
  },
  {
   "cell_type": "code",
   "execution_count": 29,
   "id": "2771b8d5",
   "metadata": {},
   "outputs": [
    {
     "name": "stdout",
     "output_type": "stream",
     "text": [
      "The minimum pCO2 value is 283.1621007 ppmV\n",
      "The starting Year is 1850 AD\n"
     ]
    }
   ],
   "source": [
    "# Create relative pCO2 and Year variables\n",
    "pCO2min = np.min(df2.pCO2) # find the minimum pCO2 value\n",
    "Yearmin = np.min(df2.Year) # find the minimum Year (1850)\n",
    "\n",
    "# Print the results\n",
    "print('The minimum pCO2 value is', pCO2min, 'ppmV')\n",
    "print('The starting Year is', Yearmin, 'AD')\n",
    "\n",
    "pCO2min = 280 # Round the minimum pCO2 down to prevent zeroes in the dataset (log(0) has no solution)\n",
    "\n",
    "pCO2rel = df2.pCO2 - pCO2min\n",
    "Yearrel = df2.Year - Yearmin"
   ]
  },
  {
   "cell_type": "markdown",
   "id": "cf970f17",
   "metadata": {},
   "source": [
    "Now repeat the exponential regression you performed above with these modified variables and assess whether it performs better."
   ]
  },
  {
   "cell_type": "code",
   "execution_count": 30,
   "id": "b5d093e1",
   "metadata": {},
   "outputs": [
    {
     "name": "stdout",
     "output_type": "stream",
     "text": [
      "                            OLS Regression Results                            \n",
      "==============================================================================\n",
      "Dep. Variable:                 logCO2   R-squared:                       0.857\n",
      "Model:                            OLS   Adj. R-squared:                  0.856\n",
      "Method:                 Least Squares   F-statistic:                     788.1\n",
      "Date:                Thu, 28 Sep 2023   Prob (F-statistic):           2.86e-57\n",
      "Time:                        17:06:46   Log-Likelihood:                 238.00\n",
      "No. Observations:                 133   AIC:                            -472.0\n",
      "Df Residuals:                     131   BIC:                            -466.2\n",
      "Df Model:                           1                                         \n",
      "Covariance Type:            nonrobust                                         \n",
      "==============================================================================\n",
      "                 coef    std err          t      P>|t|      [0.025      0.975]\n",
      "------------------------------------------------------------------------------\n",
      "Intercept      1.7859      0.143     12.526      0.000       1.504       2.068\n",
      "df2.Year       0.0021   7.31e-05     28.073      0.000       0.002       0.002\n",
      "==============================================================================\n",
      "Omnibus:                       11.131   Durbin-Watson:                   0.020\n",
      "Prob(Omnibus):                  0.004   Jarque-Bera (JB):                9.421\n",
      "Skew:                           0.563   Prob(JB):                      0.00900\n",
      "Kurtosis:                       2.343   Cond. No.                     7.87e+04\n",
      "==============================================================================\n",
      "\n",
      "Notes:\n",
      "[1] Standard Errors assume that the covariance matrix of the errors is correctly specified.\n",
      "[2] The condition number is large, 7.87e+04. This might indicate that there are\n",
      "strong multicollinearity or other numerical problems.\n"
     ]
    },
    {
     "data": {
      "text/plain": [
       "[<matplotlib.lines.Line2D at 0x14189912400>]"
      ]
     },
     "execution_count": 30,
     "metadata": {},
     "output_type": "execute_result"
    },
    {
     "data": {
      "image/png": "[encoded data removed]",
      "text/plain": [
       "<Figure size 432x288 with 1 Axes>"
      ]
     },
     "metadata": {
      "needs_background": "light"
     },
     "output_type": "display_data"
    }
   ],
   "source": [
    "logCO2_rel = np.log(pCO2rel) # Create a new variable that is the natural logarithm of the modified pCO2 variable\n",
    "\n",
    "expreg2 = smf.ols(formula = \"logCO2_rel ~ Yearrel\", data = df2).fit() # Perform the 'exponential' regression in its linearized form\n",
    "\n",
    "print(expreg1.summary()) # Print the regression summary\n",
    "\n",
    "c2 = np.exp(expreg2.params[0]) # Calculate the parameter c by taking the natural exponent\n",
    "\n",
    "# Plot the exponential model on top of the pCO2 data\n",
    "plt.scatter(df2.Year, df2.pCO2, color = 'red', marker = '+')\n",
    "plt.xlabel('Year')\n",
    "plt.ylabel('pCO2 (ppmV)')\n",
    "plt.plot((Yearrel + Yearmin), c2 * np.exp(expreg2.params[1] * Yearrel) + pCO2min, color = 'blue')\n",
    "# When plotting this exponential model on the same axes as the data, we need to be careful that we add the minimum values back up."
   ]
  },
  {
   "cell_type": "markdown",
   "id": "b2fdb1fd",
   "metadata": {},
   "source": [
    "This bonus exercise shows us that the exponential fit is actually quite good when we move the origin to the beginning of the dataset (1850, 280). However, there are still features in the data which the model does not explain, and the polynomial models capture these features better."
   ]
  }
 ],
 "metadata": {
  "kernelspec": {
   "display_name": "Python 3 (ipykernel)",
   "language": "python",
   "name": "python3"
  },
  "language_info": {
   "codemirror_mode": {
    "name": "ipython",
    "version": 3
   },
   "file_extension": ".py",
   "mimetype": "text/x-python",
   "name": "python",
   "nbconvert_exporter": "python",
   "pygments_lexer": "ipython3",
   "version": "3.9.12"
  }
 },
 "nbformat": 4,
 "nbformat_minor": 5
}
