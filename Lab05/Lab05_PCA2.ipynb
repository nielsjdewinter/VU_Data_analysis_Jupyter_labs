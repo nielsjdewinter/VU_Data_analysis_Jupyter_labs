{
 "cells": [
  {
   "cell_type": "markdown",
   "id": "f3d8531b",
   "metadata": {},
   "source": [
    "# Lab 05: Factor analysis 2"
   ]
  },
  {
   "cell_type": "markdown",
   "id": "20da6f20",
   "metadata": {},
   "source": [
    "Author: **N.J. de Winter** (*n.j.de.winter@vu.nl*)<br>\n",
    "Assitant Professor Vrije Universiteit Amsterdam<br>\n",
    "Statistics and Data Analysis Course"
   ]
  },
  {
   "cell_type": "markdown",
   "id": "4b92b3df",
   "metadata": {},
   "source": [
    "\n",
    "## Learning goals:\n",
    "\n",
    "* Apply and improve your knowledge of Python and Jupyter\n",
    "* Continue practicing with factor analysis\n",
    "    * Learn about data pretreatment (scaling and normalization)\n",
    "    * Apply principle component analysis on time series\n",
    "    * Interpret PCA results in a real-world example to learn more about relationships within a dataset\n",
    "* Develop a feeling for how statistical tools can help you, but you still require *your interpretation* to draw conclusions."
   ]
  },
  {
   "cell_type": "markdown",
   "id": "74a47a00",
   "metadata": {},
   "source": [
    "## Introduction\n",
    "In the last lab, you have become familiar with **Principle Component Analysis** and have learned to interpret the *scores*, *loadings* and *eigenvalues* that define the outcome of a PCA. In this lab, we will practice a bit more with this data analysis method and apply it on a realistic time series to discover how we can use PCA as a tool in the Earth Sciences."
   ]
  },
  {
   "cell_type": "markdown",
   "id": "5ce3e91a",
   "metadata": {},
   "source": [
    "As always, let's start by loading the packages we will need."
   ]
  },
  {
   "cell_type": "markdown",
   "id": "6dbb484c",
   "metadata": {},
   "source": [
    "**Exercise 1:** In the code box below, load the packages `numpy`, `pyplot` and `preprocessing` (found in the `sklearn` package) and import the functions `PCA` (from `sklearn.decomposition`) and `loadmat` (from `scipy.io`)."
   ]
  },
  {
   "cell_type": "code",
   "execution_count": null,
   "id": "df4807d0",
   "metadata": {},
   "outputs": [],
   "source": []
  },
  {
   "cell_type": "markdown",
   "id": "5279a7fd",
   "metadata": {},
   "source": [
    "The latter of these functions we will need to load the data for this lab. This dataset (`lab05.mat`) is provided as a Matlab table (`.mat`-file) and requires a special function to load:"
   ]
  },
  {
   "cell_type": "code",
   "execution_count": null,
   "id": "1ceb39fa",
   "metadata": {},
   "outputs": [],
   "source": [
    "lab05 = loadmat('lab05.mat')"
   ]
  },
  {
   "cell_type": "markdown",
   "id": "a9be38d3",
   "metadata": {},
   "source": [
    "The `lab05` file contains data on drainage ($m^{3}/s$), water temperature ($°C$), and dissolved chlorophyll ($μg/l$), nitrogen ($mg/l$) and phosphate ($mg/l$) in the Rhine at Lobith, where the Rhine enters the Netherlands, starting from 1989.\n",
    "\n",
    "When loading a `.mat` file `scipy.io` returns a dictionary with variable names as keys, and matrices as values. The data matrix contains all these variables (column 1: temperature, column 2: drainage, column 3: chlorophyll, column 4: nitrogen, column 5: phosphate). You can for example print this matrix using the following command:"
   ]
  },
  {
   "cell_type": "code",
   "execution_count": null,
   "id": "b55130b9",
   "metadata": {},
   "outputs": [],
   "source": [
    "print(lab05['data'])"
   ]
  },
  {
   "cell_type": "markdown",
   "id": "54192f38",
   "metadata": {},
   "source": [
    "All measurements are ordered according to time of observation. The vector `T`, in the dictionary `lab05`, gives the day since January 1, 1989.\n",
    "\n",
    "Chlorophyll are the pigments in green plants that capture energy/light for photosynthesis. Chlorophyll in water relates to the concentration of algae. Algae are more abundant in summer, when temperatures are warmer. Algae need nitrogen and phosphate for their growth. So, when there are lots of algae the concentrations of N and P are reduced. The main source of N and P in river water is polluted water from households and industries. Because of that, N and P concentrations may be influenced by changes in environmental laws and restrictions. These have more influence on N concentrations, than P concentrations because the latter are difficult to remove from polluted water. Water temperature and drainage are strongly seasonally dependent. In summer, temperature is high and drainage low, while the opposite occurs in winter."
   ]
  },
  {
   "cell_type": "markdown",
   "id": "6a6e13c5",
   "metadata": {},
   "source": [
    "**Question 1:** After reading the information about the variables and their units in this dataset above, can you think of a potential issue we will encounter when combining all these variables in one data analysis?"
   ]
  },
  {
   "cell_type": "markdown",
   "id": "b16970bb",
   "metadata": {},
   "source": [
    "**Answer 1:**"
   ]
  },
  {
   "cell_type": "markdown",
   "id": "bda8fd63",
   "metadata": {},
   "source": [
    "Before we apply a PCA, we need to standardize our dataset so that all variables receive equal weight in the PCA. You can do this using the following commands:"
   ]
  },
  {
   "cell_type": "code",
   "execution_count": null,
   "id": "840f84ee",
   "metadata": {},
   "outputs": [],
   "source": [
    "scaler = preprocessing.StandardScaler() # Define the preprocessing function we will apply to our data\n",
    "standardized_data = scaler.fit_transform(lab05['data']) # Apply the preprocessing on our dataset"
   ]
  },
  {
   "cell_type": "markdown",
   "id": "17587404",
   "metadata": {},
   "source": [
    "Note that the syntax we use here to do our preprocessing is very similar to how we ran our PCA in Lab04 (have a look back at that lab in case you forgot!): We first define a preprocessing routine and then apply that routine on our data using the `.fit_transform()`-syntax."
   ]
  },
  {
   "cell_type": "markdown",
   "id": "a16f0c98",
   "metadata": {},
   "source": [
    "**Question 2:** What would happen in the PCA if you would not standardize your dataset?"
   ]
  },
  {
   "cell_type": "markdown",
   "id": "232f5870",
   "metadata": {},
   "source": [
    "**Answer 2:**"
   ]
  },
  {
   "cell_type": "markdown",
   "id": "dd196684",
   "metadata": {},
   "source": [
    "**Exercise 2:** In lab 04, we already implemented a PCA. Have a look in lab 04 which commands we used to execute a PCA. Then apply these commands to the standardized data matrix. Don't forget to extract the *scores*, *loadings* and *eigenvalues* from the result."
   ]
  },
  {
   "cell_type": "code",
   "execution_count": null,
   "id": "092dd4b1",
   "metadata": {},
   "outputs": [],
   "source": []
  },
  {
   "cell_type": "markdown",
   "id": "63c4410b",
   "metadata": {},
   "source": [
    "**Exercise 3:** Plot the percentage of variance explained by each principle component."
   ]
  },
  {
   "cell_type": "code",
   "execution_count": null,
   "id": "2da7d91f",
   "metadata": {},
   "outputs": [],
   "source": []
  },
  {
   "cell_type": "markdown",
   "id": "2ff472c9",
   "metadata": {},
   "source": [
    "I think you would agree that this result looks quite a bit different from the result we obtained in **Lab04**!"
   ]
  },
  {
   "cell_type": "markdown",
   "id": "10d27aeb",
   "metadata": {},
   "source": [
    "**Question 3:** Describe the main difference you observe with respect to the dataset in Lab04. What does this result tell you about this dataset compared to the one we used before?"
   ]
  },
  {
   "cell_type": "markdown",
   "id": "576126f1",
   "metadata": {},
   "source": [
    "**Answer 3:**"
   ]
  },
  {
   "cell_type": "markdown",
   "id": "f0ffc148",
   "metadata": {},
   "source": [
    "**Question 4:** How many principal components would you withhold in your analysis and why?"
   ]
  },
  {
   "cell_type": "markdown",
   "id": "3dd742c5",
   "metadata": {},
   "source": [
    "**Answer 4:**"
   ]
  },
  {
   "cell_type": "markdown",
   "id": "001dd1da",
   "metadata": {},
   "source": [
    "Let’s have a look at which variables strongly influence the first three principal components to try to make an interpretation about what these principal components may represent."
   ]
  },
  {
   "cell_type": "markdown",
   "id": "56267962",
   "metadata": {},
   "source": [
    "**Question 5:** Which outcome of the PCA do we need to consider to check which variables are important for which principle components?"
   ]
  },
  {
   "cell_type": "markdown",
   "id": "d0785105",
   "metadata": {},
   "source": [
    "**Answer 5:**"
   ]
  },
  {
   "cell_type": "markdown",
   "id": "5efccc1e",
   "metadata": {},
   "source": [
    "Plotting this outcome may help. Below is an example for the first principal component:"
   ]
  },
  {
   "cell_type": "code",
   "execution_count": null,
   "id": "7e628f66",
   "metadata": {},
   "outputs": [],
   "source": [
    "plt.figure(2)\n",
    "plt.bar(np.arange(1, 6, 1), loadings[:, 0]) # Create a bar chart with numbers of variables on the horizontal axis and loadings on the vertical axis\n",
    "plt.axhline(color = 'black') # Draw a black horizontal line indicating a loading of zero.\n",
    "plt.xlim([0, 6]) # Set the limits on the horizontal axis\n",
    "plt.ylim([-0.5, 1]) # Set the limits on the vertical axis\n",
    "plt.xticks(np.arange(1, 6, 1), ['temperature', 'drainage', 'chlorophyll', 'N', 'P']) # Add names for the variables\n",
    "plt.title('PC1') # Provide a title\n",
    "plt.xlabel('Variables') # Provide horizonal axis title\n",
    "plt.ylabel('PC loading') # Provide vertical axis title\n",
    "plt.show() # Show the plot"
   ]
  },
  {
   "cell_type": "markdown",
   "id": "8aeb4dc7",
   "metadata": {},
   "source": [
    "**Exercise 4**: Make the same plot for the other principal components."
   ]
  },
  {
   "cell_type": "code",
   "execution_count": null,
   "id": "e967e352",
   "metadata": {},
   "outputs": [],
   "source": []
  },
  {
   "cell_type": "markdown",
   "id": "ce80e1f0",
   "metadata": {},
   "source": [
    "**Question 6:** Based on the plot above, what do you think is the physical meaning of the first three principle components?"
   ]
  },
  {
   "cell_type": "markdown",
   "id": "85a101c7",
   "metadata": {},
   "source": [
    "**Answer 6:**"
   ]
  },
  {
   "cell_type": "markdown",
   "id": "a95e0e83",
   "metadata": {},
   "source": [
    "The goal of principal component analysis is to transform several correlated variables into fewer uncorrelated principal components (that maximize variance)."
   ]
  },
  {
   "cell_type": "markdown",
   "id": "74b96c1e",
   "metadata": {},
   "source": [
    "**Question 7:** How can we check if we succeeded in doing this?"
   ]
  },
  {
   "cell_type": "markdown",
   "id": "b2926ec2",
   "metadata": {},
   "source": [
    "**Answer 7:**"
   ]
  },
  {
   "cell_type": "markdown",
   "id": "788e85cb",
   "metadata": {},
   "source": [
    "**Exercise 5:** Use a function that you used in **Lab03** and **Lab04** to check for correlation between variables on the original data, the preprocessed data and on the principle components (the \"transformed data\") to check if our PCA did what it was supposed to do."
   ]
  },
  {
   "cell_type": "code",
   "execution_count": null,
   "id": "6e8dc95c",
   "metadata": {},
   "outputs": [],
   "source": []
  },
  {
   "cell_type": "markdown",
   "id": "15619ed3",
   "metadata": {},
   "source": [
    "**Question 8:** Do the lots above show the outcome you expect?"
   ]
  },
  {
   "cell_type": "markdown",
   "id": "de9575fb",
   "metadata": {},
   "source": [
    "**Answer 8:**"
   ]
  },
  {
   "cell_type": "markdown",
   "id": "b0e95919",
   "metadata": {},
   "source": [
    "To find out what our principle components mean, let’s now have a look at time series plots of the principal component scores from the first three principal components. To compare time series and interpret results, it might be better to use subplots:"
   ]
  },
  {
   "cell_type": "code",
   "execution_count": null,
   "id": "2e1ea8dc",
   "metadata": {},
   "outputs": [],
   "source": [
    "plt.figure(1)\n",
    "plt.subplot(311)\n",
    "plt.plot(lab05['T'], scores[:, 0])\n",
    "plt.title('PC1')\n",
    "plt.ylabel('PC score')\n",
    "plt.subplot(312)\n",
    "plt.plot(lab05['T'], scores[:, 1])\n",
    "plt.title('PC2')\n",
    "plt.ylabel('PC score')\n",
    "plt.subplot(313)\n",
    "plt.plot(lab05['T'], scores[:, 2])\n",
    "plt.title('PC3')\n",
    "plt.xlabel('Days since January 1, 1989')\n",
    "plt.ylabel('PC score')\n",
    "plt.show() # Show the plot"
   ]
  },
  {
   "cell_type": "markdown",
   "id": "26f59224",
   "metadata": {},
   "source": [
    "**Question 9:** Based on the plots you just created, do you still agree with the interpretation of the pronciple components you made in your answer to **Question 6**?"
   ]
  },
  {
   "cell_type": "markdown",
   "id": "63b7b4fe",
   "metadata": {},
   "source": [
    "**Answer 9:**"
   ]
  }
 ],
 "metadata": {
  "kernelspec": {
   "display_name": "Python 3 (ipykernel)",
   "language": "python",
   "name": "python3"
  },
  "language_info": {
   "codemirror_mode": {
    "name": "ipython",
    "version": 3
   },
   "file_extension": ".py",
   "mimetype": "text/x-python",
   "name": "python",
   "nbconvert_exporter": "python",
   "pygments_lexer": "ipython3",
   "version": "3.9.13"
  }
 },
 "nbformat": 4,
 "nbformat_minor": 5
}
