{
 "cells": [
  {
   "cell_type": "markdown",
   "id": "f3d8531b",
   "metadata": {},
   "source": [
    "# Lab 06: Time series analysis 1"
   ]
  },
  {
   "cell_type": "markdown",
   "id": "20da6f20",
   "metadata": {},
   "source": [
    "Author: **N.J. de Winter** (*n.j.de.winter@vu.nl*)<br>\n",
    "Assitant Professor Vrije Universiteit Amsterdam<br>\n",
    "Statistics and Data Analysis Course"
   ]
  },
  {
   "cell_type": "markdown",
   "id": "4b92b3df",
   "metadata": {},
   "source": [
    "\n",
    "## Learning goals:\n",
    "\n",
    "* Apply and improve your knowledge of Python and Jupyter\n",
    "* Learn to create and analyze time series\n",
    "* Experiment with Fourier analysis and the decomposition of time series into frequencies\n",
    "* Learn to apply Fourier analysis to extract dominant frequencies from time series and interpret them\n",
    "* Develop a feeling for how statistical tools can help you, but you still require *your interpretation* to draw conclusions."
   ]
  },
  {
   "cell_type": "markdown",
   "id": "74a47a00",
   "metadata": {},
   "source": [
    "## Introduction\n",
    "In this lab, we will experiment with **time series analysis**. A **time series** is simply a dataset of which one variable is time (in any shape or form). **Time** is often the most important independent variable in the Earth Sciences, so time series analysis plays an integral role in our research."
   ]
  },
  {
   "cell_type": "markdown",
   "id": "774e5092",
   "metadata": {},
   "source": [
    "There are many forms of data analysis that can be applied to interpret time series. In this lab, we will experience with **Fourier analysis**, or the analysis of the *frequencies* that make up a time series. *Fourier analysis* is based on the **Fourier theorem**, the mathematical discovery that any periodic time series can be decomposed into a combination of sine and cosine functions. This sounds complicated, and you do not need to know all the ins and outs of how this works. However, it can help you to have a visual understanding of how *Fourier transform* works. The video below from Youtuber *3Blue1Brown* explains the theory in a very nice visual way. You can watch it later if you want to learn some more about *Fourier analysis* so you don't lose time during the computer practical session where you can ask questions about the exercises below."
   ]
  },
  {
   "cell_type": "code",
   "execution_count": null,
   "id": "624c04cd",
   "metadata": {},
   "outputs": [],
   "source": [
    "%%HTML\n",
    "<div align=\"center\">\n",
    "    <iframe width=\"560\" height=\"315\"\n",
    "    src=\"https://www.youtube.com/embed/spUNpyF58BY\">\n",
    "    allowfullscreen\n",
    "    </iframe>\n",
    "</div>"
   ]
  },
  {
   "cell_type": "markdown",
   "id": "dd20dee7",
   "metadata": {},
   "source": [
    "We will work with the `numpy`, `matplotlib.pyplot` and `random` packages, as well as the modules `signal` from the `scipy` package and `interp1d` from the `scipy.interpolate` package. Make sure you have these installed in your python environment if you use Spyder. Let’s start by loading the packages using the code box below. Don't forget to add the line of code needed to make the figures you create appear in `Jupyter`."
   ]
  },
  {
   "cell_type": "code",
   "execution_count": null,
   "id": "2cbda0f5",
   "metadata": {},
   "outputs": [],
   "source": [
    "# Make sure our figures show up in Jupyter\n",
    "%matplotlib inline\n",
    "# Import packages\n",
    "import numpy as np\n",
    "import random\n",
    "import matplotlib.pyplot as plt\n",
    "from scipy import signal\n",
    "from scipy.interpolate import interp1d"
   ]
  },
  {
   "cell_type": "markdown",
   "id": "6e2e5e75",
   "metadata": {},
   "source": [
    "## Generating signals\n",
    "We will start easy by creating our own time series. Create a time axis t running from 0.01 to 100 in intervals of 0.01. We will generate a periodic signal y(t), a sine wave with a period of 5 and an amplitude of 2:"
   ]
  },
  {
   "cell_type": "code",
   "execution_count": null,
   "id": "a4aaf6fd",
   "metadata": {},
   "outputs": [],
   "source": [
    "t = np.arange(0.01, 100, 0.01)\n",
    "y = 2 * np.sin(2 * np.pi * t / 5)"
   ]
  },
  {
   "cell_type": "markdown",
   "id": "e29ad7f1",
   "metadata": {},
   "source": [
    "**Exercise 1:** Use your experience with Python from the previous exercises to plot this time series in the code box below:"
   ]
  },
  {
   "cell_type": "code",
   "execution_count": null,
   "id": "0e685531",
   "metadata": {},
   "outputs": [],
   "source": []
  },
  {
   "cell_type": "markdown",
   "id": "af280603",
   "metadata": {},
   "source": [
    "Now, we will generate a more complex time series that is the superposition of multiple periodic components with different periods. The first signal is a sine wave with period (or wavelength) = 50 (thus frequency = 0.02), and amplitude = 2. The second sine wave has a period = 15 (frequency ~= 0.07), and amplitude = 1. The third sine wave has a period = 5, and amplitude = 0.5."
   ]
  },
  {
   "cell_type": "markdown",
   "id": "6898c7fb",
   "metadata": {},
   "source": [
    "**Exercise 2:** Define the time axis t from 1 to 1000 in steps of 1, then create and plot the composed sine wave in the box below:"
   ]
  },
  {
   "cell_type": "code",
   "execution_count": null,
   "id": "b5596719",
   "metadata": {},
   "outputs": [],
   "source": [
    "# Create composite time series\n",
    "\n",
    "# Plot composite time series\n"
   ]
  },
  {
   "cell_type": "markdown",
   "id": "ba3d2542",
   "metadata": {},
   "source": [
    "Time series in Earth science almost always contain a noise component. We will add some noise to our time series by using the `randn` function, which is part of the package `numpy.random`. We will use the `random.seed` function to set random numbers."
   ]
  },
  {
   "cell_type": "markdown",
   "id": "efd2e3dc",
   "metadata": {},
   "source": [
    "**Exercise 3:** Search the `randn` (in `numpy.random`) and `random.seed` functions in the help:"
   ]
  },
  {
   "cell_type": "code",
   "execution_count": null,
   "id": "7d2a846a",
   "metadata": {},
   "outputs": [],
   "source": []
  },
  {
   "cell_type": "markdown",
   "id": "34424f1f",
   "metadata": {},
   "source": [
    "The `seed` helps to remember the set of random numbers that you will create. Let’s generate a time series of 1000 time steps with random noise:"
   ]
  },
  {
   "cell_type": "code",
   "execution_count": null,
   "id": "2882d28a",
   "metadata": {},
   "outputs": [],
   "source": [
    "random.seed(1)\n",
    "n = np.random.randn(1000)"
   ]
  },
  {
   "cell_type": "markdown",
   "id": "71f6ca75",
   "metadata": {},
   "source": [
    "**Exercise 4:** Now add this random noise to the y-values of the time series we created in **Exercise 2**:"
   ]
  },
  {
   "cell_type": "code",
   "execution_count": null,
   "id": "a2e77b2a",
   "metadata": {},
   "outputs": [],
   "source": [
    "# Create yn, which adds the random noise to y2"
   ]
  },
  {
   "cell_type": "markdown",
   "id": "88f09c67",
   "metadata": {},
   "source": [
    "**Exercise 5:** Now plot the original time series and the time series with random noise added together to compare the result:"
   ]
  },
  {
   "cell_type": "code",
   "execution_count": null,
   "id": "1c37a616",
   "metadata": {},
   "outputs": [],
   "source": []
  },
  {
   "cell_type": "markdown",
   "id": "e04e795c",
   "metadata": {},
   "source": [
    "Time series in Earth science often have a long-term trend (e.g. related to climate change). Let's introduce a linear trend here with a time-dependent linear component:"
   ]
  },
  {
   "cell_type": "code",
   "execution_count": null,
   "id": "3b416313",
   "metadata": {},
   "outputs": [],
   "source": [
    "yt = y2 + 0.005 * t2 # Create yt, which adds a linear trend to y2"
   ]
  },
  {
   "cell_type": "markdown",
   "id": "8dc14d13",
   "metadata": {},
   "source": [
    "**Exercise 6:** Plot the original and time series and the time series with a trend together for comparison."
   ]
  },
  {
   "cell_type": "code",
   "execution_count": null,
   "id": "78bba928",
   "metadata": {},
   "outputs": [],
   "source": []
  },
  {
   "cell_type": "markdown",
   "id": "57b21dbd",
   "metadata": {},
   "source": [
    "## Spectral analysis\n",
    "Examine the `help()` for the `periodogram` function (in the `signal` package) and try to understand every input and output variable from the following line in which the `periodogram` function is applied:"
   ]
  },
  {
   "cell_type": "code",
   "execution_count": null,
   "id": "bcb9fb1b",
   "metadata": {},
   "outputs": [],
   "source": [
    "help(signal.periodogram)"
   ]
  },
  {
   "cell_type": "code",
   "execution_count": null,
   "id": "f2e4cb65",
   "metadata": {},
   "outputs": [],
   "source": [
    "f0, Pxx0 = signal.periodogram(y2 ,window = np.arange(0, 1000), nfft = 1024, fs = 1)"
   ]
  },
  {
   "cell_type": "markdown",
   "id": "ebb8658a",
   "metadata": {},
   "source": [
    "**Question 1:** What information is contained in the newly created variable `f0`?"
   ]
  },
  {
   "cell_type": "markdown",
   "id": "d4f1c439",
   "metadata": {},
   "source": [
    "**Answer 1:**"
   ]
  },
  {
   "cell_type": "markdown",
   "id": "413cf6a0",
   "metadata": {},
   "source": [
    "**Question 2:** What information is stored in the new variable `Pxx0`?"
   ]
  },
  {
   "cell_type": "markdown",
   "id": "0adf4345",
   "metadata": {},
   "source": [
    "**Answer 2:**"
   ]
  },
  {
   "cell_type": "markdown",
   "id": "276c6a43",
   "metadata": {},
   "source": [
    "`y2` is the original time series. `0:1000` is a window for the spectral analysis, i.e. a vector with the same length as the time series. `1024` defines the number of points in the Fourier transform, which should be the next power of 2 above the signal length. `1` is the number of samples per unit of time. `Pxx` is the power spectral density (or variance) of the input signal. `f` is the frequency vector, in cycles per unit of time. `f` spans the interval between 0 and the number of samples per unit of time / 2 (here thus 0.5)."
   ]
  },
  {
   "cell_type": "markdown",
   "id": "ec39489d",
   "metadata": {},
   "source": [
    "Let’s plot the periodogram:"
   ]
  },
  {
   "cell_type": "code",
   "execution_count": null,
   "id": "afb215d4",
   "metadata": {},
   "outputs": [],
   "source": [
    "plt.plot(f0, Pxx0)\n",
    "plt.xlabel('Frequency')\n",
    "plt.ylabel('Power')\n",
    "plt.title('Periodogram without noise')"
   ]
  },
  {
   "cell_type": "markdown",
   "id": "301fb43a",
   "metadata": {},
   "source": [
    "**Exercise 7:** Now calculate and plot the periodogram for the signal with added noise which you created in **Exercise 4**:"
   ]
  },
  {
   "cell_type": "code",
   "execution_count": null,
   "id": "71a2d764",
   "metadata": {},
   "outputs": [],
   "source": [
    "# Calculate and plot the periodogram for the time series with noise."
   ]
  },
  {
   "cell_type": "markdown",
   "id": "fecfe1a8",
   "metadata": {},
   "source": [
    "**Exercise 8:** Let’s now create a time series with five times more noise. Again, calculate and plot the periodogram."
   ]
  },
  {
   "cell_type": "code",
   "execution_count": null,
   "id": "68eb5e53",
   "metadata": {},
   "outputs": [],
   "source": []
  },
  {
   "cell_type": "markdown",
   "id": "e42fd36b",
   "metadata": {},
   "source": [
    "**Question 3:** What do you notice? Tip: For comparison, you can also try to plot both spectra in the same plot."
   ]
  },
  {
   "cell_type": "markdown",
   "id": "4ed9cff7",
   "metadata": {},
   "source": [
    "**Answer 3:**"
   ]
  },
  {
   "cell_type": "markdown",
   "id": "8fd2144c",
   "metadata": {},
   "source": [
    "## Detrending\n",
    "Let’s also have a look at what the effect is of a long-term trend in a periodogram."
   ]
  },
  {
   "cell_type": "markdown",
   "id": "ae5ded53",
   "metadata": {},
   "source": [
    "**Exercise 9:** Calculate and plot the periodogram of the time series with a trend."
   ]
  },
  {
   "cell_type": "code",
   "execution_count": null,
   "id": "de1367e4",
   "metadata": {},
   "outputs": [],
   "source": []
  },
  {
   "cell_type": "markdown",
   "id": "ff0ab3da",
   "metadata": {},
   "source": [
    "**Question 4:** What is the interpretation of the trend in the periodogram? Tip: It may help to plot the periodograms of the original time series and the time series with trend in the same plot."
   ]
  },
  {
   "cell_type": "markdown",
   "id": "b3be96e6",
   "metadata": {},
   "source": [
    "**Answer 4:**"
   ]
  },
  {
   "cell_type": "markdown",
   "id": "4dfad6e1",
   "metadata": {},
   "source": [
    "We can use the function `detrend` (`signal`) to get rid of a linear trend in a time series."
   ]
  },
  {
   "cell_type": "markdown",
   "id": "f837b51d",
   "metadata": {},
   "source": [
    "**Exercise 10:** Search for `detrend` in the `help()`, and then detrend the time series with trend and have a look at the time series before and after detrending by creating plots of both series."
   ]
  },
  {
   "cell_type": "code",
   "execution_count": null,
   "id": "fff4de45",
   "metadata": {},
   "outputs": [],
   "source": []
  },
  {
   "cell_type": "code",
   "execution_count": null,
   "id": "2802c395",
   "metadata": {},
   "outputs": [],
   "source": []
  },
  {
   "cell_type": "markdown",
   "id": "3004603c",
   "metadata": {},
   "source": [
    "## Interpolating\n",
    "Let’s clear the workspace for the following exercise (only if you are using Spyder). "
   ]
  },
  {
   "cell_type": "markdown",
   "id": "42cdf749",
   "metadata": {},
   "source": [
    "**Exercise 11:** Load the time series in the `series1.txt` and `series2.txt` files. The first column of the series contains age in kiloyears. The second column contains oxygen-isotope values measured on foraminifera. The datasets contain cyclicities of 100, 40 and 20 kyr. They look quite similar even though the numbers are slightly different. Plot both time series to explore their content."
   ]
  },
  {
   "cell_type": "code",
   "execution_count": null,
   "id": "b43a1f18",
   "metadata": {},
   "outputs": [],
   "source": []
  },
  {
   "cell_type": "markdown",
   "id": "c3cea750",
   "metadata": {},
   "source": [
    "The intervals of the time vectors are not evenly spaced. Let's use the `diff` function (`numpy`, see `help()`) to calculate the intervals of the time axis for series 1. Let’s also plot these intervals:"
   ]
  },
  {
   "cell_type": "code",
   "execution_count": null,
   "id": "17e577c4",
   "metadata": {},
   "outputs": [],
   "source": [
    "intv1 = np.diff(series1[:,0]) # Calculate the time intervals\n",
    "plt.plot(intv1) # Plot the intervals vs time"
   ]
  },
  {
   "cell_type": "markdown",
   "id": "90c65ac0",
   "metadata": {},
   "source": [
    "Let’s calculate the minimum and maximum age in time series 1, and the mean interval:"
   ]
  },
  {
   "cell_type": "code",
   "execution_count": null,
   "id": "e30c6cfc",
   "metadata": {},
   "outputs": [],
   "source": [
    "np.min(series1[:,0]) # Minimum interval"
   ]
  },
  {
   "cell_type": "code",
   "execution_count": null,
   "id": "79d8649b",
   "metadata": {},
   "outputs": [],
   "source": [
    "np.max(series1[:,0]) # Maximum interval"
   ]
  },
  {
   "cell_type": "code",
   "execution_count": null,
   "id": "c44c92bb",
   "metadata": {},
   "outputs": [],
   "source": [
    "np.mean(intv1) # Mean interval"
   ]
  },
  {
   "cell_type": "markdown",
   "id": "58b4dfbc",
   "metadata": {},
   "source": [
    "**Exercise 12:** Do the same for time series 2."
   ]
  },
  {
   "cell_type": "code",
   "execution_count": null,
   "id": "1757d0c9",
   "metadata": {},
   "outputs": [],
   "source": []
  },
  {
   "cell_type": "markdown",
   "id": "0e5ce095",
   "metadata": {},
   "source": [
    "**Question 5:** What do you notice when comparing these numbers for both time series?"
   ]
  },
  {
   "cell_type": "markdown",
   "id": "2cf28013",
   "metadata": {},
   "source": [
    "**Answer 5:**"
   ]
  },
  {
   "cell_type": "markdown",
   "id": "7fc0537f",
   "metadata": {},
   "source": [
    "It would be nice to have both time series at equal intervals. In addition, it is always easier to work with a time series if the time interval is constant. In fact, many statistical techniques, such as *spectral analysis* will not work on time series which are not **evenly spaced**! We will try to interpolate oxygen isotope values at evenly spaced intervals to do this. We will try to keep approximately the same number of observations as the original time series (~332)."
   ]
  },
  {
   "cell_type": "markdown",
   "id": "43fd6618",
   "metadata": {},
   "source": [
    "**Exercise 13:** Define an evenly space time vector with a time interval that approximates the mean interval of the original time series (3 kyr), and covers the range of the original data (0-997 kyr)."
   ]
  },
  {
   "cell_type": "code",
   "execution_count": null,
   "id": "23a3830e",
   "metadata": {},
   "outputs": [],
   "source": []
  },
  {
   "cell_type": "markdown",
   "id": "f4220f2c",
   "metadata": {},
   "source": [
    "We will use the `interp1` function from `scipy` to calculate the values of the evenly spaced time vector you created above (we call this vector `t3` for now) from the original time series. We will therefore use two different interpolation methods: `linear` and `nearest`. Let’s have a look at the `interp1` function (in the `scipy` package) in the `help()` first:"
   ]
  },
  {
   "cell_type": "code",
   "execution_count": null,
   "id": "7c1f4670",
   "metadata": {},
   "outputs": [],
   "source": [
    "help(interp1d)"
   ]
  },
  {
   "cell_type": "markdown",
   "id": "47a482ce",
   "metadata": {},
   "source": [
    "We will linearly interpolate series 1 as an example of how this function works:"
   ]
  },
  {
   "cell_type": "code",
   "execution_count": null,
   "id": "bc290fea",
   "metadata": {},
   "outputs": [],
   "source": [
    "series1L = interp1d(series1[:,0], series1[:,1], kind='linear')(t3)"
   ]
  },
  {
   "cell_type": "markdown",
   "id": "294d4fbb",
   "metadata": {},
   "source": [
    "**Exercise 14:** Now use the function to interpolate series 1 and series 2, each using both the `linear` and the `nearest` method by changing the `kind` parameter."
   ]
  },
  {
   "cell_type": "code",
   "execution_count": null,
   "id": "a4601caf",
   "metadata": {},
   "outputs": [],
   "source": []
  },
  {
   "cell_type": "markdown",
   "id": "9d48e7fe",
   "metadata": {},
   "source": [
    "Let's now plot the original data points, and then the interpolated time series. We will also zoom in a bit (using `xlim`) so that we can clearly see the difference between both interpolation techniques:"
   ]
  },
  {
   "cell_type": "code",
   "execution_count": null,
   "id": "e804ddfe",
   "metadata": {},
   "outputs": [],
   "source": [
    "plt.plot(series1[:,0], series1[:,1], color = 'blue')\n",
    "plt.plot(t3, series1L, color = 'red')\n",
    "plt.plot(t3, series1N, color = 'green')\n",
    "plt.ylabel('O isotope')\n",
    "plt.xlabel('Time (kyr)')\n",
    "plt.ylim((-5, 5))\n",
    "plt.xlim((350, 450))\n",
    "plt.legend(labels = ['Original', 'Linear interpolation', 'Nearest interpolation'])"
   ]
  },
  {
   "cell_type": "markdown",
   "id": "2f664f5c",
   "metadata": {},
   "source": [
    "**Question 6:** Have a good look at the code we used for plotting the interpolations above, and at the plot showing the results. Describe in your own words what the difference is between the two interpolation methods. Which one do you prefer and why?"
   ]
  },
  {
   "cell_type": "markdown",
   "id": "f5bfe050",
   "metadata": {},
   "source": [
    "**Answer 6:**"
   ]
  },
  {
   "cell_type": "markdown",
   "id": "1211e0e3",
   "metadata": {},
   "source": [
    "Now that we have our interpolated time series, we are ready to apply spectral analysis to study the periodicity in the oxygen isotope series."
   ]
  },
  {
   "cell_type": "markdown",
   "id": "94878232",
   "metadata": {},
   "source": [
    "**Exercise 15:** Calculate a periodogram of series 1 and series 2, and plot them. You can recycle your code from above, but think carefully about how you choose your input to the `signalperiodogram` input (especially the `window` parameter!). You can choose which interpolation method (`linear` or `nearest`) you want to use to make the data evenly spaced. Tip: You can play with the x-axis limits (`plt.xlim`) to zoom in and out in your plot to make it easier to read."
   ]
  },
  {
   "cell_type": "code",
   "execution_count": null,
   "id": "01587282",
   "metadata": {},
   "outputs": [],
   "source": []
  },
  {
   "cell_type": "markdown",
   "id": "7237f88e",
   "metadata": {},
   "source": [
    "**Question 7:** What do you observe in the periodogram plots?"
   ]
  },
  {
   "cell_type": "markdown",
   "id": "9b6a7297",
   "metadata": {},
   "source": [
    "**Answer 7:**"
   ]
  },
  {
   "cell_type": "markdown",
   "id": "a0a2c4c0",
   "metadata": {},
   "source": [
    "**Question 8:** Which are the dominant periodicities (in kyr) in the two data series? Explain how you calculated this result. Does the result surprise you? (Tip: Be careful when you calculate the period belonging to a peak in the powerspectrum, because your sampling interval is not equal to 1 kyr!)"
   ]
  },
  {
   "cell_type": "markdown",
   "id": "5cdb1fe0",
   "metadata": {},
   "source": [
    "**Answer 8:**"
   ]
  },
  {
   "cell_type": "markdown",
   "id": "d75b2f6f",
   "metadata": {},
   "source": [
    "**(Non-statistical) BONUS QUESTION:** Oxygen isotope ratios in marine records are a proxy for water temperature. Can you think about a mechanism that may explain the occurrence of the periodic variability you have found in the records?"
   ]
  },
  {
   "cell_type": "markdown",
   "id": "63142aba",
   "metadata": {},
   "source": [
    "**ANSWER:**"
   ]
  }
 ],
 "metadata": {
  "kernelspec": {
   "display_name": "Python 3 (ipykernel)",
   "language": "python",
   "name": "python3"
  },
  "language_info": {
   "codemirror_mode": {
    "name": "ipython",
    "version": 3
   },
   "file_extension": ".py",
   "mimetype": "text/x-python",
   "name": "python",
   "nbconvert_exporter": "python",
   "pygments_lexer": "ipython3",
   "version": "3.9.13"
  }
 },
 "nbformat": 4,
 "nbformat_minor": 5
}
