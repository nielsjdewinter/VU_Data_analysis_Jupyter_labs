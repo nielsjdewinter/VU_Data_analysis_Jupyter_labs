{
  "cells": [
    {
      "cell_type": "markdown",
      "metadata": {
        "id": "view-in-github",
        "colab_type": "text"
      },
      "source": [
        "<a href=\"https://colab.research.google.com/github/nielsjdewinter/VU_Data_analysis_Jupyter_labs/blob/main/Lab03_cluster_analysis.ipynb\" target=\"_parent\"><img src=\"https://colab.research.google.com/assets/colab-badge.svg\" alt=\"Open In Colab\"/></a>"
      ]
    },
    {
      "cell_type": "markdown",
      "id": "314ad3e3",
      "metadata": {
        "id": "314ad3e3"
      },
      "source": [
        "# Lab 03: Cluster analysis"
      ]
    },
    {
      "cell_type": "markdown",
      "id": "4fa84fe6",
      "metadata": {
        "id": "4fa84fe6"
      },
      "source": [
        "Author: **N.J. de Winter** (*n.j.de.winter@vu.nl*)<br>\n",
        "Assitant Professor Vrije Universiteit Amsterdam<br>\n",
        "Statistics and Data Analysis Course"
      ]
    },
    {
      "cell_type": "markdown",
      "id": "a792a8a8",
      "metadata": {
        "id": "a792a8a8"
      },
      "source": [
        "\n",
        "## Learning goals:\n",
        "\n",
        "* Apply and improve your knowledge of Python and Jupyter\n",
        "* Get famliar with cluster analysis\n",
        "    * Understand and apply tools to assess whether a dataset of *observations* can be clustered\n",
        "    * Interpret *tree diagrams* based on datasets\n",
        "* Develop a feeling for how statistical tools can help you, but you still require *your interpretation* to draw conclusions."
      ]
    },
    {
      "cell_type": "markdown",
      "id": "4bc6d34a",
      "metadata": {
        "id": "4bc6d34a"
      },
      "source": [
        "## Introduction\n",
        "\n",
        "In this lab assignment, you will learn to apply __cluster analysis__ to a dataset. We will work with a dataset consisting of mineralogical analyses of sediments, a very common type of data for Earth Scientists! The tools you will start to work with in this lab are very useful for *classifying* datasets containing multiple (sometimes large amounts of) *observations* of multiple *variables*. The goal of __cluster analysis__ is to group observations into *clusters*, not to combine *variables*. For combining *variables* we will work with __factor analysis__ in the upcoming labs."
      ]
    },
    {
      "cell_type": "markdown",
      "id": "5c9b1e1a",
      "metadata": {
        "id": "5c9b1e1a"
      },
      "source": [
        "Since this is the third exercise, we will assume that you have a bit more experience with Python compared to last exercise. Don't forget that you can look up ways to load and adapt data you may need here in the previous labs in case you get lost."
      ]
    },
    {
      "cell_type": "markdown",
      "id": "ecafbdc0",
      "metadata": {
        "id": "ecafbdc0"
      },
      "source": [
        "As usual, we will start by loading some packages. Like in the previous labs, will need the `numpy` and `matplotlib` libraries again."
      ]
    },
    {
      "cell_type": "markdown",
      "id": "25747f52",
      "metadata": {
        "id": "25747f52"
      },
      "source": [
        "__Exercise 1:__ Load the `numpy` package and the `pyplot` package (part of `matplotlib`) like you did in the previous labs. Don't forget that you also need to add the statement `%matplotlib inline` to allow plots to be visualized in Jupyter:"
      ]
    },
    {
      "cell_type": "code",
      "execution_count": null,
      "id": "70234a26",
      "metadata": {
        "id": "70234a26"
      },
      "outputs": [],
      "source": [
        "# Make sure our figures show up in Jupyter\n",
        "\n",
        "# The 'numpy' package contains some handy functions\n",
        "# The 'matplotlib' package contains tools needed to plot our data and results"
      ]
    },
    {
      "cell_type": "markdown",
      "id": "f101f1ec",
      "metadata": {
        "id": "f101f1ec"
      },
      "source": [
        "Besides these common packages, we will also need to load the following:"
      ]
    },
    {
      "cell_type": "code",
      "execution_count": null,
      "id": "d7a8b5e1",
      "metadata": {
        "id": "d7a8b5e1"
      },
      "outputs": [],
      "source": [
        "import matplotlib.ticker as mt # A package in metplotlib that allows us to modify tick marks in plots\n",
        "from scipy.spatial.distance import pdist, squareform # Some functions we need to calculate virtual \"distances\" between observations\n",
        "from scipy.cluster import hierarchy as sch # A function we need to perform cluster analysis"
      ]
    },
    {
      "cell_type": "markdown",
      "id": "3d60863c",
      "metadata": {
        "id": "3d60863c"
      },
      "source": [
        "## Preparing your data\n",
        "\n",
        "You have already learned how to define the working directory in previous labs. Do this if you are working in Spyder. If you are working in Jupyter (recommended), make sure the dataset `Lab03.txt` is in the same folder as your Jupyter Notebook."
      ]
    },
    {
      "cell_type": "markdown",
      "id": "29a1f44f",
      "metadata": {
        "id": "29a1f44f"
      },
      "source": [
        "The data we need for this lab is in `.txt` format, so we need a different command for loading it than the `.csv` data:"
      ]
    },
    {
      "cell_type": "code",
      "execution_count": null,
      "id": "d8611d83",
      "metadata": {
        "id": "d8611d83"
      },
      "outputs": [],
      "source": [
        "data = np.loadtxt('Lab03.txt', skiprows=1)"
      ]
    },
    {
      "cell_type": "markdown",
      "id": "86707786",
      "metadata": {
        "id": "86707786"
      },
      "source": [
        "Make sure you explore your new dataset using the commands you have learned in previous Labs."
      ]
    },
    {
      "cell_type": "code",
      "execution_count": null,
      "id": "9ce60630",
      "metadata": {
        "id": "9ce60630"
      },
      "outputs": [],
      "source": [
        "# Inspect your data\n"
      ]
    },
    {
      "cell_type": "markdown",
      "id": "5f8a8731",
      "metadata": {
        "id": "5f8a8731"
      },
      "source": [
        "__Question 1:__ How many observations (rows) does the dataset have? And how many measured parameters (columns)?"
      ]
    },
    {
      "cell_type": "markdown",
      "id": "4d28a7a6",
      "metadata": {
        "id": "4d28a7a6"
      },
      "source": [
        "__Answer 1:__"
      ]
    },
    {
      "cell_type": "markdown",
      "id": "39ad3065",
      "metadata": {
        "id": "39ad3065"
      },
      "source": [
        "The data is pretty bare, so it will be helpful to create labels for the observations and parameters. We will label the observations simply by calling them `Sample 1`, `Sample 2`, `Sample 3`, etc. You can create a *vector*  of these names using the following commands:"
      ]
    },
    {
      "cell_type": "code",
      "execution_count": null,
      "id": "67dabff9",
      "metadata": {
        "id": "67dabff9"
      },
      "outputs": [],
      "source": [
        "# Create a vector of sample names\n",
        "sample = ['Sample_' + str(i + 1) for i in range(10)]"
      ]
    },
    {
      "cell_type": "markdown",
      "id": "0e693d3f",
      "metadata": {
        "id": "0e693d3f"
      },
      "source": [
        "Make sure you understand the code above. To help yourself, you can always use `print()` to look at the result."
      ]
    },
    {
      "cell_type": "code",
      "execution_count": null,
      "id": "88d79cf4",
      "metadata": {
        "id": "88d79cf4"
      },
      "outputs": [],
      "source": [
        "print(sample)"
      ]
    },
    {
      "cell_type": "markdown",
      "id": "4bcb8c3e",
      "metadata": {
        "id": "4bcb8c3e"
      },
      "source": [
        "The columns of the data sample represent the percentages of various minerals measured in the sediment samples. The sediments are sourced from 3 rock types:\n",
        "\n",
        "1. a magmatic rock containing predominantly amphibole (`amp`), pyroxene (`pyr`), and plagioclase (`pla`)\n",
        "2. a hydrothermal vain characterized by the occurrence of fluorite (`flu`), sphalerite (`sph`), and galenite (`gal`), as well as some feldspars (`pla`) and potassium feldspar (`ksp`) and quartz (`qtz`)\n",
        "3. a sandstone unit containing `pla`, `ksp`, `qtz` and clay minerals (`cla`)\n",
        "\n",
        "Your *parameters* in this dataset are the percentages of minerals measured in each sample.\n",
        "You can use the command below to create a vector of these mineral abbreviations in the order of the columns in your data:"
      ]
    },
    {
      "cell_type": "code",
      "execution_count": null,
      "id": "5d48a224",
      "metadata": {
        "id": "5d48a224"
      },
      "outputs": [],
      "source": [
        "# Create a vector of parameter names\n",
        "minerals = ['amp', 'pyr', 'pla', 'ksp', 'qtz', 'cla', 'flu', 'sph', 'gal']"
      ]
    },
    {
      "cell_type": "markdown",
      "id": "010cfb8a",
      "metadata": {
        "id": "010cfb8a"
      },
      "source": [
        "## Inspecting the data structure\n",
        "\n",
        "To test how your parameters (measurements of mineral content) correlate with each other, you can make a correlation matrix. You already looked at correlations between variables in datasets in `Lab01` and `Lab02` so you should know how to do this now using the `corr()` function (Look it up if you are not sure any more!). Since your data in this Lab originated from a `.txt` file and was not loaded using the `pandas` package, this syntax will not work. Instead you will need to use the more general `np.corrcoef()` function."
      ]
    },
    {
      "cell_type": "markdown",
      "id": "e494fc30",
      "metadata": {
        "id": "e494fc30"
      },
      "source": [
        "__Exercise 2:__ Create a correlation matrix named 'corrmatrix' listing the correlations between the mineral content in your dataset and inspect the result."
      ]
    },
    {
      "cell_type": "code",
      "execution_count": null,
      "id": "1df14af9",
      "metadata": {
        "id": "1df14af9"
      },
      "outputs": [],
      "source": [
        "# Create a correlation matrix of the mineral content\n"
      ]
    },
    {
      "cell_type": "markdown",
      "id": "94ad6025",
      "metadata": {
        "id": "94ad6025"
      },
      "source": [
        "__Question 2:__ Can you easily interpret this result to determine which minerals are correlated with each other?"
      ]
    },
    {
      "cell_type": "markdown",
      "id": "00c738da",
      "metadata": {
        "id": "00c738da"
      },
      "source": [
        "__Answer 2:__"
      ]
    },
    {
      "cell_type": "markdown",
      "id": "4d3fbcd9",
      "metadata": {
        "id": "4d3fbcd9"
      },
      "source": [
        "To make it easier to interpret the results, we will use the following string of commands to make a nice correlation plot. Make sure you follow exactly what is happening here. If you are unsure, you can always use the `help()` function or (usually more straightforwardly) just Google the functions to get information on what they do."
      ]
    },
    {
      "cell_type": "code",
      "execution_count": null,
      "id": "12495691",
      "metadata": {
        "id": "12495691"
      },
      "outputs": [],
      "source": [
        "# First we flip the correlation matrix:\n",
        "corrmatrix = np.flipud(corrmatrix)\n",
        "\n",
        "# Second, we plot the correlation matrix with colors representing the degree of correlation:\n",
        "plt.figure(1)\n",
        "plt.imshow(corrmatrix, cmap = 'hot')\n",
        "\n",
        "# Third, we add a title to the graph\n",
        "plt.title('Correlation matrix')\n",
        "\n",
        "# Fourth, we also add the mineral labels:\n",
        "plt.xticks(np.arange(0, 9), [minerals[i] for i in range(9)])\n",
        "plt.yticks(np.arange(0, 9), [np.flipud(minerals)[i] for i in range(9)])\n",
        "\n",
        "# Finally, we display the colorbar as a legend:\n",
        "plt.colorbar()"
      ]
    },
    {
      "cell_type": "markdown",
      "id": "74880fcb",
      "metadata": {
        "id": "74880fcb"
      },
      "source": [
        "__Question 3:__ Which (groups) of minerals are highly correlated? Does this correlation reflect the rock types in the dataset (see description above)"
      ]
    },
    {
      "cell_type": "markdown",
      "id": "2ddf2b7e",
      "metadata": {
        "id": "2ddf2b7e"
      },
      "source": [
        "__Answer 3:__"
      ]
    },
    {
      "cell_type": "markdown",
      "id": "42b23944",
      "metadata": {
        "id": "42b23944"
      },
      "source": [
        "## Performing cluster analysis\n",
        "\n",
        "To perform cluster analysis, we want to calculate the distances between pairs of samples. We will use the pdist function for that."
      ]
    },
    {
      "cell_type": "markdown",
      "id": "6a2ea65e",
      "metadata": {
        "id": "6a2ea65e"
      },
      "source": [
        "__Exercise 3:__ Study the pdist function well using the help."
      ]
    },
    {
      "cell_type": "code",
      "execution_count": null,
      "id": "f2007a10",
      "metadata": {
        "id": "f2007a10"
      },
      "outputs": [],
      "source": []
    },
    {
      "cell_type": "markdown",
      "id": "32b6faa8",
      "metadata": {
        "id": "32b6faa8"
      },
      "source": [
        "__Question 4:__ Apparently, there are many different options to define the distance between pairs. Which parameter of the function `pdist()` allows you to set the parameter for difining the distance between observations? Which options for this parameter are familiar to you? (Hint: check the lexture slides) Can you define what these do?"
      ]
    },
    {
      "cell_type": "markdown",
      "id": "346329b6",
      "metadata": {
        "id": "346329b6"
      },
      "source": [
        "__Answer 4:__"
      ]
    },
    {
      "cell_type": "markdown",
      "id": "22eedab6",
      "metadata": {
        "id": "22eedab6"
      },
      "source": [
        "Let's first try the 'euclidean' distance."
      ]
    },
    {
      "cell_type": "markdown",
      "id": "39f36e1b",
      "metadata": {
        "id": "39f36e1b"
      },
      "source": [
        "__Exercise 4:__ Following the synthax of the `pdist()` function you discovered using the `help()` function above (__Exercise 3__), calculate a vector `Y` of distances between all observations by applying the `pdist()` function on your dataset, defining the `metric` as `euclidean`. Inspect the result."
      ]
    },
    {
      "cell_type": "code",
      "execution_count": null,
      "id": "9a3ecec4",
      "metadata": {
        "scrolled": true,
        "id": "9a3ecec4"
      },
      "outputs": [],
      "source": []
    },
    {
      "cell_type": "markdown",
      "id": "45c498fe",
      "metadata": {
        "id": "45c498fe"
      },
      "source": [
        "It would be easier to interpret this result if this was a distance matrix rather than a long vector of values, i.e. something similar to a correlation matrix. Luckily, there already exists a function to convert the distance vector to a matrix: `squareform`."
      ]
    },
    {
      "cell_type": "markdown",
      "id": "a302e9a2",
      "metadata": {
        "id": "a302e9a2"
      },
      "source": [
        "__Exercise 5:__ Search the `help()` for `squareform` and apply the function on your new vector `Y` to create a distance matrix `X` of all the Euclidean distances. Use `print()` to inspect the result."
      ]
    },
    {
      "cell_type": "code",
      "execution_count": null,
      "id": "7a2f5a48",
      "metadata": {
        "id": "7a2f5a48"
      },
      "outputs": [],
      "source": []
    },
    {
      "cell_type": "markdown",
      "id": "4a31187f",
      "metadata": {
        "id": "4a31187f"
      },
      "source": [
        "__Exercise 6:__ Now we can plot the distance matrix X as a color image. Do so using the same steps as you followed to plot the correlation matrix above. Make sure you choose appropriate titles for the axes and the plot in general."
      ]
    },
    {
      "cell_type": "code",
      "execution_count": null,
      "id": "afa4faad",
      "metadata": {
        "id": "afa4faad"
      },
      "outputs": [],
      "source": [
        "# Plot the distance matrix with colors representing the distance between samples:\n",
        "\n",
        "\n",
        "# Add a title to the graph\n",
        "\n",
        "\n",
        "# Add the sample labels:\n",
        "\n",
        "\n",
        "# Display the colorbar as a legend:\n"
      ]
    },
    {
      "cell_type": "markdown",
      "id": "88b634eb",
      "metadata": {
        "id": "88b634eb"
      },
      "source": [
        "In the plot above, dark/red colors denote pairs that are 'close' to each other, which means that these paired observations/samples are similar. Yellow-to-white observation show pairs that are 'far' from each other, which means that these samples are quite different.\n",
        "\n",
        "__Hint:__ Of course you can use different color scales if you want, just check the `help()` of the function `plt.imshow` and look for the options you have for the parameter `cmap`"
      ]
    },
    {
      "cell_type": "code",
      "execution_count": null,
      "id": "3ebab586",
      "metadata": {
        "id": "3ebab586"
      },
      "outputs": [],
      "source": [
        "help(plt.imshow)"
      ]
    },
    {
      "cell_type": "markdown",
      "id": "8135f078",
      "metadata": {
        "id": "8135f078"
      },
      "source": [
        "We now want to construct a tree diagram, and we therefore need a hierarchical algorithm to cluster observations in an iterative manner. Linkage is a function that does this."
      ]
    },
    {
      "cell_type": "markdown",
      "id": "4c2b82f3",
      "metadata": {
        "id": "4c2b82f3"
      },
      "source": [
        "__Exercise 7:__ Search the help for the sch.linkage function and check which parameters of the function you can play around with (scroll down to the parameters section)."
      ]
    },
    {
      "cell_type": "code",
      "execution_count": null,
      "id": "5fbb430a",
      "metadata": {
        "id": "5fbb430a"
      },
      "outputs": [],
      "source": []
    },
    {
      "cell_type": "markdown",
      "id": "6282d7c9",
      "metadata": {
        "id": "6282d7c9"
      },
      "source": [
        "We can define the linkage function with several input parameters, such as the `method` and `metric`. The method defines the algorithm for computing distances between clusters. Some of these options are easy to understand, like `average`, `complete`, `single`. Others may need some more thinking. With the `metric` option we can again define a distance metric such as `euclidean`, `cityblock` or `correlation`."
      ]
    },
    {
      "cell_type": "markdown",
      "id": "4a553d7d",
      "metadata": {
        "id": "4a553d7d"
      },
      "source": [
        "__Exercise 8:__ Apply the `sch.linkage` function using the `method` 'single' and the `metric` 'euclidean' on the dataset and assign the result to an object called `Z`. Then inspect the resulting object `Z`."
      ]
    },
    {
      "cell_type": "code",
      "execution_count": null,
      "id": "23d76716",
      "metadata": {
        "id": "23d76716"
      },
      "outputs": [],
      "source": []
    },
    {
      "cell_type": "markdown",
      "id": "2cc130db",
      "metadata": {
        "id": "2cc130db"
      },
      "source": [
        "Understanding the output `Z` requires some attention: The first row denotes the first cluster that was formed. The numbers in the first 2 columns of row 1 show which initial clusters (now still individual samples) that were clustered. Since indices in Python start with 0, note that index 0 refers to sample 1, index 1 to sample 2, etc. Thus, the first cluster joined samples 2 and 9. In the third column of row 1 we can see their paired distance. The first row thus shows the first step the clustering algorithm took."
      ]
    },
    {
      "cell_type": "markdown",
      "id": "10633131",
      "metadata": {
        "id": "10633131"
      },
      "source": [
        "For further clustering: this newly derived cluster needs a new label. This new label is simply the number of initial samples (10) + the clustering step/row (here 1). The newly formed cluster thus gets assigned the label 11. Now we can continue with clustering. The second cluster joined samples 8 and 10, the resulting new cluster is labeled 12 (10 original samples + 2 steps). The third cluster joined sample 1 with cluster 12. The newly formed cluster is labeled 13. Etcetera."
      ]
    },
    {
      "cell_type": "markdown",
      "id": "9f5b3e7d",
      "metadata": {
        "id": "9f5b3e7d"
      },
      "source": [
        "We can visualize this clustering tree using the dendrogram function. The code below looks complicated, so make sure you read it line by line and use the comments (denoted by the '#') to understand what's going on. You can always copy parts of the code in a new code cell and/or inspect the results to test your understanding."
      ]
    },
    {
      "cell_type": "code",
      "execution_count": null,
      "id": "d9903829",
      "metadata": {
        "id": "d9903829"
      },
      "outputs": [],
      "source": [
        "plt.figure(2, figsize=(20, 15)) # Create a new plot with size x = 20, y = 15)\n",
        "ax = plt.gca() # \"gca\" means \"get current axes\", so this saves the axes of the plot in the object \"ax\"\n",
        "dn = sch.dendrogram(Z, labels = sample, ax = ax) # Create a dendrogram using the linkage data in object \"Z\" you just created and labeling the samples using your \"sample\" vector\n",
        "ax.set_xlabel('Sample number', {'fontname':'Calibri', 'fontsize':14}) # Label the x-axis + layout\n",
        "ax.set_ylabel('Single Euclidean distance', {'fontname':'Calibri', 'fontsize':14}) # Label the y-axis + layout\n",
        "ax.xaxis.set_major_locator(mt.FixedLocator(np.arange(5, 10 * 10 + 5, 10))) # Set the locations of tick marks on the x-axis\n",
        "ax.yaxis.set_major_locator(mt.MultipleLocator(base = 0.05)) # Set the locations of tick marks on the y-axis\n",
        "ax.yaxis.set_minor_locator(mt.AutoMinorLocator()) # Set the locations of minor tick marks on the y-axis\n",
        "ax.tick_params(axis = 'y', which = 'both', direction = 'in', left = True, right = True) # Set layout parameters (title, direction, alignment, etc) of x-axis\n",
        "ax.tick_params(axis = 'x', which = 'major', direction = 'in', top = True, bottom = True) # Set layout parameters (title, direction, alignment, etc) of y-axis\n",
        "plt.title('Dendrogram of 10 sediment samples', {'fontname':'Calibri', 'fontsize':24}) # Create a plot title + layout"
      ]
    },
    {
      "cell_type": "markdown",
      "id": "7a66431a",
      "metadata": {
        "id": "7a66431a"
      },
      "source": [
        "This graph visualizes everything from matrix `Z`."
      ]
    },
    {
      "cell_type": "markdown",
      "id": "4b9383ec",
      "metadata": {
        "id": "4b9383ec"
      },
      "source": [
        "__Question 5:__ Does the dendrogram yield clear groups of samples? If so, which samples cluster together? Can you make sense of these groups based on what you know about the samples in your dataset?"
      ]
    },
    {
      "cell_type": "markdown",
      "id": "d95eb106",
      "metadata": {
        "id": "d95eb106"
      },
      "source": [
        "__Answer 5:__"
      ]
    },
    {
      "cell_type": "markdown",
      "id": "64ae5c95",
      "metadata": {
        "id": "64ae5c95"
      },
      "source": [
        "__Question 6:__ Where (i.e. at which euclidean distance value) would you cut off the tree to withhold clusters?"
      ]
    },
    {
      "cell_type": "markdown",
      "id": "6febc058",
      "metadata": {
        "id": "6febc058"
      },
      "source": [
        "__Answer 6:__"
      ]
    },
    {
      "cell_type": "markdown",
      "id": "c80efe7d",
      "metadata": {
        "id": "c80efe7d"
      },
      "source": [
        "A result like this might be dependent on the choices you made while doing the clustering. Doing a rigorous statistical analysis requires testing of the effect of such choices on the analysis."
      ]
    },
    {
      "cell_type": "markdown",
      "id": "d5217052",
      "metadata": {
        "id": "d5217052"
      },
      "source": [
        "__Question 7:__ Can you think of a choice you made when making the dendrogram above that could affect your result?"
      ]
    },
    {
      "cell_type": "markdown",
      "id": "9bbb4ba8",
      "metadata": {
        "id": "9bbb4ba8"
      },
      "source": [
        "__Answer 7:__"
      ]
    },
    {
      "cell_type": "markdown",
      "id": "c9861af7",
      "metadata": {
        "id": "c9861af7"
      },
      "source": [
        "__BONUS exercise:__ Repeat the cluster analysis above using the distance metrics Manhattan distance (`cityblock`) and Pearson's correlation (`correlation`) and plot the results to check whether the clustering you ended up with is robust against changes in the metric."
      ]
    },
    {
      "cell_type": "code",
      "execution_count": null,
      "id": "548553be",
      "metadata": {
        "id": "548553be"
      },
      "outputs": [],
      "source": [
        "# Create a new linkage file using the Manhattan distance\n",
        "\n",
        "\n",
        "# Inspect the result\n",
        "\n",
        "\n",
        "# Plot the dendrogram using Manhattan distance\n",
        " # Create a new plot with size x = 20, y = 15)\n",
        " # \"gca\" means \"get current axes\", so this saves the axes of the plot in the object \"ax\"\n",
        " # Create a dendrogram using the linkage data in object \"Z\" you just created and labeling the samples using your \"sample\" vector\n",
        " # Label the x-axis + layout\n",
        " # Label the y-axis + layout\n",
        " # Set the locations of tick marks on the x-axis\n",
        " # Set the locations of tick marks on the y-axis\n",
        " # Set the locations of minor tick marks on the y-axis\n",
        " # Set layout parameters (title, direction, alignment, etc) of x-axis\n",
        " # Set layout parameters (title, direction, alignment, etc) of y-axis\n",
        " # Create a plot title + layout"
      ]
    },
    {
      "cell_type": "code",
      "execution_count": null,
      "id": "fb9773d8",
      "metadata": {
        "id": "fb9773d8"
      },
      "outputs": [],
      "source": [
        "# Create a new linkage file using the Pearson's correlation as distance\n",
        "\n",
        "\n",
        "# Inspect the result\n",
        "\n",
        "\n",
        "# Plot the dendrogram using Manhattan distance\n",
        " # Create a new plot with size x = 20, y = 15)\n",
        " # \"gca\" means \"get current axes\", so this saves the axes of the plot in the object \"ax\"\n",
        " # Create a dendrogram using the linkage data in object \"Z\" you just created and labeling the samples using your \"sample\" vector\n",
        " # Label the x-axis + layout\n",
        " # Label the y-axis + layout\n",
        " # Set the locations of tick marks on the x-axis\n",
        " # Set the locations of tick marks on the y-axis\n",
        " # Set the locations of minor tick marks on the y-axis\n",
        " # Set layout parameters (title, direction, alignment, etc) of x-axis\n",
        " # Set layout parameters (title, direction, alignment, etc) of y-axis\n",
        " # Create a plot title + layout"
      ]
    },
    {
      "cell_type": "markdown",
      "id": "c5e8aaf3",
      "metadata": {
        "id": "c5e8aaf3"
      },
      "source": [
        "__Conclusion:__"
      ]
    }
  ],
  "metadata": {
    "kernelspec": {
      "display_name": "Python 3 (ipykernel)",
      "language": "python",
      "name": "python3"
    },
    "language_info": {
      "codemirror_mode": {
        "name": "ipython",
        "version": 3
      },
      "file_extension": ".py",
      "mimetype": "text/x-python",
      "name": "python",
      "nbconvert_exporter": "python",
      "pygments_lexer": "ipython3",
      "version": "3.9.13"
    },
    "colab": {
      "provenance": [],
      "include_colab_link": true
    }
  },
  "nbformat": 4,
  "nbformat_minor": 5
}
