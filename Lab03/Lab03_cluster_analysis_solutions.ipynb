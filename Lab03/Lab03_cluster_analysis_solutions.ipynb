{
 "cells": [
  {
   "cell_type": "markdown",
   "id": "314ad3e3",
   "metadata": {},
   "source": [
    "# Lab 03: Cluster analysis"
   ]
  },
  {
   "cell_type": "markdown",
   "id": "4fa84fe6",
   "metadata": {},
   "source": [
    "Author: **N.J. de Winter** (*n.j.de.winter@vu.nl*)<br>\n",
    "Assitant Professor Vrije Universiteit Amsterdam<br>\n",
    "Statistics and Data Analysis Course"
   ]
  },
  {
   "cell_type": "markdown",
   "id": "a792a8a8",
   "metadata": {},
   "source": [
    "\n",
    "## Learning goals:\n",
    "\n",
    "* Apply and improve your knowledge of Python and Jupyter\n",
    "* Get famliar with cluster analysis\n",
    "    * Understand and apply tools to assess whether a dataset of *observations* can be clustered\n",
    "    * Interpret *tree diagrams* based on datasets\n",
    "* Develop a feeling for how statistical tools can help you, but you still require *your interpretation* to draw conclusions."
   ]
  },
  {
   "cell_type": "markdown",
   "id": "4bc6d34a",
   "metadata": {},
   "source": [
    "## Introduction\n",
    "\n",
    "In this lab assignment, you will learn to apply __cluster analysis__ to a dataset. We will work with a dataset consisting of mineralogical analyses of sediments, a very common type of data for Earth Scientists! The tools you will start to work with in this lab are very useful for *classifying* datasets containing multiple (sometimes large amounts of) *observations* of multiple *variables*. The goal of __cluster analysis__ is to group observations into *clusters*, not to combine *variables*. For combining *variables* we will work with __factor analysis__ in the upcoming labs."
   ]
  },
  {
   "cell_type": "markdown",
   "id": "5c9b1e1a",
   "metadata": {},
   "source": [
    "Since this is the third exercise, we will assume that you have a bit more experience with Python compared to last exercise. Don't forget that you can look up ways to load and adapt data you may need here in the previous labs in case you get lost."
   ]
  },
  {
   "cell_type": "markdown",
   "id": "ecafbdc0",
   "metadata": {},
   "source": [
    "As usual, we will start by loading some packages. Like in the previous labs, will need the `numpy` and `matplotlib` libraries again."
   ]
  },
  {
   "cell_type": "markdown",
   "id": "25747f52",
   "metadata": {},
   "source": [
    "__Exercise 1:__ Load the `numpy` package and the `pyplot` package (part of `matplotlib`) like you did in the previous labs. Don't forget that you also need to add the statement `%matplotlib inline` to allow plots to be visualized in Jupyter:"
   ]
  },
  {
   "cell_type": "code",
   "execution_count": 1,
   "id": "70234a26",
   "metadata": {},
   "outputs": [],
   "source": [
    "# Make sure our figures show up in Jupyter\n",
    "%matplotlib inline\n",
    "import numpy as np # The 'numpy' package contains some handy functions\n",
    "from matplotlib import pyplot as plt # The 'matplotlib' package contains tools needed to plot our data and results"
   ]
  },
  {
   "cell_type": "markdown",
   "id": "f101f1ec",
   "metadata": {},
   "source": [
    "Besides these common packages, we will also need to load the following:"
   ]
  },
  {
   "cell_type": "code",
   "execution_count": 2,
   "id": "d7a8b5e1",
   "metadata": {},
   "outputs": [],
   "source": [
    "import matplotlib.ticker as mt # A package in metplotlib that allows us to modify tick marks in plots\n",
    "from scipy.spatial.distance import pdist, squareform # Some functions we need to calculate virtual \"distances\" between observations\n",
    "from scipy.cluster import hierarchy as sch # A function we need to perform cluster analysis"
   ]
  },
  {
   "cell_type": "markdown",
   "id": "3d60863c",
   "metadata": {},
   "source": [
    "## Preparing your data\n",
    "\n",
    "You have already learned how to define the working directory in previous labs. Do this if you are working in Spyder. If you are working in Jupyter (recommended), make sure the dataset `Lab03.txt` is in the same folder as your Jupyter Notebook."
   ]
  },
  {
   "cell_type": "markdown",
   "id": "29a1f44f",
   "metadata": {},
   "source": [
    "The data we need for this lab is in `.txt` format, so we need a different command for loading it than the `.csv` data:"
   ]
  },
  {
   "cell_type": "code",
   "execution_count": 3,
   "id": "d8611d83",
   "metadata": {},
   "outputs": [],
   "source": [
    "data = np.loadtxt('Lab03.txt', skiprows=1)"
   ]
  },
  {
   "cell_type": "markdown",
   "id": "86707786",
   "metadata": {},
   "source": [
    "Make sure you explore your new dataset using the commands you have learned in previous Labs."
   ]
  },
  {
   "cell_type": "code",
   "execution_count": 4,
   "id": "9ce60630",
   "metadata": {},
   "outputs": [
    {
     "name": "stdout",
     "output_type": "stream",
     "text": [
      "[[0.1702 0.1906 0.3079 0.0941 0.0286 0.     0.0767 0.0577 0.0742]\n",
      " [0.1357 0.191  0.2532 0.1248 0.106  0.0275 0.0621 0.0331 0.0665]\n",
      " [0.0885 0.1016 0.1791 0.116  0.1185 0.0174 0.1673 0.0789 0.1328]\n",
      " [0.0736 0.12   0.1554 0.1269 0.2309 0.0655 0.0916 0.063  0.0731]\n",
      " [0.0073 0.0645 0.0737 0.1407 0.2009 0.0278 0.2212 0.0937 0.1701]\n",
      " [0.0549 0.0161 0.0626 0.171  0.3922 0.0859 0.1193 0.0376 0.0604]\n",
      " [0.0805 0.0465 0.0998 0.1848 0.3848 0.1157 0.0722 0.0157 0.    ]\n",
      " [0.2191 0.2266 0.323  0.0877 0.0396 0.     0.0559 0.0317 0.0164]\n",
      " [0.1694 0.1608 0.2352 0.1217 0.0983 0.0301 0.0619 0.0599 0.0627]\n",
      " [0.2318 0.2116 0.3768 0.102  0.0339 0.007  0.0286 0.001  0.0074]]\n"
     ]
    }
   ],
   "source": [
    "# Inspect your data\n",
    "print(data)"
   ]
  },
  {
   "cell_type": "markdown",
   "id": "5f8a8731",
   "metadata": {},
   "source": [
    "__Question 1:__ How many observations (rows) does the dataset have? And how many measured parameters (columns)?"
   ]
  },
  {
   "cell_type": "markdown",
   "id": "4d28a7a6",
   "metadata": {},
   "source": [
    "__Answer 1:__ The dataset has 10 observations with 9 parameters"
   ]
  },
  {
   "cell_type": "markdown",
   "id": "39ad3065",
   "metadata": {},
   "source": [
    "The data is pretty bare, so it will be helpful to create labels for the observations and parameters. We will label the observations simply by calling them `Sample 1`, `Sample 2`, `Sample 3`, etc. You can create a *vector*  of these names using the following commands:"
   ]
  },
  {
   "cell_type": "code",
   "execution_count": 5,
   "id": "67dabff9",
   "metadata": {},
   "outputs": [],
   "source": [
    "# Create a vector of sample names\n",
    "sample = ['Sample_' + str(i + 1) for i in range(10)]"
   ]
  },
  {
   "cell_type": "markdown",
   "id": "0e693d3f",
   "metadata": {},
   "source": [
    "Make sure you understand the code above. To help yourself, you can always use `print()` to look at the result."
   ]
  },
  {
   "cell_type": "code",
   "execution_count": 6,
   "id": "88d79cf4",
   "metadata": {},
   "outputs": [
    {
     "name": "stdout",
     "output_type": "stream",
     "text": [
      "['Sample_1', 'Sample_2', 'Sample_3', 'Sample_4', 'Sample_5', 'Sample_6', 'Sample_7', 'Sample_8', 'Sample_9', 'Sample_10']\n"
     ]
    }
   ],
   "source": [
    "print(sample)"
   ]
  },
  {
   "cell_type": "markdown",
   "id": "4bcb8c3e",
   "metadata": {},
   "source": [
    "The columns of the data sample represent the percentages of various minerals measured in the sediment samples. The sediments are sourced from 3 rock types:\n",
    "\n",
    "1. a magmatic rock containing predominantly amphibole (`amp`), pyroxene (`pyr`), and plagioclase (`pla`)\n",
    "2. a hydrothermal vain characterized by the occurrence of fluorite (`flu`), sphalerite (`sph`), and galenite (`gal`), as well as some feldspars (`pla`) and potassium feldspar (`ksp`) and quartz (`qtz`)\n",
    "3. a sandstone unit containing `pla`, `ksp`, `qtz` and clay minerals (`cla`)\n",
    "\n",
    "Your *parameters* in this dataset are the percentages of minerals measured in each sample.\n",
    "You can use the command below to create a vector of these mineral abbreviations in the order of the columns in your data:"
   ]
  },
  {
   "cell_type": "code",
   "execution_count": 7,
   "id": "5d48a224",
   "metadata": {},
   "outputs": [],
   "source": [
    "# Create a vector of parameter names\n",
    "minerals = ['amp', 'pyr', 'pla', 'ksp', 'qtz', 'cla', 'flu', 'sph', 'gal']"
   ]
  },
  {
   "cell_type": "markdown",
   "id": "010cfb8a",
   "metadata": {},
   "source": [
    "## Inspecting the data structure\n",
    "\n",
    "To test how your parameters (measurements of mineral content) correlate with each other, you can make a correlation matrix. You already looked at correlations between variables in datasets in `Lab01` and `Lab02` so you should know how to do this now using the `corr()` function (Look it up if you are not sure any more!). Since your data in this Lab originated from a `.txt` file and was not loaded using the `pandas` package, this syntax will not work. Instead you will need to use the more general `np.corrcoef()` function.\n",
    "\n",
    "**WARNING**: The `np.corrcoef()` function reads the *rows* of the data as variables and the *columns* as the objects. Therefore, you have to **transpose** the data first. You can do that using the `.T`- function (e.g. `data.T`). Do this before applying the `np.corrcoef` function otherwise you are correlating the samples, not the minerals!"
   ]
  },
  {
   "cell_type": "markdown",
   "id": "e494fc30",
   "metadata": {},
   "source": [
    "__Exercise 2:__ Create a correlation matrix named 'corrmatrix' listing the correlations between the mineral content in your dataset and inspect the result."
   ]
  },
  {
   "cell_type": "code",
   "execution_count": 8,
   "id": "1df14af9",
   "metadata": {},
   "outputs": [
    {
     "name": "stdout",
     "output_type": "stream",
     "text": [
      "[[0.1702 0.1357 0.0885 0.0736 0.0073 0.0549 0.0805 0.2191 0.1694 0.2318]\n",
      " [0.1906 0.191  0.1016 0.12   0.0645 0.0161 0.0465 0.2266 0.1608 0.2116]\n",
      " [0.3079 0.2532 0.1791 0.1554 0.0737 0.0626 0.0998 0.323  0.2352 0.3768]\n",
      " [0.0941 0.1248 0.116  0.1269 0.1407 0.171  0.1848 0.0877 0.1217 0.102 ]\n",
      " [0.0286 0.106  0.1185 0.2309 0.2009 0.3922 0.3848 0.0396 0.0983 0.0339]\n",
      " [0.     0.0275 0.0174 0.0655 0.0278 0.0859 0.1157 0.     0.0301 0.007 ]\n",
      " [0.0767 0.0621 0.1673 0.0916 0.2212 0.1193 0.0722 0.0559 0.0619 0.0286]\n",
      " [0.0577 0.0331 0.0789 0.063  0.0937 0.0376 0.0157 0.0317 0.0599 0.001 ]\n",
      " [0.0742 0.0665 0.1328 0.0731 0.1701 0.0604 0.     0.0164 0.0627 0.0074]]\n",
      "[[ 1.          0.88520064  0.95188879 -0.71782914 -0.74212632 -0.59334445\n",
      "  -0.80902337 -0.57259327 -0.6310805 ]\n",
      " [ 0.88520064  1.          0.95849559 -0.88618782 -0.90915899 -0.78388723\n",
      "  -0.6289702  -0.28775373 -0.3310373 ]\n",
      " [ 0.95188879  0.95849559  1.         -0.85045602 -0.87768448 -0.750947\n",
      "  -0.68857052 -0.42457523 -0.43776433]\n",
      " [-0.71782914 -0.88618782 -0.85045602  1.          0.95763948  0.93342808\n",
      "   0.28665307 -0.07109547 -0.01387606]\n",
      " [-0.74212632 -0.90915899 -0.87768448  0.95763948  1.          0.95342334\n",
      "   0.30307893 -0.03751802 -0.02593291]\n",
      " [-0.59334445 -0.78388723 -0.750947    0.93342808  0.95342334  1.\n",
      "   0.06697846 -0.19284547 -0.22577407]\n",
      " [-0.80902337 -0.6289702  -0.68857052  0.28665307  0.30307893  0.06697846\n",
      "   1.          0.8065212   0.89250522]\n",
      " [-0.57259327 -0.28775373 -0.42457523 -0.07109547 -0.03751802 -0.19284547\n",
      "   0.8065212   1.          0.92532541]\n",
      " [-0.6310805  -0.3310373  -0.43776433 -0.01387606 -0.02593291 -0.22577407\n",
      "   0.89250522  0.92532541  1.        ]]\n"
     ]
    }
   ],
   "source": [
    "# Create a correlation matrix of the mineral content\n",
    "print(data.T)\n",
    "corrmatrix = np.corrcoef(data.T)\n",
    "print(corrmatrix)"
   ]
  },
  {
   "cell_type": "markdown",
   "id": "94ad6025",
   "metadata": {},
   "source": [
    "__Question 2:__ Can you easily interpret this result to determine which minerals are correlated with each other?"
   ]
  },
  {
   "cell_type": "markdown",
   "id": "00c738da",
   "metadata": {},
   "source": [
    "__Answer 2:__ No, it is hard to spot this by just looking at the numbers in this reasonably large correlation matrix (9x9 combinations)"
   ]
  },
  {
   "cell_type": "markdown",
   "id": "4d3fbcd9",
   "metadata": {},
   "source": [
    "To make it easier to interpret the results, we will use the following string of commands to make a nice correlation plot. Make sure you follow exactly what is happening here. If you are unsure, you can always use the `help()` function or (usually more straightforwardly) just Google the functions to get information on what they do."
   ]
  },
  {
   "cell_type": "code",
   "execution_count": null,
   "id": "12495691",
   "metadata": {},
   "outputs": [
    {
     "data": {
      "text/plain": [
       "<matplotlib.colorbar.Colorbar at 0x223c6464f50>"
      ]
     },
     "execution_count": 17,
     "metadata": {},
     "output_type": "execute_result"
    },
    {
     "data": {
      "image/png": "[encoded data removed]",
      "text/plain": [
       "<Figure size 640x480 with 2 Axes>"
      ]
     },
     "metadata": {},
     "output_type": "display_data"
    }
   ],
   "source": [
    "# First we flip the correlation matrix:\n",
    "corrmatrix2 = np.flipud(corrmatrix)\n",
    "\n",
    "# Second, we plot the correlation matrix with colors representing the degree of correlation:\n",
    "plt.figure(1)\n",
    "plt.imshow(corrmatrix2, cmap = 'hot')\n",
    "\n",
    "# Third, we add a title to the graph\n",
    "plt.title('Correlation matrix')\n",
    "\n",
    "# Fourth, we also add the mineral labels:\n",
    "plt.xticks(np.arange(0, 9), [minerals[i] for i in range(9)])\n",
    "plt.yticks(np.arange(0, 9), [np.flipud(minerals)[i] for i in range(9)]) # We need to flip the mineral names on the y-axis to match the flipped correlation matrix\n",
    "\n",
    "# Finally, we display the colorbar as a legend:\n",
    "plt.colorbar()"
   ]
  },
  {
   "cell_type": "markdown",
   "id": "74880fcb",
   "metadata": {},
   "source": [
    "__Question 3:__ Which (groups) of minerals are highly correlated? Does this correlation reflect the rock types in the dataset (see description above)"
   ]
  },
  {
   "cell_type": "markdown",
   "id": "2ddf2b7e",
   "metadata": {},
   "source": [
    "__Answer 3:__  Three groups appear:\n",
    "1. amp, pyr, pla (magmatic rock)\n",
    "2. ksp, qtz, cla (sandstone)\n",
    "3. flu, sph, gal (hydrothermal vein)\n",
    "\n",
    "There are also some highly negative correlations, or some variables without correlation."
   ]
  },
  {
   "cell_type": "markdown",
   "id": "42b23944",
   "metadata": {},
   "source": [
    "## Performing cluster analysis\n",
    "\n",
    "To perform cluster analysis, we want to calculate the distances between pairs of samples. We will use the pdist function for that."
   ]
  },
  {
   "cell_type": "markdown",
   "id": "6a2ea65e",
   "metadata": {},
   "source": [
    "__Exercise 3:__ Study the pdist function well using the help."
   ]
  },
  {
   "cell_type": "code",
   "execution_count": 10,
   "id": "f2007a10",
   "metadata": {},
   "outputs": [
    {
     "name": "stdout",
     "output_type": "stream",
     "text": [
      "Help on function pdist in module scipy.spatial.distance:\n",
      "\n",
      "pdist(X, metric='euclidean', *, out=None, **kwargs)\n",
      "    Pairwise distances between observations in n-dimensional space.\n",
      "\n",
      "    See Notes for common calling conventions.\n",
      "\n",
      "    Parameters\n",
      "    ----------\n",
      "    X : array_like\n",
      "        An m by n array of m original observations in an\n",
      "        n-dimensional space.\n",
      "    metric : str or function, optional\n",
      "        The distance metric to use. The distance function can\n",
      "        be 'braycurtis', 'canberra', 'chebyshev', 'cityblock',\n",
      "        'correlation', 'cosine', 'dice', 'euclidean', 'hamming',\n",
      "        'jaccard', 'jensenshannon', 'kulczynski1',\n",
      "        'mahalanobis', 'matching', 'minkowski', 'rogerstanimoto',\n",
      "        'russellrao', 'seuclidean', 'sokalmichener', 'sokalsneath',\n",
      "        'sqeuclidean', 'yule'.\n",
      "    out : ndarray, optional\n",
      "        The output array.\n",
      "        If not None, condensed distance matrix Y is stored in this array.\n",
      "    **kwargs : dict, optional\n",
      "        Extra arguments to `metric`: refer to each metric documentation for a\n",
      "        list of all possible arguments.\n",
      "\n",
      "        Some possible arguments:\n",
      "\n",
      "        p : scalar\n",
      "        The p-norm to apply for Minkowski, weighted and unweighted.\n",
      "        Default: 2.\n",
      "\n",
      "        w : ndarray\n",
      "        The weight vector for metrics that support weights (e.g., Minkowski).\n",
      "\n",
      "        V : ndarray\n",
      "        The variance vector for standardized Euclidean.\n",
      "        Default: var(X, axis=0, ddof=1)\n",
      "\n",
      "        VI : ndarray\n",
      "        The inverse of the covariance matrix for Mahalanobis.\n",
      "        Default: inv(cov(X.T)).T\n",
      "\n",
      "    Returns\n",
      "    -------\n",
      "    Y : ndarray\n",
      "        Returns a condensed distance matrix Y. For each :math:`i` and :math:`j`\n",
      "        (where :math:`i<j<m`),where m is the number of original observations.\n",
      "        The metric ``dist(u=X[i], v=X[j])`` is computed and stored in entry ``m\n",
      "        * i + j - ((i + 2) * (i + 1)) // 2``.\n",
      "\n",
      "    See Also\n",
      "    --------\n",
      "    squareform : converts between condensed distance matrices and\n",
      "                 square distance matrices.\n",
      "\n",
      "    Notes\n",
      "    -----\n",
      "    See ``squareform`` for information on how to calculate the index of\n",
      "    this entry or to convert the condensed distance matrix to a\n",
      "    redundant square matrix.\n",
      "\n",
      "    The following are common calling conventions.\n",
      "\n",
      "    1. ``Y = pdist(X, 'euclidean')``\n",
      "\n",
      "       Computes the distance between m points using Euclidean distance\n",
      "       (2-norm) as the distance metric between the points. The points\n",
      "       are arranged as m n-dimensional row vectors in the matrix X.\n",
      "\n",
      "    2. ``Y = pdist(X, 'minkowski', p=2.)``\n",
      "\n",
      "       Computes the distances using the Minkowski distance\n",
      "       :math:`\\|u-v\\|_p` (:math:`p`-norm) where :math:`p > 0` (note\n",
      "       that this is only a quasi-metric if :math:`0 < p < 1`).\n",
      "\n",
      "    3. ``Y = pdist(X, 'cityblock')``\n",
      "\n",
      "       Computes the city block or Manhattan distance between the\n",
      "       points.\n",
      "\n",
      "    4. ``Y = pdist(X, 'seuclidean', V=None)``\n",
      "\n",
      "       Computes the standardized Euclidean distance. The standardized\n",
      "       Euclidean distance between two n-vectors ``u`` and ``v`` is\n",
      "\n",
      "       .. math::\n",
      "\n",
      "          \\sqrt{\\sum {(u_i-v_i)^2 / V[x_i]}}\n",
      "\n",
      "\n",
      "       V is the variance vector; V[i] is the variance computed over all\n",
      "       the i'th components of the points.  If not passed, it is\n",
      "       automatically computed.\n",
      "\n",
      "    5. ``Y = pdist(X, 'sqeuclidean')``\n",
      "\n",
      "       Computes the squared Euclidean distance :math:`\\|u-v\\|_2^2` between\n",
      "       the vectors.\n",
      "\n",
      "    6. ``Y = pdist(X, 'cosine')``\n",
      "\n",
      "       Computes the cosine distance between vectors u and v,\n",
      "\n",
      "       .. math::\n",
      "\n",
      "          1 - \\frac{u \\cdot v}\n",
      "                   {{\\|u\\|}_2 {\\|v\\|}_2}\n",
      "\n",
      "       where :math:`\\|*\\|_2` is the 2-norm of its argument ``*``, and\n",
      "       :math:`u \\cdot v` is the dot product of ``u`` and ``v``.\n",
      "\n",
      "    7. ``Y = pdist(X, 'correlation')``\n",
      "\n",
      "       Computes the correlation distance between vectors u and v. This is\n",
      "\n",
      "       .. math::\n",
      "\n",
      "          1 - \\frac{(u - \\bar{u}) \\cdot (v - \\bar{v})}\n",
      "                   {{\\|(u - \\bar{u})\\|}_2 {\\|(v - \\bar{v})\\|}_2}\n",
      "\n",
      "       where :math:`\\bar{v}` is the mean of the elements of vector v,\n",
      "       and :math:`x \\cdot y` is the dot product of :math:`x` and :math:`y`.\n",
      "\n",
      "    8. ``Y = pdist(X, 'hamming')``\n",
      "\n",
      "       Computes the normalized Hamming distance, or the proportion of\n",
      "       those vector elements between two n-vectors ``u`` and ``v``\n",
      "       which disagree. To save memory, the matrix ``X`` can be of type\n",
      "       boolean.\n",
      "\n",
      "    9. ``Y = pdist(X, 'jaccard')``\n",
      "\n",
      "       Computes the Jaccard distance between the points. Given two\n",
      "       vectors, ``u`` and ``v``, the Jaccard distance is the\n",
      "       proportion of those elements ``u[i]`` and ``v[i]`` that\n",
      "       disagree.\n",
      "\n",
      "    10. ``Y = pdist(X, 'jensenshannon')``\n",
      "\n",
      "        Computes the Jensen-Shannon distance between two probability arrays.\n",
      "        Given two probability vectors, :math:`p` and :math:`q`, the\n",
      "        Jensen-Shannon distance is\n",
      "\n",
      "        .. math::\n",
      "\n",
      "           \\sqrt{\\frac{D(p \\parallel m) + D(q \\parallel m)}{2}}\n",
      "\n",
      "        where :math:`m` is the pointwise mean of :math:`p` and :math:`q`\n",
      "        and :math:`D` is the Kullback-Leibler divergence.\n",
      "\n",
      "    11. ``Y = pdist(X, 'chebyshev')``\n",
      "\n",
      "        Computes the Chebyshev distance between the points. The\n",
      "        Chebyshev distance between two n-vectors ``u`` and ``v`` is the\n",
      "        maximum norm-1 distance between their respective elements. More\n",
      "        precisely, the distance is given by\n",
      "\n",
      "        .. math::\n",
      "\n",
      "           d(u,v) = \\max_i {|u_i-v_i|}\n",
      "\n",
      "    12. ``Y = pdist(X, 'canberra')``\n",
      "\n",
      "        Computes the Canberra distance between the points. The\n",
      "        Canberra distance between two points ``u`` and ``v`` is\n",
      "\n",
      "        .. math::\n",
      "\n",
      "          d(u,v) = \\sum_i \\frac{|u_i-v_i|}\n",
      "                               {|u_i|+|v_i|}\n",
      "\n",
      "\n",
      "    13. ``Y = pdist(X, 'braycurtis')``\n",
      "\n",
      "        Computes the Bray-Curtis distance between the points. The\n",
      "        Bray-Curtis distance between two points ``u`` and ``v`` is\n",
      "\n",
      "\n",
      "        .. math::\n",
      "\n",
      "             d(u,v) = \\frac{\\sum_i {|u_i-v_i|}}\n",
      "                            {\\sum_i {|u_i+v_i|}}\n",
      "\n",
      "    14. ``Y = pdist(X, 'mahalanobis', VI=None)``\n",
      "\n",
      "        Computes the Mahalanobis distance between the points. The\n",
      "        Mahalanobis distance between two points ``u`` and ``v`` is\n",
      "        :math:`\\sqrt{(u-v)(1/V)(u-v)^T}` where :math:`(1/V)` (the ``VI``\n",
      "        variable) is the inverse covariance. If ``VI`` is not None,\n",
      "        ``VI`` will be used as the inverse covariance matrix.\n",
      "\n",
      "    15. ``Y = pdist(X, 'yule')``\n",
      "\n",
      "        Computes the Yule distance between each pair of boolean\n",
      "        vectors. (see yule function documentation)\n",
      "\n",
      "    16. ``Y = pdist(X, 'matching')``\n",
      "\n",
      "        Synonym for 'hamming'.\n",
      "\n",
      "    17. ``Y = pdist(X, 'dice')``\n",
      "\n",
      "        Computes the Dice distance between each pair of boolean\n",
      "        vectors. (see dice function documentation)\n",
      "\n",
      "    18. ``Y = pdist(X, 'kulczynski1')``\n",
      "\n",
      "        Computes the kulczynski1 distance between each pair of\n",
      "        boolean vectors. (see kulczynski1 function documentation)\n",
      "\n",
      "    19. ``Y = pdist(X, 'rogerstanimoto')``\n",
      "\n",
      "        Computes the Rogers-Tanimoto distance between each pair of\n",
      "        boolean vectors. (see rogerstanimoto function documentation)\n",
      "\n",
      "    20. ``Y = pdist(X, 'russellrao')``\n",
      "\n",
      "        Computes the Russell-Rao distance between each pair of\n",
      "        boolean vectors. (see russellrao function documentation)\n",
      "\n",
      "    21. ``Y = pdist(X, 'sokalmichener')``\n",
      "\n",
      "        Computes the Sokal-Michener distance between each pair of\n",
      "        boolean vectors. (see sokalmichener function documentation)\n",
      "\n",
      "    22. ``Y = pdist(X, 'sokalsneath')``\n",
      "\n",
      "        Computes the Sokal-Sneath distance between each pair of\n",
      "        boolean vectors. (see sokalsneath function documentation)\n",
      "\n",
      "    23. ``Y = pdist(X, 'kulczynski1')``\n",
      "\n",
      "        Computes the Kulczynski 1 distance between each pair of\n",
      "        boolean vectors. (see kulczynski1 function documentation)\n",
      "\n",
      "    24. ``Y = pdist(X, f)``\n",
      "\n",
      "        Computes the distance between all pairs of vectors in X\n",
      "        using the user supplied 2-arity function f. For example,\n",
      "        Euclidean distance between the vectors could be computed\n",
      "        as follows::\n",
      "\n",
      "          dm = pdist(X, lambda u, v: np.sqrt(((u-v)**2).sum()))\n",
      "\n",
      "        Note that you should avoid passing a reference to one of\n",
      "        the distance functions defined in this library. For example,::\n",
      "\n",
      "          dm = pdist(X, sokalsneath)\n",
      "\n",
      "        would calculate the pair-wise distances between the vectors in\n",
      "        X using the Python function sokalsneath. This would result in\n",
      "        sokalsneath being called :math:`{n \\choose 2}` times, which\n",
      "        is inefficient. Instead, the optimized C version is more\n",
      "        efficient, and we call it using the following syntax.::\n",
      "\n",
      "          dm = pdist(X, 'sokalsneath')\n",
      "\n",
      "    Examples\n",
      "    --------\n",
      "    >>> import numpy as np\n",
      "    >>> from scipy.spatial.distance import pdist\n",
      "\n",
      "    ``x`` is an array of five points in three-dimensional space.\n",
      "\n",
      "    >>> x = np.array([[2, 0, 2], [2, 2, 3], [-2, 4, 5], [0, 1, 9], [2, 2, 4]])\n",
      "\n",
      "    ``pdist(x)`` with no additional arguments computes the 10 pairwise\n",
      "    Euclidean distances:\n",
      "\n",
      "    >>> pdist(x)\n",
      "    array([2.23606798, 6.40312424, 7.34846923, 2.82842712, 4.89897949,\n",
      "           6.40312424, 1.        , 5.38516481, 4.58257569, 5.47722558])\n",
      "\n",
      "    The following computes the pairwise Minkowski distances with ``p = 3.5``:\n",
      "\n",
      "    >>> pdist(x, metric='minkowski', p=3.5)\n",
      "    array([2.04898923, 5.1154929 , 7.02700737, 2.43802731, 4.19042714,\n",
      "           6.03956994, 1.        , 4.45128103, 4.10636143, 5.0619695 ])\n",
      "\n",
      "    The pairwise city block or Manhattan distances:\n",
      "\n",
      "    >>> pdist(x, metric='cityblock')\n",
      "    array([ 3., 11., 10.,  4.,  8.,  9.,  1.,  9.,  7.,  8.])\n",
      "\n"
     ]
    }
   ],
   "source": [
    "help(pdist)"
   ]
  },
  {
   "cell_type": "markdown",
   "id": "32b6faa8",
   "metadata": {},
   "source": [
    "__Question 4:__ Apparently, there are many different options to define the distance between pairs. Which parameter of the function `pdist()` allows you to set the parameter for difining the distance between observations? Which options for this parameter are familiar to you? (Hint: check the lexture slides) Can you define what these do?"
   ]
  },
  {
   "cell_type": "markdown",
   "id": "346329b6",
   "metadata": {},
   "source": [
    "__Answer 4:__ You can set the option using the `metric` parameter. The following options are discussed in the lecture:\n",
    "1. `cityblock`: The \"Manhattan distance\" using absolute distances of each dimension\n",
    "2. `correlation`: The \"Pearson's r\" correlation between the values for all observations\n",
    "3. `euclidean`: The \"Euclidean distance\" calculating the shortest possible geometric distance between observations using Pythagorean Theorem."
   ]
  },
  {
   "cell_type": "markdown",
   "id": "22eedab6",
   "metadata": {},
   "source": [
    "Let's first try the 'euclidean' distance."
   ]
  },
  {
   "cell_type": "markdown",
   "id": "39f36e1b",
   "metadata": {},
   "source": [
    "__Exercise 4:__ Following the synthax of the `pdist()` function you discovered using the `help()` function above (__Exercise 3__), calculate a vector `Y` of distances between all observations by applying the `pdist()` function on your dataset, defining the `metric` as `euclidean`. Inspect the result."
   ]
  },
  {
   "cell_type": "code",
   "execution_count": 11,
   "id": "9a3ecec4",
   "metadata": {
    "scrolled": true
   },
   "outputs": [
    {
     "name": "stdout",
     "output_type": "stream",
     "text": [
      "[0.11291417 0.22834507 0.29002562 0.40161177 0.50181971 0.47738645\n",
      " 0.09233992 0.11426268 0.13824981 0.18332234 0.19317994 0.33717369\n",
      " 0.40525517 0.37602467 0.14895298 0.05639246 0.19162594 0.16042391\n",
      " 0.17635918 0.33747867 0.35408277 0.29816806 0.17373155 0.34671712\n",
      " 0.20930889 0.22295547 0.21460694 0.32941648 0.19254387 0.37069733\n",
      " 0.26680673 0.32721994 0.46655916 0.33253434 0.51564226 0.10218992\n",
      " 0.53264893 0.39944684 0.5656639  0.49419915 0.3724018  0.52043525\n",
      " 0.15162849 0.07304444 0.19806618]\n"
     ]
    }
   ],
   "source": [
    "Y = pdist(data, metric = 'euclidean')\n",
    "print(Y)"
   ]
  },
  {
   "cell_type": "markdown",
   "id": "45c498fe",
   "metadata": {},
   "source": [
    "It would be easier to interpret this result if this was a distance matrix rather than a long vector of values, i.e. something similar to a correlation matrix. Luckily, there already exists a function to convert the distance vector to a matrix: `squareform`."
   ]
  },
  {
   "cell_type": "markdown",
   "id": "a302e9a2",
   "metadata": {},
   "source": [
    "__Exercise 5:__ Search the `help()` for `squareform` and apply the function on your new vector `Y` to create a distance matrix `X` of all the Euclidean distances. Use `print()` to inspect the result."
   ]
  },
  {
   "cell_type": "code",
   "execution_count": 12,
   "id": "7a2f5a48",
   "metadata": {},
   "outputs": [
    {
     "name": "stdout",
     "output_type": "stream",
     "text": [
      "Help on function squareform in module scipy.spatial.distance:\n",
      "\n",
      "squareform(X, force='no', checks=True)\n",
      "    Convert a vector-form distance vector to a square-form distance\n",
      "    matrix, and vice-versa.\n",
      "\n",
      "    Parameters\n",
      "    ----------\n",
      "    X : array_like\n",
      "        Either a condensed or redundant distance matrix.\n",
      "    force : str, optional\n",
      "        As with MATLAB(TM), if force is equal to ``'tovector'`` or\n",
      "        ``'tomatrix'``, the input will be treated as a distance matrix or\n",
      "        distance vector respectively.\n",
      "    checks : bool, optional\n",
      "        If set to False, no checks will be made for matrix\n",
      "        symmetry nor zero diagonals. This is useful if it is known that\n",
      "        ``X - X.T1`` is small and ``diag(X)`` is close to zero.\n",
      "        These values are ignored any way so they do not disrupt the\n",
      "        squareform transformation.\n",
      "\n",
      "    Returns\n",
      "    -------\n",
      "    Y : ndarray\n",
      "        If a condensed distance matrix is passed, a redundant one is\n",
      "        returned, or if a redundant one is passed, a condensed distance\n",
      "        matrix is returned.\n",
      "\n",
      "    Notes\n",
      "    -----\n",
      "    1. ``v = squareform(X)``\n",
      "\n",
      "       Given a square n-by-n symmetric distance matrix ``X``,\n",
      "       ``v = squareform(X)`` returns a ``n * (n-1) / 2``\n",
      "       (i.e. binomial coefficient n choose 2) sized vector `v`\n",
      "       where :math:`v[{n \\choose 2} - {n-i \\choose 2} + (j-i-1)]`\n",
      "       is the distance between distinct points ``i`` and ``j``.\n",
      "       If ``X`` is non-square or asymmetric, an error is raised.\n",
      "\n",
      "    2. ``X = squareform(v)``\n",
      "\n",
      "       Given a ``n * (n-1) / 2`` sized vector ``v``\n",
      "       for some integer ``n >= 1`` encoding distances as described,\n",
      "       ``X = squareform(v)`` returns a n-by-n distance matrix ``X``.\n",
      "       The ``X[i, j]`` and ``X[j, i]`` values are set to\n",
      "       :math:`v[{n \\choose 2} - {n-i \\choose 2} + (j-i-1)]`\n",
      "       and all diagonal elements are zero.\n",
      "\n",
      "    In SciPy 0.19.0, ``squareform`` stopped casting all input types to\n",
      "    float64, and started returning arrays of the same dtype as the input.\n",
      "\n",
      "    Examples\n",
      "    --------\n",
      "    >>> import numpy as np\n",
      "    >>> from scipy.spatial.distance import pdist, squareform\n",
      "\n",
      "    ``x`` is an array of five points in three-dimensional space.\n",
      "\n",
      "    >>> x = np.array([[2, 0, 2], [2, 2, 3], [-2, 4, 5], [0, 1, 9], [2, 2, 4]])\n",
      "\n",
      "    ``pdist(x)`` computes the Euclidean distances between each pair of\n",
      "    points in ``x``.  The distances are returned in a one-dimensional\n",
      "    array with length ``5*(5 - 1)/2 = 10``.\n",
      "\n",
      "    >>> distvec = pdist(x)\n",
      "    >>> distvec\n",
      "    array([2.23606798, 6.40312424, 7.34846923, 2.82842712, 4.89897949,\n",
      "           6.40312424, 1.        , 5.38516481, 4.58257569, 5.47722558])\n",
      "\n",
      "    ``squareform(distvec)`` returns the 5x5 distance matrix.\n",
      "\n",
      "    >>> m = squareform(distvec)\n",
      "    >>> m\n",
      "    array([[0.        , 2.23606798, 6.40312424, 7.34846923, 2.82842712],\n",
      "           [2.23606798, 0.        , 4.89897949, 6.40312424, 1.        ],\n",
      "           [6.40312424, 4.89897949, 0.        , 5.38516481, 4.58257569],\n",
      "           [7.34846923, 6.40312424, 5.38516481, 0.        , 5.47722558],\n",
      "           [2.82842712, 1.        , 4.58257569, 5.47722558, 0.        ]])\n",
      "\n",
      "    When given a square distance matrix ``m``, ``squareform(m)`` returns\n",
      "    the one-dimensional condensed distance vector associated with the\n",
      "    matrix.  In this case, we recover ``distvec``.\n",
      "\n",
      "    >>> squareform(m)\n",
      "    array([2.23606798, 6.40312424, 7.34846923, 2.82842712, 4.89897949,\n",
      "           6.40312424, 1.        , 5.38516481, 4.58257569, 5.47722558])\n",
      "\n",
      "[[0.         0.11291417 0.22834507 0.29002562 0.40161177 0.50181971\n",
      "  0.47738645 0.09233992 0.11426268 0.13824981]\n",
      " [0.11291417 0.         0.18332234 0.19317994 0.33717369 0.40525517\n",
      "  0.37602467 0.14895298 0.05639246 0.19162594]\n",
      " [0.22834507 0.18332234 0.         0.16042391 0.17635918 0.33747867\n",
      "  0.35408277 0.29816806 0.17373155 0.34671712]\n",
      " [0.29002562 0.19317994 0.16042391 0.         0.20930889 0.22295547\n",
      "  0.21460694 0.32941648 0.19254387 0.37069733]\n",
      " [0.40161177 0.33717369 0.17635918 0.20930889 0.         0.26680673\n",
      "  0.32721994 0.46655916 0.33253434 0.51564226]\n",
      " [0.50181971 0.40525517 0.33747867 0.22295547 0.26680673 0.\n",
      "  0.10218992 0.53264893 0.39944684 0.5656639 ]\n",
      " [0.47738645 0.37602467 0.35408277 0.21460694 0.32721994 0.10218992\n",
      "  0.         0.49419915 0.3724018  0.52043525]\n",
      " [0.09233992 0.14895298 0.29816806 0.32941648 0.46655916 0.53264893\n",
      "  0.49419915 0.         0.15162849 0.07304444]\n",
      " [0.11426268 0.05639246 0.17373155 0.19254387 0.33253434 0.39944684\n",
      "  0.3724018  0.15162849 0.         0.19806618]\n",
      " [0.13824981 0.19162594 0.34671712 0.37069733 0.51564226 0.5656639\n",
      "  0.52043525 0.07304444 0.19806618 0.        ]]\n"
     ]
    }
   ],
   "source": [
    "help(squareform)\n",
    "X = squareform(Y)\n",
    "print(X)"
   ]
  },
  {
   "cell_type": "markdown",
   "id": "4a31187f",
   "metadata": {},
   "source": [
    "__Exercise 6:__ Now we can plot the distance matrix X as a color image. Do so using the same steps as you followed to plot the correlation matrix above. Make sure you choose appropriate titles for the axes and the plot in general."
   ]
  },
  {
   "cell_type": "code",
   "execution_count": null,
   "id": "afa4faad",
   "metadata": {},
   "outputs": [
    {
     "data": {
      "text/plain": [
       "<matplotlib.colorbar.Colorbar at 0x223c66d9af0>"
      ]
     },
     "execution_count": 15,
     "metadata": {},
     "output_type": "execute_result"
    },
    {
     "data": {
      "image/png": "[encoded data removed]",
      "text/plain": [
       "<Figure size 640x480 with 2 Axes>"
      ]
     },
     "metadata": {},
     "output_type": "display_data"
    }
   ],
   "source": [
    "# Plot the distance matrix with colors representing the distance between samples:\n",
    "plt.figure(1)\n",
    "plt.imshow(X, cmap = 'hot')\n",
    "\n",
    "# Add a title to the graph\n",
    "plt.title('Euclidean distance between pairs of samples')\n",
    "\n",
    "# Add the sample labels:\n",
    "plt.xticks(np.arange(0, 10), [sample[i] for i in range(10)])\n",
    "plt.yticks(np.arange(0, 10), [sample[i] for i in range(10)]) # No need to flip the axes this time\n",
    "plt.xticks(rotation = 45) # Optional: Rotate the x-axis labels so they fit better\n",
    "plt.xlabel('First Sample No.')\n",
    "plt.ylabel('Second sample No.')\n",
    "\n",
    "# Display the colorbar as a legend:\n",
    "plt.colorbar()"
   ]
  },
  {
   "cell_type": "markdown",
   "id": "88b634eb",
   "metadata": {},
   "source": [
    "In the plot above, dark/red colors denote pairs that are 'close' to each other, which means that these paired observations/samples are similar. Yellow-to-white observation show pairs that are 'far' from each other, which means that these samples are quite different.\n",
    "\n",
    "__Hint:__ Of course you can use different color scales if you want, just check the `help()` of the function `plt.imshow` and look for the options you have for the parameter `cmap`"
   ]
  },
  {
   "cell_type": "code",
   "execution_count": 24,
   "id": "3ebab586",
   "metadata": {},
   "outputs": [
    {
     "name": "stdout",
     "output_type": "stream",
     "text": [
      "Help on function imshow in module matplotlib.pyplot:\n",
      "\n",
      "imshow(X, cmap=None, norm=None, *, aspect=None, interpolation=None, alpha=None, vmin=None, vmax=None, origin=None, extent=None, interpolation_stage=None, filternorm=True, filterrad=4.0, resample=None, url=None, data=None, **kwargs)\n",
      "    Display data as an image, i.e., on a 2D regular raster.\n",
      "    \n",
      "    The input may either be actual RGB(A) data, or 2D scalar data, which\n",
      "    will be rendered as a pseudocolor image. For displaying a grayscale\n",
      "    image set up the colormapping using the parameters\n",
      "    ``cmap='gray', vmin=0, vmax=255``.\n",
      "    \n",
      "    The number of pixels used to render an image is set by the Axes size\n",
      "    and the *dpi* of the figure. This can lead to aliasing artifacts when\n",
      "    the image is resampled because the displayed image size will usually\n",
      "    not match the size of *X* (see\n",
      "    :doc:`/gallery/images_contours_and_fields/image_antialiasing`).\n",
      "    The resampling can be controlled via the *interpolation* parameter\n",
      "    and/or :rc:`image.interpolation`.\n",
      "    \n",
      "    Parameters\n",
      "    ----------\n",
      "    X : array-like or PIL image\n",
      "        The image data. Supported array shapes are:\n",
      "    \n",
      "        - (M, N): an image with scalar data. The values are mapped to\n",
      "          colors using normalization and a colormap. See parameters *norm*,\n",
      "          *cmap*, *vmin*, *vmax*.\n",
      "        - (M, N, 3): an image with RGB values (0-1 float or 0-255 int).\n",
      "        - (M, N, 4): an image with RGBA values (0-1 float or 0-255 int),\n",
      "          i.e. including transparency.\n",
      "    \n",
      "        The first two dimensions (M, N) define the rows and columns of\n",
      "        the image.\n",
      "    \n",
      "        Out-of-range RGB(A) values are clipped.\n",
      "    \n",
      "    cmap : str or `~matplotlib.colors.Colormap`, default: :rc:`image.cmap`\n",
      "        The Colormap instance or registered colormap name used to map\n",
      "        scalar data to colors. This parameter is ignored for RGB(A) data.\n",
      "    \n",
      "    norm : `~matplotlib.colors.Normalize`, optional\n",
      "        The `.Normalize` instance used to scale scalar data to the [0, 1]\n",
      "        range before mapping to colors using *cmap*. By default, a linear\n",
      "        scaling mapping the lowest value to 0 and the highest to 1 is used.\n",
      "        This parameter is ignored for RGB(A) data.\n",
      "    \n",
      "    aspect : {'equal', 'auto'} or float, default: :rc:`image.aspect`\n",
      "        The aspect ratio of the Axes.  This parameter is particularly\n",
      "        relevant for images since it determines whether data pixels are\n",
      "        square.\n",
      "    \n",
      "        This parameter is a shortcut for explicitly calling\n",
      "        `.Axes.set_aspect`. See there for further details.\n",
      "    \n",
      "        - 'equal': Ensures an aspect ratio of 1. Pixels will be square\n",
      "          (unless pixel sizes are explicitly made non-square in data\n",
      "          coordinates using *extent*).\n",
      "        - 'auto': The Axes is kept fixed and the aspect is adjusted so\n",
      "          that the data fit in the Axes. In general, this will result in\n",
      "          non-square pixels.\n",
      "    \n",
      "    interpolation : str, default: :rc:`image.interpolation`\n",
      "        The interpolation method used.\n",
      "    \n",
      "        Supported values are 'none', 'antialiased', 'nearest', 'bilinear',\n",
      "        'bicubic', 'spline16', 'spline36', 'hanning', 'hamming', 'hermite',\n",
      "        'kaiser', 'quadric', 'catrom', 'gaussian', 'bessel', 'mitchell',\n",
      "        'sinc', 'lanczos', 'blackman'.\n",
      "    \n",
      "        If *interpolation* is 'none', then no interpolation is performed\n",
      "        on the Agg, ps, pdf and svg backends. Other backends will fall back\n",
      "        to 'nearest'. Note that most SVG renderers perform interpolation at\n",
      "        rendering and that the default interpolation method they implement\n",
      "        may differ.\n",
      "    \n",
      "        If *interpolation* is the default 'antialiased', then 'nearest'\n",
      "        interpolation is used if the image is upsampled by more than a\n",
      "        factor of three (i.e. the number of display pixels is at least\n",
      "        three times the size of the data array).  If the upsampling rate is\n",
      "        smaller than 3, or the image is downsampled, then 'hanning'\n",
      "        interpolation is used to act as an anti-aliasing filter, unless the\n",
      "        image happens to be upsampled by exactly a factor of two or one.\n",
      "    \n",
      "        See\n",
      "        :doc:`/gallery/images_contours_and_fields/interpolation_methods`\n",
      "        for an overview of the supported interpolation methods, and\n",
      "        :doc:`/gallery/images_contours_and_fields/image_antialiasing` for\n",
      "        a discussion of image antialiasing.\n",
      "    \n",
      "        Some interpolation methods require an additional radius parameter,\n",
      "        which can be set by *filterrad*. Additionally, the antigrain image\n",
      "        resize filter is controlled by the parameter *filternorm*.\n",
      "    \n",
      "    interpolation_stage : {'data', 'rgba'}, default: 'data'\n",
      "        If 'data', interpolation\n",
      "        is carried out on the data provided by the user.  If 'rgba', the\n",
      "        interpolation is carried out after the colormapping has been\n",
      "        applied (visual interpolation).\n",
      "    \n",
      "    alpha : float or array-like, optional\n",
      "        The alpha blending value, between 0 (transparent) and 1 (opaque).\n",
      "        If *alpha* is an array, the alpha blending values are applied pixel\n",
      "        by pixel, and *alpha* must have the same shape as *X*.\n",
      "    \n",
      "    vmin, vmax : float, optional\n",
      "        When using scalar data and no explicit *norm*, *vmin* and *vmax*\n",
      "        define the data range that the colormap covers. By default,\n",
      "        the colormap covers the complete value range of the supplied\n",
      "        data. It is an error to use *vmin*/*vmax* when *norm* is given.\n",
      "        When using RGB(A) data, parameters *vmin*/*vmax* are ignored.\n",
      "    \n",
      "    origin : {'upper', 'lower'}, default: :rc:`image.origin`\n",
      "        Place the [0, 0] index of the array in the upper left or lower\n",
      "        left corner of the Axes. The convention (the default) 'upper' is\n",
      "        typically used for matrices and images.\n",
      "    \n",
      "        Note that the vertical axis points upward for 'lower'\n",
      "        but downward for 'upper'.\n",
      "    \n",
      "        See the :doc:`/tutorials/intermediate/imshow_extent` tutorial for\n",
      "        examples and a more detailed description.\n",
      "    \n",
      "    extent : floats (left, right, bottom, top), optional\n",
      "        The bounding box in data coordinates that the image will fill.\n",
      "        The image is stretched individually along x and y to fill the box.\n",
      "    \n",
      "        The default extent is determined by the following conditions.\n",
      "        Pixels have unit size in data coordinates. Their centers are on\n",
      "        integer coordinates, and their center coordinates range from 0 to\n",
      "        columns-1 horizontally and from 0 to rows-1 vertically.\n",
      "    \n",
      "        Note that the direction of the vertical axis and thus the default\n",
      "        values for top and bottom depend on *origin*:\n",
      "    \n",
      "        - For ``origin == 'upper'`` the default is\n",
      "          ``(-0.5, numcols-0.5, numrows-0.5, -0.5)``.\n",
      "        - For ``origin == 'lower'`` the default is\n",
      "          ``(-0.5, numcols-0.5, -0.5, numrows-0.5)``.\n",
      "    \n",
      "        See the :doc:`/tutorials/intermediate/imshow_extent` tutorial for\n",
      "        examples and a more detailed description.\n",
      "    \n",
      "    filternorm : bool, default: True\n",
      "        A parameter for the antigrain image resize filter (see the\n",
      "        antigrain documentation).  If *filternorm* is set, the filter\n",
      "        normalizes integer values and corrects the rounding errors. It\n",
      "        doesn't do anything with the source floating point values, it\n",
      "        corrects only integers according to the rule of 1.0 which means\n",
      "        that any sum of pixel weights must be equal to 1.0.  So, the\n",
      "        filter function must produce a graph of the proper shape.\n",
      "    \n",
      "    filterrad : float > 0, default: 4.0\n",
      "        The filter radius for filters that have a radius parameter, i.e.\n",
      "        when interpolation is one of: 'sinc', 'lanczos' or 'blackman'.\n",
      "    \n",
      "    resample : bool, default: :rc:`image.resample`\n",
      "        When *True*, use a full resampling method.  When *False*, only\n",
      "        resample when the output image is larger than the input image.\n",
      "    \n",
      "    url : str, optional\n",
      "        Set the url of the created `.AxesImage`. See `.Artist.set_url`.\n",
      "    \n",
      "    Returns\n",
      "    -------\n",
      "    `~matplotlib.image.AxesImage`\n",
      "    \n",
      "    Other Parameters\n",
      "    ----------------\n",
      "    data : indexable object, optional\n",
      "        If given, all parameters also accept a string ``s``, which is\n",
      "        interpreted as ``data[s]`` (unless this raises an exception).\n",
      "    \n",
      "    **kwargs : `~matplotlib.artist.Artist` properties\n",
      "        These parameters are passed on to the constructor of the\n",
      "        `.AxesImage` artist.\n",
      "    \n",
      "    See Also\n",
      "    --------\n",
      "    matshow : Plot a matrix or an array as an image.\n",
      "    \n",
      "    Notes\n",
      "    -----\n",
      "    Unless *extent* is used, pixel centers will be located at integer\n",
      "    coordinates. In other words: the origin will coincide with the center\n",
      "    of pixel (0, 0).\n",
      "    \n",
      "    There are two common representations for RGB images with an alpha\n",
      "    channel:\n",
      "    \n",
      "    -   Straight (unassociated) alpha: R, G, and B channels represent the\n",
      "        color of the pixel, disregarding its opacity.\n",
      "    -   Premultiplied (associated) alpha: R, G, and B channels represent\n",
      "        the color of the pixel, adjusted for its opacity by multiplication.\n",
      "    \n",
      "    `~matplotlib.pyplot.imshow` expects RGB images adopting the straight\n",
      "    (unassociated) alpha representation.\n",
      "\n"
     ]
    }
   ],
   "source": [
    "help(plt.imshow)"
   ]
  },
  {
   "cell_type": "markdown",
   "id": "8135f078",
   "metadata": {},
   "source": [
    "We now want to construct a tree diagram, and we therefore need a hierarchical algorithm to cluster observations in an iterative manner. Linkage is a function that does this."
   ]
  },
  {
   "cell_type": "markdown",
   "id": "4c2b82f3",
   "metadata": {},
   "source": [
    "__Exercise 7:__ Search the help for the sch.linkage function and check which parameters of the function you can play around with (scroll down to the parameters section)."
   ]
  },
  {
   "cell_type": "code",
   "execution_count": 25,
   "id": "5fbb430a",
   "metadata": {},
   "outputs": [
    {
     "name": "stdout",
     "output_type": "stream",
     "text": [
      "Help on function linkage in module scipy.cluster.hierarchy:\n",
      "\n",
      "linkage(y, method='single', metric='euclidean', optimal_ordering=False)\n",
      "    Perform hierarchical/agglomerative clustering.\n",
      "    \n",
      "    The input y may be either a 1-D condensed distance matrix\n",
      "    or a 2-D array of observation vectors.\n",
      "    \n",
      "    If y is a 1-D condensed distance matrix,\n",
      "    then y must be a :math:`\\binom{n}{2}` sized\n",
      "    vector, where n is the number of original observations paired\n",
      "    in the distance matrix. The behavior of this function is very\n",
      "    similar to the MATLAB linkage function.\n",
      "    \n",
      "    A :math:`(n-1)` by 4 matrix ``Z`` is returned. At the\n",
      "    :math:`i`-th iteration, clusters with indices ``Z[i, 0]`` and\n",
      "    ``Z[i, 1]`` are combined to form cluster :math:`n + i`. A\n",
      "    cluster with an index less than :math:`n` corresponds to one of\n",
      "    the :math:`n` original observations. The distance between\n",
      "    clusters ``Z[i, 0]`` and ``Z[i, 1]`` is given by ``Z[i, 2]``. The\n",
      "    fourth value ``Z[i, 3]`` represents the number of original\n",
      "    observations in the newly formed cluster.\n",
      "    \n",
      "    The following linkage methods are used to compute the distance\n",
      "    :math:`d(s, t)` between two clusters :math:`s` and\n",
      "    :math:`t`. The algorithm begins with a forest of clusters that\n",
      "    have yet to be used in the hierarchy being formed. When two\n",
      "    clusters :math:`s` and :math:`t` from this forest are combined\n",
      "    into a single cluster :math:`u`, :math:`s` and :math:`t` are\n",
      "    removed from the forest, and :math:`u` is added to the\n",
      "    forest. When only one cluster remains in the forest, the algorithm\n",
      "    stops, and this cluster becomes the root.\n",
      "    \n",
      "    A distance matrix is maintained at each iteration. The ``d[i,j]``\n",
      "    entry corresponds to the distance between cluster :math:`i` and\n",
      "    :math:`j` in the original forest.\n",
      "    \n",
      "    At each iteration, the algorithm must update the distance matrix\n",
      "    to reflect the distance of the newly formed cluster u with the\n",
      "    remaining clusters in the forest.\n",
      "    \n",
      "    Suppose there are :math:`|u|` original observations\n",
      "    :math:`u[0], \\ldots, u[|u|-1]` in cluster :math:`u` and\n",
      "    :math:`|v|` original objects :math:`v[0], \\ldots, v[|v|-1]` in\n",
      "    cluster :math:`v`. Recall, :math:`s` and :math:`t` are\n",
      "    combined to form cluster :math:`u`. Let :math:`v` be any\n",
      "    remaining cluster in the forest that is not :math:`u`.\n",
      "    \n",
      "    The following are methods for calculating the distance between the\n",
      "    newly formed cluster :math:`u` and each :math:`v`.\n",
      "    \n",
      "      * method='single' assigns\n",
      "    \n",
      "        .. math::\n",
      "           d(u,v) = \\min(dist(u[i],v[j]))\n",
      "    \n",
      "        for all points :math:`i` in cluster :math:`u` and\n",
      "        :math:`j` in cluster :math:`v`. This is also known as the\n",
      "        Nearest Point Algorithm.\n",
      "    \n",
      "      * method='complete' assigns\n",
      "    \n",
      "        .. math::\n",
      "           d(u, v) = \\max(dist(u[i],v[j]))\n",
      "    \n",
      "        for all points :math:`i` in cluster u and :math:`j` in\n",
      "        cluster :math:`v`. This is also known by the Farthest Point\n",
      "        Algorithm or Voor Hees Algorithm.\n",
      "    \n",
      "      * method='average' assigns\n",
      "    \n",
      "        .. math::\n",
      "           d(u,v) = \\sum_{ij} \\frac{d(u[i], v[j])}\n",
      "                                   {(|u|*|v|)}\n",
      "    \n",
      "        for all points :math:`i` and :math:`j` where :math:`|u|`\n",
      "        and :math:`|v|` are the cardinalities of clusters :math:`u`\n",
      "        and :math:`v`, respectively. This is also called the UPGMA\n",
      "        algorithm.\n",
      "    \n",
      "      * method='weighted' assigns\n",
      "    \n",
      "        .. math::\n",
      "           d(u,v) = (dist(s,v) + dist(t,v))/2\n",
      "    \n",
      "        where cluster u was formed with cluster s and t and v\n",
      "        is a remaining cluster in the forest (also called WPGMA).\n",
      "    \n",
      "      * method='centroid' assigns\n",
      "    \n",
      "        .. math::\n",
      "           dist(s,t) = ||c_s-c_t||_2\n",
      "    \n",
      "        where :math:`c_s` and :math:`c_t` are the centroids of\n",
      "        clusters :math:`s` and :math:`t`, respectively. When two\n",
      "        clusters :math:`s` and :math:`t` are combined into a new\n",
      "        cluster :math:`u`, the new centroid is computed over all the\n",
      "        original objects in clusters :math:`s` and :math:`t`. The\n",
      "        distance then becomes the Euclidean distance between the\n",
      "        centroid of :math:`u` and the centroid of a remaining cluster\n",
      "        :math:`v` in the forest. This is also known as the UPGMC\n",
      "        algorithm.\n",
      "    \n",
      "      * method='median' assigns :math:`d(s,t)` like the ``centroid``\n",
      "        method. When two clusters :math:`s` and :math:`t` are combined\n",
      "        into a new cluster :math:`u`, the average of centroids s and t\n",
      "        give the new centroid :math:`u`. This is also known as the\n",
      "        WPGMC algorithm.\n",
      "    \n",
      "      * method='ward' uses the Ward variance minimization algorithm.\n",
      "        The new entry :math:`d(u,v)` is computed as follows,\n",
      "    \n",
      "        .. math::\n",
      "    \n",
      "           d(u,v) = \\sqrt{\\frac{|v|+|s|}\n",
      "                               {T}d(v,s)^2\n",
      "                        + \\frac{|v|+|t|}\n",
      "                               {T}d(v,t)^2\n",
      "                        - \\frac{|v|}\n",
      "                               {T}d(s,t)^2}\n",
      "    \n",
      "        where :math:`u` is the newly joined cluster consisting of\n",
      "        clusters :math:`s` and :math:`t`, :math:`v` is an unused\n",
      "        cluster in the forest, :math:`T=|v|+|s|+|t|`, and\n",
      "        :math:`|*|` is the cardinality of its argument. This is also\n",
      "        known as the incremental algorithm.\n",
      "    \n",
      "    Warning: When the minimum distance pair in the forest is chosen, there\n",
      "    may be two or more pairs with the same minimum distance. This\n",
      "    implementation may choose a different minimum than the MATLAB\n",
      "    version.\n",
      "    \n",
      "    Parameters\n",
      "    ----------\n",
      "    y : ndarray\n",
      "        A condensed distance matrix. A condensed distance matrix\n",
      "        is a flat array containing the upper triangular of the distance matrix.\n",
      "        This is the form that ``pdist`` returns. Alternatively, a collection of\n",
      "        :math:`m` observation vectors in :math:`n` dimensions may be passed as\n",
      "        an :math:`m` by :math:`n` array. All elements of the condensed distance\n",
      "        matrix must be finite, i.e., no NaNs or infs.\n",
      "    method : str, optional\n",
      "        The linkage algorithm to use. See the ``Linkage Methods`` section below\n",
      "        for full descriptions.\n",
      "    metric : str or function, optional\n",
      "        The distance metric to use in the case that y is a collection of\n",
      "        observation vectors; ignored otherwise. See the ``pdist``\n",
      "        function for a list of valid distance metrics. A custom distance\n",
      "        function can also be used.\n",
      "    optimal_ordering : bool, optional\n",
      "        If True, the linkage matrix will be reordered so that the distance\n",
      "        between successive leaves is minimal. This results in a more intuitive\n",
      "        tree structure when the data are visualized. defaults to False, because\n",
      "        this algorithm can be slow, particularly on large datasets [2]_. See\n",
      "        also the `optimal_leaf_ordering` function.\n",
      "    \n",
      "        .. versionadded:: 1.0.0\n",
      "    \n",
      "    Returns\n",
      "    -------\n",
      "    Z : ndarray\n",
      "        The hierarchical clustering encoded as a linkage matrix.\n",
      "    \n",
      "    Notes\n",
      "    -----\n",
      "    1. For method 'single', an optimized algorithm based on minimum spanning\n",
      "       tree is implemented. It has time complexity :math:`O(n^2)`.\n",
      "       For methods 'complete', 'average', 'weighted' and 'ward', an algorithm\n",
      "       called nearest-neighbors chain is implemented. It also has time\n",
      "       complexity :math:`O(n^2)`.\n",
      "       For other methods, a naive algorithm is implemented with :math:`O(n^3)`\n",
      "       time complexity.\n",
      "       All algorithms use :math:`O(n^2)` memory.\n",
      "       Refer to [1]_ for details about the algorithms.\n",
      "    2. Methods 'centroid', 'median', and 'ward' are correctly defined only if\n",
      "       Euclidean pairwise metric is used. If `y` is passed as precomputed\n",
      "       pairwise distances, then it is the user's responsibility to assure that\n",
      "       these distances are in fact Euclidean, otherwise the produced result\n",
      "       will be incorrect.\n",
      "    \n",
      "    See Also\n",
      "    --------\n",
      "    scipy.spatial.distance.pdist : pairwise distance metrics\n",
      "    \n",
      "    References\n",
      "    ----------\n",
      "    .. [1] Daniel Mullner, \"Modern hierarchical, agglomerative clustering\n",
      "           algorithms\", :arXiv:`1109.2378v1`.\n",
      "    .. [2] Ziv Bar-Joseph, David K. Gifford, Tommi S. Jaakkola, \"Fast optimal\n",
      "           leaf ordering for hierarchical clustering\", 2001. Bioinformatics\n",
      "           :doi:`10.1093/bioinformatics/17.suppl_1.S22`\n",
      "    \n",
      "    Examples\n",
      "    --------\n",
      "    >>> from scipy.cluster.hierarchy import dendrogram, linkage\n",
      "    >>> from matplotlib import pyplot as plt\n",
      "    >>> X = [[i] for i in [2, 8, 0, 4, 1, 9, 9, 0]]\n",
      "    \n",
      "    >>> Z = linkage(X, 'ward')\n",
      "    >>> fig = plt.figure(figsize=(25, 10))\n",
      "    >>> dn = dendrogram(Z)\n",
      "    \n",
      "    >>> Z = linkage(X, 'single')\n",
      "    >>> fig = plt.figure(figsize=(25, 10))\n",
      "    >>> dn = dendrogram(Z)\n",
      "    >>> plt.show()\n",
      "\n"
     ]
    }
   ],
   "source": [
    "help(sch.linkage)"
   ]
  },
  {
   "cell_type": "markdown",
   "id": "6282d7c9",
   "metadata": {},
   "source": [
    "We can define the linkage function with several input parameters, such as the `method` and `metric`. The method defines the algorithm for computing distances between clusters. Some of these options are easy to understand, like `average`, `complete`, `single`. Others may need some more thinking. With the `metric` option we can again define a distance metric such as `euclidean`, `cityblock` or `correlation`."
   ]
  },
  {
   "cell_type": "markdown",
   "id": "4a553d7d",
   "metadata": {},
   "source": [
    "__Exercise 8:__ Apply the `sch.linkage` function using the `method` 'single' and the `metric` 'euclidean' on the dataset and assign the result to an object called `Z`. Then inspect the resulting object `Z`."
   ]
  },
  {
   "cell_type": "code",
   "execution_count": 26,
   "id": "23d76716",
   "metadata": {},
   "outputs": [
    {
     "name": "stdout",
     "output_type": "stream",
     "text": [
      "[[ 1.          8.          0.05639246  2.        ]\n",
      " [ 7.          9.          0.07304444  2.        ]\n",
      " [ 0.         11.          0.09233992  3.        ]\n",
      " [ 5.          6.          0.10218992  2.        ]\n",
      " [10.         12.          0.11291417  5.        ]\n",
      " [ 2.          3.          0.16042391  2.        ]\n",
      " [14.         15.          0.17373155  7.        ]\n",
      " [ 4.         16.          0.17635918  8.        ]\n",
      " [13.         17.          0.21460694 10.        ]]\n"
     ]
    }
   ],
   "source": [
    "Z = sch.linkage(data, method = 'single', metric = 'euclidean')\n",
    "print(Z)"
   ]
  },
  {
   "cell_type": "markdown",
   "id": "2cc130db",
   "metadata": {},
   "source": [
    "Understanding the output `Z` requires some attention: The first row denotes the first cluster that was formed. The numbers in the first 2 columns of row 1 show which initial clusters (now still individual samples) that were clustered. Since indices in Python start with 0, note that index 0 refers to sample 1, index 1 to sample 2, etc. Thus, the first cluster joined samples 2 and 9. In the third column of row 1 we can see their paired distance. The first row thus shows the first step the clustering algorithm took."
   ]
  },
  {
   "cell_type": "markdown",
   "id": "10633131",
   "metadata": {},
   "source": [
    "For further clustering: this newly derived cluster needs a new label. This new label is simply the number of initial samples (10) + the clustering step/row (here 1). The newly formed cluster thus gets assigned the label 11. Now we can continue with clustering. The second cluster joined samples 8 and 10, the resulting new cluster is labeled 12 (10 original samples + 2 steps). The third cluster joined sample 1 with cluster 12. The newly formed cluster is labeled 13. Etcetera."
   ]
  },
  {
   "cell_type": "markdown",
   "id": "9f5b3e7d",
   "metadata": {},
   "source": [
    "We can visualize this clustering tree using the dendrogram function. The code below looks complicated, so make sure you read it line by line and use the comments (denoted by the '#') to understand what's going on. You can always copy parts of the code in a new code cell and/or inspect the results to test your understanding."
   ]
  },
  {
   "cell_type": "code",
   "execution_count": 27,
   "id": "d9903829",
   "metadata": {},
   "outputs": [
    {
     "data": {
      "text/plain": [
       "Text(0.5, 1.0, 'Dendrogram of 10 sediment samples')"
      ]
     },
     "execution_count": 27,
     "metadata": {},
     "output_type": "execute_result"
    },
    {
     "data": {
      "image/png": "[encoded data removed]",
      "text/plain": [
       "<Figure size 1440x1080 with 1 Axes>"
      ]
     },
     "metadata": {
      "needs_background": "light"
     },
     "output_type": "display_data"
    }
   ],
   "source": [
    "plt.figure(2, figsize=(20, 15)) # Create a new plot with size x = 20, y = 15)\n",
    "ax = plt.gca() # \"gca\" means \"get current axes\", so this saves the axes of the plot in the object \"ax\"\n",
    "dn = sch.dendrogram(Z, labels = sample, ax = ax) # Create a dendrogram using the linkage data in object \"Z\" you just created and labeling the samples using your \"sample\" vector\n",
    "ax.set_xlabel('Sample number', {'fontname':'Calibri', 'fontsize':14}) # Label the x-axis + layout\n",
    "ax.set_ylabel('Single Euclidean distance', {'fontname':'Calibri', 'fontsize':14}) # Label the y-axis + layout\n",
    "ax.xaxis.set_major_locator(mt.FixedLocator(np.arange(5, 10 * 10 + 5, 10))) # Set the locations of tick marks on the x-axis\n",
    "ax.yaxis.set_major_locator(mt.MultipleLocator(base = 0.05)) # Set the locations of tick marks on the y-axis\n",
    "ax.yaxis.set_minor_locator(mt.AutoMinorLocator()) # Set the locations of minor tick marks on the y-axis\n",
    "ax.tick_params(axis = 'y', which = 'both', direction = 'in', left = True, right = True) # Set layout parameters (title, direction, alignment, etc) of x-axis\n",
    "ax.tick_params(axis = 'x', which = 'major', direction = 'in', top = True, bottom = True) # Set layout parameters (title, direction, alignment, etc) of y-axis\n",
    "plt.title('Dendrogram of 10 sediment samples', {'fontname':'Calibri', 'fontsize':24}) # Create a plot title + layout"
   ]
  },
  {
   "cell_type": "markdown",
   "id": "7a66431a",
   "metadata": {},
   "source": [
    "This graph visualizes everything from matrix `Z`."
   ]
  },
  {
   "cell_type": "markdown",
   "id": "4b9383ec",
   "metadata": {},
   "source": [
    "__Question 5:__ Does the dendrogram yield clear groups of samples? If so, which samples cluster together? Can you make sense of these groups based on what you know about the samples in your dataset?"
   ]
  },
  {
   "cell_type": "markdown",
   "id": "d95eb106",
   "metadata": {},
   "source": [
    "__Answer 5:__ We find clear cluster groups:\n",
    "* samples 1, 2, 8, 9, 10 have a magmatic rock source\n",
    "* samples 3 and 5 have the hydrothermal vein as source\n",
    "* samples 6 and 7 originate from the sandstone unit\n",
    "* The origin of sample 5 is not clear from the dendrogram."
   ]
  },
  {
   "cell_type": "markdown",
   "id": "64ae5c95",
   "metadata": {},
   "source": [
    "__Question 6:__ Where (i.e. at which euclidean distance value) would you cut off the tree to withhold clusters?"
   ]
  },
  {
   "cell_type": "markdown",
   "id": "6febc058",
   "metadata": {},
   "source": [
    "__Answer 6:__ The optimal distance to cut off the dendrogram while retaining the three groups would be around 0.165. This leaves Sample 5 alone, but there is no way to solve this."
   ]
  },
  {
   "cell_type": "markdown",
   "id": "c80efe7d",
   "metadata": {},
   "source": [
    "A result like this might be dependent on the choices you made while doing the clustering. Doing a rigorous statistical analysis requires testing of the effect of such choices on the analysis."
   ]
  },
  {
   "cell_type": "markdown",
   "id": "d5217052",
   "metadata": {},
   "source": [
    "__Question 7:__ Can you think of a choice you made when making the dendrogram above that could affect your result?"
   ]
  },
  {
   "cell_type": "markdown",
   "id": "9bbb4ba8",
   "metadata": {},
   "source": [
    "__Answer 7:__ The most obvious choice is the `metric` used to define distance (in this case: `euclidean`), but the `method` used in the `linkage` function (`single`) can also have an effect."
   ]
  },
  {
   "cell_type": "markdown",
   "id": "c9861af7",
   "metadata": {},
   "source": [
    "__BONUS exercise:__ Repeat the cluster analysis above using the distance metrics Manhattan distance (`cityblock`) and Pearson's correlation (`correlation`) and plot the results to check whether the clustering you ended up with is robust against changes in the metric."
   ]
  },
  {
   "cell_type": "code",
   "execution_count": 28,
   "id": "548553be",
   "metadata": {},
   "outputs": [
    {
     "name": "stdout",
     "output_type": "stream",
     "text": [
      "[[ 1.      8.      0.1261  2.    ]\n",
      " [ 7.      9.      0.1755  2.    ]\n",
      " [ 0.     11.      0.222   3.    ]\n",
      " [10.     12.      0.2592  5.    ]\n",
      " [ 5.      6.      0.2736  2.    ]\n",
      " [ 2.      3.      0.3797  2.    ]\n",
      " [13.     15.      0.4293  7.    ]\n",
      " [ 4.     16.      0.4472  8.    ]\n",
      " [14.     17.      0.507  10.    ]]\n"
     ]
    },
    {
     "data": {
      "text/plain": [
       "Text(0.5, 1.0, 'Dendrogram of 10 sediment samples')"
      ]
     },
     "execution_count": 28,
     "metadata": {},
     "output_type": "execute_result"
    },
    {
     "data": {
      "image/png": "[encoded data removed]",
      "text/plain": [
       "<Figure size 1440x1080 with 1 Axes>"
      ]
     },
     "metadata": {
      "needs_background": "light"
     },
     "output_type": "display_data"
    }
   ],
   "source": [
    "# Create a new linkage file using the Manhattan distance\n",
    "Z2 = sch.linkage(data, method = 'single', metric = 'cityblock')\n",
    "\n",
    "# Inspect the result\n",
    "print(Z2)\n",
    "\n",
    "# Plot the dendrogram using Manhattan distance\n",
    "plt.figure(2, figsize=(20, 15)) # Create a new plot with size x = 20, y = 15)\n",
    "ax = plt.gca() # \"gca\" means \"get current axes\", so this saves the axes of the plot in the object \"ax\"\n",
    "dn = sch.dendrogram(Z2, labels = sample, ax = ax) # Create a dendrogram using the linkage data in object \"Z\" you just created and labeling the samples using your \"sample\" vector\n",
    "ax.set_xlabel('Sample number', {'fontname':'Calibri', 'fontsize':14}) # Label the x-axis + layout\n",
    "ax.set_ylabel('Single Manhattan distance', {'fontname':'Calibri', 'fontsize':14}) # Label the y-axis + layout\n",
    "ax.xaxis.set_major_locator(mt.FixedLocator(np.arange(5, 10 * 10 + 5, 10))) # Set the locations of tick marks on the x-axis\n",
    "ax.yaxis.set_major_locator(mt.MultipleLocator(base = 0.05)) # Set the locations of tick marks on the y-axis\n",
    "ax.yaxis.set_minor_locator(mt.AutoMinorLocator()) # Set the locations of minor tick marks on the y-axis\n",
    "ax.tick_params(axis = 'y', which = 'both', direction = 'in', left = True, right = True) # Set layout parameters (title, direction, alignment, etc) of x-axis\n",
    "ax.tick_params(axis = 'x', which = 'major', direction = 'in', top = True, bottom = True) # Set layout parameters (title, direction, alignment, etc) of y-axis\n",
    "plt.title('Dendrogram of 10 sediment samples', {'fontname':'Calibri', 'fontsize':24}) # Create a plot title + layout"
   ]
  },
  {
   "cell_type": "code",
   "execution_count": 29,
   "id": "fb9773d8",
   "metadata": {},
   "outputs": [
    {
     "name": "stdout",
     "output_type": "stream",
     "text": [
      "[[7.00000000e+00 9.00000000e+00 1.12749347e-02 2.00000000e+00]\n",
      " [8.00000000e+00 1.00000000e+01 2.68399939e-02 3.00000000e+00]\n",
      " [0.00000000e+00 1.10000000e+01 3.11307027e-02 4.00000000e+00]\n",
      " [1.00000000e+00 1.20000000e+01 3.29850264e-02 5.00000000e+00]\n",
      " [5.00000000e+00 6.00000000e+00 4.86347130e-02 2.00000000e+00]\n",
      " [3.00000000e+00 1.40000000e+01 1.54722083e-01 3.00000000e+00]\n",
      " [4.00000000e+00 1.50000000e+01 4.22037919e-01 4.00000000e+00]\n",
      " [2.00000000e+00 1.60000000e+01 4.25750181e-01 5.00000000e+00]\n",
      " [1.30000000e+01 1.70000000e+01 4.60982695e-01 1.00000000e+01]]\n"
     ]
    },
    {
     "data": {
      "text/plain": [
       "Text(0.5, 1.0, 'Dendrogram of 10 sediment samples')"
      ]
     },
     "execution_count": 29,
     "metadata": {},
     "output_type": "execute_result"
    },
    {
     "data": {
      "image/png": "[encoded data removed]",
      "text/plain": [
       "<Figure size 1440x1080 with 1 Axes>"
      ]
     },
     "metadata": {
      "needs_background": "light"
     },
     "output_type": "display_data"
    }
   ],
   "source": [
    "# Create a new linkage file using the Pearson's correlation as distance\n",
    "Z3 = sch.linkage(data, method = 'single', metric = 'correlation')\n",
    "\n",
    "# Inspect the result\n",
    "print(Z3)\n",
    "\n",
    "# Plot the dendrogram using Manhattan distance\n",
    "plt.figure(2, figsize=(20, 15)) # Create a new plot with size x = 20, y = 15)\n",
    "ax = plt.gca() # \"gca\" means \"get current axes\", so this saves the axes of the plot in the object \"ax\"\n",
    "dn = sch.dendrogram(Z3, labels = sample, ax = ax) # Create a dendrogram using the linkage data in object \"Z\" you just created and labeling the samples using your \"sample\" vector\n",
    "ax.set_xlabel('Sample number', {'fontname':'Calibri', 'fontsize':14}) # Label the x-axis + layout\n",
    "ax.set_ylabel('Single Pearsons correlation', {'fontname':'Calibri', 'fontsize':14}) # Label the y-axis + layout\n",
    "ax.xaxis.set_major_locator(mt.FixedLocator(np.arange(5, 10 * 10 + 5, 10))) # Set the locations of tick marks on the x-axis\n",
    "ax.yaxis.set_major_locator(mt.MultipleLocator(base = 0.05)) # Set the locations of tick marks on the y-axis\n",
    "ax.yaxis.set_minor_locator(mt.AutoMinorLocator()) # Set the locations of minor tick marks on the y-axis\n",
    "ax.tick_params(axis = 'y', which = 'both', direction = 'in', left = True, right = True) # Set layout parameters (title, direction, alignment, etc) of x-axis\n",
    "ax.tick_params(axis = 'x', which = 'major', direction = 'in', top = True, bottom = True) # Set layout parameters (title, direction, alignment, etc) of y-axis\n",
    "plt.title('Dendrogram of 10 sediment samples', {'fontname':'Calibri', 'fontsize':24}) # Create a plot title + layout"
   ]
  },
  {
   "cell_type": "markdown",
   "id": "c5e8aaf3",
   "metadata": {},
   "source": [
    "__Conclusion:__ The Manhattan distance and Euclidean distance give very similar results, but the Pearson's correlation based denrogram is very different."
   ]
  }
 ],
 "metadata": {
  "kernelspec": {
   "display_name": "base",
   "language": "python",
   "name": "python3"
  },
  "language_info": {
   "codemirror_mode": {
    "name": "ipython",
    "version": 3
   },
   "file_extension": ".py",
   "mimetype": "text/x-python",
   "name": "python",
   "nbconvert_exporter": "python",
   "pygments_lexer": "ipython3",
   "version": "3.12.4"
  }
 },
 "nbformat": 4,
 "nbformat_minor": 5
}
