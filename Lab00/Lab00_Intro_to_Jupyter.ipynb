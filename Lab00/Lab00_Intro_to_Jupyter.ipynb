{
 "cells": [
  {
   "cell_type": "markdown",
   "id": "6a800754",
   "metadata": {},
   "source": [
    "# Lab 00: Introduction to Jupyter"
   ]
  },
  {
   "cell_type": "markdown",
   "id": "4941156d",
   "metadata": {},
   "source": [
    "Author: **N.J. de Winter** (*n.j.de.winter@vu.nl*)<br>\n",
    "Assitant Professor Vrije Universiteit Amsterdam<br>\n",
    "Statistics and Data Analysis Course"
   ]
  },
  {
   "cell_type": "markdown",
   "id": "9b877f19",
   "metadata": {},
   "source": [
    "## Learning goals:\n",
    "\n",
    "* Get famliar with Python through Jupyter\n",
    "* Review some of the material from the Statistics part of the course\n",
    "\n",
    "Partially inspired by this [Dataquest blog](https://www.dataquest.io/blog/jupyter-notebook-tutorial/)"
   ]
  },
  {
   "cell_type": "markdown",
   "id": "a37f63fd",
   "metadata": {},
   "source": [
    "## Introduction\n",
    "\n",
    "This assignment is mean to make you familiar with working in Jupyter. We will keep it very basic and won't introduce new topics in this practical. You will just be asked to perform some simple tasks in Jupyter related to the material you learned in the Statistics part of the course. You will not be asked to produce your own code in this exercise, but make sure you read the code in the code blocks and the comments written next to it so you can follow what is happening. This will be important practice that will make the labs later in the course much easier!"
   ]
  },
  {
   "cell_type": "markdown",
   "id": "71855f76",
   "metadata": {},
   "source": [
    "The code below assigns a value to the variable `a`, overwrites it with another value and then prints the that value. Make sure you understand the code and then run the code block by pressing **CTRL/DMC + ENTER**"
   ]
  },
  {
   "cell_type": "code",
   "execution_count": null,
   "id": "f2cc68bb",
   "metadata": {},
   "outputs": [],
   "source": [
    "# This is a code block\n",
    "a = 2 # We will assign a value to the object called \"a\"\n",
    "a = 3 # We are now overwriting a with a new value\n",
    "print(a) # Then we print a to check if it worked"
   ]
  },
  {
   "cell_type": "markdown",
   "id": "a68eaa1c",
   "metadata": {},
   "source": [
    "OK, so now that is working, let's play around with a few statistical examples to learn how Jupyter (and Python) works. The code below loads some packages we will need (have a look at the comments behind \"#\" to follow what we are doing):"
   ]
  },
  {
   "cell_type": "code",
   "execution_count": null,
   "id": "46e022d4",
   "metadata": {},
   "outputs": [],
   "source": [
    "import pandas as pd # This is the pandas package, it is handy for importing data and modifying it.\n",
    "import matplotlib.pyplot as plt # This is the pyplot module within the matplotlib package, which is used for plotting\n",
    "import seaborn as sns # The seaborn package contains some useful datasets to play with"
   ]
  },
  {
   "cell_type": "markdown",
   "id": "22412c86",
   "metadata": {},
   "source": [
    "If nothing happened after you run the codeblock above, it means the packages are loaded."
   ]
  },
  {
   "cell_type": "markdown",
   "id": "3c79d904",
   "metadata": {},
   "source": [
    "## Preparing our data\n",
    "\n",
    "We are going to use the `iris` dataset that comes with the `seaborn` package we just loaded (see [Iris dataset](https://archive.ics.uci.edu/dataset/53/iris) for more information). But first, we need to *assign* the dataset to a *variable*. We are going to name this *variable* \"iris\" to make it easy to remember:"
   ]
  },
  {
   "cell_type": "code",
   "execution_count": null,
   "id": "035c86fa",
   "metadata": {},
   "outputs": [],
   "source": [
    "iris = sns.load_dataset('iris')"
   ]
  },
  {
   "cell_type": "markdown",
   "id": "cf0e8981",
   "metadata": {},
   "source": [
    "OK, nothing seemed to have happened again after running that code. That can be a bit frustrating, but it is often a sign that things went well (otherwise you would have seen an error message!). To verify that the dataset is correctly loaded, we can *inspect* it. We can do this using `print()` as in the example above:"
   ]
  },
  {
   "cell_type": "code",
   "execution_count": null,
   "id": "4f8e22f8",
   "metadata": {},
   "outputs": [],
   "source": [
    "print(iris)"
   ]
  },
  {
   "cell_type": "markdown",
   "id": "e8e2a43f",
   "metadata": {},
   "source": [
    "If all went well, you should see an excerpt of the first and last rows of the dataset. This should give you a feel for what type of data we have loaded. Indeed, we are looking at a biological dataset with different characteristics (lengths of sepals and petals) of different species of irisses (flowering plants). Since the dataset is quite large (150 samples are included), not everything is shown by `print()`, otherwise the Notebook would become very long."
   ]
  },
  {
   "cell_type": "markdown",
   "id": "aa66ca69",
   "metadata": {},
   "source": [
    "## Descriptive Statistics\n",
    "\n",
    "We can now look at some *descriptive statistics* of this dataset. To do this, we are going to need some functions for calculating statistics in Python. Luckily, Python has a `statistics` package that contains a lot of useful functions that will look familiar to you. If you are curious what your options are, you can check out the [online documentation of the statistics package](https://docs.python.org/3/library/statistics.html) and see what the package has to offer."
   ]
  },
  {
   "cell_type": "markdown",
   "id": "6715aa35",
   "metadata": {},
   "source": [
    "Let's import the statistics package and calculate the *arithmetic mean*, *median* and *mode* of the petal length of these flowers:"
   ]
  },
  {
   "cell_type": "code",
   "execution_count": null,
   "id": "343a36ec",
   "metadata": {},
   "outputs": [],
   "source": [
    "import statistics as stats # Import statistics package\n",
    "mean_petal_length = stats.mean(iris.petal_length) # Calculate mean\n",
    "median_petal_length = stats.median(iris.petal_length) # Calculate median\n",
    "mode_petal_length = stats.mode(iris.petal_length) # Calculate mode\n",
    "print(\"mean:\", mean_petal_length) # Print mean\n",
    "print(\"median:\", median_petal_length) # Print median\n",
    "print(\"mode:\", mode_petal_length) # Print mode"
   ]
  },
  {
   "cell_type": "markdown",
   "id": "e3587e09",
   "metadata": {},
   "source": [
    "Have a close look at the code above to understand what happened. We used some nifty coding tricks to make Python do what we wanted:\n",
    "\n",
    "* We used `stats.` in front of our functions (`mean()`, `median()` and `mode`) to let Python know that we want to borrow those functions from the `statistics` package (which we named `stats`, see first line)\n",
    "* We used `iris.petal_length` in our calculation to specifically calculate the mean/median/mode of the `petal_length`-column of the `iris` dataset, not of the entire dataset.\n",
    "* We used a smart trick within the `print()` function to print a piece of text (e.g. \"mean:\") first and then add the output of our calculation. This way we can print all three results without losing track of which one is the mean, which one the mode and which one the median.\n",
    "\n",
    "There are many more things we can calculate using the `statistics` package, but we'll leave it at this for now."
   ]
  },
  {
   "cell_type": "markdown",
   "id": "459beb22",
   "metadata": {},
   "source": [
    "## Plotting frequency distributions\n",
    "\n",
    "We cannot really summarize 150 rows of data in one number (or three). To have a good look at the *distribution* of the petal length (or other variables in the dataset) we may want to plot the frequency distribution. We'll do so below:"
   ]
  },
  {
   "cell_type": "code",
   "execution_count": null,
   "id": "c5ca4271",
   "metadata": {},
   "outputs": [],
   "source": [
    "plt.hist(iris.petal_length, bins = 20) # Plot a histogram of the petal length of irisses using 20 equally spaced bins.\n",
    "plt.xlabel(\"Petal length (cm)\") # Label x axis\n",
    "plt.ylabel(\"Frequency\") # Label frequency axis\n",
    "plt.show() # Show the plot"
   ]
  },
  {
   "cell_type": "markdown",
   "id": "1de9ed9b",
   "metadata": {},
   "source": [
    "Interesting! Our data is not normally distrbuted. Perhaps this is because different species of iris have different distributions of petal length. We can easily check this by adapting our plot and coloring the histogram frequencies by species:"
   ]
  },
  {
   "cell_type": "code",
   "execution_count": null,
   "id": "c8cb0526",
   "metadata": {},
   "outputs": [],
   "source": [
    "color_dictionary = {'setosa' : 'red', 'versicolor' : 'green', 'virginica' : 'blue'} # Here we give each species its own color\n",
    "plt.hist([iris.loc[iris['species'] == x, 'petal_length'] for x in color_dictionary.keys()], # Here we plot the histograms per species using a \"loop\"\n",
    "         color = [color_dictionary[x] for x in color_dictionary.keys()], # Here we assign the colors to the histogram while \"looping\" through the color dictionary\n",
    "         bins = 20) # This is the number of bins\n",
    "plt.xlabel(\"Petal length (cm)\") # Label x axis\n",
    "plt.ylabel(\"Frequency\") # Label frequency axis\n",
    "plt.legend(color_dictionary) # This plots the color legend\n",
    "plt.show() # Show the plot"
   ]
  },
  {
   "cell_type": "markdown",
   "id": "d2fc8804",
   "metadata": {},
   "source": [
    "Wow, that plots looks nice, but the code also got a lot more complicated! We applied some advanced Python code to \"loop\" over a list of values (in this case petal length data and associated species names) to plot our data per category and give each category its own color. It's ok if you don't fully understand how this \"looping\" works at this point. We will not use it a lot, but it does illustrate how powerful data analysis and visualization in Python can be. You cannot do these things in Excel..."
   ]
  },
  {
   "cell_type": "markdown",
   "id": "4bc27f8e",
   "metadata": {},
   "source": [
    "## Hypothesis testing\n",
    "\n",
    "From the plot above, you have likely come to the (correct) conclusion that petal length is indeed quite different between iris species. But is it *significantly* different? Let's test this hypothesis using the things you learned in the Statistics part of the course."
   ]
  },
  {
   "cell_type": "markdown",
   "id": "b4e9fef8",
   "metadata": {},
   "source": [
    "First, let's calculate the means and standard deviations of petal length for each species. Here is a handy trick to calculate the means per species for all our variables for the entire dataset in one line of code!"
   ]
  },
  {
   "cell_type": "code",
   "execution_count": null,
   "id": "660a0ab4",
   "metadata": {},
   "outputs": [],
   "source": [
    "iris.groupby('species').mean()"
   ]
  },
  {
   "cell_type": "markdown",
   "id": "285b76e3",
   "metadata": {},
   "source": [
    "See how we made groups first (using `groupby`) and then calculated the mean in one go? This is really the type of operation that can save a lot of time compared to calculating these statistics one by one. Let's do the same for the standard deviation:"
   ]
  },
  {
   "cell_type": "code",
   "execution_count": null,
   "id": "d2c7c6b7",
   "metadata": {},
   "outputs": [],
   "source": [
    "iris.groupby('species').std()"
   ]
  },
  {
   "cell_type": "markdown",
   "id": "8265c660",
   "metadata": {},
   "source": [
    "Looks like petal length and width are pretty different per species. The petal length for the \"setosa\" species looks pretty significantly different, but between \"versicolor\" and \"virginica\" it is a bit harder to tell. Let's do a z-test to test if they are different. We first need to import the function `ztest` from the `statsmodels` package. If you want, you can look up the `help()` page of this function to see what it does (or look [here](https://www.statsmodels.org/dev/generated/statsmodels.stats.weightstats.ztest.html)). It is pretty straightforward, but it can be helpful to read a bit about the syntax so you are better equipped to use this function for other purposes later."
   ]
  },
  {
   "cell_type": "code",
   "execution_count": null,
   "id": "06bce365",
   "metadata": {},
   "outputs": [],
   "source": [
    "from statsmodels.stats.weightstats import ztest # Import ztest function\n",
    "ztest(iris.petal_length[iris.species == \"versicolor\"], iris.petal_length[iris.species == \"virginica\"]) # Use the ztest function on the two groups of data"
   ]
  },
  {
   "cell_type": "markdown",
   "id": "982ea213",
   "metadata": {},
   "source": [
    "You will find that the z score is -12.6 and the p-value is very small (<<0.01), so the petal lengths of these species are indeed highly significantly different. See how easy that was in Python? All we needed was one function!"
   ]
  },
  {
   "cell_type": "markdown",
   "id": "2e07fc2f",
   "metadata": {},
   "source": [
    "The \"sepal widths\" of the three species are much more similar than the petal lengths, and we might be tempted to think that there is no difference between the species in terms of sepal width. To test this hypothesis in one go, we can use a *one-way ANOVA*. In doing so, we don't need to do t-tests or z-tests between all the groups, which would be more time consuming. Luckily, Python also has a function for calculating a one-way ANOVA (called `f_oneway`, since it is basically an F-test). Check out the `help()` page of this function, or the online [documentation](https://docs.scipy.org/doc/scipy/reference/generated/scipy.stats.f_oneway.html) if you want to learn how the function works. We just need to import it from the `scipy` package and apply it to our data:"
   ]
  },
  {
   "cell_type": "code",
   "execution_count": null,
   "id": "9a9d8aff",
   "metadata": {},
   "outputs": [],
   "source": [
    "from scipy.stats import f_oneway # Import the anova function\n",
    "f_oneway(iris.sepal_width[iris.species == \"setosa\"], # Apply the function to compare the sepal widths of the three species groups\n",
    "        iris.sepal_width[iris.species == \"versicolor\"],\n",
    "        iris.sepal_width[iris.species == \"virginica\"])"
   ]
  },
  {
   "cell_type": "markdown",
   "id": "865c0854",
   "metadata": {},
   "source": [
    "The output of this function directly gives us the F score (49.16) and the p-value (4.49 * 10 ^ -17). No need to look up these values in a table! And clearly, sepal width are highly significantly different between the species as well."
   ]
  },
  {
   "cell_type": "markdown",
   "id": "5d3139d4",
   "metadata": {},
   "source": [
    "That concludes our short Intro-lab into Python and Jupyter. If you came this far, you probably have Jupyter and Python running smoothly on your PC or laptop and are ready for the exercises in the Data Analysis course. I hope you have seen that Python can be a very powerful tool for doing statistics. Many tests and operations can be performed much faster in Python (or other programming languages) than by hand or in Excel. However, we need to be very careful with the way we write our code, because mistakes in your code blocks can be hard to detect. Make sure you always add comments to your code to track what you are doing and check whether the outcomes of your calculations make sense by printing the variables you produce and manipulate. Good luck with the exercises!"
   ]
  }
 ],
 "metadata": {
  "kernelspec": {
   "display_name": "base",
   "language": "python",
   "name": "python3"
  },
  "language_info": {
   "codemirror_mode": {
    "name": "ipython",
    "version": 3
   },
   "file_extension": ".py",
   "mimetype": "text/x-python",
   "name": "python",
   "nbconvert_exporter": "python",
   "pygments_lexer": "ipython3",
   "version": "3.12.4"
  }
 },
 "nbformat": 4,
 "nbformat_minor": 5
}
