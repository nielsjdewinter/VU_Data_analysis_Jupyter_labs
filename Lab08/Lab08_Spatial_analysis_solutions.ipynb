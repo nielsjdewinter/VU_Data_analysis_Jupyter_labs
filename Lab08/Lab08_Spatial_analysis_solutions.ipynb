{
 "cells": [
  {
   "cell_type": "markdown",
   "id": "f3d8531b",
   "metadata": {},
   "source": [
    "# Lab 08: Spatial analysis"
   ]
  },
  {
   "cell_type": "markdown",
   "id": "20da6f20",
   "metadata": {},
   "source": [
    "Author: **N.J. de Winter** (*n.j.de.winter@vu.nl*)<br>\n",
    "Assitant Professor Vrije Universiteit Amsterdam<br>\n",
    "Statistics and Data Analysis Course"
   ]
  },
  {
   "cell_type": "markdown",
   "id": "4b92b3df",
   "metadata": {},
   "source": [
    "\n",
    "## Learning goals:\n",
    "\n",
    "* Apply and improve your knowledge of Python and Jupyter\n",
    "* Learn to work with spatial datasets and analyze the characteristics of spatial data.\n",
    "* Learn to apply spatial analysis to create maps of variables based on a limited number of measurements in the area.\n",
    "* Obtain a feeling for the reliability of spatial analysis and the trustworthyness of the resulting maps.\n",
    "* Develop a feeling for how statistical tools can help you, but you still require *your interpretation* to draw conclusions."
   ]
  },
  {
   "cell_type": "markdown",
   "id": "74a47a00",
   "metadata": {},
   "source": [
    "## Introduction\n",
    "In this lab, you will get to experiment for the first time with **spatial analysis**. Spatial analysis is a big and important field in data science, and you see the outcome of its application on a daily basis all around you: Think about temperature maps on the weather forecast, elevation maps you use in the field and maps used to plot and assess risk of hazards such as forest fires. Everything that is plotted on a map based on a limited number of datapoints is subject to some kind of spatial interpolation!\n",
    "\n",
    "Needless to say, spatial analysis requires you to **think in multiple dimensions** (at least two), making statistical operations much more complex. Although this lab is just an introduction to make you familiar with spatial analysis techniques, it will relfect some of that complexity. Therefore, expect to be spending more time on this one than you are used to. Don't worry, we will take this step by step and as a result you will learn to produce some nice maps. (It will be worth it!)"
   ]
  },
  {
   "cell_type": "markdown",
   "id": "1f739db0",
   "metadata": {},
   "source": [
    "**Exercise 1:** The data we need today (`geost_dat.mat`) is again in the `.mat` format. Remember from `Lab05` and `Lab07` how to load a file like this. Load the data and also import the packages `numpy`, `matplotlib.pyplot` and `loadmat` from `scipy.io` (you need the latter for loading the data)."
   ]
  },
  {
   "cell_type": "code",
   "execution_count": 4,
   "id": "779cbd97",
   "metadata": {},
   "outputs": [],
   "source": [
    "# Make sure our figures show up in Jupyter\n",
    "%matplotlib inline\n",
    "import numpy as np\n",
    "import matplotlib.pyplot as plt\n",
    "from scipy.io import loadmat\n",
    "data = loadmat('geost_dat.mat')"
   ]
  },
  {
   "cell_type": "markdown",
   "id": "2cde146d",
   "metadata": {},
   "source": [
    "## Inspecting the data\n",
    "\n",
    "The data file contains `x` and `y` coordinates, and `z` values in a dictionary. We first have to read the `x`, `y` and `z`-variables from the dictionary. You have seen how to do this in `Lab07`."
   ]
  },
  {
   "cell_type": "markdown",
   "id": "0cd2abbd",
   "metadata": {},
   "source": [
    "**Exercise 2:** Extract the variables `x`, `y` and `z` from the data."
   ]
  },
  {
   "cell_type": "code",
   "execution_count": 5,
   "id": "dd4d62e7",
   "metadata": {},
   "outputs": [],
   "source": [
    "x = data['x'] # Extract x\n",
    "y = data['y'] # Extract y\n",
    "z = data['z'] # Extract z"
   ]
  },
  {
   "cell_type": "markdown",
   "id": "3cffd06f",
   "metadata": {},
   "source": [
    "Now, let’s plot all the locations for which we have data in a grid:"
   ]
  },
  {
   "cell_type": "code",
   "execution_count": 6,
   "id": "ab027e3a",
   "metadata": {},
   "outputs": [
    {
     "data": {
      "text/plain": [
       "<matplotlib.collections.PathCollection at 0x17c6c9bc880>"
      ]
     },
     "execution_count": 6,
     "metadata": {},
     "output_type": "execute_result"
    },
    {
     "data": {
      "image/png": "[encoded data removed]",
      "text/plain": [
       "<Figure size 432x288 with 1 Axes>"
      ]
     },
     "metadata": {
      "needs_background": "light"
     },
     "output_type": "display_data"
    }
   ],
   "source": [
    "plt.figure()\n",
    "plt.scatter(x, y)"
   ]
  },
  {
   "cell_type": "markdown",
   "id": "ad0fbe16",
   "metadata": {},
   "source": [
    "## Creating a variogram\n",
    "\n",
    "To analyze our spatial dataset, we want to calculate *distances* and *variances* between different pairs of observations. We will use the function `meshgrid` (`numpy` package) to facilitate this. First, let’s study the `help` of the function `meshgrid`, and then execute the function on the x and y coordinates, and z values:"
   ]
  },
  {
   "cell_type": "code",
   "execution_count": 7,
   "id": "8a573761",
   "metadata": {},
   "outputs": [
    {
     "name": "stdout",
     "output_type": "stream",
     "text": [
      "Help on function meshgrid in module numpy:\n",
      "\n",
      "meshgrid(*xi, copy=True, sparse=False, indexing='xy')\n",
      "    Return coordinate matrices from coordinate vectors.\n",
      "    \n",
      "    Make N-D coordinate arrays for vectorized evaluations of\n",
      "    N-D scalar/vector fields over N-D grids, given\n",
      "    one-dimensional coordinate arrays x1, x2,..., xn.\n",
      "    \n",
      "    .. versionchanged:: 1.9\n",
      "       1-D and 0-D cases are allowed.\n",
      "    \n",
      "    Parameters\n",
      "    ----------\n",
      "    x1, x2,..., xn : array_like\n",
      "        1-D arrays representing the coordinates of a grid.\n",
      "    indexing : {'xy', 'ij'}, optional\n",
      "        Cartesian ('xy', default) or matrix ('ij') indexing of output.\n",
      "        See Notes for more details.\n",
      "    \n",
      "        .. versionadded:: 1.7.0\n",
      "    sparse : bool, optional\n",
      "        If True a sparse grid is returned in order to conserve memory.\n",
      "        Default is False.\n",
      "    \n",
      "        .. versionadded:: 1.7.0\n",
      "    copy : bool, optional\n",
      "        If False, a view into the original arrays are returned in order to\n",
      "        conserve memory.  Default is True.  Please note that\n",
      "        ``sparse=False, copy=False`` will likely return non-contiguous\n",
      "        arrays.  Furthermore, more than one element of a broadcast array\n",
      "        may refer to a single memory location.  If you need to write to the\n",
      "        arrays, make copies first.\n",
      "    \n",
      "        .. versionadded:: 1.7.0\n",
      "    \n",
      "    Returns\n",
      "    -------\n",
      "    X1, X2,..., XN : ndarray\n",
      "        For vectors `x1`, `x2`,..., 'xn' with lengths ``Ni=len(xi)`` ,\n",
      "        return ``(N1, N2, N3,...Nn)`` shaped arrays if indexing='ij'\n",
      "        or ``(N2, N1, N3,...Nn)`` shaped arrays if indexing='xy'\n",
      "        with the elements of `xi` repeated to fill the matrix along\n",
      "        the first dimension for `x1`, the second for `x2` and so on.\n",
      "    \n",
      "    Notes\n",
      "    -----\n",
      "    This function supports both indexing conventions through the indexing\n",
      "    keyword argument.  Giving the string 'ij' returns a meshgrid with\n",
      "    matrix indexing, while 'xy' returns a meshgrid with Cartesian indexing.\n",
      "    In the 2-D case with inputs of length M and N, the outputs are of shape\n",
      "    (N, M) for 'xy' indexing and (M, N) for 'ij' indexing.  In the 3-D case\n",
      "    with inputs of length M, N and P, outputs are of shape (N, M, P) for\n",
      "    'xy' indexing and (M, N, P) for 'ij' indexing.  The difference is\n",
      "    illustrated by the following code snippet::\n",
      "    \n",
      "        xv, yv = np.meshgrid(x, y, sparse=False, indexing='ij')\n",
      "        for i in range(nx):\n",
      "            for j in range(ny):\n",
      "                # treat xv[i,j], yv[i,j]\n",
      "    \n",
      "        xv, yv = np.meshgrid(x, y, sparse=False, indexing='xy')\n",
      "        for i in range(nx):\n",
      "            for j in range(ny):\n",
      "                # treat xv[j,i], yv[j,i]\n",
      "    \n",
      "    In the 1-D and 0-D case, the indexing and sparse keywords have no effect.\n",
      "    \n",
      "    See Also\n",
      "    --------\n",
      "    mgrid : Construct a multi-dimensional \"meshgrid\" using indexing notation.\n",
      "    ogrid : Construct an open multi-dimensional \"meshgrid\" using indexing\n",
      "            notation.\n",
      "    \n",
      "    Examples\n",
      "    --------\n",
      "    >>> nx, ny = (3, 2)\n",
      "    >>> x = np.linspace(0, 1, nx)\n",
      "    >>> y = np.linspace(0, 1, ny)\n",
      "    >>> xv, yv = np.meshgrid(x, y)\n",
      "    >>> xv\n",
      "    array([[0. , 0.5, 1. ],\n",
      "           [0. , 0.5, 1. ]])\n",
      "    >>> yv\n",
      "    array([[0.,  0.,  0.],\n",
      "           [1.,  1.,  1.]])\n",
      "    >>> xv, yv = np.meshgrid(x, y, sparse=True)  # make sparse output arrays\n",
      "    >>> xv\n",
      "    array([[0. ,  0.5,  1. ]])\n",
      "    >>> yv\n",
      "    array([[0.],\n",
      "           [1.]])\n",
      "    \n",
      "    `meshgrid` is very useful to evaluate functions on a grid.\n",
      "    \n",
      "    >>> import matplotlib.pyplot as plt\n",
      "    >>> x = np.arange(-5, 5, 0.1)\n",
      "    >>> y = np.arange(-5, 5, 0.1)\n",
      "    >>> xx, yy = np.meshgrid(x, y, sparse=True)\n",
      "    >>> z = np.sin(xx**2 + yy**2) / (xx**2 + yy**2)\n",
      "    >>> h = plt.contourf(x, y, z)\n",
      "    >>> plt.axis('scaled')\n",
      "    >>> plt.show()\n",
      "\n"
     ]
    }
   ],
   "source": [
    "help(np.meshgrid) # Call help for the meshgrid function"
   ]
  },
  {
   "cell_type": "code",
   "execution_count": 8,
   "id": "1d630851",
   "metadata": {},
   "outputs": [],
   "source": [
    "# Now apply the meshgrid function, we will create some new variables this way\n",
    "X1, X2 = np.meshgrid(x, x)\n",
    "Y1, Y2 = np.meshgrid(y, y)\n",
    "Z1, Z2 = np.meshgrid(z, z)"
   ]
  },
  {
   "cell_type": "markdown",
   "id": "b06da092",
   "metadata": {},
   "source": [
    "**Question 1:** Study the output of the meshgrid function you just applied. Explain in your own words what the meshgrid function did."
   ]
  },
  {
   "cell_type": "markdown",
   "id": "128c9a44",
   "metadata": {},
   "source": [
    "**Answer 1:** The `np.meshgrid` function creates two square grids in which the number of rows and columns equals the number of observations. In the first grid, all values in the n-th column equal the n-th value of the input vector. In the second grid, all values in the n-th row equal the n-th value of the input vector."
   ]
  },
  {
   "cell_type": "markdown",
   "id": "e387a411",
   "metadata": {},
   "source": [
    "The distance between all pairs of observations can now be calculated as:"
   ]
  },
  {
   "cell_type": "code",
   "execution_count": 13,
   "id": "30347584",
   "metadata": {},
   "outputs": [],
   "source": [
    "D = np.sqrt(np.square((X1 - X2)) + np.square(Y1 - Y2)) # Calculate distance between all pairs of observations"
   ]
  },
  {
   "cell_type": "markdown",
   "id": "9030c5b5",
   "metadata": {},
   "source": [
    "The semivariance between all pairs of observations is:"
   ]
  },
  {
   "cell_type": "code",
   "execution_count": 12,
   "id": "2152f26a",
   "metadata": {},
   "outputs": [],
   "source": [
    "G = 0.5 * (np.square(Z1 - Z2)) # Calculate semivariance between all pairs of observations"
   ]
  },
  {
   "cell_type": "markdown",
   "id": "ff159a15",
   "metadata": {},
   "source": [
    "**Question 2:** Inspect the newly created matrices `D` and `G` and make sure you understand what information they contain. What is striking about the symmetry of these matrices?"
   ]
  },
  {
   "cell_type": "markdown",
   "id": "59bba990",
   "metadata": {},
   "source": [
    "**Answer 2:** Both matrices are symmetrical through their diagnoal (upper left - lower right) The upper right and lower left triangles in the D and G matrices are identical."
   ]
  },
  {
   "cell_type": "code",
   "execution_count": 14,
   "id": "096d0e89",
   "metadata": {},
   "outputs": [
    {
     "name": "stdout",
     "output_type": "stream",
     "text": [
      "[[  0.         188.96182286 183.6118256  ... 165.47660197 183.96835733\n",
      "  166.81259815]\n",
      " [188.96182286   0.           5.44720112 ...  96.56439147  19.63784611\n",
      "  107.05896039]\n",
      " [183.6118256    5.44720112   0.         ...  93.18639439  19.73425955\n",
      "  105.51452317]\n",
      " ...\n",
      " [165.47660197  96.56439147  93.18639439 ...   0.         110.98877286\n",
      "  178.61123957]\n",
      " [183.96835733  19.63784611  19.73425955 ... 110.98877286   0.\n",
      "   87.8560641 ]\n",
      " [166.81259815 107.05896039 105.51452317 ... 178.61123957  87.8560641\n",
      "    0.        ]]\n"
     ]
    }
   ],
   "source": [
    "print(D)"
   ]
  },
  {
   "cell_type": "markdown",
   "id": "6d6d57d5",
   "metadata": {},
   "source": [
    "We will create a matrix `I` that has ones for the lower triangle (and zeros for the upper right). We can then use this matrix `I` to select only one set (of the 2) of paired observations. To do this, first we create an index matrix (`indx`), which counts from 1 to the total number of observations (`z`):"
   ]
  },
  {
   "cell_type": "code",
   "execution_count": 15,
   "id": "d407e380",
   "metadata": {},
   "outputs": [],
   "source": [
    "indx = range(z.shape[0])"
   ]
  },
  {
   "cell_type": "markdown",
   "id": "62c19183",
   "metadata": {},
   "source": [
    "We then use this indx with meshgrid function to create matrices that duplicate the index vector in the column (`C`) and row (`R`) directions:"
   ]
  },
  {
   "cell_type": "code",
   "execution_count": 16,
   "id": "30a4ca22",
   "metadata": {},
   "outputs": [],
   "source": [
    "C, R = np.meshgrid(indx, indx)"
   ]
  },
  {
   "cell_type": "markdown",
   "id": "3d01654c",
   "metadata": {},
   "source": [
    "Finally, we assign 1 to cells in a new matrix `I` when `R` > `C`, and otherwise the cells get assigned a 0:"
   ]
  },
  {
   "cell_type": "code",
   "execution_count": 17,
   "id": "0876a5f0",
   "metadata": {},
   "outputs": [],
   "source": [
    "I = R > C"
   ]
  },
  {
   "cell_type": "markdown",
   "id": "29015120",
   "metadata": {},
   "source": [
    "Now we can make a scatter plot of semivariance versus distance for the cells where `I` is 1:"
   ]
  },
  {
   "cell_type": "code",
   "execution_count": 18,
   "id": "15f0af2f",
   "metadata": {},
   "outputs": [
    {
     "data": {
      "text/plain": [
       "Text(0, 0.5, 'Semivariance')"
      ]
     },
     "execution_count": 18,
     "metadata": {},
     "output_type": "execute_result"
    },
    {
     "data": {
      "image/png": "[encoded data removed]",
      "text/plain": [
       "<Figure size 432x288 with 1 Axes>"
      ]
     },
     "metadata": {
      "needs_background": "light"
     },
     "output_type": "display_data"
    }
   ],
   "source": [
    "plt.scatter(D[I], G[I])\n",
    "plt.xlabel('Distance between observations')\n",
    "plt.ylabel('Semivariance')"
   ]
  },
  {
   "cell_type": "markdown",
   "id": "946b59ed",
   "metadata": {},
   "source": [
    "This *variogram cloud* is somewhat useful for exploration, however, we need to calculate **mean semivariance** for binned distances if we really want to quantify spatial dependencies. We need to have a suitable **lag** interval to define classes over which we can average semivariances. The *mean minimum distance* between pairs is a good estimate for a lag interval. This *mean minimum distance* is the average of the minimum distance of each observation to its nearest neighbour observation. To calculate this, we need to get rid of the zero diagonal of the distance matrix `D`. We create a copy of our distance matrix, and set the diagonal to `nan` (meaning \"not a number\"):"
   ]
  },
  {
   "cell_type": "code",
   "execution_count": 19,
   "id": "c5280978",
   "metadata": {},
   "outputs": [],
   "source": [
    "D2 = np.copy(D) # Make a copy of the matrix D\n",
    "i, j = np.indices(D2.shape) # here we get the x and y indices of the matrix\n",
    "D2[i == j] = np.nan # the diagonal is where both indices are identical. We set those values to nan"
   ]
  },
  {
   "cell_type": "markdown",
   "id": "bc30f089",
   "metadata": {},
   "source": [
    "After this, we can easily calculate the minimum distance for each observation, and the mean minimum distance of all observations:"
   ]
  },
  {
   "cell_type": "code",
   "execution_count": 21,
   "id": "dfa82f50",
   "metadata": {},
   "outputs": [],
   "source": [
    "lag = np.nanmean(np.nanmin(D2, axis = 0)) # Take the mean of all minimum differences"
   ]
  },
  {
   "cell_type": "markdown",
   "id": "5e1f9a63",
   "metadata": {},
   "source": [
    "**Question 3:** What is the lag value of this dataset?"
   ]
  },
  {
   "cell_type": "markdown",
   "id": "23ee06f2",
   "metadata": {},
   "source": [
    "**Answer 3:** The lag value is approximately 8.01"
   ]
  },
  {
   "cell_type": "code",
   "execution_count": 22,
   "id": "0b6e8a6d",
   "metadata": {},
   "outputs": [
    {
     "name": "stdout",
     "output_type": "stream",
     "text": [
      "8.010698943460342\n"
     ]
    }
   ],
   "source": [
    "print(lag)"
   ]
  },
  {
   "cell_type": "markdown",
   "id": "6d646e18",
   "metadata": {},
   "source": [
    "Estimated variogram values tend to become more erratic with increasing distances between observations. As a rule of thumb, the *half maximum distance* is a suitable range (maximum value) for variogram analysis. The half maximum distance is:"
   ]
  },
  {
   "cell_type": "code",
   "execution_count": 23,
   "id": "8c60220b",
   "metadata": {},
   "outputs": [],
   "source": [
    "hmd = np.max(D) / 2"
   ]
  },
  {
   "cell_type": "markdown",
   "id": "05603b71",
   "metadata": {},
   "source": [
    "**Question 4:** What is the value of the half maximum distance?"
   ]
  },
  {
   "cell_type": "markdown",
   "id": "3d1c8597",
   "metadata": {},
   "source": [
    "**Answer 4:** The hmd value is approximately 130.19"
   ]
  },
  {
   "cell_type": "code",
   "execution_count": 24,
   "id": "724ac115",
   "metadata": {},
   "outputs": [
    {
     "name": "stdout",
     "output_type": "stream",
     "text": [
      "130.19008189950569\n"
     ]
    }
   ],
   "source": [
    "print(hmd)"
   ]
  },
  {
   "cell_type": "markdown",
   "id": "7deb0382",
   "metadata": {},
   "source": [
    "Since the smallest bin is equal to the lag and the maximum is equal to the half maximum distance, the number of bins can be calculated as:"
   ]
  },
  {
   "cell_type": "code",
   "execution_count": 27,
   "id": "b564f313",
   "metadata": {},
   "outputs": [
    {
     "name": "stdout",
     "output_type": "stream",
     "text": [
      "16.0\n"
     ]
    }
   ],
   "source": [
    "max_lags = np.floor(hmd / lag)\n",
    "print(max_lags)"
   ]
  },
  {
   "cell_type": "markdown",
   "id": "75aaeb77",
   "metadata": {},
   "source": [
    "**Exercise 3:** The `max_lags` value is 16. Have a look at what the `floor` function (numpy) does. We used it here because we don't want a decimal number for the number of classes, but a whole integer."
   ]
  },
  {
   "cell_type": "code",
   "execution_count": 29,
   "id": "f713385a",
   "metadata": {},
   "outputs": [
    {
     "name": "stdout",
     "output_type": "stream",
     "text": [
      "Help on ufunc:\n",
      "\n",
      "floor = <ufunc 'floor'>\n",
      "    floor(x, /, out=None, *, where=True, casting='same_kind', order='K', dtype=None, subok=True[, signature, extobj])\n",
      "    \n",
      "    Return the floor of the input, element-wise.\n",
      "    \n",
      "    The floor of the scalar `x` is the largest integer `i`, such that\n",
      "    `i <= x`.  It is often denoted as :math:`\\lfloor x \\rfloor`.\n",
      "    \n",
      "    Parameters\n",
      "    ----------\n",
      "    x : array_like\n",
      "        Input data.\n",
      "    out : ndarray, None, or tuple of ndarray and None, optional\n",
      "        A location into which the result is stored. If provided, it must have\n",
      "        a shape that the inputs broadcast to. If not provided or None,\n",
      "        a freshly-allocated array is returned. A tuple (possible only as a\n",
      "        keyword argument) must have length equal to the number of outputs.\n",
      "    where : array_like, optional\n",
      "        This condition is broadcast over the input. At locations where the\n",
      "        condition is True, the `out` array will be set to the ufunc result.\n",
      "        Elsewhere, the `out` array will retain its original value.\n",
      "        Note that if an uninitialized `out` array is created via the default\n",
      "        ``out=None``, locations within it where the condition is False will\n",
      "        remain uninitialized.\n",
      "    **kwargs\n",
      "        For other keyword-only arguments, see the\n",
      "        :ref:`ufunc docs <ufuncs.kwargs>`.\n",
      "    \n",
      "    Returns\n",
      "    -------\n",
      "    y : ndarray or scalar\n",
      "        The floor of each element in `x`.\n",
      "        This is a scalar if `x` is a scalar.\n",
      "    \n",
      "    See Also\n",
      "    --------\n",
      "    ceil, trunc, rint, fix\n",
      "    \n",
      "    Notes\n",
      "    -----\n",
      "    Some spreadsheet programs calculate the \"floor-towards-zero\", where\n",
      "    ``floor(-2.5) == -2``.  NumPy instead uses the definition of\n",
      "    `floor` where `floor(-2.5) == -3`. The \"floor-towards-zero\"\n",
      "    function is called ``fix`` in NumPy.\n",
      "    \n",
      "    Examples\n",
      "    --------\n",
      "    >>> a = np.array([-1.7, -1.5, -0.2, 0.2, 1.5, 1.7, 2.0])\n",
      "    >>> np.floor(a)\n",
      "    array([-2., -2., -1.,  0.,  1.,  1.,  2.])\n",
      "\n"
     ]
    }
   ],
   "source": [
    "help(np.floor)"
   ]
  },
  {
   "cell_type": "markdown",
   "id": "eb23ea12",
   "metadata": {},
   "source": [
    "Now, we will calculate in which distance bin each pair of observations belongs. Have a look at what the `ceil` function (numpy) does. Again, we want whole integers here because they represent distance class numbers."
   ]
  },
  {
   "cell_type": "code",
   "execution_count": 30,
   "id": "387238c5",
   "metadata": {},
   "outputs": [
    {
     "name": "stdout",
     "output_type": "stream",
     "text": [
      "Help on ufunc:\n",
      "\n",
      "ceil = <ufunc 'ceil'>\n",
      "    ceil(x, /, out=None, *, where=True, casting='same_kind', order='K', dtype=None, subok=True[, signature, extobj])\n",
      "    \n",
      "    Return the ceiling of the input, element-wise.\n",
      "    \n",
      "    The ceil of the scalar `x` is the smallest integer `i`, such that\n",
      "    ``i >= x``.  It is often denoted as :math:`\\lceil x \\rceil`.\n",
      "    \n",
      "    Parameters\n",
      "    ----------\n",
      "    x : array_like\n",
      "        Input data.\n",
      "    out : ndarray, None, or tuple of ndarray and None, optional\n",
      "        A location into which the result is stored. If provided, it must have\n",
      "        a shape that the inputs broadcast to. If not provided or None,\n",
      "        a freshly-allocated array is returned. A tuple (possible only as a\n",
      "        keyword argument) must have length equal to the number of outputs.\n",
      "    where : array_like, optional\n",
      "        This condition is broadcast over the input. At locations where the\n",
      "        condition is True, the `out` array will be set to the ufunc result.\n",
      "        Elsewhere, the `out` array will retain its original value.\n",
      "        Note that if an uninitialized `out` array is created via the default\n",
      "        ``out=None``, locations within it where the condition is False will\n",
      "        remain uninitialized.\n",
      "    **kwargs\n",
      "        For other keyword-only arguments, see the\n",
      "        :ref:`ufunc docs <ufuncs.kwargs>`.\n",
      "    \n",
      "    Returns\n",
      "    -------\n",
      "    y : ndarray or scalar\n",
      "        The ceiling of each element in `x`, with `float` dtype.\n",
      "        This is a scalar if `x` is a scalar.\n",
      "    \n",
      "    See Also\n",
      "    --------\n",
      "    floor, trunc, rint, fix\n",
      "    \n",
      "    Examples\n",
      "    --------\n",
      "    >>> a = np.array([-1.7, -1.5, -0.2, 0.2, 1.5, 1.7, 2.0])\n",
      "    >>> np.ceil(a)\n",
      "    array([-1., -1., -0.,  1.,  2.,  2.,  2.])\n",
      "\n"
     ]
    }
   ],
   "source": [
    "help(np.ceil)\n",
    "LAGS = np.ceil(D / lag)"
   ]
  },
  {
   "cell_type": "markdown",
   "id": "3c88cd97",
   "metadata": {},
   "source": [
    "Now get ready for some Python magic! We will loop, using a *list comprehension*, over all distance classes to calculate the *mean distance* and *mean semivariance* of all observations in each distance bin. *List comprehensions* are shorter and faster ways of returning the result of a *for loop* in a *list*. In this case, the list is the list of bins (`range(1, int(max_lags) + 1)`) and for each instance of the list, the mean value for distance and semivariance is calculated for all observations that belong in that bin (according to the value in `LAGS`).\n",
    "\n",
    "This is the mean distance for each distance bin:"
   ]
  },
  {
   "cell_type": "code",
   "execution_count": 32,
   "id": "3446ff0c",
   "metadata": {},
   "outputs": [],
   "source": [
    "DE = [np.mean(D[LAGS == maxlag]) for maxlag in range(1, int(max_lags) + 1)]"
   ]
  },
  {
   "cell_type": "markdown",
   "id": "4fe3aa75",
   "metadata": {},
   "source": [
    "Similarly, this is the mean semivariance for each distance bin:"
   ]
  },
  {
   "cell_type": "code",
   "execution_count": 33,
   "id": "8cebd828",
   "metadata": {},
   "outputs": [],
   "source": [
    "GE = [np.mean(G[LAGS == maxlag]) for maxlag in range(1, int(max_lags) + 1)]"
   ]
  },
  {
   "cell_type": "markdown",
   "id": "c9ecfb45",
   "metadata": {},
   "source": [
    "**Exercise 4:** Now, plot the semivariogram using the mean distance (`DE`) on the horizontal axis and the mean semivariance (`GE`) on the vertical axis:"
   ]
  },
  {
   "cell_type": "code",
   "execution_count": 34,
   "id": "657e3c33",
   "metadata": {},
   "outputs": [
    {
     "data": {
      "text/plain": [
       "Text(0, 0.5, 'Mean semivariance')"
      ]
     },
     "execution_count": 34,
     "metadata": {},
     "output_type": "execute_result"
    },
    {
     "data": {
      "image/png": "[encoded data removed]",
      "text/plain": [
       "<Figure size 432x288 with 1 Axes>"
      ]
     },
     "metadata": {
      "needs_background": "light"
     },
     "output_type": "display_data"
    }
   ],
   "source": [
    "plt.scatter(DE, GE)\n",
    "plt.xlabel('Mean distance between observations')\n",
    "plt.ylabel('Mean semivariance')"
   ]
  },
  {
   "cell_type": "markdown",
   "id": "16eaff1d",
   "metadata": {},
   "source": [
    "We will also add the *population variance* in this graph. This is the variance in the data, regardless of spatial dependencies. Let’s check the `help` of the `var` function, and then we will use this function to calculate the variance in the `z` values:"
   ]
  },
  {
   "cell_type": "code",
   "execution_count": 35,
   "id": "b697111f",
   "metadata": {},
   "outputs": [
    {
     "name": "stdout",
     "output_type": "stream",
     "text": [
      "Help on function var in module numpy:\n",
      "\n",
      "var(a, axis=None, dtype=None, out=None, ddof=0, keepdims=<no value>, *, where=<no value>)\n",
      "    Compute the variance along the specified axis.\n",
      "    \n",
      "    Returns the variance of the array elements, a measure of the spread of a\n",
      "    distribution.  The variance is computed for the flattened array by\n",
      "    default, otherwise over the specified axis.\n",
      "    \n",
      "    Parameters\n",
      "    ----------\n",
      "    a : array_like\n",
      "        Array containing numbers whose variance is desired.  If `a` is not an\n",
      "        array, a conversion is attempted.\n",
      "    axis : None or int or tuple of ints, optional\n",
      "        Axis or axes along which the variance is computed.  The default is to\n",
      "        compute the variance of the flattened array.\n",
      "    \n",
      "        .. versionadded:: 1.7.0\n",
      "    \n",
      "        If this is a tuple of ints, a variance is performed over multiple axes,\n",
      "        instead of a single axis or all the axes as before.\n",
      "    dtype : data-type, optional\n",
      "        Type to use in computing the variance.  For arrays of integer type\n",
      "        the default is `float64`; for arrays of float types it is the same as\n",
      "        the array type.\n",
      "    out : ndarray, optional\n",
      "        Alternate output array in which to place the result.  It must have\n",
      "        the same shape as the expected output, but the type is cast if\n",
      "        necessary.\n",
      "    ddof : int, optional\n",
      "        \"Delta Degrees of Freedom\": the divisor used in the calculation is\n",
      "        ``N - ddof``, where ``N`` represents the number of elements. By\n",
      "        default `ddof` is zero.\n",
      "    keepdims : bool, optional\n",
      "        If this is set to True, the axes which are reduced are left\n",
      "        in the result as dimensions with size one. With this option,\n",
      "        the result will broadcast correctly against the input array.\n",
      "    \n",
      "        If the default value is passed, then `keepdims` will not be\n",
      "        passed through to the `var` method of sub-classes of\n",
      "        `ndarray`, however any non-default value will be.  If the\n",
      "        sub-class' method does not implement `keepdims` any\n",
      "        exceptions will be raised.\n",
      "    \n",
      "    where : array_like of bool, optional\n",
      "        Elements to include in the variance. See `~numpy.ufunc.reduce` for\n",
      "        details.\n",
      "    \n",
      "        .. versionadded:: 1.20.0\n",
      "    \n",
      "    Returns\n",
      "    -------\n",
      "    variance : ndarray, see dtype parameter above\n",
      "        If ``out=None``, returns a new array containing the variance;\n",
      "        otherwise, a reference to the output array is returned.\n",
      "    \n",
      "    See Also\n",
      "    --------\n",
      "    std, mean, nanmean, nanstd, nanvar\n",
      "    :ref:`ufuncs-output-type`\n",
      "    \n",
      "    Notes\n",
      "    -----\n",
      "    The variance is the average of the squared deviations from the mean,\n",
      "    i.e.,  ``var = mean(x)``, where ``x = abs(a - a.mean())**2``.\n",
      "    \n",
      "    The mean is typically calculated as ``x.sum() / N``, where ``N = len(x)``.\n",
      "    If, however, `ddof` is specified, the divisor ``N - ddof`` is used\n",
      "    instead.  In standard statistical practice, ``ddof=1`` provides an\n",
      "    unbiased estimator of the variance of a hypothetical infinite population.\n",
      "    ``ddof=0`` provides a maximum likelihood estimate of the variance for\n",
      "    normally distributed variables.\n",
      "    \n",
      "    Note that for complex numbers, the absolute value is taken before\n",
      "    squaring, so that the result is always real and nonnegative.\n",
      "    \n",
      "    For floating-point input, the variance is computed using the same\n",
      "    precision the input has.  Depending on the input data, this can cause\n",
      "    the results to be inaccurate, especially for `float32` (see example\n",
      "    below).  Specifying a higher-accuracy accumulator using the ``dtype``\n",
      "    keyword can alleviate this issue.\n",
      "    \n",
      "    Examples\n",
      "    --------\n",
      "    >>> a = np.array([[1, 2], [3, 4]])\n",
      "    >>> np.var(a)\n",
      "    1.25\n",
      "    >>> np.var(a, axis=0)\n",
      "    array([1.,  1.])\n",
      "    >>> np.var(a, axis=1)\n",
      "    array([0.25,  0.25])\n",
      "    \n",
      "    In single precision, var() can be inaccurate:\n",
      "    \n",
      "    >>> a = np.zeros((2, 512*512), dtype=np.float32)\n",
      "    >>> a[0, :] = 1.0\n",
      "    >>> a[1, :] = 0.1\n",
      "    >>> np.var(a)\n",
      "    0.20250003\n",
      "    \n",
      "    Computing the variance in float64 is more accurate:\n",
      "    \n",
      "    >>> np.var(a, dtype=np.float64)\n",
      "    0.20249999932944759 # may vary\n",
      "    >>> ((1-0.55)**2 + (0.1-0.55)**2)/2\n",
      "    0.2025\n",
      "    \n",
      "    Specifying a where argument:\n",
      "    \n",
      "    >>> a = np.array([[14, 8, 11, 10], [7, 9, 10, 11], [10, 15, 5, 10]])\n",
      "    >>> np.var(a)\n",
      "    6.833333333333333 # may vary\n",
      "    >>> np.var(a, where=[[True], [True], [False]])\n",
      "    4.0\n",
      "\n"
     ]
    }
   ],
   "source": [
    "help(np.var)\n",
    "var_z = np.var(z)"
   ]
  },
  {
   "cell_type": "markdown",
   "id": "7f8735b3",
   "metadata": {},
   "source": [
    "Now, we will draw a horizontal line in the plot that represents the population variance. Let's check the help of the `matplotlib hlines` function and then apply it:"
   ]
  },
  {
   "cell_type": "code",
   "execution_count": 38,
   "id": "f8e46665",
   "metadata": {},
   "outputs": [
    {
     "name": "stdout",
     "output_type": "stream",
     "text": [
      "Help on function hlines in module matplotlib.pyplot:\n",
      "\n",
      "hlines(y, xmin, xmax, colors=None, linestyles='solid', label='', *, data=None, **kwargs)\n",
      "    Plot horizontal lines at each *y* from *xmin* to *xmax*.\n",
      "    \n",
      "    Parameters\n",
      "    ----------\n",
      "    y : float or array-like\n",
      "        y-indexes where to plot the lines.\n",
      "    \n",
      "    xmin, xmax : float or array-like\n",
      "        Respective beginning and end of each line. If scalars are\n",
      "        provided, all lines will have same length.\n",
      "    \n",
      "    colors : list of colors, default: :rc:`lines.color`\n",
      "    \n",
      "    linestyles : {'solid', 'dashed', 'dashdot', 'dotted'}, optional\n",
      "    \n",
      "    label : str, default: ''\n",
      "    \n",
      "    Returns\n",
      "    -------\n",
      "    `~matplotlib.collections.LineCollection`\n",
      "    \n",
      "    Other Parameters\n",
      "    ----------------\n",
      "    data : indexable object, optional\n",
      "        If given, the following parameters also accept a string ``s``, which is\n",
      "        interpreted as ``data[s]`` (unless this raises an exception):\n",
      "    \n",
      "        *y*, *xmin*, *xmax*, *colors*\n",
      "    **kwargs :  `~matplotlib.collections.LineCollection` properties.\n",
      "    \n",
      "    See Also\n",
      "    --------\n",
      "    vlines : vertical lines\n",
      "    axhline : horizontal line across the Axes\n",
      "\n"
     ]
    },
    {
     "data": {
      "text/plain": [
       "<matplotlib.collections.LineCollection at 0x17c6e390790>"
      ]
     },
     "execution_count": 38,
     "metadata": {},
     "output_type": "execute_result"
    },
    {
     "data": {
      "image/png": "[encoded data removed]",
      "text/plain": [
       "<Figure size 432x288 with 1 Axes>"
      ]
     },
     "metadata": {
      "needs_background": "light"
     },
     "output_type": "display_data"
    }
   ],
   "source": [
    "help(plt.hlines)\n",
    "\n",
    "plt.scatter(DE, GE) # Replot the plot from before\n",
    "plt.xlabel('Mean distance between observations')\n",
    "plt.ylabel('Mean semivariance')\n",
    "plt.hlines(var_z, 0, np.max(DE), color = 'red') # Add population variance"
   ]
  },
  {
   "cell_type": "markdown",
   "id": "6e969459",
   "metadata": {},
   "source": [
    "To make sure the graph is nicely plotted we will shift the limit of the y axis a bit. For example, the limit of y axis could have a value that is 10 % larger than the highest observed value. Let’s calculate this value, after which we can use it to set the limits of the y axis:"
   ]
  },
  {
   "cell_type": "code",
   "execution_count": 39,
   "id": "d1dece7b",
   "metadata": {},
   "outputs": [
    {
     "data": {
      "text/plain": [
       "Text(0, 0.5, 'Averaged semivariance')"
      ]
     },
     "execution_count": 39,
     "metadata": {},
     "output_type": "execute_result"
    },
    {
     "data": {
      "image/png": "[encoded data removed]",
      "text/plain": [
       "<Figure size 432x288 with 1 Axes>"
      ]
     },
     "metadata": {
      "needs_background": "light"
     },
     "output_type": "display_data"
    }
   ],
   "source": [
    "yl = 1.1 * np.max(GE)\n",
    "plt.scatter(DE, GE) # Replot the plot from before\n",
    "plt.hlines(var_z, 0, np.max(DE), color = 'red') # Add population variance\n",
    "plt.ylim((0, yl)) # Change the limit of the y axis\n",
    "plt.xlabel('Averaged distance between observations')\n",
    "plt.ylabel('Averaged semivariance')"
   ]
  },
  {
   "cell_type": "markdown",
   "id": "b6c99264",
   "metadata": {},
   "source": [
    "We can see that the semivariance is small for small distances, and increases for larger distances. The semivariance reaches a plateau that is almost equal to the population variance. This variance is called the **sill**. The distance at which the sill is reached, is called the **range**. This is the length over which spatial dependencies in the data are active. We will plot the variogram again in a new figure, after which we plot some pre-defined regression lines on top of the data:"
   ]
  },
  {
   "cell_type": "code",
   "execution_count": 40,
   "id": "e2449614",
   "metadata": {},
   "outputs": [
    {
     "data": {
      "text/plain": [
       "(0.0, 0.9724665838897022)"
      ]
     },
     "execution_count": 40,
     "metadata": {},
     "output_type": "execute_result"
    },
    {
     "data": {
      "image/png": "[encoded data removed]",
      "text/plain": [
       "<Figure size 432x288 with 1 Axes>"
      ]
     },
     "metadata": {
      "needs_background": "light"
     },
     "output_type": "display_data"
    }
   ],
   "source": [
    "plt.scatter(DE, GE)\n",
    "plt.hlines(var_z, 0, np.max(DE), color = 'red')\n",
    "plt.ylim((0, yl))"
   ]
  },
  {
   "cell_type": "markdown",
   "id": "c9b62987",
   "metadata": {},
   "source": [
    "## Approximating the shape of the variogram using a model\n",
    "\n",
    "If we want to use the shape and characteristics of our variogram to predict the values of `z` for the areas in between our observations, we need to find a model that approximates the shape of the variogram so we can estimate for each point on a `x`-`y` grid what the `z` value should be and how closely it resembles the neighbouring points. Let's try to do this using a few different models.\n",
    "\n",
    "First, we will try to fit a **spherical model** to the data without a **nugget**. These are the parameters of the model:"
   ]
  },
  {
   "cell_type": "code",
   "execution_count": 41,
   "id": "af4847b7",
   "metadata": {},
   "outputs": [],
   "source": [
    "nuggetS = 0 # nugget\n",
    "sillS = 0.803 # sill\n",
    "rangeS = 45.9 # range\n",
    "lags = np.arange(0, np.max(DE)) # bin values"
   ]
  },
  {
   "cell_type": "markdown",
   "id": "415b30d1",
   "metadata": {},
   "source": [
    "The **nugget** is the intercept of the curve with the y-axis. This is often 0 for spatial data, but could also be a small value.\n",
    "\n",
    "We can calculate the semivariance for each bin according to this model using the following function:"
   ]
  },
  {
   "cell_type": "code",
   "execution_count": 42,
   "id": "d5de2c2c",
   "metadata": {},
   "outputs": [],
   "source": [
    "Gsph = nuggetS + (sillS * (1.5 * lags / rangeS - 0.5 * (lags / rangeS) ** 3) * (lags <= rangeS) + sillS * (lags > rangeS))"
   ]
  },
  {
   "cell_type": "markdown",
   "id": "6b8a07ef",
   "metadata": {},
   "source": [
    "Now we can plot the spherical model as a green line on top of the data:"
   ]
  },
  {
   "cell_type": "code",
   "execution_count": 43,
   "id": "727d4569",
   "metadata": {},
   "outputs": [
    {
     "data": {
      "text/plain": [
       "Text(0, 0.5, 'Averaged semivariance')"
      ]
     },
     "execution_count": 43,
     "metadata": {},
     "output_type": "execute_result"
    },
    {
     "data": {
      "image/png": "[encoded data removed]",
      "text/plain": [
       "<Figure size 432x288 with 1 Axes>"
      ]
     },
     "metadata": {
      "needs_background": "light"
     },
     "output_type": "display_data"
    }
   ],
   "source": [
    "yl = 1.1 * np.max(GE)\n",
    "plt.scatter(DE, GE) # Replot the plot from before\n",
    "plt.plot(lags, Gsph, color = 'green') # Plot the spherical model\n",
    "plt.hlines(var_z, 0, np.max(DE), color = 'red') # Add population variance\n",
    "plt.ylim((0, yl)) # Change the limit of the y axis\n",
    "plt.xlabel('Averaged distance between observations')\n",
    "plt.ylabel('Averaged semivariance')"
   ]
  },
  {
   "cell_type": "markdown",
   "id": "b30d5632",
   "metadata": {},
   "source": [
    "Secondly, let's try to fit an **exponential model** to our data. The parameters for this model are as follows:"
   ]
  },
  {
   "cell_type": "code",
   "execution_count": 45,
   "id": "cffd762e",
   "metadata": {},
   "outputs": [],
   "source": [
    "nuggetE = 0.0239 # nugget\n",
    "sillE = 0.78 # sill\n",
    "rangeE = 45 # range"
   ]
  },
  {
   "cell_type": "markdown",
   "id": "e607dd3b",
   "metadata": {},
   "source": [
    "We can calculate the modelled semivariance values for this exponental model using the following formula (Note the difference between it and the spherical model!):"
   ]
  },
  {
   "cell_type": "code",
   "execution_count": 47,
   "id": "514afea8",
   "metadata": {},
   "outputs": [],
   "source": [
    "Gexp = nuggetE + sillE * (1 - np.exp(-3 * lags / rangeE))"
   ]
  },
  {
   "cell_type": "markdown",
   "id": "e6b61254",
   "metadata": {},
   "source": [
    "**Exercise 5:** Add the exponential model to your plot using a blue line."
   ]
  },
  {
   "cell_type": "code",
   "execution_count": 56,
   "id": "b9cb278f",
   "metadata": {},
   "outputs": [
    {
     "data": {
      "text/plain": [
       "Text(0, 0.5, 'Averaged semivariance')"
      ]
     },
     "execution_count": 56,
     "metadata": {},
     "output_type": "execute_result"
    },
    {
     "data": {
      "image/png": "[encoded data removed]",
      "text/plain": [
       "<Figure size 432x288 with 1 Axes>"
      ]
     },
     "metadata": {
      "needs_background": "light"
     },
     "output_type": "display_data"
    }
   ],
   "source": [
    "yl = 1.1 * np.max(GE)\n",
    "plt.scatter(DE, GE) # Replot the plot from before\n",
    "plt.plot(lags, Gsph, color = 'green') # Plot the spherical model\n",
    "plt.plot(lags, Gexp, color = 'blue') # Plot the exponential model\n",
    "plt.hlines(var_z, 0, np.max(DE), color = 'red') # Add population variance\n",
    "plt.ylim((0, yl)) # Change the limit of the y axis\n",
    "plt.xlabel('Averaged distance between observations')\n",
    "plt.ylabel('Averaged semivariance')"
   ]
  },
  {
   "cell_type": "markdown",
   "id": "0cee833e",
   "metadata": {},
   "source": [
    "Finally, we will try to fit a linear model to our data. These are the parameters we will use for this model:"
   ]
  },
  {
   "cell_type": "code",
   "execution_count": 49,
   "id": "196ad4f8",
   "metadata": {},
   "outputs": [],
   "source": [
    "nuggetL = 0.153 # nugget\n",
    "slopeL = 0.0203 # slope of the line"
   ]
  },
  {
   "cell_type": "markdown",
   "id": "c01b0f5c",
   "metadata": {},
   "source": [
    "The linear model is the simplest model we use (in fact it is just a linear regression, see `Lab01`). It's semivariance values can be calculated from the mean distances of each bin as follows:"
   ]
  },
  {
   "cell_type": "code",
   "execution_count": 51,
   "id": "0c28a749",
   "metadata": {},
   "outputs": [],
   "source": [
    "Glin = nuggetL + slopeL * lags"
   ]
  },
  {
   "cell_type": "markdown",
   "id": "ad282499",
   "metadata": {},
   "source": [
    "**Exercise 6:** Add the linear model to your plot using a purple line and add a legend for all the colors using the following line at the end of your plot statement: `plt.legend(labels = ['Sperical model', 'Exponential model', 'Linear model', 'Variogram', 'Population variance'])`. Make sure the order in which you plot your data and models matches the order in this plot legend statement. You should end up with a plot that shows the data with all three model fits using differently colored lines."
   ]
  },
  {
   "cell_type": "code",
   "execution_count": 55,
   "id": "5b063471",
   "metadata": {},
   "outputs": [
    {
     "data": {
      "text/plain": [
       "<matplotlib.legend.Legend at 0x17c6e700190>"
      ]
     },
     "execution_count": 55,
     "metadata": {},
     "output_type": "execute_result"
    },
    {
     "data": {
      "image/png": "[encoded data removed]",
      "text/plain": [
       "<Figure size 432x288 with 1 Axes>"
      ]
     },
     "metadata": {
      "needs_background": "light"
     },
     "output_type": "display_data"
    }
   ],
   "source": [
    "yl = 1.1 * np.max(GE)\n",
    "plt.plot(lags, Gsph, color = 'green') # Plot the spherical model\n",
    "plt.plot(lags, Gexp, color = 'blue') # Plot the exponential model\n",
    "plt.plot(lags, Glin, color = 'purple') # Plot the linear model\n",
    "plt.scatter(DE, GE) # Replot the plot from before\n",
    "plt.hlines(var_z, 0, np.max(DE), color = 'red') # Add population variance\n",
    "plt.ylim((0, yl)) # Change the limit of the y axis\n",
    "plt.xlabel('Averaged distance between observations')\n",
    "plt.ylabel('Averaged semivariance')\n",
    "plt.legend(labels = ['Sperical model', 'Exponential model', 'Linear model', 'Variogram', 'Population variance'])"
   ]
  },
  {
   "cell_type": "markdown",
   "id": "4b05c8ac",
   "metadata": {},
   "source": [
    "**Question 5:** Which model best approximates the data in the variogram?"
   ]
  },
  {
   "cell_type": "markdown",
   "id": "4274fcf2",
   "metadata": {},
   "source": [
    "**Answer 5:** The exponential model fits best (but opinions may vary, how would you test the fit?)"
   ]
  },
  {
   "cell_type": "markdown",
   "id": "da72870d",
   "metadata": {},
   "source": [
    "## Kriging: Interpolating between our spatial observations\n",
    "\n",
    "We will use the exponential model with nugget for **kriging**. We will use the  semivariance value derived from this model as weighting factors for the interpolation of `z` values between observations. To do so, first we will apply the model on all distance values in our `D` matrix:"
   ]
  },
  {
   "cell_type": "code",
   "execution_count": 57,
   "id": "5afdacdb",
   "metadata": {},
   "outputs": [],
   "source": [
    "G_mod = (nuggetE + sillE * (1 - np.exp(-3 * D / rangeE))) * (D > 0)"
   ]
  },
  {
   "cell_type": "markdown",
   "id": "5a44b580",
   "metadata": {},
   "source": [
    "For the calculations that follow, we need to add a row and a column of ones to the matrix, and we will change the bottom right corner of the matrix to a zero:"
   ]
  },
  {
   "cell_type": "code",
   "execution_count": 58,
   "id": "fa0c6acd",
   "metadata": {},
   "outputs": [],
   "source": [
    "n = len(x) # n is the number of observations.\n",
    "G_mod = np.hstack((G_mod, np.ones((n, 1)))) # This adds a row of ones.\n",
    "G_mod = np.vstack((G_mod, np.ones((1, n + 1)))) # This adds a column of ones (note the n + 1 is needed because we already added the new row).\n",
    "G_mod[n, n] = 0 # This sets the value of the lower right cell at 0."
   ]
  },
  {
   "cell_type": "markdown",
   "id": "52cb6060",
   "metadata": {},
   "source": [
    "`G_mod` now contains modelled semivariance values for each combination of observations. To do kriging, we need the inverse of the semivariance such that pairs with smaller semivariances have a larger weight in the eventual calculation. The `inverse` function (`np.linalg.inv`) will do the job:"
   ]
  },
  {
   "cell_type": "code",
   "execution_count": 59,
   "id": "aef94285",
   "metadata": {},
   "outputs": [],
   "source": [
    "G_inv = np.linalg.inv(G_mod)"
   ]
  },
  {
   "cell_type": "markdown",
   "id": "c04c0a90",
   "metadata": {},
   "source": [
    "We will apply the kriging interpolation to a rectangular grid ranging from 0 to 200 in `x` and `y` with a grid size of 5:"
   ]
  },
  {
   "cell_type": "code",
   "execution_count": 60,
   "id": "29167477",
   "metadata": {},
   "outputs": [],
   "source": [
    "R = np.arange(0, 201, 5)"
   ]
  },
  {
   "cell_type": "markdown",
   "id": "c2263360",
   "metadata": {},
   "source": [
    "The `meshgrid` function allows us to easily create matrices whose rows and columns contain all combinations of x and y values just like before:"
   ]
  },
  {
   "cell_type": "code",
   "execution_count": 61,
   "id": "ab0b1cfa",
   "metadata": {},
   "outputs": [],
   "source": [
    "Xg1, Xg2 = np.meshgrid(R, R)"
   ]
  },
  {
   "cell_type": "markdown",
   "id": "72172332",
   "metadata": {},
   "source": [
    "However, we do not want `matrices` of these combinations of x and y values, but we need them in `vectors`. In other words, we have to `reshape` the data. Have a look at the `help` for the `reshape` function:"
   ]
  },
  {
   "cell_type": "code",
   "execution_count": 62,
   "id": "02cc0b88",
   "metadata": {},
   "outputs": [
    {
     "name": "stdout",
     "output_type": "stream",
     "text": [
      "Help on function reshape in module numpy:\n",
      "\n",
      "reshape(a, newshape, order='C')\n",
      "    Gives a new shape to an array without changing its data.\n",
      "    \n",
      "    Parameters\n",
      "    ----------\n",
      "    a : array_like\n",
      "        Array to be reshaped.\n",
      "    newshape : int or tuple of ints\n",
      "        The new shape should be compatible with the original shape. If\n",
      "        an integer, then the result will be a 1-D array of that length.\n",
      "        One shape dimension can be -1. In this case, the value is\n",
      "        inferred from the length of the array and remaining dimensions.\n",
      "    order : {'C', 'F', 'A'}, optional\n",
      "        Read the elements of `a` using this index order, and place the\n",
      "        elements into the reshaped array using this index order.  'C'\n",
      "        means to read / write the elements using C-like index order,\n",
      "        with the last axis index changing fastest, back to the first\n",
      "        axis index changing slowest. 'F' means to read / write the\n",
      "        elements using Fortran-like index order, with the first index\n",
      "        changing fastest, and the last index changing slowest. Note that\n",
      "        the 'C' and 'F' options take no account of the memory layout of\n",
      "        the underlying array, and only refer to the order of indexing.\n",
      "        'A' means to read / write the elements in Fortran-like index\n",
      "        order if `a` is Fortran *contiguous* in memory, C-like order\n",
      "        otherwise.\n",
      "    \n",
      "    Returns\n",
      "    -------\n",
      "    reshaped_array : ndarray\n",
      "        This will be a new view object if possible; otherwise, it will\n",
      "        be a copy.  Note there is no guarantee of the *memory layout* (C- or\n",
      "        Fortran- contiguous) of the returned array.\n",
      "    \n",
      "    See Also\n",
      "    --------\n",
      "    ndarray.reshape : Equivalent method.\n",
      "    \n",
      "    Notes\n",
      "    -----\n",
      "    It is not always possible to change the shape of an array without\n",
      "    copying the data. If you want an error to be raised when the data is copied,\n",
      "    you should assign the new shape to the shape attribute of the array::\n",
      "    \n",
      "     >>> a = np.zeros((10, 2))\n",
      "    \n",
      "     # A transpose makes the array non-contiguous\n",
      "     >>> b = a.T\n",
      "    \n",
      "     # Taking a view makes it possible to modify the shape without modifying\n",
      "     # the initial object.\n",
      "     >>> c = b.view()\n",
      "     >>> c.shape = (20)\n",
      "     Traceback (most recent call last):\n",
      "        ...\n",
      "     AttributeError: Incompatible shape for in-place modification. Use\n",
      "     `.reshape()` to make a copy with the desired shape.\n",
      "    \n",
      "    The `order` keyword gives the index ordering both for *fetching* the values\n",
      "    from `a`, and then *placing* the values into the output array.\n",
      "    For example, let's say you have an array:\n",
      "    \n",
      "    >>> a = np.arange(6).reshape((3, 2))\n",
      "    >>> a\n",
      "    array([[0, 1],\n",
      "           [2, 3],\n",
      "           [4, 5]])\n",
      "    \n",
      "    You can think of reshaping as first raveling the array (using the given\n",
      "    index order), then inserting the elements from the raveled array into the\n",
      "    new array using the same kind of index ordering as was used for the\n",
      "    raveling.\n",
      "    \n",
      "    >>> np.reshape(a, (2, 3)) # C-like index ordering\n",
      "    array([[0, 1, 2],\n",
      "           [3, 4, 5]])\n",
      "    >>> np.reshape(np.ravel(a), (2, 3)) # equivalent to C ravel then C reshape\n",
      "    array([[0, 1, 2],\n",
      "           [3, 4, 5]])\n",
      "    >>> np.reshape(a, (2, 3), order='F') # Fortran-like index ordering\n",
      "    array([[0, 4, 3],\n",
      "           [2, 1, 5]])\n",
      "    >>> np.reshape(np.ravel(a, order='F'), (2, 3), order='F')\n",
      "    array([[0, 4, 3],\n",
      "           [2, 1, 5]])\n",
      "    \n",
      "    Examples\n",
      "    --------\n",
      "    >>> a = np.array([[1,2,3], [4,5,6]])\n",
      "    >>> np.reshape(a, 6)\n",
      "    array([1, 2, 3, 4, 5, 6])\n",
      "    >>> np.reshape(a, 6, order='F')\n",
      "    array([1, 4, 2, 5, 3, 6])\n",
      "    \n",
      "    >>> np.reshape(a, (3,-1))       # the unspecified value is inferred to be 2\n",
      "    array([[1, 2],\n",
      "           [3, 4],\n",
      "           [5, 6]])\n",
      "\n"
     ]
    }
   ],
   "source": [
    "help(np.reshape)"
   ]
  },
  {
   "cell_type": "markdown",
   "id": "a0e2e33a",
   "metadata": {},
   "source": [
    "The following function will reshape the `Xg1` matrix into a n-by-1 matrix, in which `n` is the total number of values in the matrix:"
   ]
  },
  {
   "cell_type": "code",
   "execution_count": 63,
   "id": "d7497c31",
   "metadata": {},
   "outputs": [],
   "source": [
    "Xg = Xg1.reshape(((1, -1)), order = \"F\")[0]"
   ]
  },
  {
   "cell_type": "markdown",
   "id": "227fbc36",
   "metadata": {},
   "source": [
    "We can do the same for the y coordinates:"
   ]
  },
  {
   "cell_type": "code",
   "execution_count": 64,
   "id": "14a90b1d",
   "metadata": {},
   "outputs": [],
   "source": [
    "Yg = Xg2.reshape(((1, -1)), order = \"F\")[0]"
   ]
  },
  {
   "cell_type": "markdown",
   "id": "216ccaa9",
   "metadata": {},
   "source": [
    "Now, we will just create some empty (NaN) matrices in which we will store the kriging outputs of the next step. This will be the matrix that will later contain our kriging estimates of `z`:"
   ]
  },
  {
   "cell_type": "code",
   "execution_count": 65,
   "id": "59ffd3fe",
   "metadata": {},
   "outputs": [],
   "source": [
    "Zg = Xg * np.nan"
   ]
  },
  {
   "cell_type": "markdown",
   "id": "6f54434f",
   "metadata": {},
   "source": [
    "This will be the matrix in which we store the kriging variance, which we can use to assess the reliability of our result:"
   ]
  },
  {
   "cell_type": "code",
   "execution_count": 66,
   "id": "cedbed82",
   "metadata": {},
   "outputs": [],
   "source": [
    "s2_k = Xg * np.nan"
   ]
  },
  {
   "cell_type": "markdown",
   "id": "f4186547",
   "metadata": {},
   "source": [
    "Now that everything is in place, we can start with our kriging. This is where we will use some slightly more advanced Python code, so pay close attention to the comments in the code below to make sure you understand what everything does.\n",
    "\n",
    "In short, we will use a **for-loop** to loop through all the new datapoints and apply the kriging algorithm to estimate the `z` value for each point:"
   ]
  },
  {
   "cell_type": "code",
   "execution_count": 68,
   "id": "8f090bb4",
   "metadata": {},
   "outputs": [],
   "source": [
    "for k in range(len(Xg)): # Loop through all the values in Xg\n",
    "    DOR = ((x - Xg[k]) ** 2 + (y - Yg[k]) ** 2) ** 0.5 # This is the distance between the grid points (Xg(k),Yg(k)) and the observed points (x, y) using Pythagorean theorem\n",
    "    G_R = (nuggetL + sillE * (1 - np.exp(-3 * DOR / rangeE))) * (DOR > 0) # We now calculate the semivariance estimated from the variogram for all these distances.\n",
    "    G_R = np.vstack((G_R, np.ones((1, 1)))) # We add a 1 to the semivariance matrix G_R\n",
    "    E = np.dot(G_inv, G_R) # To derive the weights E for the kriging operation, we multiply the semivariance vector G_R with G_inv\n",
    "    Zg[k] = np.sum(E[0:n, 0] * z[:, 0]) # Now we can calculate the z-value of the grid cell as the weighted sum of the observations, E being the weights.\n",
    "    s2_k[k] = np.sum(E[0:n, 0] * G_R[0:n, 0]) + E[n, 0] # We can also calculate the kriging variance as the weighted sum of the semivariance matrix G_R"
   ]
  },
  {
   "cell_type": "markdown",
   "id": "bb590dd7",
   "metadata": {},
   "source": [
    "## Making sense of our kriging result\n",
    "\n",
    "OK, that was quite a lot to take in. It's OK if you do not understand all the knitty-gritty detail of the calculations above. What is important is that you see that the algorithm produces estimates of the z values (in vector `Zg`) and estimates of the variance around these values (which can be interpreted as model uncertainty, in `s2_k`)."
   ]
  },
  {
   "cell_type": "markdown",
   "id": "a385c525",
   "metadata": {},
   "source": [
    "We now have all our results stored in vectors (with dimentions n by 1). To visualize our kriging result as a map, we want to go back from vectors to matrices (grids) and we can use the `reshape` function again to do this:"
   ]
  },
  {
   "cell_type": "code",
   "execution_count": 69,
   "id": "4357b075",
   "metadata": {},
   "outputs": [],
   "source": [
    "r = len(R) # This is the number of rows and columns."
   ]
  },
  {
   "cell_type": "markdown",
   "id": "dc396aa3",
   "metadata": {},
   "source": [
    "The `reshape` function outputs a grid matrix with r rows/columns from the `Zg` vector:"
   ]
  },
  {
   "cell_type": "code",
   "execution_count": 71,
   "id": "43c7b9d8",
   "metadata": {},
   "outputs": [],
   "source": [
    "Z = np.reshape(Zg, (r, r) , order = \"F\")"
   ]
  },
  {
   "cell_type": "markdown",
   "id": "91a9002d",
   "metadata": {},
   "source": [
    "And we can do the same for the kriging variance:"
   ]
  },
  {
   "cell_type": "code",
   "execution_count": 72,
   "id": "9300727e",
   "metadata": {},
   "outputs": [],
   "source": [
    "SK = np.reshape(s2_k, (r, r) , order = \"F\")"
   ]
  },
  {
   "cell_type": "markdown",
   "id": "08909989",
   "metadata": {},
   "source": [
    "Now, finally, we can plot our result as a map with x and y coordinates on the horizontal and vertical. We call such a plot where the values in a matrix are represented by a color scale a **pseudocolor plot**. We will use the function `pcolor` (`matplotlob` package) for this. Let's first have a look at the `help` for this function:"
   ]
  },
  {
   "cell_type": "code",
   "execution_count": 73,
   "id": "d9c304a3",
   "metadata": {},
   "outputs": [
    {
     "name": "stdout",
     "output_type": "stream",
     "text": [
      "Help on function pcolor in module matplotlib.pyplot:\n",
      "\n",
      "pcolor(*args, shading=None, alpha=None, norm=None, cmap=None, vmin=None, vmax=None, data=None, **kwargs)\n",
      "    Create a pseudocolor plot with a non-regular rectangular grid.\n",
      "    \n",
      "    Call signature::\n",
      "    \n",
      "        pcolor([X, Y,] C, **kwargs)\n",
      "    \n",
      "    *X* and *Y* can be used to specify the corners of the quadrilaterals.\n",
      "    \n",
      "    .. hint::\n",
      "    \n",
      "        ``pcolor()`` can be very slow for large arrays. In most\n",
      "        cases you should use the similar but much faster\n",
      "        `~.Axes.pcolormesh` instead. See\n",
      "        :ref:`Differences between pcolor() and pcolormesh()\n",
      "        <differences-pcolor-pcolormesh>` for a discussion of the\n",
      "        differences.\n",
      "    \n",
      "    Parameters\n",
      "    ----------\n",
      "    C : 2D array-like\n",
      "        The color-mapped values.\n",
      "    \n",
      "    X, Y : array-like, optional\n",
      "        The coordinates of the corners of quadrilaterals of a pcolormesh::\n",
      "    \n",
      "            (X[i+1, j], Y[i+1, j])       (X[i+1, j+1], Y[i+1, j+1])\n",
      "                                  +-----+\n",
      "                                  |     |\n",
      "                                  +-----+\n",
      "                (X[i, j], Y[i, j])       (X[i, j+1], Y[i, j+1])\n",
      "    \n",
      "        Note that the column index corresponds to the x-coordinate, and\n",
      "        the row index corresponds to y. For details, see the\n",
      "        :ref:`Notes <axes-pcolormesh-grid-orientation>` section below.\n",
      "    \n",
      "        If ``shading='flat'`` the dimensions of *X* and *Y* should be one\n",
      "        greater than those of *C*, and the quadrilateral is colored due\n",
      "        to the value at ``C[i, j]``.  If *X*, *Y* and *C* have equal\n",
      "        dimensions, a warning will be raised and the last row and column\n",
      "        of *C* will be ignored.\n",
      "    \n",
      "        If ``shading='nearest'``, the dimensions of *X* and *Y* should be\n",
      "        the same as those of *C* (if not, a ValueError will be raised). The\n",
      "        color ``C[i, j]`` will be centered on ``(X[i, j], Y[i, j])``.\n",
      "    \n",
      "        If *X* and/or *Y* are 1-D arrays or column vectors they will be\n",
      "        expanded as needed into the appropriate 2D arrays, making a\n",
      "        rectangular grid.\n",
      "    \n",
      "    shading : {'flat', 'nearest', 'auto'}, default: :rc:`pcolor.shading`\n",
      "        The fill style for the quadrilateral. Possible values:\n",
      "    \n",
      "        - 'flat': A solid color is used for each quad. The color of the\n",
      "          quad (i, j), (i+1, j), (i, j+1), (i+1, j+1) is given by\n",
      "          ``C[i, j]``. The dimensions of *X* and *Y* should be\n",
      "          one greater than those of *C*; if they are the same as *C*,\n",
      "          then a deprecation warning is raised, and the last row\n",
      "          and column of *C* are dropped.\n",
      "        - 'nearest': Each grid point will have a color centered on it,\n",
      "          extending halfway between the adjacent grid centers.  The\n",
      "          dimensions of *X* and *Y* must be the same as *C*.\n",
      "        - 'auto': Choose 'flat' if dimensions of *X* and *Y* are one\n",
      "          larger than *C*.  Choose 'nearest' if dimensions are the same.\n",
      "    \n",
      "        See :doc:`/gallery/images_contours_and_fields/pcolormesh_grids`\n",
      "        for more description.\n",
      "    \n",
      "    cmap : str or `~matplotlib.colors.Colormap`, default: :rc:`image.cmap`\n",
      "        A Colormap instance or registered colormap name. The colormap\n",
      "        maps the *C* values to colors.\n",
      "    \n",
      "    norm : `~matplotlib.colors.Normalize`, optional\n",
      "        The Normalize instance scales the data values to the canonical\n",
      "        colormap range [0, 1] for mapping to colors. By default, the data\n",
      "        range is mapped to the colorbar range using linear scaling.\n",
      "    \n",
      "    vmin, vmax : float, default: None\n",
      "        The colorbar range. If *None*, suitable min/max values are\n",
      "        automatically chosen by the `.Normalize` instance (defaults to\n",
      "        the respective min/max values of *C* in case of the default linear\n",
      "        scaling).\n",
      "        It is an error to use *vmin*/*vmax* when *norm* is given.\n",
      "    \n",
      "    edgecolors : {'none', None, 'face', color, color sequence}, optional\n",
      "        The color of the edges. Defaults to 'none'. Possible values:\n",
      "    \n",
      "        - 'none' or '': No edge.\n",
      "        - *None*: :rc:`patch.edgecolor` will be used. Note that currently\n",
      "          :rc:`patch.force_edgecolor` has to be True for this to work.\n",
      "        - 'face': Use the adjacent face color.\n",
      "        - A color or sequence of colors will set the edge color.\n",
      "    \n",
      "        The singular form *edgecolor* works as an alias.\n",
      "    \n",
      "    alpha : float, default: None\n",
      "        The alpha blending value of the face color, between 0 (transparent)\n",
      "        and 1 (opaque). Note: The edgecolor is currently not affected by\n",
      "        this.\n",
      "    \n",
      "    snap : bool, default: False\n",
      "        Whether to snap the mesh to pixel boundaries.\n",
      "    \n",
      "    Returns\n",
      "    -------\n",
      "    `matplotlib.collections.Collection`\n",
      "    \n",
      "    Other Parameters\n",
      "    ----------------\n",
      "    antialiaseds : bool, default: False\n",
      "        The default *antialiaseds* is False if the default\n",
      "        *edgecolors*\\ =\"none\" is used.  This eliminates artificial lines\n",
      "        at patch boundaries, and works regardless of the value of alpha.\n",
      "        If *edgecolors* is not \"none\", then the default *antialiaseds*\n",
      "        is taken from :rc:`patch.antialiased`.\n",
      "        Stroking the edges may be preferred if *alpha* is 1, but will\n",
      "        cause artifacts otherwise.\n",
      "    \n",
      "    data : indexable object, optional\n",
      "        If given, all parameters also accept a string ``s``, which is\n",
      "        interpreted as ``data[s]`` (unless this raises an exception).\n",
      "    \n",
      "    **kwargs\n",
      "        Additionally, the following arguments are allowed. They are passed\n",
      "        along to the `~matplotlib.collections.PolyCollection` constructor:\n",
      "    \n",
      "    Properties:\n",
      "        agg_filter: a filter function, which takes a (m, n, 3) float array and a dpi value, and returns a (m, n, 3) array\n",
      "        alpha: array-like or scalar or None\n",
      "        animated: bool\n",
      "        antialiased or aa or antialiaseds: bool or list of bools\n",
      "        array: array-like or None\n",
      "        capstyle: `.CapStyle` or {'butt', 'projecting', 'round'}\n",
      "        clim: (vmin: float, vmax: float)\n",
      "        clip_box: `.Bbox`\n",
      "        clip_on: bool\n",
      "        clip_path: Patch or (Path, Transform) or None\n",
      "        cmap: `.Colormap` or str or None\n",
      "        color: color or list of rgba tuples\n",
      "        edgecolor or ec or edgecolors: color or list of colors or 'face'\n",
      "        facecolor or facecolors or fc: color or list of colors\n",
      "        figure: `.Figure`\n",
      "        gid: str\n",
      "        hatch: {'/', '\\\\', '|', '-', '+', 'x', 'o', 'O', '.', '*'}\n",
      "        in_layout: bool\n",
      "        joinstyle: `.JoinStyle` or {'miter', 'round', 'bevel'}\n",
      "        label: object\n",
      "        linestyle or dashes or linestyles or ls: str or tuple or list thereof\n",
      "        linewidth or linewidths or lw: float or list of floats\n",
      "        norm: `.Normalize` or None\n",
      "        offset_transform: `.Transform`\n",
      "        offsets: (N, 2) or (2,) array-like\n",
      "        path_effects: `.AbstractPathEffect`\n",
      "        paths: list of array-like\n",
      "        picker: None or bool or float or callable\n",
      "        pickradius: float\n",
      "        rasterized: bool\n",
      "        sizes: ndarray or None\n",
      "        sketch_params: (scale: float, length: float, randomness: float)\n",
      "        snap: bool or None\n",
      "        transform: `.Transform`\n",
      "        url: str\n",
      "        urls: list of str or None\n",
      "        verts: list of array-like\n",
      "        verts_and_codes: unknown\n",
      "        visible: bool\n",
      "        zorder: float\n",
      "    \n",
      "    See Also\n",
      "    --------\n",
      "    pcolormesh : for an explanation of the differences between\n",
      "        pcolor and pcolormesh.\n",
      "    imshow : If *X* and *Y* are each equidistant, `~.Axes.imshow` can be a\n",
      "        faster alternative.\n",
      "    \n",
      "    Notes\n",
      "    -----\n",
      "    **Masked arrays**\n",
      "    \n",
      "    *X*, *Y* and *C* may be masked arrays. If either ``C[i, j]``, or one\n",
      "    of the vertices surrounding ``C[i, j]`` (*X* or *Y* at\n",
      "    ``[i, j], [i+1, j], [i, j+1], [i+1, j+1]``) is masked, nothing is\n",
      "    plotted.\n",
      "    \n",
      "    .. _axes-pcolor-grid-orientation:\n",
      "    \n",
      "    **Grid orientation**\n",
      "    \n",
      "    The grid orientation follows the standard matrix convention: An array\n",
      "    *C* with shape (nrows, ncolumns) is plotted with the column number as\n",
      "    *X* and the row number as *Y*.\n",
      "\n"
     ]
    }
   ],
   "source": [
    "help(plt.pcolor)"
   ]
  },
  {
   "cell_type": "markdown",
   "id": "43c96083",
   "metadata": {},
   "source": [
    "The code below walks you through the plot step by step. Make sure you understand what's going on by reading the comments next to each line:"
   ]
  },
  {
   "cell_type": "code",
   "execution_count": 75,
   "id": "2ee3c241",
   "metadata": {},
   "outputs": [
    {
     "data": {
      "text/plain": [
       "<matplotlib.colorbar.Colorbar at 0x17c6fe495e0>"
      ]
     },
     "execution_count": 75,
     "metadata": {},
     "output_type": "execute_result"
    },
    {
     "data": {
      "image/png": "[encoded data removed]",
      "text/plain": [
       "<Figure size 432x288 with 4 Axes>"
      ]
     },
     "metadata": {
      "needs_background": "light"
     },
     "output_type": "display_data"
    }
   ],
   "source": [
    "plt.figure()\n",
    "plt.subplot(121) # This creates enough space for 2 figures next to each other\n",
    "plt.pcolor(Xg1, Xg2, Z) # Create the pseudocolor plot (map) with Xg1 and Xg2 providing the coordinates and Z containing the values to be plotted as colors.\n",
    "plt.gca().set_aspect('equal', adjustable='box') # This ensures equal distances for the x and y grid cell intervals in the visualization\n",
    "plt.ylim((0, 195)) # But now, we need to adjust the limits of y axis so only existing grid cells are displayed\n",
    "plt.title('Kriging estimate')\n",
    "plt.xlabel('x coordinates')\n",
    "plt.ylabel('y coordinates')\n",
    "plt.colorbar()# This adds a legend for the displayed colors\n",
    "\n",
    "# We will use the same commands to plot the kriging variance next to it.\n",
    "\n",
    "plt.subplot(122)\n",
    "plt.pcolor(Xg1, Xg2, SK) # SK is the estimated kriging variance\n",
    "plt.gca().set_aspect('equal', adjustable='box')\n",
    "plt.ylim((0, 195))\n",
    "plt.title('Kriging variance')\n",
    "plt.xlabel('x coordinates')\n",
    "plt.ylabel('y coordinates')\n",
    "plt.colorbar()"
   ]
  },
  {
   "cell_type": "markdown",
   "id": "c638c899",
   "metadata": {},
   "source": [
    "Finally, we can plot the original observations on top of the variance map using the code below:"
   ]
  },
  {
   "cell_type": "code",
   "execution_count": 76,
   "id": "a6d20493",
   "metadata": {},
   "outputs": [
    {
     "data": {
      "text/plain": [
       "<matplotlib.collections.PathCollection at 0x17c6ffe10d0>"
      ]
     },
     "execution_count": 76,
     "metadata": {},
     "output_type": "execute_result"
    },
    {
     "data": {
      "image/png": "[encoded data removed]",
      "text/plain": [
       "<Figure size 432x288 with 2 Axes>"
      ]
     },
     "metadata": {
      "needs_background": "light"
     },
     "output_type": "display_data"
    }
   ],
   "source": [
    "plt.pcolor(Xg1, Xg2, SK) # SK is the estimated kriging variance\n",
    "plt.gca().set_aspect('equal', adjustable='box')\n",
    "plt.ylim((0, 195))\n",
    "plt.title('Kriging variance')\n",
    "plt.xlabel('x coordinates')\n",
    "plt.ylabel('y coordinates')\n",
    "plt.colorbar()\n",
    "plt.scatter(x, y, s = 80, facecolors = 'none', edgecolors = 'black')"
   ]
  },
  {
   "cell_type": "markdown",
   "id": "fcefcb3a",
   "metadata": {},
   "source": [
    "**Question 6:** What do you observe regarding the spatial pattern of the kriging variance in relation to the observed point locations?"
   ]
  },
  {
   "cell_type": "markdown",
   "id": "198a8eee",
   "metadata": {},
   "source": [
    "**Answer 6:** The kriging variance (uncertainty) is higher in locations where there are less observations. This is exactly what you would expect."
   ]
  }
 ],
 "metadata": {
  "kernelspec": {
   "display_name": "Python 3 (ipykernel)",
   "language": "python",
   "name": "python3"
  },
  "language_info": {
   "codemirror_mode": {
    "name": "ipython",
    "version": 3
   },
   "file_extension": ".py",
   "mimetype": "text/x-python",
   "name": "python",
   "nbconvert_exporter": "python",
   "pygments_lexer": "ipython3",
   "version": "3.9.12"
  }
 },
 "nbformat": 4,
 "nbformat_minor": 5
}
